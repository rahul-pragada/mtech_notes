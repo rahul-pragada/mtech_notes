{
 "cells": [
  {
   "cell_type": "code",
   "execution_count": 1,
   "id": "19b58d39",
   "metadata": {},
   "outputs": [],
   "source": [
    "import numpy as np"
   ]
  },
  {
   "cell_type": "code",
   "execution_count": 2,
   "id": "b392d637",
   "metadata": {},
   "outputs": [
    {
     "data": {
      "text/plain": [
       "array([[[0.26227272, 0.33857332],\n",
       "        [0.35578817, 0.72015587]],\n",
       "\n",
       "       [[0.98415255, 0.0896816 ],\n",
       "        [0.09277085, 0.69751824]],\n",
       "\n",
       "       [[0.61751438, 0.32763373],\n",
       "        [0.7608592 , 0.75310718]]])"
      ]
     },
     "execution_count": 2,
     "metadata": {},
     "output_type": "execute_result"
    }
   ],
   "source": [
    "my_array1 = np.random.random(size =(3,2,2))\n",
    "my_array1"
   ]
  },
  {
   "cell_type": "code",
   "execution_count": 3,
   "id": "9e05c054",
   "metadata": {},
   "outputs": [
    {
     "data": {
      "text/plain": [
       "array([[11, 16,  8, 14, 19],\n",
       "       [16, 11,  7, 11,  8],\n",
       "       [17,  2, 13, 10,  9],\n",
       "       [17, 12, 13,  8, 15]])"
      ]
     },
     "execution_count": 3,
     "metadata": {},
     "output_type": "execute_result"
    }
   ],
   "source": [
    "my_array2 = np.random.randint(1,20, [4,5])\n",
    "my_array2"
   ]
  },
  {
   "cell_type": "code",
   "execution_count": 4,
   "id": "86fa8f26",
   "metadata": {},
   "outputs": [
    {
     "data": {
      "text/plain": [
       "array([ 0,  5, 10, 15, 20, 25, 30, 35])"
      ]
     },
     "execution_count": 4,
     "metadata": {},
     "output_type": "execute_result"
    }
   ],
   "source": [
    "my_array3 = np.arange(start = 0, stop = 40, step = 5)\n",
    "my_array3"
   ]
  },
  {
   "cell_type": "code",
   "execution_count": 5,
   "id": "c2961b15",
   "metadata": {},
   "outputs": [
    {
     "name": "stdout",
     "output_type": "stream",
     "text": [
      "[[11 32 23]\n",
      " [34 55 46]]\n",
      "2\n"
     ]
    }
   ],
   "source": [
    "my_array4 = np.array([(11,32,23),(34,55,46)])\n",
    "print(my_array4)\n",
    "print(my_array4.ndim)"
   ]
  },
  {
   "cell_type": "code",
   "execution_count": 6,
   "id": "cdb79085",
   "metadata": {},
   "outputs": [
    {
     "name": "stdout",
     "output_type": "stream",
     "text": [
      "[[[ 8 15 12 18 14 16  2]\n",
      "  [16  6 16 11 15  4 15]\n",
      "  [ 5  4 13  6  5 19  4]\n",
      "  [ 6  3 17  6  1 11  5]\n",
      "  [ 5  8 10 15  2 19 13]]\n",
      "\n",
      " [[ 2  1 13 15 14 10 10]\n",
      "  [13 16 14 18  3 11 12]\n",
      "  [ 6 17 12 13 10 14  5]\n",
      "  [ 6  4  7 15  1 13 17]\n",
      "  [ 7  7 18 17 12  4  4]]\n",
      "\n",
      " [[18 16 13  7 17 15  4]\n",
      "  [ 3  8 16 15 10  4  9]\n",
      "  [ 6 12 19 18 15  4  4]\n",
      "  [12 14 13  2  8  7  6]\n",
      "  [ 9 16 11 12 18 19 10]]\n",
      "\n",
      " [[ 3  3  6  3  7 17  7]\n",
      "  [12 12 17 12 12 15 11]\n",
      "  [ 7  7 14 18  6  4 16]\n",
      "  [18 18 18 12 18 14 19]\n",
      "  [17 11 10  8  7 13 11]]]\n",
      "3\n",
      "140\n",
      "(4, 5, 7)\n"
     ]
    }
   ],
   "source": [
    "array5 = np.random.randint(1,20, [4,5,7])\n",
    "print(array5)\n",
    "print(array5.ndim)\n",
    "print(array5.size)\n",
    "print(array5.shape)"
   ]
  },
  {
   "cell_type": "code",
   "execution_count": 7,
   "id": "5b279dfc",
   "metadata": {},
   "outputs": [
    {
     "name": "stdout",
     "output_type": "stream",
     "text": [
      "[[1 2 3 4 5 6]]\n",
      "6\n",
      "(1, 6)\n",
      "2\n"
     ]
    }
   ],
   "source": [
    "array6 = np.array([(1,2,3,4,5,6)])\n",
    "print(array6)\n",
    "print(array6.size)\n",
    "print(array6.shape)\n",
    "print(array6.ndim)"
   ]
  },
  {
   "cell_type": "code",
   "execution_count": 8,
   "id": "1db2f7aa",
   "metadata": {},
   "outputs": [
    {
     "name": "stdout",
     "output_type": "stream",
     "text": [
      "[[ 8  9 10]\n",
      " [11 12 13]]\n"
     ]
    },
    {
     "ename": "ValueError",
     "evalue": "cannot reshape array of size 6 into shape (2,)",
     "output_type": "error",
     "traceback": [
      "\u001b[0;31m---------------------------------------------------------------------------\u001b[0m",
      "\u001b[0;31mValueError\u001b[0m                                Traceback (most recent call last)",
      "Cell \u001b[0;32mIn[8], line 3\u001b[0m\n\u001b[1;32m      1\u001b[0m array7 \u001b[38;5;241m=\u001b[39m np\u001b[38;5;241m.\u001b[39marray([(\u001b[38;5;241m8\u001b[39m,\u001b[38;5;241m9\u001b[39m,\u001b[38;5;241m10\u001b[39m),(\u001b[38;5;241m11\u001b[39m,\u001b[38;5;241m12\u001b[39m,\u001b[38;5;241m13\u001b[39m)])\n\u001b[1;32m      2\u001b[0m \u001b[38;5;28mprint\u001b[39m(array7)\n\u001b[0;32m----> 3\u001b[0m array7 \u001b[38;5;241m=\u001b[39m array7\u001b[38;5;241m.\u001b[39mreshape([\u001b[38;5;241m2\u001b[39m])\n\u001b[1;32m      4\u001b[0m \u001b[38;5;28mprint\u001b[39m(array7)\n",
      "\u001b[0;31mValueError\u001b[0m: cannot reshape array of size 6 into shape (2,)"
     ]
    }
   ],
   "source": [
    "array7 = np.array([(8,9,10),(11,12,13)])\n",
    "print(array7)\n",
    "array7 = array7.reshape([2])\n",
    "print(array7)"
   ]
  },
  {
   "cell_type": "code",
   "execution_count": null,
   "id": "67ba004b",
   "metadata": {},
   "outputs": [],
   "source": [
    "array 8 = np.array([[101,231,321,[412,,512,622,],[544,321,456]])"
   ]
  },
  {
   "cell_type": "code",
   "execution_count": null,
   "id": "2df62536",
   "metadata": {},
   "outputs": [],
   "source": [
    "array24 = np.random.randint(1,20, [4,5])\n",
    "print(array24)\n",
    "print(array24.ndim)\n",
    "print(array24.size)\n",
    "print(array24.shape)"
   ]
  },
  {
   "cell_type": "code",
   "execution_count": null,
   "id": "113ddb39",
   "metadata": {},
   "outputs": [],
   "source": [
    "print(array9[[2],[2],[2]])\n",
    "print(array9[2][1])"
   ]
  },
  {
   "cell_type": "code",
   "execution_count": null,
   "id": "e4c67139",
   "metadata": {},
   "outputs": [],
   "source": [
    "my_array10 = np.array([(11,32,23),(34,55,46)])\n",
    "print(my_array10)\n",
    "print(my_array4.ndim)"
   ]
  },
  {
   "cell_type": "code",
   "execution_count": null,
   "id": "3cadf962",
   "metadata": {},
   "outputs": [],
   "source": [
    "my_array10[1][1]"
   ]
  },
  {
   "cell_type": "code",
   "execution_count": null,
   "id": "e264323f",
   "metadata": {},
   "outputs": [],
   "source": [
    "my_array4 = np.zeros(5)"
   ]
  },
  {
   "cell_type": "code",
   "execution_count": null,
   "id": "af982f49",
   "metadata": {},
   "outputs": [],
   "source": [
    "my_array4"
   ]
  },
  {
   "cell_type": "code",
   "execution_count": null,
   "id": "a02eca9e",
   "metadata": {},
   "outputs": [],
   "source": [
    "my_array11 = np.array([(45,54,67),(55,33,66)])"
   ]
  },
  {
   "cell_type": "code",
   "execution_count": null,
   "id": "460b9041",
   "metadata": {},
   "outputs": [],
   "source": [
    "my_array11"
   ]
  },
  {
   "cell_type": "code",
   "execution_count": null,
   "id": "e4acdd18",
   "metadata": {},
   "outputs": [],
   "source": [
    "my_array_add = my_array10+my_array11\n",
    "print(my_array_add)"
   ]
  },
  {
   "cell_type": "code",
   "execution_count": null,
   "id": "4e2e15c0",
   "metadata": {},
   "outputs": [],
   "source": [
    "my_array_add = my_array_add+3"
   ]
  },
  {
   "cell_type": "code",
   "execution_count": null,
   "id": "d93d802b",
   "metadata": {},
   "outputs": [],
   "source": [
    "my_array_add"
   ]
  },
  {
   "cell_type": "code",
   "execution_count": null,
   "id": "d9b9ca65",
   "metadata": {},
   "outputs": [],
   "source": [
    "my_array12 = my_array_add >= 90\n",
    "my_array12"
   ]
  },
  {
   "cell_type": "code",
   "execution_count": null,
   "id": "9b008bbb",
   "metadata": {},
   "outputs": [],
   "source": [
    "my_array13 = my_array_add[my_array12]\n",
    "my_array13"
   ]
  },
  {
   "cell_type": "code",
   "execution_count": null,
   "id": "a6883dbc",
   "metadata": {},
   "outputs": [],
   "source": [
    "my_array14 = my_array_add[my_array_add >= 90]\n",
    "my_array14"
   ]
  },
  {
   "cell_type": "markdown",
   "id": "80aa3cfc",
   "metadata": {},
   "source": [
    "2D arrays"
   ]
  },
  {
   "cell_type": "markdown",
   "id": "db093d65",
   "metadata": {},
   "source": [
    "# 2D arrays"
   ]
  },
  {
   "cell_type": "code",
   "execution_count": null,
   "id": "c8614301",
   "metadata": {},
   "outputs": [],
   "source": [
    "my_array21 = np.array([(11,32,23),(34,55,46)])\n",
    "my_array22 = np.array([(45,54,67),(55,33,66)])"
   ]
  },
  {
   "cell_type": "code",
   "execution_count": null,
   "id": "a5c5c656",
   "metadata": {},
   "outputs": [],
   "source": [
    "my_array21*my_array22"
   ]
  },
  {
   "cell_type": "code",
   "execution_count": null,
   "id": "40df56e8",
   "metadata": {},
   "outputs": [],
   "source": [
    "my_array23= my_array21*2\n",
    "my_array23"
   ]
  },
  {
   "cell_type": "code",
   "execution_count": null,
   "id": "4cb26268",
   "metadata": {},
   "outputs": [],
   "source": [
    "my_array23.sum()\n"
   ]
  },
  {
   "cell_type": "code",
   "execution_count": null,
   "id": "e38e1951",
   "metadata": {},
   "outputs": [],
   "source": [
    "print(my_array21)\n",
    "print('axis = 0', my_array21.sum(axis = 0))\n",
    "print('axis = 1',  my_array21.sum(axis = 1))"
   ]
  },
  {
   "cell_type": "code",
   "execution_count": null,
   "id": "af4103a5",
   "metadata": {},
   "outputs": [],
   "source": [
    "array24 = np.random.randint(1,20, [2,3,4,5])\n",
    "print(array24)\n",
    "print(array24.ndim)\n",
    "print(array24.size)\n",
    "print(array24.shape)\n",
    "print('axis = 0', array24.sum(axis = 0))\n",
    "print('axis = 1',  array24.sum(axis = 1))\n",
    "print('axis = 2',  array24.sum(axis = 2))\n",
    "print('axis = 3',  array24.sum(axis = 3))"
   ]
  },
  {
   "cell_type": "code",
   "execution_count": null,
   "id": "ce67d0f3",
   "metadata": {},
   "outputs": [],
   "source": [
    "my_array21 = np.array([(11,32,23),(34,55,46)])\n",
    "my_array22 = np.array([(45,54,67),(55,33,66)])\n",
    "\n",
    "print(my_array21)\n",
    "print(my_array22)"
   ]
  },
  {
   "cell_type": "code",
   "execution_count": null,
   "id": "cb7ff0ce",
   "metadata": {},
   "outputs": [],
   "source": [
    "np.concatenate([my_array21,my_array22])\n"
   ]
  },
  {
   "cell_type": "code",
   "execution_count": null,
   "id": "7bad6039",
   "metadata": {},
   "outputs": [],
   "source": [
    "np.concatenate([my_array21,my_array22],axis=1)"
   ]
  },
  {
   "cell_type": "code",
   "execution_count": null,
   "id": "0f16237f",
   "metadata": {},
   "outputs": [],
   "source": [
    "my_array21 = np.arange(12)\n",
    "print(my_array21)\n",
    "for i in my_array21:\n",
    "    print(i+10)"
   ]
  },
  {
   "cell_type": "code",
   "execution_count": null,
   "id": "34be4cf2",
   "metadata": {
    "scrolled": true
   },
   "outputs": [],
   "source": [
    "array25 = np.random.randint(1,20, [4,5])\n",
    "print(array25)\n",
    "print(array25.ndim)\n",
    "print(array25.size)\n",
    "print(array25.shape)"
   ]
  },
  {
   "cell_type": "code",
   "execution_count": null,
   "id": "5c536aaa",
   "metadata": {
    "scrolled": true
   },
   "outputs": [],
   "source": [
    "for i in array25:\n",
    "    print(i+10)"
   ]
  },
  {
   "cell_type": "code",
   "execution_count": null,
   "id": "4b013814",
   "metadata": {},
   "outputs": [],
   "source": [
    "my_array21 = np.random.randint(1,20,[2,3])\n",
    "print (my_array21)\n",
    "for i in my_array21:\n",
    "    print(i,i+102)\n",
    "    print('new')\n",
    "    \n",
    "for i in my_array21:\n",
    "    for j in i:\n",
    "        print(j, j+102)\n",
    "        print('next row')"
   ]
  },
  {
   "cell_type": "code",
   "execution_count": 10,
   "id": "78ec1a14",
   "metadata": {},
   "outputs": [
    {
     "name": "stdout",
     "output_type": "stream",
     "text": [
      "Requirement already satisfied: panda in /Users/ksganand/anaconda3/lib/python3.11/site-packages (0.3.1)\n",
      "Requirement already satisfied: setuptools in /Users/ksganand/anaconda3/lib/python3.11/site-packages (from panda) (68.0.0)\n",
      "Requirement already satisfied: requests in /Users/ksganand/anaconda3/lib/python3.11/site-packages (from panda) (2.31.0)\n",
      "Requirement already satisfied: charset-normalizer<4,>=2 in /Users/ksganand/anaconda3/lib/python3.11/site-packages (from requests->panda) (2.0.4)\n",
      "Requirement already satisfied: idna<4,>=2.5 in /Users/ksganand/anaconda3/lib/python3.11/site-packages (from requests->panda) (3.4)\n",
      "Requirement already satisfied: urllib3<3,>=1.21.1 in /Users/ksganand/anaconda3/lib/python3.11/site-packages (from requests->panda) (1.26.16)\n",
      "Requirement already satisfied: certifi>=2017.4.17 in /Users/ksganand/anaconda3/lib/python3.11/site-packages (from requests->panda) (2023.7.22)\n",
      "Note: you may need to restart the kernel to use updated packages.\n"
     ]
    }
   ],
   "source": [
    "pip install panda"
   ]
  },
  {
   "cell_type": "code",
   "execution_count": 7,
   "id": "07c5bbe4",
   "metadata": {},
   "outputs": [],
   "source": [
    "import pandas as pd\n",
    "from pandas.core.arrays.sparse import SparseArray as _SparseArray"
   ]
  },
  {
   "cell_type": "code",
   "execution_count": 8,
   "id": "ba0c3dcb",
   "metadata": {
    "scrolled": true
   },
   "outputs": [
    {
     "data": {
      "text/plain": [
       "0      1\n",
       "1      6\n",
       "2     11\n",
       "3     16\n",
       "4     21\n",
       "5     26\n",
       "6     31\n",
       "7     36\n",
       "8     41\n",
       "9     46\n",
       "10    51\n",
       "11    56\n",
       "12    61\n",
       "13    66\n",
       "14    71\n",
       "15    76\n",
       "16    81\n",
       "17    86\n",
       "18    91\n",
       "19    96\n",
       "dtype: int64"
      ]
     },
     "execution_count": 8,
     "metadata": {},
     "output_type": "execute_result"
    }
   ],
   "source": [
    "numbers = range(1,100,5)\n",
    "pd.Series(numbers)"
   ]
  },
  {
   "cell_type": "code",
   "execution_count": 11,
   "id": "be2f01ff",
   "metadata": {},
   "outputs": [],
   "source": [
    "data = {'Maths':60, 'Science':89, 'English': 76, 'Social Science': 86}\n",
    "ser1 = pd.Series(data)"
   ]
  },
  {
   "cell_type": "code",
   "execution_count": 13,
   "id": "646632c0",
   "metadata": {},
   "outputs": [
    {
     "data": {
      "text/plain": [
       "Maths             60\n",
       "Science           89\n",
       "English           76\n",
       "Social Science    86\n",
       "dtype: int64"
      ]
     },
     "execution_count": 13,
     "metadata": {},
     "output_type": "execute_result"
    }
   ],
   "source": [
    "subjects= ['Maths', 'Science', 'English', 'Social Science', 'Arts']\n",
    "ser1"
   ]
  },
  {
   "cell_type": "code",
   "execution_count": 14,
   "id": "7bd44145",
   "metadata": {},
   "outputs": [
    {
     "data": {
      "text/plain": [
       "Maths             False\n",
       "Science           False\n",
       "English           False\n",
       "Social Science    False\n",
       "dtype: bool"
      ]
     },
     "execution_count": 14,
     "metadata": {},
     "output_type": "execute_result"
    }
   ],
   "source": [
    "ser1.isnull()"
   ]
  },
  {
   "cell_type": "code",
   "execution_count": 15,
   "id": "d10b5544",
   "metadata": {},
   "outputs": [
    {
     "data": {
      "text/plain": [
       "0"
      ]
     },
     "execution_count": 15,
     "metadata": {},
     "output_type": "execute_result"
    }
   ],
   "source": [
    "ser1.isnull().sum()"
   ]
  },
  {
   "cell_type": "code",
   "execution_count": 16,
   "id": "311dbf7a",
   "metadata": {},
   "outputs": [],
   "source": [
    "ser1['Science'] = 56"
   ]
  },
  {
   "cell_type": "code",
   "execution_count": 17,
   "id": "6310a76e",
   "metadata": {},
   "outputs": [
    {
     "data": {
      "text/plain": [
       "Maths             60\n",
       "Science           56\n",
       "English           76\n",
       "Social Science    86\n",
       "dtype: int64"
      ]
     },
     "execution_count": 17,
     "metadata": {},
     "output_type": "execute_result"
    }
   ],
   "source": [
    "ser1"
   ]
  },
  {
   "cell_type": "code",
   "execution_count": 18,
   "id": "04c21ef9",
   "metadata": {},
   "outputs": [
    {
     "data": {
      "text/plain": [
       "False"
      ]
     },
     "execution_count": 18,
     "metadata": {},
     "output_type": "execute_result"
    }
   ],
   "source": [
    "ser1.Maths == 74"
   ]
  },
  {
   "cell_type": "code",
   "execution_count": 19,
   "id": "86fa724f",
   "metadata": {},
   "outputs": [
    {
     "data": {
      "text/plain": [
       "60"
      ]
     },
     "execution_count": 19,
     "metadata": {},
     "output_type": "execute_result"
    }
   ],
   "source": [
    "ser1.Maths"
   ]
  },
  {
   "cell_type": "code",
   "execution_count": 20,
   "id": "132b58c7",
   "metadata": {},
   "outputs": [
    {
     "data": {
      "text/plain": [
       "Index(['Maths', 'Science', 'English', 'Social Science'], dtype='object')"
      ]
     },
     "execution_count": 20,
     "metadata": {},
     "output_type": "execute_result"
    }
   ],
   "source": [
    "ser1.index"
   ]
  },
  {
   "cell_type": "code",
   "execution_count": 21,
   "id": "4f2a2b25",
   "metadata": {},
   "outputs": [],
   "source": [
    "ser1.index.name = 'Subject'"
   ]
  },
  {
   "cell_type": "code",
   "execution_count": 22,
   "id": "74ef1491",
   "metadata": {},
   "outputs": [
    {
     "data": {
      "text/plain": [
       "Subject\n",
       "Maths             60\n",
       "Science           56\n",
       "English           76\n",
       "Social Science    86\n",
       "dtype: int64"
      ]
     },
     "execution_count": 22,
     "metadata": {},
     "output_type": "execute_result"
    }
   ],
   "source": [
    "ser1"
   ]
  },
  {
   "cell_type": "code",
   "execution_count": 23,
   "id": "8e1c3f95",
   "metadata": {},
   "outputs": [
    {
     "data": {
      "text/plain": [
       "Subject\n",
       "Maths             65\n",
       "Science           61\n",
       "English           81\n",
       "Social Science    91\n",
       "dtype: int64"
      ]
     },
     "execution_count": 23,
     "metadata": {},
     "output_type": "execute_result"
    }
   ],
   "source": [
    "ser1+5"
   ]
  },
  {
   "cell_type": "code",
   "execution_count": 35,
   "id": "cbe1a8ed",
   "metadata": {},
   "outputs": [
    {
     "data": {
      "text/plain": [
       "0     0.0\n",
       "1     0.0\n",
       "2     8.0\n",
       "3     8.0\n",
       "4     3.0\n",
       "5     7.0\n",
       "6     8.0\n",
       "7     5.0\n",
       "8     5.0\n",
       "9     1.0\n",
       "10    0.0\n",
       "11    6.0\n",
       "12    7.0\n",
       "13    8.0\n",
       "14    7.0\n",
       "dtype: float64"
      ]
     },
     "execution_count": 35,
     "metadata": {},
     "output_type": "execute_result"
    }
   ],
   "source": [
    "import numpy as np\n",
    "num = pd.Series(np.random.random(15)*10).round()\n",
    "num"
   ]
  },
  {
   "cell_type": "code",
   "execution_count": 36,
   "id": "75ed83d8",
   "metadata": {},
   "outputs": [
    {
     "data": {
      "text/plain": [
       "0.0     0.0\n",
       "0.0     0.0\n",
       "8.0    64.0\n",
       "8.0    64.0\n",
       "3.0     9.0\n",
       "7.0    49.0\n",
       "8.0    64.0\n",
       "5.0    25.0\n",
       "5.0    25.0\n",
       "1.0     1.0\n",
       "0.0     0.0\n",
       "6.0    36.0\n",
       "7.0    49.0\n",
       "8.0    64.0\n",
       "7.0    49.0\n",
       "dtype: float64"
      ]
     },
     "execution_count": 36,
     "metadata": {},
     "output_type": "execute_result"
    }
   ],
   "source": [
    "square = pd.Series(num*num)\n",
    "square.index = [num]\n",
    "square"
   ]
  },
  {
   "cell_type": "code",
   "execution_count": 38,
   "id": "336181e9",
   "metadata": {},
   "outputs": [
    {
     "data": {
      "text/plain": [
       "0.0     0.0\n",
       "0.0     0.0\n",
       "8.0    64.0\n",
       "8.0    64.0\n",
       "3.0     9.0\n",
       "7.0    49.0\n",
       "8.0    64.0\n",
       "5.0    25.0\n",
       "5.0    25.0\n",
       "1.0     1.0\n",
       "0.0     0.0\n",
       "6.0    36.0\n",
       "7.0    49.0\n",
       "8.0    64.0\n",
       "7.0    49.0\n",
       "dtype: float64"
      ]
     },
     "execution_count": 38,
     "metadata": {},
     "output_type": "execute_result"
    }
   ],
   "source": [
    "num.name = 'Squre'\n",
    "num.index.name = \"Number\"\n",
    "square"
   ]
  },
  {
   "cell_type": "code",
   "execution_count": 40,
   "id": "c08f6f4f",
   "metadata": {},
   "outputs": [
    {
     "name": "stdout",
     "output_type": "stream",
     "text": [
      "<class 'pandas.core.series.Series'>\n",
      "RangeIndex: 15 entries, 0 to 14\n",
      "Series name: Squre\n",
      "Non-Null Count  Dtype  \n",
      "--------------  -----  \n",
      "15 non-null     float64\n",
      "dtypes: float64(1)\n",
      "memory usage: 252.0 bytes\n"
     ]
    }
   ],
   "source": [
    "num.info()"
   ]
  },
  {
   "cell_type": "code",
   "execution_count": null,
   "id": "4608ad13",
   "metadata": {},
   "outputs": [],
   "source": []
  }
 ],
 "metadata": {
  "kernelspec": {
   "display_name": "Python 3 (ipykernel)",
   "language": "python",
   "name": "python3"
  },
  "language_info": {
   "codemirror_mode": {
    "name": "ipython",
    "version": 3
   },
   "file_extension": ".py",
   "mimetype": "text/x-python",
   "name": "python",
   "nbconvert_exporter": "python",
   "pygments_lexer": "ipython3",
   "version": "3.11.4"
  }
 },
 "nbformat": 4,
 "nbformat_minor": 5
}
