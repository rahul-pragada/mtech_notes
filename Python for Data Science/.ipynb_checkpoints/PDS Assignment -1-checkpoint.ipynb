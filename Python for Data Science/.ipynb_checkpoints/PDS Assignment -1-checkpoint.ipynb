{
 "cells": [
  {
   "cell_type": "markdown",
   "id": "cdd66d3d",
   "metadata": {},
   "source": [
    "Question 1:\n",
    "Given the sets of events,\n",
    "sports_winners = set([\"Jake\", \"John\",Eric\",\"Geetha\",\"Femi\",\"Kala\"])\n",
    "quiz_winners = set([\"John\", \"Jill\",\"Eric\",\"Geetha\",\"Femi\"])\n",
    "1. print the winners who got sports prize and quiz prize\n",
    "2. print the winners who got sports prize and not quiz prize\n",
    "3. print the winners who either sports prize or quiz prize\n",
    "4. print the winners who got quize prize and not sports prize\n"
   ]
  },
  {
   "cell_type": "code",
   "execution_count": 8,
   "id": "9b80af5f",
   "metadata": {},
   "outputs": [],
   "source": [
    "sports_winners = set([\"Jake\", \"John\", \"Eric\", \"Geetha\", \"Femi\", \"Kala\"]) \n",
    "quiz_winners = set([\"John\", \"Jill\", \"Eric\", \"Geetha\", \"Femi\"])"
   ]
  },
  {
   "cell_type": "code",
   "execution_count": 15,
   "id": "dcbbf1e0",
   "metadata": {},
   "outputs": [
    {
     "name": "stdout",
     "output_type": "stream",
     "text": [
      "{'Geetha', 'Eric', 'Femi', 'John'}\n",
      "{'Jake', 'Kala'}\n",
      "{'Femi', 'John', 'Jake', 'Geetha', 'Kala', 'Jill', 'Eric'}\n",
      "{'Jill'}\n"
     ]
    }
   ],
   "source": [
    "print(sports_winners.intersection(quiz_winners))\n",
    "print(sports_winners.difference(quiz_winners))\n",
    "print(sports_winners.union(quiz_winners))\n",
    "print(quiz_winners.difference(sports_winners))"
   ]
  },
  {
   "cell_type": "markdown",
   "id": "90e19ec5",
   "metadata": {},
   "source": [
    "Question 2:\n",
    "Consider the set with some integers given below\n",
    "myset = {12,34,56,3,45,67,89,1,6}\n",
    "1. Create set by filtering even numbers\n",
    "2. Create set by filtering odd numbers\n",
    "3. Create set by filtering numbers>20\n",
    "4. remove the item 56 and create a new set\n",
    "5. state the difference between remove() & discard() on the set.\n"
   ]
  },
  {
   "cell_type": "code",
   "execution_count": 32,
   "id": "5ccce4b8",
   "metadata": {},
   "outputs": [
    {
     "name": "stdout",
     "output_type": "stream",
     "text": [
      "{56, 34, 12, 6}\n",
      "{1, 3, 67, 45, 89}\n",
      "{34, 67, 45, 56, 89}\n",
      "{1, 34, 67, 3, 6, 12, 45, 89}\n"
     ]
    }
   ],
   "source": [
    "myset = {12,34,56,3,45,67,89,1,6}\n",
    "set1 = set(filter(lambda x: x%2 == 0, myset))\n",
    "print(set1)\n",
    "set2 = set(filter(lambda x: x%2 != 0, myset))\n",
    "print(set2)\n",
    "set3 = set(filter(lambda x: x > 20, myset))\n",
    "print(set3)\n",
    "\n",
    "myset.discard(56)\n",
    "print(myset)\n",
    "# because the remove() method will raise an error if the specified item does not exist, and the discard() method will not."
   ]
  },
  {
   "cell_type": "markdown",
   "id": "06b893fc",
   "metadata": {},
   "source": [
    "Question 3:\n",
    "Date and Time\n",
    "1. Print the Date after 1 week and 6 days from the current date.\n",
    "2. Given the birthday as date(2000,10,2), find the age\n",
    "3. Subtract five days from the current date and display it.\n",
    "4. Display the dates of yesterday, today and tomorrow\n"
   ]
  },
  {
   "cell_type": "code",
   "execution_count": 60,
   "id": "93cc5297",
   "metadata": {},
   "outputs": [
    {
     "name": "stdout",
     "output_type": "stream",
     "text": [
      "2023-10-15 12:40:48.717090\n",
      "age is 23\n",
      "2023-09-27 12:40:48.717090\n",
      "2023-10-01 12:40:48.717090 2023-10-02 12:40:48.717090 2023-10-03 12:40:48.717090\n"
     ]
    }
   ],
   "source": [
    "import datetime as dt\n",
    "import datetime\n",
    "#1\n",
    "date = dt.datetime.today()\n",
    "delta = datetime.timedelta(days=13)\n",
    "print(date+delta)\n",
    "#2\n",
    "b_date = dt.datetime(2000,10,2)\n",
    "td =date - b_date\n",
    "print(\"age is\",td.days//365)\n",
    "#3\n",
    "delta = datetime.timedelta(days=-5)\n",
    "print(date+delta)\n",
    "#4\n",
    "# Get today's date\n",
    "yesterday = date - datetime.timedelta(1)\n",
    "tomorrow = date + datetime.timedelta(1)\n",
    "print(yesterday, date, tomorrow) \n"
   ]
  },
  {
   "cell_type": "markdown",
   "id": "521a45aa",
   "metadata": {},
   "source": [
    "Question 4:\n",
    "Consider the folowing strings, string1=\"Great\", string2=\"Learning\" and string3=\"Python\".\n",
    "Perform the following operations on the given strings.\n",
    "a. Concatenate them to create a single string called \"single_string\"\n",
    "b. Access and print the first and last characters of \"single_string\"\n",
    "c. Reverse the \"single_string\" and save it in \"rev_string\"\n",
    "d. Extract the word \"Learning\" from \"single_string\"\n"
   ]
  },
  {
   "cell_type": "code",
   "execution_count": 4,
   "id": "b3c1490b",
   "metadata": {},
   "outputs": [
    {
     "name": "stdout",
     "output_type": "stream",
     "text": [
      "GreatLearningPython\n",
      "G\n",
      "n\n",
      "nohtyPgninraeLtaerG\n",
      "Learning\n"
     ]
    }
   ],
   "source": [
    "string1=\"Great\"\n",
    "string2=\"Learning\"\n",
    "string3=\"Python\"\n",
    "single_string = string1+string2+string3\n",
    "print(single_string)\n",
    "print(single_string[0])\n",
    "print(single_string[-1])\n",
    "rev_string = single_string[::-1]\n",
    "print(rev_string)\n",
    "print(single_string[5:13])\n",
    "\n",
    "      "
   ]
  },
  {
   "cell_type": "markdown",
   "id": "56d43b14",
   "metadata": {},
   "source": [
    "Question 5:\n",
    "Consider the given sentence \"Hello! Great Learning. Now start learning Python.\"\n",
    "a. In the given sentence where is the word \"Learning\"?:\n",
    "b. In the given sentence where is the first occurrence of the letter \"e\"?:\n",
    "c. In the given sentence where is the first occurrence of the letter \"e\" when you only search\n",
    "between position 5 and 10?:\n",
    "d. Display the list of words in the sentence\n",
    "\n"
   ]
  },
  {
   "cell_type": "code",
   "execution_count": 12,
   "id": "b4c2f99b",
   "metadata": {},
   "outputs": [
    {
     "name": "stdout",
     "output_type": "stream",
     "text": [
      "13\n",
      "1\n",
      "4\n",
      "Hello!\n",
      "Great\n",
      "Learning.\n",
      "Now\n",
      "start\n",
      "learning\n",
      "Python.\n"
     ]
    }
   ],
   "source": [
    "st = \"Hello! Great Learning. Now start learning Python.\"\n",
    "print(st.find(\"Learning\"))\n",
    "print(st.find(\"e\"))\n",
    "print(st[5:10].find(\"e\"))\n",
    "for word in st.split():\n",
    "    print(word)"
   ]
  },
  {
   "cell_type": "markdown",
   "id": "1e2aadf1",
   "metadata": {},
   "source": [
    "Question 6:\n",
    "Build a program that analyzes a text document (a long string) and uses a dictionary to count the\n",
    "frequency of each word. You can then display the 5 most common words and their counts.\n",
    "\n",
    "\n",
    "\n"
   ]
  },
  {
   "cell_type": "code",
   "execution_count": 14,
   "id": "9f49cd69",
   "metadata": {},
   "outputs": [],
   "source": [
    "story = \"\"\"Once, there was a boy who became bored when he watched over the village sheep grazing on the hillside. To entertain himself, he sang out, “Wolf! Wolf! The wolf is chasing the sheep!”\n",
    "When the villagers heard the cry, they ran up the hill to drive the wolf away. But when they arrived, they saw no wolf. The boy was amused when he saw their angry faces.\n",
    "“Don’t scream wolf when there is no wolf, boy!” the villagers warned. They angrily went back down the hill.\n",
    "Later, the shepherd boy cried out once again, “Wolf! Wolf! The wolf is chasing the sheep!” To his amusement, the villagers came running up the hill to scare the wolf away.\n",
    "As they saw there was no wolf, they said strictly, “Save your frightened cry for when there really is a wolf! Don’t cry ‘wolf’ when there is no wolf!” But the boy grinned at their words while they walked, grumbling down the hill once more.\n",
    "Later, the boy saw a real wolf sneaking around his flock. Alarmed, he jumped on his feet and cried out as loud as he could, “Wolf! Wolf!” But the villagers thought he was fooling them again, and they didn’t come to help.\n",
    "At sunset, the villagers went looking for the boy who hadn’t returned with their sheep. When they went up the hill, they found him weeping.\n",
    "“There was a wolf here! The flock is gone! I cried out, ‘Wolf!’ but you didn’t come,” he wailed.\n",
    "\"\"\""
   ]
  },
  {
   "cell_type": "code",
   "execution_count": 18,
   "id": "dbf667d6",
   "metadata": {},
   "outputs": [
    {
     "name": "stdout",
     "output_type": "stream",
     "text": [
      "[('the', 21), ('they', 9), ('he', 7), ('wolf', 7), ('boy', 6)]\n"
     ]
    }
   ],
   "source": [
    "m_dict = {}\n",
    "for word in story.split():\n",
    "    if word in m_dict.keys():\n",
    "        m_dict[word] = m_dict[word] + 1\n",
    "    else:\n",
    "        m_dict[word] = 1\n",
    "print(sorted(m_dict.items(), key=lambda x:x[1], reverse=True)[:5])"
   ]
  },
  {
   "cell_type": "markdown",
   "id": "905a77eb",
   "metadata": {},
   "source": [
    "Question 7:\n",
    "Given a list of tuples, consisting of employee_name and total_bonus_points. Find the best 3\n",
    "employees who are having the highest score. Write a function find_best_employer, which takes\n",
    "the list of tuples as argument and prints the names of top three employees\n",
    "Sample Input:\n",
    "[(‘Sanju’,321), (‘Reva’,671), (‘Darvin’,233), (‘Velan’,922), (’Satya’,223), (‘Vanathi’,102)]\n",
    "Expected Output:\n",
    "The top three employees for the year are Velan, Reva and Sanju"
   ]
  },
  {
   "cell_type": "code",
   "execution_count": 1,
   "id": "393b4c6f",
   "metadata": {},
   "outputs": [
    {
     "data": {
      "text/plain": [
       "'The top three employees for the year are Velan, Reva and Sanju'"
      ]
     },
     "execution_count": 1,
     "metadata": {},
     "output_type": "execute_result"
    }
   ],
   "source": [
    "tup_li = [('Sanju',321), ('Reva',671), ('Darvin',233), ('Velan',922), ('Satya',223), ('Vanathi',102)]\n",
    "\n",
    "def find_best_employer(tup_li):\n",
    "    dict_1 = dict()\n",
    "    # convert tuple pair to dict pair for easy use of sorted method.\n",
    "    for employee_name, total_bonus_points in tup_li:\n",
    "        dict_1.setdefault(employee_name, total_bonus_points)\n",
    "    sort_d = sorted(dict_1.items(), key=lambda x:x[1], reverse=True)[:3]\n",
    "    return \"The top three employees for the year are %s, %s and %s\"%(sort_d[0][0], sort_d[1][0], sort_d[2][0])\n",
    "\n",
    "find_best_employer(tup_li)"
   ]
  },
  {
   "cell_type": "code",
   "execution_count": 2,
   "id": "95e6098a",
   "metadata": {},
   "outputs": [
    {
     "ename": "SyntaxError",
     "evalue": "invalid syntax (13870515.py, line 4)",
     "output_type": "error",
     "traceback": [
      "\u001b[0;36m  Cell \u001b[0;32mIn[2], line 4\u001b[0;36m\u001b[0m\n\u001b[0;31m    elif s > 40:\u001b[0m\n\u001b[0m    ^\u001b[0m\n\u001b[0;31mSyntaxError\u001b[0m\u001b[0;31m:\u001b[0m invalid syntax\n"
     ]
    }
   ],
   "source": [
    "s = 39\n",
    "if s > 50:\n",
    "    print('pass')\n",
    "    elif s > 40:\n",
    "        if s < 50:\n",
    "            print('borderline')\n",
    "    else:\n",
    "        print('fail')"
   ]
  },
  {
   "cell_type": "code",
   "execution_count": null,
   "id": "0f498a30",
   "metadata": {},
   "outputs": [],
   "source": []
  }
 ],
 "metadata": {
  "kernelspec": {
   "display_name": "Python 3 (ipykernel)",
   "language": "python",
   "name": "python3"
  },
  "language_info": {
   "codemirror_mode": {
    "name": "ipython",
    "version": 3
   },
   "file_extension": ".py",
   "mimetype": "text/x-python",
   "name": "python",
   "nbconvert_exporter": "python",
   "pygments_lexer": "ipython3",
   "version": "3.11.4"
  }
 },
 "nbformat": 4,
 "nbformat_minor": 5
}
