{
 "cells": [
  {
   "cell_type": "markdown",
   "id": "9cc8a9fd",
   "metadata": {},
   "source": [
    "# Lambda functions"
   ]
  },
  {
   "cell_type": "code",
   "execution_count": 1,
   "id": "9b964a5e",
   "metadata": {},
   "outputs": [],
   "source": [
    "greet = lambda : print(\"Hai class\")"
   ]
  },
  {
   "cell_type": "code",
   "execution_count": 2,
   "id": "c1535d81",
   "metadata": {},
   "outputs": [
    {
     "name": "stdout",
     "output_type": "stream",
     "text": [
      "Hai class\n"
     ]
    }
   ],
   "source": [
    "greet()"
   ]
  },
  {
   "cell_type": "code",
   "execution_count": 3,
   "id": "a8b360a9",
   "metadata": {},
   "outputs": [],
   "source": [
    "csquare = lambda a : a*a"
   ]
  },
  {
   "cell_type": "code",
   "execution_count": 4,
   "id": "6b27f4b4",
   "metadata": {
    "scrolled": false
   },
   "outputs": [
    {
     "data": {
      "text/plain": [
       "49"
      ]
     },
     "execution_count": 4,
     "metadata": {},
     "output_type": "execute_result"
    }
   ],
   "source": [
    "csquare(7)"
   ]
  },
  {
   "cell_type": "markdown",
   "id": "45b2d312",
   "metadata": {},
   "source": [
    "# Recursive functions"
   ]
  },
  {
   "cell_type": "code",
   "execution_count": 5,
   "id": "23b033b1",
   "metadata": {},
   "outputs": [],
   "source": [
    "def factorial(x):\n",
    "    if x == 1:\n",
    "        return 1\n",
    "    else:\n",
    "        return(x * factorial(x-1))"
   ]
  },
  {
   "cell_type": "code",
   "execution_count": 6,
   "id": "36d2fd10",
   "metadata": {},
   "outputs": [
    {
     "data": {
      "text/plain": [
       "362880"
      ]
     },
     "execution_count": 6,
     "metadata": {},
     "output_type": "execute_result"
    }
   ],
   "source": [
    "factorial(9)"
   ]
  },
  {
   "cell_type": "code",
   "execution_count": 7,
   "id": "cfab0974",
   "metadata": {},
   "outputs": [
    {
     "data": {
      "text/plain": [
       "120"
      ]
     },
     "execution_count": 7,
     "metadata": {},
     "output_type": "execute_result"
    }
   ],
   "source": [
    "factorial(5)"
   ]
  },
  {
   "cell_type": "markdown",
   "id": "d6233cef",
   "metadata": {},
   "source": [
    "# Strings"
   ]
  },
  {
   "cell_type": "code",
   "execution_count": 8,
   "id": "17ffdca5",
   "metadata": {},
   "outputs": [
    {
     "data": {
      "text/plain": [
       "'KSG Anand'"
      ]
     },
     "execution_count": 8,
     "metadata": {},
     "output_type": "execute_result"
    }
   ],
   "source": [
    "Name = \"KSG Anand\"\n",
    "Name"
   ]
  },
  {
   "cell_type": "code",
   "execution_count": 9,
   "id": "9ffb85cb",
   "metadata": {},
   "outputs": [
    {
     "data": {
      "text/plain": [
       "str"
      ]
     },
     "execution_count": 9,
     "metadata": {},
     "output_type": "execute_result"
    }
   ],
   "source": [
    "type(Name)"
   ]
  },
  {
   "cell_type": "code",
   "execution_count": 10,
   "id": "faaf42a0",
   "metadata": {},
   "outputs": [
    {
     "data": {
      "text/plain": [
       "'all are learning python\\ndata science\\n'"
      ]
     },
     "execution_count": 10,
     "metadata": {},
     "output_type": "execute_result"
    }
   ],
   "source": [
    "longstring = '''all are learning python\n",
    "data science\n",
    "'''\n",
    "longstring"
   ]
  },
  {
   "cell_type": "code",
   "execution_count": 11,
   "id": "dc640064",
   "metadata": {},
   "outputs": [
    {
     "name": "stdout",
     "output_type": "stream",
     "text": [
      "a\n",
      "e\n",
      "i\n",
      "o\n",
      "u\n"
     ]
    }
   ],
   "source": [
    "vowels = 'aeiou'\n",
    "for letters in vowels:\n",
    "    print(letters)"
   ]
  },
  {
   "cell_type": "code",
   "execution_count": 12,
   "id": "8bb30173",
   "metadata": {},
   "outputs": [
    {
     "data": {
      "text/plain": [
       "5"
      ]
     },
     "execution_count": 12,
     "metadata": {},
     "output_type": "execute_result"
    }
   ],
   "source": [
    "len(vowels)"
   ]
  },
  {
   "cell_type": "code",
   "execution_count": 13,
   "id": "6c416593",
   "metadata": {},
   "outputs": [
    {
     "name": "stdout",
     "output_type": "stream",
     "text": [
      "Doesn't exists\n"
     ]
    }
   ],
   "source": [
    "if \"anand\" in longstring:\n",
    "    print(\"exists\")\n",
    "else:\n",
    "    print(\"Doesn't exists\")"
   ]
  },
  {
   "cell_type": "code",
   "execution_count": 14,
   "id": "25dcc59c",
   "metadata": {},
   "outputs": [],
   "source": [
    "string1 = \" Great Learning\""
   ]
  },
  {
   "cell_type": "code",
   "execution_count": 15,
   "id": "dd98b409",
   "metadata": {},
   "outputs": [
    {
     "name": "stdout",
     "output_type": "stream",
     "text": [
      "doesn't exists\n"
     ]
    }
   ],
   "source": [
    "if \"anand\" not in longstring:\n",
    "    print(\"doesn't exists\")\n",
    "else:\n",
    "    print(\"exists\")"
   ]
  },
  {
   "cell_type": "code",
   "execution_count": 16,
   "id": "5448af42",
   "metadata": {},
   "outputs": [],
   "source": [
    "to_uppercase = lambda string :  string.upper()"
   ]
  },
  {
   "cell_type": "code",
   "execution_count": 17,
   "id": "fa88ea13",
   "metadata": {},
   "outputs": [
    {
     "data": {
      "text/plain": [
       "' GREAT LEARNING'"
      ]
     },
     "execution_count": 17,
     "metadata": {},
     "output_type": "execute_result"
    }
   ],
   "source": [
    "to_uppercase(string1)"
   ]
  },
  {
   "cell_type": "code",
   "execution_count": 18,
   "id": "afb45d4d",
   "metadata": {},
   "outputs": [],
   "source": [
    "# coming back to lambda"
   ]
  },
  {
   "cell_type": "code",
   "execution_count": 19,
   "id": "3a254e0b",
   "metadata": {},
   "outputs": [],
   "source": [
    "max = lambda x,y : x if(y<x) else y"
   ]
  },
  {
   "cell_type": "code",
   "execution_count": 20,
   "id": "a5ab6d3a",
   "metadata": {},
   "outputs": [
    {
     "data": {
      "text/plain": [
       "5"
      ]
     },
     "execution_count": 20,
     "metadata": {},
     "output_type": "execute_result"
    }
   ],
   "source": [
    "max(4,5)"
   ]
  },
  {
   "cell_type": "code",
   "execution_count": 21,
   "id": "2d31f6d3",
   "metadata": {},
   "outputs": [],
   "source": [
    "odd = lambda x: (x%2 != 0)"
   ]
  },
  {
   "cell_type": "code",
   "execution_count": 22,
   "id": "f533990e",
   "metadata": {},
   "outputs": [
    {
     "data": {
      "text/plain": [
       "True"
      ]
     },
     "execution_count": 22,
     "metadata": {},
     "output_type": "execute_result"
    }
   ],
   "source": [
    "odd(5)"
   ]
  },
  {
   "cell_type": "code",
   "execution_count": 23,
   "id": "c87bbc3f",
   "metadata": {},
   "outputs": [
    {
     "data": {
      "text/plain": [
       "[5, 7, 97, 77, 23, 73, 61]"
      ]
     },
     "execution_count": 23,
     "metadata": {},
     "output_type": "execute_result"
    }
   ],
   "source": [
    "list_of_numbers = [5,7,22,97,54,62,77,23,73,61]\n",
    "\n",
    "odd_list = list(filter(lambda y: (y% 2 !=0), list_of_numbers))\n",
    "odd_list"
   ]
  },
  {
   "cell_type": "code",
   "execution_count": 24,
   "id": "2bd24eba",
   "metadata": {},
   "outputs": [],
   "source": [
    "from functools import reduce"
   ]
  },
  {
   "cell_type": "code",
   "execution_count": 25,
   "id": "bc344748",
   "metadata": {},
   "outputs": [
    {
     "data": {
      "text/plain": [
       "193"
      ]
     },
     "execution_count": 25,
     "metadata": {},
     "output_type": "execute_result"
    }
   ],
   "source": [
    "li = [5,8,10,20,50,100]\n",
    "sum = reduce((lambda x,y: x+y), li)\n",
    "sum"
   ]
  },
  {
   "cell_type": "code",
   "execution_count": 26,
   "id": "7e5c726e",
   "metadata": {},
   "outputs": [
    {
     "data": {
      "text/plain": [
       "[10, 14, 44, 194, 108, 124, 154, 46, 146, 122]"
      ]
     },
     "execution_count": 26,
     "metadata": {},
     "output_type": "execute_result"
    }
   ],
   "source": [
    "# map()\n",
    "list_of_numbers = [5,7,22,97,54,62,77,23,73,61]\n",
    "final_list = list(map(lambda x: x*2, list_of_numbers))\n",
    "final_list"
   ]
  },
  {
   "cell_type": "code",
   "execution_count": 27,
   "id": "303babd1",
   "metadata": {},
   "outputs": [],
   "source": [
    "# factorial with lambda\n",
    "fact = lambda a : 1 if a < 1 else a * fact(a-1)"
   ]
  },
  {
   "cell_type": "code",
   "execution_count": 28,
   "id": "696ca232",
   "metadata": {},
   "outputs": [
    {
     "data": {
      "text/plain": [
       "24"
      ]
     },
     "execution_count": 28,
     "metadata": {},
     "output_type": "execute_result"
    }
   ],
   "source": [
    "fact(4)"
   ]
  },
  {
   "cell_type": "code",
   "execution_count": 29,
   "id": "9e1e14f0",
   "metadata": {},
   "outputs": [
    {
     "data": {
      "text/plain": [
       "720"
      ]
     },
     "execution_count": 29,
     "metadata": {},
     "output_type": "execute_result"
    }
   ],
   "source": [
    "fact(6)"
   ]
  },
  {
   "cell_type": "code",
   "execution_count": 30,
   "id": "c34ae65d",
   "metadata": {},
   "outputs": [
    {
     "data": {
      "text/plain": [
       "5040"
      ]
     },
     "execution_count": 30,
     "metadata": {},
     "output_type": "execute_result"
    }
   ],
   "source": [
    "fact(7)"
   ]
  },
  {
   "cell_type": "code",
   "execution_count": 31,
   "id": "2d59178b",
   "metadata": {},
   "outputs": [
    {
     "ename": "SyntaxError",
     "evalue": "expected ':' (2510382308.py, line 2)",
     "output_type": "error",
     "traceback": [
      "\u001b[0;36m  Cell \u001b[0;32mIn[31], line 2\u001b[0;36m\u001b[0m\n\u001b[0;31m    def recursive_febonacci(n)\u001b[0m\n\u001b[0m                              ^\u001b[0m\n\u001b[0;31mSyntaxError\u001b[0m\u001b[0;31m:\u001b[0m expected ':'\n"
     ]
    }
   ],
   "source": [
    "#fibonacci to be completed\n",
    "def recursive_febonacci(n)\n",
    "    if n <=1:\n",
    "        return n\n",
    "    else:\n",
    "        retrun (recursive_febonacci(n -1) + recursive_febonacci(n-2))\n",
    "        "
   ]
  },
  {
   "cell_type": "code",
   "execution_count": null,
   "id": "9a8c4b32",
   "metadata": {},
   "outputs": [],
   "source": [
    "string1 = \"Hello class\""
   ]
  },
  {
   "cell_type": "code",
   "execution_count": null,
   "id": "75fbe3d3",
   "metadata": {},
   "outputs": [],
   "source": [
    "string1.count('l')"
   ]
  },
  {
   "cell_type": "code",
   "execution_count": null,
   "id": "62484e29",
   "metadata": {
    "scrolled": true
   },
   "outputs": [],
   "source": [
    "string1.find('class')\n",
    "#rfine"
   ]
  },
  {
   "cell_type": "code",
   "execution_count": null,
   "id": "e17dd08c",
   "metadata": {},
   "outputs": [],
   "source": [
    "string1.split()"
   ]
  },
  {
   "cell_type": "code",
   "execution_count": null,
   "id": "ecc21374",
   "metadata": {},
   "outputs": [],
   "source": [
    "sent1 = \"     aasdfasdf adasdfsaf asdafdas     \"\n",
    "sent1.strip('aa')"
   ]
  },
  {
   "cell_type": "code",
   "execution_count": null,
   "id": "bfffa57f",
   "metadata": {},
   "outputs": [],
   "source": [
    "#work1"
   ]
  },
  {
   "cell_type": "code",
   "execution_count": null,
   "id": "d07bc765",
   "metadata": {},
   "outputs": [],
   "source": [
    "l=[1,2,3,4,5,6,7,8,9,10]"
   ]
  },
  {
   "cell_type": "code",
   "execution_count": null,
   "id": "df8fdef5",
   "metadata": {},
   "outputs": [],
   "source": [
    "count = 0\n",
    "for in range(len(l)):\n",
    "    for j in range(len)"
   ]
  },
  {
   "cell_type": "code",
   "execution_count": null,
   "id": "53aaecfe",
   "metadata": {},
   "outputs": [],
   "source": []
  },
  {
   "cell_type": "code",
   "execution_count": null,
   "id": "15f32bdc",
   "metadata": {},
   "outputs": [],
   "source": []
  },
  {
   "cell_type": "code",
   "execution_count": null,
   "id": "e7c8f94b",
   "metadata": {},
   "outputs": [],
   "source": [
    "#work2"
   ]
  },
  {
   "cell_type": "code",
   "execution_count": null,
   "id": "e1f8d296",
   "metadata": {},
   "outputs": [],
   "source": [
    "l = [1,2,3,4,5,6,7,8,9,10]"
   ]
  },
  {
   "cell_type": "code",
   "execution_count": null,
   "id": "13de4666",
   "metadata": {},
   "outputs": [],
   "source": [
    "qube = lambda x: x*x*x"
   ]
  },
  {
   "cell_type": "code",
   "execution_count": null,
   "id": "bbc0d2c5",
   "metadata": {},
   "outputs": [],
   "source": [
    "qubelist = [qube(y) for y in l]"
   ]
  },
  {
   "cell_type": "code",
   "execution_count": null,
   "id": "f13dbdd5",
   "metadata": {},
   "outputs": [],
   "source": [
    "qubelist"
   ]
  },
  {
   "cell_type": "code",
   "execution_count": null,
   "id": "bfbe60b0",
   "metadata": {},
   "outputs": [],
   "source": [
    "#work 3"
   ]
  },
  {
   "cell_type": "code",
   "execution_count": null,
   "id": "2b94ae97",
   "metadata": {},
   "outputs": [],
   "source": [
    "list1 = ['apple1', 'apple2', 'apple3']\n",
    "list2= ['apple1', 'apple3', 'apple5']"
   ]
  },
  {
   "cell_type": "code",
   "execution_count": null,
   "id": "21cf9bcc",
   "metadata": {},
   "outputs": [],
   "source": [
    "#TBC\n",
    "def minuslist (l1, l2):\n",
    "    minus_list = [i for in input_array1 if ((i in input))]"
   ]
  },
  {
   "cell_type": "code",
   "execution_count": null,
   "id": "443ad3e4",
   "metadata": {
    "scrolled": true
   },
   "outputs": [],
   "source": [
    "res_list = minuslist(list1,list2)"
   ]
  },
  {
   "cell_type": "markdown",
   "id": "ea9e6ae0",
   "metadata": {},
   "source": [
    "# res_list"
   ]
  },
  {
   "cell_type": "code",
   "execution_count": null,
   "id": "f68bcb2c",
   "metadata": {},
   "outputs": [],
   "source": []
  },
  {
   "cell_type": "code",
   "execution_count": null,
   "id": "c03f83fd",
   "metadata": {},
   "outputs": [],
   "source": [
    "#work4"
   ]
  },
  {
   "cell_type": "code",
   "execution_count": null,
   "id": "e0c8a41d",
   "metadata": {},
   "outputs": [],
   "source": [
    "age_list = [12, 70, 34, 78, 20, 50, 19]"
   ]
  },
  {
   "cell_type": "code",
   "execution_count": null,
   "id": "e62e77bc",
   "metadata": {},
   "outputs": [],
   "source": [
    "gt8list = list(filter((lambda x: x>18),age_list))\n",
    "print(gt8list)"
   ]
  },
  {
   "cell_type": "code",
   "execution_count": null,
   "id": "cfd48b51",
   "metadata": {},
   "outputs": [],
   "source": [
    "#work 2.1"
   ]
  },
  {
   "cell_type": "code",
   "execution_count": null,
   "id": "bdb28044",
   "metadata": {},
   "outputs": [],
   "source": [
    "str1 = \"Great\"\n",
    "str2 = \"Learning\"\n",
    "str3 = \"Python\"\n",
    "\n",
    "single_string = str1+ \" \" + str2 + \" \"+ str3"
   ]
  },
  {
   "cell_type": "code",
   "execution_count": null,
   "id": "35cf9538",
   "metadata": {},
   "outputs": [],
   "source": [
    "single_string"
   ]
  },
  {
   "cell_type": "code",
   "execution_count": null,
   "id": "dfc17b56",
   "metadata": {},
   "outputs": [],
   "source": [
    "single_string[0]"
   ]
  },
  {
   "cell_type": "code",
   "execution_count": null,
   "id": "ac6a020c",
   "metadata": {},
   "outputs": [],
   "source": [
    "single_string[-1]"
   ]
  },
  {
   "cell_type": "code",
   "execution_count": null,
   "id": "7f062ecc",
   "metadata": {},
   "outputs": [],
   "source": [
    "single_string.find('Learning')"
   ]
  },
  {
   "cell_type": "code",
   "execution_count": null,
   "id": "3a103f23",
   "metadata": {},
   "outputs": [],
   "source": [
    "extract_string = single_string.split()"
   ]
  },
  {
   "cell_type": "code",
   "execution_count": null,
   "id": "cc67d12c",
   "metadata": {},
   "outputs": [],
   "source": [
    "extract_string[1]"
   ]
  },
  {
   "cell_type": "code",
   "execution_count": null,
   "id": "a4657fd2",
   "metadata": {},
   "outputs": [],
   "source": [
    "reverse_string = single_string[::-1]\n",
    "reverse_string"
   ]
  },
  {
   "cell_type": "code",
   "execution_count": null,
   "id": "25e20b61",
   "metadata": {},
   "outputs": [],
   "source": [
    "#work 2.2"
   ]
  },
  {
   "cell_type": "code",
   "execution_count": null,
   "id": "55d9a368",
   "metadata": {},
   "outputs": [],
   "source": [
    "sent1 = \"Hello! Great Learning. Now start learning Python.\""
   ]
  },
  {
   "cell_type": "code",
   "execution_count": null,
   "id": "e07d488e",
   "metadata": {},
   "outputs": [],
   "source": [
    "sent1.find('Learning')"
   ]
  },
  {
   "cell_type": "code",
   "execution_count": null,
   "id": "bd6aeb63",
   "metadata": {},
   "outputs": [],
   "source": [
    "sent1.find('e')"
   ]
  },
  {
   "cell_type": "code",
   "execution_count": null,
   "id": "f0eae142",
   "metadata": {},
   "outputs": [],
   "source": [
    "sent1.find('e',5,10)"
   ]
  },
  {
   "cell_type": "code",
   "execution_count": null,
   "id": "c03fc3a9",
   "metadata": {},
   "outputs": [],
   "source": [
    "sentsplit1= sent1.split()\n",
    "sentsplit1"
   ]
  },
  {
   "cell_type": "code",
   "execution_count": null,
   "id": "2bd9329d",
   "metadata": {},
   "outputs": [],
   "source": [
    "#work 1.5"
   ]
  },
  {
   "cell_type": "code",
   "execution_count": null,
   "id": "257769c4",
   "metadata": {},
   "outputs": [],
   "source": [
    "flowers = ['jasmine', 'lilly', 'lotus', 'rose'] "
   ]
  },
  {
   "cell_type": "code",
   "execution_count": null,
   "id": "60137dc5",
   "metadata": {},
   "outputs": [],
   "source": [
    "FLOWERS = list(map((lambda x: x.upper()), flowers))\n",
    "FLOWERS"
   ]
  },
  {
   "cell_type": "code",
   "execution_count": null,
   "id": "10704e81",
   "metadata": {},
   "outputs": [],
   "source": [
    "# Date and Time"
   ]
  },
  {
   "cell_type": "code",
   "execution_count": null,
   "id": "0e7983e2",
   "metadata": {},
   "outputs": [],
   "source": []
  },
  {
   "cell_type": "code",
   "execution_count": 32,
   "id": "4a99d814",
   "metadata": {},
   "outputs": [],
   "source": [
    "import datetime as dt"
   ]
  },
  {
   "cell_type": "code",
   "execution_count": 33,
   "id": "be338f4c",
   "metadata": {},
   "outputs": [],
   "source": [
    "x = dt.datetime(2020,5,17)"
   ]
  },
  {
   "cell_type": "code",
   "execution_count": 34,
   "id": "04f95de3",
   "metadata": {},
   "outputs": [
    {
     "data": {
      "text/plain": [
       "datetime.datetime(2020, 5, 17, 0, 0)"
      ]
     },
     "execution_count": 34,
     "metadata": {},
     "output_type": "execute_result"
    }
   ],
   "source": [
    "x"
   ]
  },
  {
   "cell_type": "code",
   "execution_count": 35,
   "id": "60925e96",
   "metadata": {},
   "outputs": [
    {
     "name": "stdout",
     "output_type": "stream",
     "text": [
      "0\n"
     ]
    }
   ],
   "source": [
    "print(x.second)"
   ]
  },
  {
   "cell_type": "code",
   "execution_count": 36,
   "id": "06b625ba",
   "metadata": {},
   "outputs": [
    {
     "data": {
      "text/plain": [
       "datetime.datetime(2023, 11, 2, 6, 59, 43, 781584)"
      ]
     },
     "execution_count": 36,
     "metadata": {},
     "output_type": "execute_result"
    }
   ],
   "source": [
    "c = dt.datetime.now()\n",
    "c"
   ]
  },
  {
   "cell_type": "code",
   "execution_count": 37,
   "id": "844347c5",
   "metadata": {},
   "outputs": [
    {
     "name": "stdout",
     "output_type": "stream",
     "text": [
      "59\n"
     ]
    }
   ],
   "source": [
    "print(c.minute)"
   ]
  },
  {
   "cell_type": "code",
   "execution_count": 38,
   "id": "5572909b",
   "metadata": {},
   "outputs": [
    {
     "name": "stdout",
     "output_type": "stream",
     "text": [
      "The time now is  Nov, 02, 2023\n"
     ]
    }
   ],
   "source": [
    "print (f'The time now is {c: %b, %d, %Y}')"
   ]
  },
  {
   "cell_type": "code",
   "execution_count": null,
   "id": "79581de5",
   "metadata": {},
   "outputs": [],
   "source": [
    "dt.datetime.today()"
   ]
  },
  {
   "cell_type": "code",
   "execution_count": null,
   "id": "648203ea",
   "metadata": {},
   "outputs": [],
   "source": [
    "c.tzinfo"
   ]
  },
  {
   "cell_type": "code",
   "execution_count": null,
   "id": "4afe7380",
   "metadata": {},
   "outputs": [],
   "source": [
    "c.tzname()"
   ]
  },
  {
   "cell_type": "code",
   "execution_count": null,
   "id": "083892f3",
   "metadata": {},
   "outputs": [],
   "source": []
  }
 ],
 "metadata": {
  "kernelspec": {
   "display_name": "Python 3 (ipykernel)",
   "language": "python",
   "name": "python3"
  },
  "language_info": {
   "codemirror_mode": {
    "name": "ipython",
    "version": 3
   },
   "file_extension": ".py",
   "mimetype": "text/x-python",
   "name": "python",
   "nbconvert_exporter": "python",
   "pygments_lexer": "ipython3",
   "version": "3.11.4"
  }
 },
 "nbformat": 4,
 "nbformat_minor": 5
}
