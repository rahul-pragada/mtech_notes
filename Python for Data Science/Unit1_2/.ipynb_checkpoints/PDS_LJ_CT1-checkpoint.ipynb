{
 "cells": [
  {
   "cell_type": "markdown",
   "id": "ce1041fb",
   "metadata": {
    "id": "ce1041fb"
   },
   "source": [
    "# PDS CT-1"
   ]
  },
  {
   "cell_type": "markdown",
   "id": "7c0e7372",
   "metadata": {},
   "source": [
    "# Inference Document for this cycle test is given at the bottom of this ipynb file. Kindly note."
   ]
  },
  {
   "cell_type": "markdown",
   "id": "84a0f855",
   "metadata": {
    "id": "84a0f855"
   },
   "source": [
    "#### 1. Display the following pattern a using single print() function. ( 2marks)\n",
    "\n",
    "\n",
    "\n",
    "                            *\n",
    "                            **\n",
    "                            ***\n",
    "                            ****"
   ]
  },
  {
   "cell_type": "code",
   "execution_count": 1,
   "id": "d4f8e216",
   "metadata": {
    "id": "d4f8e216",
    "scrolled": true
   },
   "outputs": [
    {
     "name": "stdout",
     "output_type": "stream",
     "text": [
      " \n",
      "\n",
      "* \n",
      "\n",
      "** \n",
      "\n",
      "*** \n",
      "\n",
      "**** \n",
      "\n"
     ]
    }
   ],
   "source": [
    "#Applying for loop and the printing '*' as per the iteration times.\n",
    "for i in range(5):\n",
    "         print('*'*i,'\\n')\n",
    "    "
   ]
  },
  {
   "cell_type": "markdown",
   "id": "f9597d3b",
   "metadata": {
    "id": "f9597d3b"
   },
   "source": [
    "#### 2. Write a program that takes two dictionaries and concatenates them into one dictionary  (3 marks)\n",
    "\n",
    "Use the below dictionaries:\n",
    "\n",
    "    dictionary_1 = {'A':1, 'B':2}\n",
    "\n",
    "    dictionary_2 = {'C':3}"
   ]
  },
  {
   "cell_type": "code",
   "execution_count": 2,
   "id": "1f380c68",
   "metadata": {
    "id": "1f380c68"
   },
   "outputs": [],
   "source": [
    "dictionary_1 = {'A':1, 'B':2}\n",
    "dictionary_2 = {'C':3}"
   ]
  },
  {
   "cell_type": "code",
   "execution_count": 3,
   "id": "5105de78",
   "metadata": {
    "id": "5105de78"
   },
   "outputs": [
    {
     "name": "stdout",
     "output_type": "stream",
     "text": [
      "{'A': 1, 'B': 2, 'C': 3}\n"
     ]
    }
   ],
   "source": [
    "# Concatenating 2 Dictionaries\n",
    "# Applying the for loop where both key and value of given iteration of 'dictionary_2' can be obtained \n",
    "# and used for assigning it to 'dictionary_1' \n",
    "\n",
    "for k,v in dictionary_2.items():\n",
    "    dictionary_1[k] = v    \n",
    "print(dictionary_1)"
   ]
  },
  {
   "cell_type": "markdown",
   "id": "ba76ec6b",
   "metadata": {
    "id": "ba76ec6b"
   },
   "source": [
    "#### 3. Write a program to retrieve the capital of 'Germany' from a given dictionary  (2marks)\n",
    "Use the dictionary given below:\n",
    "\n",
    "europe = { 'Spain': { 'Capital':'Madrid', 'Population':4.77 }, 'France': { 'Capital':'Paris', 'Population':6.7 }, 'Germany': { 'Capital':'Berlin', 'Population':8.28 }, 'Norway': { 'Capital':'Oslo', 'Population':0.533 } }"
   ]
  },
  {
   "cell_type": "code",
   "execution_count": 4,
   "id": "725eb987",
   "metadata": {
    "id": "725eb987"
   },
   "outputs": [],
   "source": [
    "europe = { 'Spain': { 'Capital':'Madrid', 'Population':4.77 }, 'France': { 'Capital':'Paris', 'Population':6.7 }, 'Germany': { 'Capital':'Berlin', 'Population':8.28 }, 'Norway': { 'Capital':'Oslo', 'Population':0.533 } }"
   ]
  },
  {
   "cell_type": "code",
   "execution_count": 5,
   "id": "1498307d",
   "metadata": {
    "id": "1498307d"
   },
   "outputs": [
    {
     "name": "stdout",
     "output_type": "stream",
     "text": [
      "Retrieving the capital of 'Germany' using 'key' directly:  Berlin\n",
      "\n",
      "Retrieving the capital of 'Germany' using 'get' function:  Berlin\n"
     ]
    }
   ],
   "source": [
    "#Using direct method\n",
    "print(\"Retrieving the capital of 'Germany' using 'key' directly: \",  europe['Germany']['Capital'])\n",
    "\n",
    "#Using get method\n",
    "print(\"\\nRetrieving the capital of 'Germany' using 'get' function: \",  europe.get('Germany').get('Capital'))\n"
   ]
  },
  {
   "cell_type": "markdown",
   "id": "cd10dde2",
   "metadata": {
    "id": "cd10dde2"
   },
   "source": [
    "#### 4. Consider the given two tuples. Divide corresponding elements of two tuples and print the result as tuple (use zip())(4 marks)\n",
    "\n",
    "The original tuple 1 : (10, 4, 6, 9)\n",
    "\n",
    "The original tuple 2 : (5, 2, 3, 3)\n",
    "\n",
    "Output: (2, 2, 2, 3)"
   ]
  },
  {
   "cell_type": "code",
   "execution_count": 6,
   "id": "ec66737e",
   "metadata": {
    "id": "ec66737e"
   },
   "outputs": [
    {
     "name": "stdout",
     "output_type": "stream",
     "text": [
      "The divided tuple is:  (2.0, 2.0, 2.0, 3.0)\n"
     ]
    }
   ],
   "source": [
    "tuple1 = (10, 4, 6, 9)\n",
    "tuple2 = (5, 2, 3, 3)\n",
    "tl1 = len(tuple1)\n",
    "tl2 = len(tuple2)\n",
    "#tl1, tl2\n",
    "#Checking the length of tuple is same, \n",
    "# Because the division of corresponding elements can be done only if they are of same size\n",
    "if tl1 == tl2:\n",
    "    # Assigning to the list as list mutable (tuple is immutable) to add items iteratively \n",
    "    # and then can be assigned to tuple directly at the end. \n",
    "    dlist = []\n",
    "    # For loop for iterating through each element at same position and divide them. \n",
    "    for i in range(tl1):\n",
    "        dlist.append(tuple1[i]/tuple2[i])\n",
    "    tuple3=tuple(dlist)\n",
    "    print(\"The divided tuple is: \" , tuple3)\n",
    "else:\n",
    "    print(\"Given tuples are not of same length\")"
   ]
  },
  {
   "cell_type": "markdown",
   "id": "082f19b0",
   "metadata": {
    "id": "082f19b0"
   },
   "source": [
    "#### 5.Write a program that takes input from the user and checks whether two strings are anagrams of each other.(3 marks)\n",
    "Hint: An anagram of a string is another string that contains same characters, only the order of characters can be different."
   ]
  },
  {
   "cell_type": "code",
   "execution_count": 7,
   "id": "985b694e",
   "metadata": {
    "id": "985b694e"
   },
   "outputs": [
    {
     "name": "stdout",
     "output_type": "stream",
     "text": [
      "Given strings are same length, so proceeding forther to check if they are anagram strings\n",
      "\n",
      "\n",
      "Result of the check: Given strings are anagram strings\n"
     ]
    }
   ],
   "source": [
    "str1 = 'abcde'\n",
    "str2 = 'dcbea'\n",
    "flag = True\n",
    "#1st Checking if the length is same, if they are not same they can be directly concluded as not anagram strings.\n",
    "if len(str1) == len(str2):\n",
    "    print(\"Given strings are same length, so proceeding forther to check if they are anagram strings\\n\\n\")\n",
    "    # Iterating through each element in first string to check if it is there in 2nd string using logical operator 'in' \n",
    "    for i in range(len(str1)):\n",
    "        if str1[i] in str2:\n",
    "            pass\n",
    "        else:\n",
    "            print(\"Result of the check: Given strings are not anagram strings\")\n",
    "            flag = False\n",
    "            break           \n",
    "else:\n",
    "    flag = False\n",
    "    print(\"Result of the check: Length of strings itself is not same, so they can't be anagram strings\")\n",
    "    \n",
    "if flag:\n",
    "    print(\"Result of the check: Given strings are anagram strings\")"
   ]
  },
  {
   "cell_type": "markdown",
   "id": "af1902b9",
   "metadata": {
    "id": "af1902b9"
   },
   "source": [
    "#### 7.Write a program to add the cubes of first 5 positive integers using while loop. (4 marks)"
   ]
  },
  {
   "cell_type": "code",
   "execution_count": 8,
   "id": "15d19ded",
   "metadata": {
    "id": "15d19ded"
   },
   "outputs": [
    {
     "name": "stdout",
     "output_type": "stream",
     "text": [
      "1 \n",
      "\n",
      "8 \n",
      "\n",
      "27 \n",
      "\n",
      "64 \n",
      "\n",
      "125 \n",
      "\n"
     ]
    }
   ],
   "source": [
    "i = 1\n",
    "# Applying while loop and using **. to find cubes of each integer iteratively \n",
    "while i <=5:\n",
    "    print(i**3,'\\n')\n",
    "    i+=1\n",
    "    "
   ]
  },
  {
   "cell_type": "markdown",
   "id": "b889d264",
   "metadata": {
    "id": "b889d264"
   },
   "source": [
    "#### 8.Given a list of words, define a function to find the words from the list whose second character is in uppercase.  (2 marks)\n",
    "\n",
    "    ls = ['hello', 'Dear', 'hOw', 'ARe', 'You']\n",
    "\n",
    "    Output: ['hOw', 'ARe']"
   ]
  },
  {
   "cell_type": "code",
   "execution_count": 9,
   "id": "c874a9b5",
   "metadata": {
    "id": "c874a9b5"
   },
   "outputs": [
    {
     "name": "stdout",
     "output_type": "stream",
     "text": [
      "['hOw', 'ARe']\n"
     ]
    }
   ],
   "source": [
    "#Defining a function to take input list. \n",
    "def capfind(inputlist):\n",
    "    resultlist= []\n",
    "    #for each item in given input list checking second character (1 as index starts with 0) \n",
    "    #and applying 'isupper()' function to find if 2nd character is upper \n",
    "    #and adding only those items to the result list\n",
    "    for i in inputlist:\n",
    "        if i[1].isupper():\n",
    "            resultlist.append(i)\n",
    "    print(resultlist)\n",
    "\n",
    "ls = ['hello', 'Dear', 'hOw', 'ARe', 'You']\n",
    "capfind(ls)"
   ]
  },
  {
   "cell_type": "markdown",
   "id": "5032bf9e",
   "metadata": {},
   "source": [
    "### PDS-CT-1 Inference document"
   ]
  },
  {
   "cell_type": "markdown",
   "id": "065cf317",
   "metadata": {},
   "source": [
    "\n",
    "\n",
    "In This Cycle Test, the ability to apply what was taught in the 'Python for Data Science’ class in the given syllabus along with logic application was tested. \n",
    "\n",
    "Below are applied for respective questions.\n",
    "\n",
    "Applied a for loop with range option, that too using single print() function only. \n",
    "\n",
    "Dictionary key, value pair is added to dictionary_1 using for loop for dictionary_2 where both key and value are iterated. This can be used for any size of 2 dictionaries. \n",
    "\n",
    "Value of given key is obtained using specific inner dictionary key within key. Same was done using ‘get()’ function also.\n",
    "\n",
    "Checked the length of tuple is same, Because the division of corresponding elements can be done only if they are of same size.    After that built logic to assign to the list as list mutable (tuple is immutable) to add items iteratively and then can be assigned to tuple directly at the end. Each element of tuple was divided by same position element in other tuple using for loop.\n",
    "\n",
    "Checked the length is same for both strings, such that if they are not same they can be directly concluded as not anagram strings. Applied iteration through each element in first string to check if it is there in 2nd string using logical operator ‘in’. \n",
    "\n",
    "Applied while loop and used ** to find cubes of each integer iteratively.\n",
    "\n",
    "Defined a function to take input list. In which for each item in given input list checked second character (1 as index starts with 0 for strings) and applied 'isupper()' function to find if 2nd character is upper and added only those items that match the criteria to the result list"
   ]
  },
  {
   "cell_type": "code",
   "execution_count": null,
   "id": "c187800a",
   "metadata": {},
   "outputs": [],
   "source": []
  }
 ],
 "metadata": {
  "colab": {
   "provenance": []
  },
  "kernelspec": {
   "display_name": "Python 3 (ipykernel)",
   "language": "python",
   "name": "python3"
  },
  "language_info": {
   "codemirror_mode": {
    "name": "ipython",
    "version": 3
   },
   "file_extension": ".py",
   "mimetype": "text/x-python",
   "name": "python",
   "nbconvert_exporter": "python",
   "pygments_lexer": "ipython3",
   "version": "3.11.4"
  }
 },
 "nbformat": 4,
 "nbformat_minor": 5
}
