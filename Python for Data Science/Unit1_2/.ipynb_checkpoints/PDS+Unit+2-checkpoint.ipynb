{
 "cells": [
  {
   "cell_type": "markdown",
   "metadata": {
    "id": "j9NBI0JNWwN3"
   },
   "source": [
    "## Table of Content\n",
    "\n",
    "\n",
    "1. **[Loops](#type)**\n",
    "    - 1.1 - [for loop](#num)\n",
    "    - 1.2 - [while loop](#str)\n",
    "    - 1.3 - [break statement](#bool)\n",
    "    - 1.4 - [continue statement](#bool)\n",
    "2. **[Python Flow COntrol ](#typecon)**\n",
    "    - 2.1 - [if statement](#num)\n",
    "    - 2.2 - [while loop](#str)\n",
    "    - 2.3 - [for loop](#bool)\n",
    "3. **[Pseudocode](#print)**\n",
    "4. **[ Examples of Conditional Statement and Loops](#examples)**\n",
    "    - 4.1 - [if statement](#if_statement)\n",
    "    - 4.2 - [if else statement](#if_else)\n",
    "    - 4.3 - [nested conditions](#if_elif_else)\n",
    "    - 4.4 - [for loop and nested for loop](#for_and_nested)\n",
    "    - 4.5 - [while loop](#while_loop)\n",
    "5. **[ What are List Comprehensions](#List_Comprehensions)**\n",
    "    - 5.1 - [for loop](#for_loop_list)\n",
    "    - 5.2 - [nested for loop](#nested_for_loop_list)\n",
    "    - 5.3 - [if statement](#if_list)\n",
    "    - 5.4 - [nested condition](#nested_condition)"
   ]
  },
  {
   "cell_type": "markdown",
   "metadata": {
    "id": "BvcZV4YHlOa3"
   },
   "source": [
    "<a id=\"forloop\"> </a>\n",
    "## 1.1 for loop\n",
    "<table align=\"left\">\n",
    "    <tr>\n",
    "        <td width=\"15%\">\n",
    "            <img src=\"note.png\">\n",
    "        </td>\n",
    "        <td>\n",
    "            <div align=\"left\", style=\"font-size:120%\">\n",
    "                <font color=\"#21618C\">\n",
    "                <b>For loop in python is used to execute a block of statements or code several times until the given condition becomes false.<br>\n",
    "                <b>The for loop in python is used to iterate over a sequence (list, tuple, string) or other iterable objects.\n",
    "                    </b>\n",
    "                </font>\n",
    "            </div>\n",
    "        </td>\n",
    "    </tr>\n",
    "</table>"
   ]
  },
  {
   "cell_type": "markdown",
   "metadata": {
    "id": "mrKVoud7lOa4"
   },
   "source": [
    "**Syntax of for loop:**<br>\n",
    "for val in sequence:<br>\n",
    "&nbsp;&nbsp;\tBody of for"
   ]
  },
  {
   "cell_type": "markdown",
   "metadata": {
    "id": "xOoXeAx7lOa4"
   },
   "source": [
    "**Here is the flow chart of for loop:**\n",
    "            <img src=\"forloop.jpg\">\n"
   ]
  },
  {
   "cell_type": "code",
   "execution_count": 1,
   "metadata": {
    "id": "_lMd6ZRXlOa5",
    "outputId": "6a0f0812-7c0e-4456-b033-9bbce73a1082"
   },
   "outputs": [
    {
     "name": "stdout",
     "output_type": "stream",
     "text": [
      "The sum is 2068\n"
     ]
    }
   ],
   "source": [
    "# Program to find the sum of all numbers stored in a list\n",
    "\n",
    "# List of numbers\n",
    "numbers = [66, 545, 223, 438, 224, 122, 125, 214, 111]\n",
    "\n",
    "# variable to store the sum\n",
    "sum = 0\n",
    "\n",
    "# iterate over the list\n",
    "for val in numbers:\n",
    "    sum = sum+val\n",
    "\n",
    "# Output: The sum is 48\n",
    "print(\"The sum is\", sum)"
   ]
  },
  {
   "cell_type": "code",
   "execution_count": 2,
   "metadata": {
    "id": "uefclNo3lOa6",
    "outputId": "46956d44-e129-47ab-b4e5-ba8920a5bc22"
   },
   "outputs": [
    {
     "name": "stdout",
     "output_type": "stream",
     "text": [
      "0\n",
      "1\n",
      "2\n",
      "3\n",
      "4\n",
      "5\n"
     ]
    }
   ],
   "source": [
    "# Prints out the numbers 0,1,2,3,4,5\n",
    "for x in range(6):\n",
    "    print(x)"
   ]
  },
  {
   "cell_type": "code",
   "execution_count": 3,
   "metadata": {
    "id": "AVex4rsBlOa7",
    "outputId": "075f6e09-4e64-4d7c-eef2-6c6accc9dde6"
   },
   "outputs": [
    {
     "name": "stdout",
     "output_type": "stream",
     "text": [
      "Sum = 1698\n",
      "Avg = 283.0\n"
     ]
    }
   ],
   "source": [
    "int_list = [134, 222, 113, 234, 375, 620]\n",
    "sum = 0\n",
    "for iter in int_list:\n",
    "    sum += iter\n",
    "\n",
    "print(\"Sum =\", sum)\n",
    "print(\"Avg =\", sum/len(int_list))"
   ]
  },
  {
   "cell_type": "markdown",
   "metadata": {
    "id": "HXeCWguclOa9"
   },
   "source": [
    "<a id=\"whileloop\"> </a>\n",
    "## 1.2 while loop\n",
    "<table align=\"left\">\n",
    "    <tr>\n",
    "        <td width=\"15%\">\n",
    "            <img src=\"note.png\">\n",
    "        </td>\n",
    "        <td>\n",
    "            <div align=\"left\", style=\"font-size:120%\">\n",
    "                <font color=\"#21618C\">\n",
    "                <b>While loop repeats the sequence of actions many times until some condition evaluates to False.<br>\n",
    "                The condition is given before the loop body and is checked before each execution of the loop body.<br>\n",
    "                While loop is used when it is impossible to determine the exact number of loop iterations in advance.<br>\n",
    "                    </b>\n",
    "                </font>\n",
    "            </div>\n",
    "        </td>\n",
    "    </tr>\n",
    "</table>"
   ]
  },
  {
   "cell_type": "markdown",
   "metadata": {
    "id": "-cXe6DNclOa9"
   },
   "source": [
    "**Syntax of for loop:**<br>\n",
    "while (expression):<br>\n",
    "&nbsp;&nbsp;     statement_1<br>\n",
    "&nbsp;&nbsp;     statement_2<br>\n",
    "    ...."
   ]
  },
  {
   "cell_type": "code",
   "execution_count": 4,
   "metadata": {
    "id": "UqwKX6zBlOa-",
    "outputId": "2dd1fbe1-af15-47a7-9203-2e7b96898b34"
   },
   "outputs": [
    {
     "name": "stdout",
     "output_type": "stream",
     "text": [
      "0\n",
      "1\n",
      "2\n",
      "3\n",
      "4\n"
     ]
    }
   ],
   "source": [
    "# print the digit 0 to 4\n",
    "x = 0;\n",
    "while (x < 5):\n",
    "     print(x)\n",
    "     x += 1"
   ]
  },
  {
   "cell_type": "markdown",
   "metadata": {
    "id": "kIwrxH6alObB"
   },
   "source": [
    "Calculate the sum of the integers from 0 to 9"
   ]
  },
  {
   "cell_type": "code",
   "execution_count": 5,
   "metadata": {
    "id": "hMP7r8otlObB",
    "outputId": "67580e33-37e7-4c22-f86c-62c9ed18c88f"
   },
   "outputs": [
    {
     "name": "stdout",
     "output_type": "stream",
     "text": [
      "The sum of first 9 integers :  45\n"
     ]
    }
   ],
   "source": [
    "a = 0;\n",
    "b = 0\n",
    "while (a < 10):\n",
    "     b = b + a\n",
    "     a = a + 1\n",
    "else :\n",
    "     print('The sum of first 9 integers : ',b)"
   ]
  },
  {
   "cell_type": "code",
   "execution_count": null,
   "metadata": {
    "id": "ExK4wZTrlObE",
    "outputId": "c8569149-396d-42de-d488-5278a015c955"
   },
   "outputs": [
    {
     "name": "stdout",
     "output_type": "stream",
     "text": [
      "67\n",
      "Length is 2\n"
     ]
    }
   ],
   "source": [
    "# find the length of input\n",
    "n = int(input())\n",
    "length = 0\n",
    "while True:\n",
    "    length += 1\n",
    "    n //= 10\n",
    "    if n == 0:\n",
    "        break\n",
    "print('Length is', length)"
   ]
  },
  {
   "cell_type": "markdown",
   "metadata": {
    "id": "F2qi6NgFlObI"
   },
   "source": [
    "<a id=\"break_statement\"> </a>\n",
    "## 1.3 break statement\n",
    "<table align=\"left\">\n",
    "    <tr>\n",
    "        <td width=\"15%\">\n",
    "            <img src=\"note.png\">\n",
    "        </td>\n",
    "        <td>\n",
    "            <div align=\"left\", style=\"font-size:120%\">\n",
    "                <font color=\"#21618C\">\n",
    "                <b>The break statement is used to terminate the loop when a certain condition is met.<br>\n",
    "                The break statement is generally used inside a loop along with a if statement so that when a particular condition (defined in if statement) returns true, the break statement is encountered and the loop terminates.<br>\n",
    "                    </b>\n",
    "                </font>\n",
    "            </div>\n",
    "        </td>\n",
    "    </tr>\n",
    "</table>"
   ]
  },
  {
   "cell_type": "markdown",
   "metadata": {
    "id": "lILHQqe3lObI"
   },
   "source": [
    "**Flow chart of break statement:**\n",
    "            <img src=\"break-statement.jpg\">\n"
   ]
  },
  {
   "cell_type": "code",
   "execution_count": null,
   "metadata": {
    "id": "EKEyZAb3lObJ",
    "outputId": "31e39f79-ca87-437b-914c-1bf356aacd37"
   },
   "outputs": [
    {
     "name": "stdout",
     "output_type": "stream",
     "text": [
      "131\n",
      "92\n",
      "838\n",
      "The number 838 is found\n",
      "Terminating the loop\n"
     ]
    }
   ],
   "source": [
    "# program to display all the elements before number 838\n",
    "for num in [131, 92, 838, 120, 920, 233,321, 119]:\n",
    "   print(num)\n",
    "   if(num==838):\n",
    "        print(\"The number 838 is found\")\n",
    "        print(\"Terminating the loop\")\n",
    "        break"
   ]
  },
  {
   "cell_type": "markdown",
   "metadata": {
    "id": "N1Yfa-yTlObK"
   },
   "source": [
    "Check whether a numbers entered by the user is negative or not."
   ]
  },
  {
   "cell_type": "code",
   "execution_count": null,
   "metadata": {
    "id": "KF5kdmm5lObK",
    "outputId": "96dd8dde-1ae3-4c97-8a3c-691907b9c31f"
   },
   "outputs": [
    {
     "name": "stdout",
     "output_type": "stream",
     "text": [
      "78\n",
      "89\n",
      "09\n",
      "89\n",
      "78\n",
      "No negative numbers met\n"
     ]
    }
   ],
   "source": [
    "for i in range(5):\n",
    "    a = int(input())\n",
    "    if a < 0:\n",
    "        print('Met a negative number', a)\n",
    "        break\n",
    "else:\n",
    "    print('No negative numbers met')"
   ]
  },
  {
   "cell_type": "markdown",
   "metadata": {
    "id": "INbpTrs-lObM"
   },
   "source": [
    "<a id=\"continue_statement\"> </a>\n",
    "## 1.4 continue statement\n",
    "<table align=\"left\">\n",
    "    <tr>\n",
    "        <td width=\"15%\">\n",
    "            <img src=\"note.png\">\n",
    "        </td>\n",
    "        <td>\n",
    "            <div align=\"left\", style=\"font-size:120%\">\n",
    "                <font color=\"#21618C\">\n",
    "                <b>Continue is also a loop control statement just like the break statement.<br>\n",
    "                Continue statement is opposite to that of break statement, instead of terminating the loop, it forces to execute the next iteration of the loop.<br>\n",
    "                    </b>\n",
    "                </font>\n",
    "            </div>\n",
    "        </td>\n",
    "    </tr>\n",
    "</table>"
   ]
  },
  {
   "cell_type": "markdown",
   "metadata": {
    "id": "XFo1nvGdlObN"
   },
   "source": [
    "**Flow chart of continue statement:**\n",
    "            <img src=\"continue_statement.jpg\">\n"
   ]
  },
  {
   "cell_type": "code",
   "execution_count": null,
   "metadata": {
    "id": "EXItcSRLlObP",
    "outputId": "d5440c3b-4164-45aa-8fd8-1389e1c6b41a"
   },
   "outputs": [
    {
     "name": "stdout",
     "output_type": "stream",
     "text": [
      "Current character:  P\n",
      "Current character:  t\n",
      "Current character:  h\n",
      "Current character:  o\n",
      "Current character:  n\n"
     ]
    }
   ],
   "source": [
    "for char in 'Python':\n",
    "    if (char == 'y'):\n",
    "        continue\n",
    "    print('Current character: ', char)"
   ]
  },
  {
   "cell_type": "code",
   "execution_count": null,
   "metadata": {
    "id": "a4Cfq4TDlObS",
    "outputId": "58612c62-b777-4a28-d1d5-8ad083152162"
   },
   "outputs": [
    {
     "name": "stdout",
     "output_type": "stream",
     "text": [
      "1 2 3 4 5 7 8 9 10 "
     ]
    }
   ],
   "source": [
    "# loop from 1 to 10\n",
    "for i in range(1, 11):\n",
    "    if i == 6:\n",
    "        continue\n",
    "    else:\n",
    "        # otherwise print the value of i\n",
    "        print(i, end = \" \")"
   ]
  },
  {
   "cell_type": "markdown",
   "metadata": {
    "id": "TUQ4Mz0flObU"
   },
   "source": [
    "Use the continue statement in a while loop"
   ]
  },
  {
   "cell_type": "code",
   "execution_count": null,
   "metadata": {
    "id": "65Crr47flObV",
    "outputId": "2c4175ea-88ae-4b48-e78f-206d41ecf862"
   },
   "outputs": [
    {
     "name": "stdout",
     "output_type": "stream",
     "text": [
      "1\n",
      "2\n",
      "4\n",
      "5\n",
      "6\n",
      "7\n",
      "8\n",
      "9\n"
     ]
    }
   ],
   "source": [
    "i = 0\n",
    "while i < 9:\n",
    "    i += 1\n",
    "    if i == 3:\n",
    "        continue\n",
    "    print(i)"
   ]
  },
  {
   "cell_type": "markdown",
   "metadata": {
    "id": "EYKC4PTRWwQW"
   },
   "source": [
    "<a id=\"pfc\"> </a>\n",
    "## Python flow control\n",
    "<table align=\"left\">\n",
    "    <tr>\n",
    "        <td width=\"15%\">\n",
    "            <img src=\"note.png\">\n",
    "        </td>\n",
    "        <td>\n",
    "            <div align=\"left\", style=\"font-size:120%\">\n",
    "                <font color=\"#21618C\">\n",
    "                    <b>\n",
    "                        <br>A program’s control flow is the order in which the program’s code executes. The control flow of a Python program is regulated by: <br>\n",
    "                        <br>1. Conditional Statements\n",
    "                        <br>2. Loops, and\n",
    "                        <br>3. Function Calls\n",
    "                    </b>\n",
    "                </font>\n",
    "            </div>\n",
    "        </td>\n",
    "    </tr>\n",
    "</table>"
   ]
  },
  {
   "cell_type": "markdown",
   "metadata": {
    "id": "M7-agtVYWwQW"
   },
   "source": [
    "<td width=\"15%\">\n",
    "            <img src=\"control.png\">\n",
    "</td>"
   ]
  },
  {
   "cell_type": "markdown",
   "metadata": {
    "id": "V1YcJ963WwQW"
   },
   "source": [
    "The **selection** structure tests a condition, then executes one sequence of statements instead of another, depending on whether the condition is true or false. A condition is any variable or expression that returns a BOOLEAN value (TRUE or FALSE).<br><br>\n",
    "The **iteration** structure executes a sequence of statements repeatedly as long as a condition holds true.<br><br>\n",
    "The **sequence** structure simply executes a sequence of statements in the order in which they occur.<br><br>"
   ]
  },
  {
   "cell_type": "markdown",
   "metadata": {
    "id": "Khr9cLynWwQX"
   },
   "source": [
    "<a id=\"condition\"> </a>\n",
    "### The if- statement\n",
    "You might want to execute some statements only if some condition holds, or choose statements to execute depending on several mutually exclusive conditions. The Python compound statement if, which uses if, elif, and else clauses, lets you conditionally execute blocks of statements."
   ]
  },
  {
   "cell_type": "markdown",
   "metadata": {
    "id": "o9FIHv6iWwQX"
   },
   "source": [
    "#### Syntax:\n",
    "<em>if test_expression1:\n",
    "<br> &emsp;&emsp;statement(s)</br>\n",
    "<br>elif test_expression2:\n",
    "<br>&emsp;&emsp;    statement(s)\n",
    "<br>elif test_expression3:\n",
    "<br>&emsp;&emsp;    statement(s)\n",
    "<br>.\n",
    "<br>.\n",
    "<br>.\n",
    "<br>else:\n",
    " <br>&emsp;&emsp;   statement(s)"
   ]
  },
  {
   "cell_type": "code",
   "execution_count": null,
   "metadata": {
    "id": "7LwvSrRKWwQX",
    "outputId": "1621129d-c727-4ceb-c3cf-cc77e3e8f5f9"
   },
   "outputs": [
    {
     "name": "stdout",
     "output_type": "stream",
     "text": [
      "x is positive and odd\n"
     ]
    }
   ],
   "source": [
    "x = 5\n",
    "if x < 0:\n",
    "    print (\"x is negative\")\n",
    "elif x % 2:\n",
    "    print (\"x is positive and odd\")\n",
    "else:\n",
    "    print (\"x is even and non-negative\")"
   ]
  },
  {
   "cell_type": "markdown",
   "metadata": {
    "id": "WtJSHeZQWwQZ"
   },
   "source": [
    "<a id=\"while\"> </a>\n",
    "### The while- Loop\n",
    "A while loop is a control flow statement that allows code to be executed repeatedly based on a given Boolean condition. The while loop can be thought of as a repeating if statement."
   ]
  },
  {
   "cell_type": "markdown",
   "metadata": {
    "id": "84MGRyPAWwQZ"
   },
   "source": [
    "#### Syntax:\n",
    "<em>while test_expression:\n",
    "<br> &emsp;&emsp;statement(s)\n",
    "</em>\n",
    "<br><br>First, test_expression, which is known as the loop condition, is evaluated. If the condition is false, the while statement ends. If the loop condition is satisfied, the statement or statements that comprise the loop body are executed. When the loop body finishes executing, the loop condition is evaluated again, to see if another iteration should be performed. This process continues until the loop condition is false, at which point the while statement ends."
   ]
  },
  {
   "cell_type": "code",
   "execution_count": null,
   "metadata": {
    "id": "kHHgfi0oWwQa",
    "outputId": "8fd74e6e-abce-4de2-fc69-039b89677a3f"
   },
   "outputs": [
    {
     "name": "stdout",
     "output_type": "stream",
     "text": [
      "The sum is 55\n"
     ]
    }
   ],
   "source": [
    "n = 10\n",
    "\n",
    "# initialize sum and counter\n",
    "sum = 0\n",
    "i = 1\n",
    "\n",
    "while i <= n:\n",
    "    sum = sum + i\n",
    "    i = i+1    # update counter\n",
    "\n",
    "# print the sum\n",
    "print(\"The sum is\", sum)"
   ]
  },
  {
   "cell_type": "markdown",
   "metadata": {
    "id": "g5CO95wpWwQb"
   },
   "source": [
    "<a id=\"for\"> </a>\n",
    "### The for- Loop\n",
    "The for loop in Python is used to iterate over a sequence (list, tuple, string) or other iterable objects. Iterating over a sequence is called traversal."
   ]
  },
  {
   "cell_type": "markdown",
   "metadata": {
    "id": "H3aE0oCpWwQc"
   },
   "source": [
    "#### Syntax:\n",
    "<em>for iterator in sequence:\n",
    "<br> &emsp;&emsp;statement(s)\n",
    "</em>"
   ]
  },
  {
   "cell_type": "code",
   "execution_count": null,
   "metadata": {
    "id": "1OtL6cydWwQc",
    "outputId": "b6a9c654-1afe-467f-f909-697d6cf06213"
   },
   "outputs": [
    {
     "name": "stdout",
     "output_type": "stream",
     "text": [
      "I\n",
      " \n",
      "l\n",
      "o\n",
      "v\n",
      "e\n",
      " \n",
      "P\n",
      "y\n",
      "t\n",
      "h\n",
      "o\n",
      "n\n",
      " \n"
     ]
    }
   ],
   "source": [
    "string = \"I love Python \"\n",
    "for i in string:\n",
    "    print(i)"
   ]
  },
  {
   "cell_type": "markdown",
   "metadata": {
    "id": "hW5w1qTGWwQd"
   },
   "source": [
    "#### The range() function"
   ]
  },
  {
   "cell_type": "markdown",
   "metadata": {
    "id": "Yjf8GMD_WwQd"
   },
   "source": [
    "We can generate a sequence of numbers using <em>range()</em> function. <em>range(10)</em> will generate numbers from 0 to 9 (10 numbers). We can also define the start, stop and step size as range(start,stop,step size). step size defaults to 1 if not provided.\n",
    "<br><br>\n",
    "This function does not store all the values in memory, it would be inefficient. So it remembers the start, stop, step size and generates the next number on the go.<br>\n",
    "\n"
   ]
  },
  {
   "cell_type": "code",
   "execution_count": null,
   "metadata": {
    "id": "XOLjZY1KWwQd",
    "outputId": "f566f3df-22c7-4108-ca93-62cb854712eb"
   },
   "outputs": [
    {
     "data": {
      "text/plain": [
       "range(0, 10)"
      ]
     },
     "execution_count": 9,
     "metadata": {
      "tags": []
     },
     "output_type": "execute_result"
    }
   ],
   "source": [
    "range(0, 10)"
   ]
  },
  {
   "cell_type": "markdown",
   "metadata": {
    "id": "oEFq8qddWwQe"
   },
   "source": [
    "We can use the <em>range()</em> function in for loops to iterate through a sequence of numbers. It can be combined with the <em>len()</em> function to iterate though a sequence using indexing."
   ]
  },
  {
   "cell_type": "code",
   "execution_count": null,
   "metadata": {
    "id": "J38Qn6eVWwQe",
    "outputId": "5bbb124c-0e88-4367-f05c-881891bfc740",
    "scrolled": true
   },
   "outputs": [
    {
     "name": "stdout",
     "output_type": "stream",
     "text": [
      "0\n",
      "1\n",
      "2\n",
      "3\n",
      "4\n",
      "5\n",
      "6\n",
      "7\n",
      "8\n",
      "9\n"
     ]
    }
   ],
   "source": [
    "for i in range(10):\n",
    "    print(i)"
   ]
  },
  {
   "cell_type": "code",
   "execution_count": null,
   "metadata": {
    "id": "jFRZDbMVWwQf",
    "outputId": "2943a716-4534-4d24-d452-7e94ce2875ed"
   },
   "outputs": [
    {
     "name": "stdout",
     "output_type": "stream",
     "text": [
      "P\n",
      "y\n",
      "t\n",
      "h\n",
      "o\n",
      "n\n",
      " \n",
      "P\n",
      "r\n",
      "o\n",
      "g\n",
      "r\n",
      "a\n",
      "m\n",
      "m\n",
      "i\n",
      "n\n",
      "g\n"
     ]
    }
   ],
   "source": [
    "string = \"Python Programming\"\n",
    "\n",
    "# iterate over the string using index\n",
    "for i in range(len(string)):\n",
    "    print(string[i])"
   ]
  },
  {
   "cell_type": "markdown",
   "metadata": {
    "id": "mgffaWTOWwQh"
   },
   "source": [
    "<a id=\"pseudo\"> </a>\n",
    "## Pseudocode\n",
    "<table align=\"left\">\n",
    "    <tr>\n",
    "        <td width=\"15%\">\n",
    "            <img src=\"note.png\">\n",
    "        </td>\n",
    "        <td>\n",
    "            <div align=\"left\", style=\"font-size:120%\">\n",
    "                <font color=\"#21618C\">\n",
    "                    <b>\n",
    "                        <br>Before you write a piece of computer code, you have to know what the program is supposed to do. It is a good idea to write it in a simple way first to ensure you have included everything you need. The best way to set this up is by using pseudocode. <br>\n",
    "                    <br><br>Pseudocode is a simple way of writing programming code in English. It is not actual programming language. It uses short phrases to write code for programs before you actually create it in a specific language. Once you know what the program is about and how it will function, then you can use pseudocode to create statements to achieve the required results for your program.<br>\n",
    "                        \n",
    "                    </b>\n",
    "                </font>\n",
    "            </div>\n",
    "        </td>\n",
    "    </tr>\n",
    "</table>"
   ]
  },
  {
   "cell_type": "markdown",
   "metadata": {
    "id": "rH1PPKXmWwQh"
   },
   "source": [
    "**Pseudocode to create a program to add 2 numbers together and display the result.<br>**\n",
    "<em>\n",
    "<br>Read two numbers, A, B from user\n",
    "<br>Add the numbers in variable A and B\n",
    "<br>Print Sum<br>\n",
    "</em>"
   ]
  },
  {
   "cell_type": "markdown",
   "metadata": {
    "id": "2mch_wF3WwQi"
   },
   "source": [
    "Pseudocode can be written how you want. But some companies use specific pseudocode rules to keep everyone in the company on the same page."
   ]
  },
  {
   "cell_type": "markdown",
   "metadata": {
    "id": "acdtIzq9WwQi"
   },
   "source": [
    "**Pseudocode to create a program to check if a student has cleared the exam or not.<br>**\n",
    "<em>\n",
    "<br>Take students grade from the user\n",
    "<br>If student's grade is greater than or equal to 60, print \"pass\"\n",
    "<br>Otherwise print \"fail\"<br>\n",
    "</em>"
   ]
  },
  {
   "cell_type": "markdown",
   "metadata": {
    "id": "bWByFaT6WwQi"
   },
   "source": [
    "**Pseudocode to create a program to print the average marks of ten students**\n",
    "\n",
    "<em>\n",
    "<br>Set total to zero\n",
    "<br>Set grade counter to one\n",
    "<br>While grade counter is less than or equal to ten\n",
    "<br>&emsp;&emsp;Input the next grade\n",
    "<br>&emsp;&emsp;Add the grade into the total\n",
    "<br>Set the class average to the total divided by ten\n",
    "<br>Print the class average.\n",
    "\n",
    "\n",
    "</em>"
   ]
  },
  {
   "cell_type": "code",
   "execution_count": null,
   "metadata": {
    "collapsed": true,
    "id": "JCv174TQWwQi"
   },
   "outputs": [],
   "source": []
  },
  {
   "cell_type": "markdown",
   "metadata": {
    "collapsed": true,
    "id": "t7kVwDM2-69j"
   },
   "source": [
    "## Table of Content\n",
    "\n",
    "1. **[ Examples of Conditional Statement and Loops](#examples)**\n",
    "    - 1.1 - [if statement](#if_statement)\n",
    "    - 1.2 - [if else statement](#if_else)\n",
    "    - 1.3 - [nested conditions](#if_elif_else)\n",
    "    - 1.4 - [for loop and nested for loop](#for_and_nested)\n",
    "    - 1.5 - [while loop](#while_loop)\n",
    "2. **[ What are List Comprehensions](#List_Comprehensions)**\n",
    "    - 2.1 - [for loop](#for_loop_list)\n",
    "    - 2.2 - [nested for loop](#nested_for_loop_list)\n",
    "    - 2.3 - [if statement](#if_list)\n",
    "    - 2.4 - [nested condition](#nested_condition)"
   ]
  },
  {
   "cell_type": "markdown",
   "metadata": {
    "id": "QejyY0QY-69k"
   },
   "source": [
    "<a id=\"examples\"> </a>\n",
    "## 4. Examples of Conditional Statement and Loops"
   ]
  },
  {
   "cell_type": "markdown",
   "metadata": {
    "id": "TCBSJXWN-69k"
   },
   "source": [
    "<a id=\"if_statement\"> </a>\n",
    "## 4.1 if statement"
   ]
  },
  {
   "cell_type": "markdown",
   "metadata": {
    "id": "AR3Y6Ca9-69k"
   },
   "source": [
    "Now, we will see some examples on if statements"
   ]
  },
  {
   "cell_type": "markdown",
   "metadata": {
    "id": "cZNtwx-_-69k"
   },
   "source": [
    "**Check whether the number is smaller than 4738 or not**"
   ]
  },
  {
   "cell_type": "code",
   "execution_count": null,
   "metadata": {
    "id": "8YIQKtDb-69l",
    "outputId": "fff74863-a321-47ba-e009-6c49fc05a99e"
   },
   "outputs": [
    {
     "name": "stdout",
     "output_type": "stream",
     "text": [
      "number is smaller than 4738\n"
     ]
    }
   ],
   "source": [
    "Val = 3636\n",
    "if(Val<4738):\n",
    "    print(\"number is smaller than 4738\")"
   ]
  },
  {
   "cell_type": "markdown",
   "metadata": {
    "id": "CkX1oTjK-69m"
   },
   "source": [
    "In the above example, we declared a variable called ‘Val’ with the value as 3636 and in the if statement we are checking if the number is less than 4738 or not. If the condition is true then a set of statements inside the 'if' block will be executed"
   ]
  },
  {
   "cell_type": "markdown",
   "metadata": {
    "id": "ledcuyQc-69n"
   },
   "source": [
    "**Check whether the number is positive or not**"
   ]
  },
  {
   "cell_type": "code",
   "execution_count": null,
   "metadata": {
    "id": "oyOfaz8e-69n",
    "outputId": "58e5c3d1-570b-46cd-bb5c-cb811c55f27d"
   },
   "outputs": [
    {
     "name": "stdout",
     "output_type": "stream",
     "text": [
      "453 is a positive number\n"
     ]
    }
   ],
   "source": [
    "Val = 453\n",
    "if Val > 0:\n",
    "    print(Val, \"is a positive number\")"
   ]
  },
  {
   "cell_type": "markdown",
   "metadata": {
    "id": "lZ_DMWt9-69n"
   },
   "source": [
    "<a id=\"if_else\"> </a>\n",
    "## 4.2 if else statement"
   ]
  },
  {
   "cell_type": "markdown",
   "metadata": {
    "id": "7w0N2nN8-69n"
   },
   "source": [
    "Let’s see an example of the implementation of the if…else statement"
   ]
  },
  {
   "cell_type": "markdown",
   "metadata": {
    "id": "byoc2ljv-69n"
   },
   "source": [
    "**Check whether the given number is positive or not**"
   ]
  },
  {
   "cell_type": "code",
   "execution_count": null,
   "metadata": {
    "id": "sRguRW1G-69n",
    "outputId": "481595b4-c3c2-496e-b333-45398b1a9867"
   },
   "outputs": [
    {
     "name": "stdout",
     "output_type": "stream",
     "text": [
      "The number is negative\n"
     ]
    }
   ],
   "source": [
    "a = -5\n",
    "\n",
    "if a >= 0:\n",
    "    print(\"The number is positive or zero\")\n",
    "else:\n",
    "    print(\"The number is negative\")"
   ]
  },
  {
   "cell_type": "markdown",
   "metadata": {
    "id": "8yIwXUMK-69n"
   },
   "source": [
    "**Check whether the number is even or odd**"
   ]
  },
  {
   "cell_type": "code",
   "execution_count": null,
   "metadata": {
    "id": "7bmwD-Y_-69n",
    "outputId": "ff97392a-790d-4639-c594-fc9655e0b94d"
   },
   "outputs": [
    {
     "name": "stdout",
     "output_type": "stream",
     "text": [
      "The number is even\n"
     ]
    }
   ],
   "source": [
    "num = 22\n",
    "if num % 2 == 0:\n",
    "    print(\"The number is even\")\n",
    "else:\n",
    "    print(\"The number is odd\")"
   ]
  },
  {
   "cell_type": "markdown",
   "metadata": {
    "id": "WECMj4Qi-69o"
   },
   "source": [
    "<a id=\"if_elif_else\"> </a>\n",
    "## 4.3 nested conditions"
   ]
  },
  {
   "cell_type": "markdown",
   "metadata": {
    "id": "zrlxN1IF-69o"
   },
   "source": [
    "**Let’s take an example to check whether a number is odd and greater than 20**"
   ]
  },
  {
   "cell_type": "code",
   "execution_count": null,
   "metadata": {
    "id": "AWC7FANh-69o",
    "outputId": "01adb06b-bb13-45cd-d49e-ff5b06f6a031"
   },
   "outputs": [
    {
     "name": "stdout",
     "output_type": "stream",
     "text": [
      "This number is odd and is greater than 20\n"
     ]
    }
   ],
   "source": [
    "x = 45\n",
    "if x%2 != 0:\n",
    "    if x > 20:\n",
    "        print(\"This number is odd and is greater than 20\")\n",
    "    else:\n",
    "        print(\"This is number is odd but not greater than 20\")\n",
    "else:\n",
    "    print(\"The number is not even\")"
   ]
  },
  {
   "cell_type": "markdown",
   "metadata": {
    "id": "2IGV0amy-69o"
   },
   "source": [
    "**Create a simple calculator using if elif condition**"
   ]
  },
  {
   "cell_type": "code",
   "execution_count": null,
   "metadata": {
    "id": "uJgxntWU-69o",
    "outputId": "cef1205d-ecda-4f0f-f6c4-c640aa1bb102"
   },
   "outputs": [
    {
     "name": "stdout",
     "output_type": "stream",
     "text": [
      "Enter first number: 7\n",
      "Enter operator: +\n",
      "Enter second number: 2\n",
      "9.0\n"
     ]
    }
   ],
   "source": [
    "Value1 = float(input(\"Enter first number: \"))\n",
    "op = input(\"Enter operator: \")\n",
    "Value2 = float(input(\"Enter second number: \"))\n",
    "if op == '+':\n",
    "    print(Value1 + Value2)\n",
    "elif op == '-':\n",
    "    print(Value1 - Value2)\n",
    "elif op == '/':\n",
    "    print(Value1 / Value2)\n",
    "elif op == '*':\n",
    "    print(Value1 * Value2)\n",
    "else:\n",
    "    print(\"Invalid Operator\")"
   ]
  },
  {
   "cell_type": "markdown",
   "metadata": {
    "id": "QY9D2qcc-69o"
   },
   "source": [
    "**Example of nested if statement**"
   ]
  },
  {
   "cell_type": "code",
   "execution_count": null,
   "metadata": {
    "id": "T32l4amJ-69o",
    "outputId": "28946960-14d6-4f77-c63d-8436be9dd756"
   },
   "outputs": [
    {
     "name": "stdout",
     "output_type": "stream",
     "text": [
      " Enter your age here:  23\n",
      " You are eligible to work \n",
      " Please fill your details and apply\n"
     ]
    }
   ],
   "source": [
    "person_age = int(input(\" Enter your age here:  \"))\n",
    "if person_age < 18:\n",
    "    print(\" You are not eligible to work \")\n",
    "else:\n",
    "    if person_age >= 18 and person_age <= 60:\n",
    "        print(\" You are eligible to work \")\n",
    "        print(\" Please fill your details and apply\")\n",
    "    else:\n",
    "        print(\" You are too old to work as per the government rules\")\n",
    "        print(\" Please collect your pension!\")"
   ]
  },
  {
   "cell_type": "markdown",
   "metadata": {
    "id": "m54xiHXd-69o"
   },
   "source": [
    "In this program, you can enter your age and store it in the variable 'person_age'. If the age is less than 18, print the result for that condition. If the condition is not true, we check one more condition (Nested) and if it is true, we print result for that condition. If the nested condition fails, we print the other statement."
   ]
  },
  {
   "cell_type": "markdown",
   "metadata": {
    "id": "xIPD42XG-69o"
   },
   "source": [
    "**Program to display the grade of the student**"
   ]
  },
  {
   "cell_type": "code",
   "execution_count": null,
   "metadata": {
    "id": "UPFrPOQh-69o",
    "outputId": "5a121d34-ef80-401e-d305-c5f50e1b2da1"
   },
   "outputs": [
    {
     "name": "stdout",
     "output_type": "stream",
     "text": [
      " Enter Your Marks Here:  67\n",
      "D grade\n"
     ]
    }
   ],
   "source": [
    "Marks = int(input(\" Enter Your Marks Here:  \"))\n",
    "\n",
    "if Marks >= 90:\n",
    "    print(\"A grade\")\n",
    "\n",
    "elif Marks >=80:\n",
    "    print(\"B grade\")\n",
    "\n",
    "elif Marks >=70:\n",
    "    print(\"C grade\")\n",
    "\n",
    "elif Marks >= 65:\n",
    "    print(\"D grade\")\n",
    "\n",
    "else:\n",
    "    print(\"F grade\")"
   ]
  },
  {
   "cell_type": "markdown",
   "metadata": {
    "id": "z4V-8J9V-69o"
   },
   "source": [
    "Now, there are four possible outputs that can occur once we run the program:<br>\n",
    "1. If the marks is greater than 90, the program will print A grade, if the marks is less than 90, the program will continue to the next statement<br>\n",
    "2. If the marks is greater than or equal to 80, the program will print B grade, if the marks is 79 or less, the program will continue to the next statement<br>\n",
    "3. If the marks is greater than or equal to 70, the program will print C grade, if the marks is 69 or less, the program will continue to the next statement<br>\n",
    "4. If the marks is greater than or equal to 65, the program will print D grade, if the marks is 64 or less, the program will continue to the next statement<br>\n",
    "5. The program will print F grade because all of the above conditions were not met"
   ]
  },
  {
   "cell_type": "markdown",
   "metadata": {
    "collapsed": true,
    "id": "P5vGYo16-69o"
   },
   "source": [
    "**Enter the amount and calculate discount based on the amount and given discount rate**"
   ]
  },
  {
   "cell_type": "code",
   "execution_count": null,
   "metadata": {
    "id": "63NrQINt-69p",
    "outputId": "ae45ec46-c713-4268-e95e-6e2a5b696151"
   },
   "outputs": [
    {
     "name": "stdout",
     "output_type": "stream",
     "text": [
      "Enter Sale Amount: 5000\n",
      "Discount :  250.0\n",
      "Net Pay  :  4750.0\n"
     ]
    }
   ],
   "source": [
    "amt = int(input(\"Enter Sale Amount: \"))\n",
    "# checking conditions and calculating discount\n",
    "if(amt>0):\n",
    "    if amt<=5000:\n",
    "        disc = amt*0.05\n",
    "    elif amt<=15000:\n",
    "        disc=amt*0.12\n",
    "    elif amt<=25000:\n",
    "        disc=0.2 * amt\n",
    "    else:\n",
    "         disc=0.3 * amt\n",
    "    print(\"Discount : \",disc)\n",
    "    print(\"Net Pay  : \",amt-disc)\n",
    "else:\n",
    "    print(\"Invalid Amount\")\n"
   ]
  },
  {
   "cell_type": "markdown",
   "metadata": {
    "id": "9rxvKxCe-69p"
   },
   "source": [
    "**Find largest number among three numbers**"
   ]
  },
  {
   "cell_type": "code",
   "execution_count": null,
   "metadata": {
    "id": "Ck9-GaT2-69p",
    "outputId": "6ab409ed-5f89-4ded-8c95-5aa0beb58a96"
   },
   "outputs": [
    {
     "name": "stdout",
     "output_type": "stream",
     "text": [
      "Enter first number: 6\n",
      "Enter second number: 32\n",
      "Enter third number: 4\n",
      "The largest number is 32.0\n"
     ]
    }
   ],
   "source": [
    "num1 = float(input(\"Enter first number: \"))\n",
    "num2 = float(input(\"Enter second number: \"))\n",
    "num3 = float(input(\"Enter third number: \"))\n",
    "\n",
    "if (num1 > num2) and (num1 > num3):\n",
    "    largest = num1\n",
    "    print(\"The largest number is\",largest)\n",
    "elif (num2 > num1) and (num2 > num3):\n",
    "    largest = num2\n",
    "    print(\"The largest number is\",largest)\n",
    "else:\n",
    "    largest = num3\n",
    "    print(\"The largest number is\",largest)\n"
   ]
  },
  {
   "cell_type": "markdown",
   "metadata": {
    "id": "ogkyOBDp-69p"
   },
   "source": [
    "**Find the sum of natural numbers up to n**"
   ]
  },
  {
   "cell_type": "code",
   "execution_count": null,
   "metadata": {
    "id": "6nsHK5Jv-69p",
    "outputId": "ce00ac2a-e9d7-4f58-c493-8fd18bc6e2e7"
   },
   "outputs": [
    {
     "name": "stdout",
     "output_type": "stream",
     "text": [
      "The sum is 136\n"
     ]
    }
   ],
   "source": [
    "# sum of natural numbers\n",
    "num = 16\n",
    "\n",
    "if num < 0:\n",
    "    print(\"Enter a positive number\")\n",
    "else:\n",
    "    sum = 0\n",
    "    while(num > 0):\n",
    "        sum += num\n",
    "        num -= 1\n",
    "    print(\"The sum is\",sum)"
   ]
  },
  {
   "cell_type": "markdown",
   "metadata": {
    "id": "tWhSx69s-69p"
   },
   "source": [
    "# <a id=\"for_and_nested\"> </a>\n",
    "## 4.4 for loop and nested for loop"
   ]
  },
  {
   "cell_type": "markdown",
   "metadata": {
    "id": "oB5DueEG-69p"
   },
   "source": [
    "**Calculate the square of each element in the list**"
   ]
  },
  {
   "cell_type": "code",
   "execution_count": null,
   "metadata": {
    "id": "DyYscffH-69p",
    "outputId": "1619566d-01f5-4556-bac7-42b5cd161909"
   },
   "outputs": [
    {
     "name": "stdout",
     "output_type": "stream",
     "text": [
      "1\n",
      "9\n",
      "169\n",
      "8281\n",
      "10000\n",
      "40000\n"
     ]
    }
   ],
   "source": [
    "list_1 = [1,3,13,91,100,200]\n",
    "for i in list_1:\n",
    "    print(i*i)"
   ]
  },
  {
   "cell_type": "markdown",
   "metadata": {
    "id": "TB2HXfOq-69p"
   },
   "source": [
    "**Write a code to print table of given number**"
   ]
  },
  {
   "cell_type": "code",
   "execution_count": null,
   "metadata": {
    "id": "t-MJQ3F--69p",
    "outputId": "eb1aa630-fab2-485f-969d-b7c22640b598"
   },
   "outputs": [
    {
     "name": "stdout",
     "output_type": "stream",
     "text": [
      "6\n",
      "6 x 1 = 6\n",
      "6 x 2 = 12\n",
      "6 x 3 = 18\n",
      "6 x 4 = 24\n",
      "6 x 5 = 30\n",
      "6 x 6 = 36\n",
      "6 x 7 = 42\n",
      "6 x 8 = 48\n",
      "6 x 9 = 54\n",
      "6 x 10 = 60\n"
     ]
    }
   ],
   "source": [
    "n=int(input())\n",
    "for i in range(1,11):\n",
    "    print(n,\"x\",i,\"=\",n*i)"
   ]
  },
  {
   "cell_type": "markdown",
   "metadata": {
    "id": "8IuzSAS5-69q"
   },
   "source": [
    "**Let’ see now how to print full pyramid and asterisk(star) patterns in python**"
   ]
  },
  {
   "cell_type": "code",
   "execution_count": null,
   "metadata": {
    "id": "FS2XX_Gl-69q",
    "outputId": "98256571-0672-4b9f-f126-7a6dde74ca67"
   },
   "outputs": [
    {
     "name": "stdout",
     "output_type": "stream",
     "text": [
      "Print full triangle using stars\n",
      "        *   \n",
      "       *  *   \n",
      "      *  *  *   \n",
      "     *  *  *  *   \n",
      "    *  *  *  *  *   \n"
     ]
    }
   ],
   "source": [
    "print(\"Print full triangle using stars\")\n",
    "size = 5\n",
    "m = (2 * size) - 2\n",
    "for i in range(0, size):\n",
    "    for j in range(0, m):\n",
    "        print(end=\" \")\n",
    "    m = m - 1 # decrementing m after each loop\n",
    "    for j in range(0, i + 1):\n",
    "        # printing full Triangle pyramid using stars\n",
    "        print(\"* \", end=' ')\n",
    "    print(\" \")"
   ]
  },
  {
   "cell_type": "markdown",
   "metadata": {
    "id": "8uaguMHo-69q"
   },
   "source": [
    "**Form a lower tringular matrix in ' * ' pattern**"
   ]
  },
  {
   "cell_type": "code",
   "execution_count": null,
   "metadata": {
    "id": "qcpJU_wx-69q",
    "outputId": "73c750d8-247a-4273-8daa-09371d7f1c79"
   },
   "outputs": [
    {
     "name": "stdout",
     "output_type": "stream",
     "text": [
      "* \n",
      "* * \n",
      "* * * \n",
      "* * * * \n",
      "* * * * * \n"
     ]
    }
   ],
   "source": [
    "for i in range(0, 5):\n",
    "    for j in range(0, i+1):\n",
    "        print(\"* \",end=\"\")\n",
    "    print()"
   ]
  },
  {
   "cell_type": "markdown",
   "metadata": {
    "id": "kJwT4vCA-69q"
   },
   "source": [
    "**Write a program to print alphabetical pattern using ascii values**"
   ]
  },
  {
   "cell_type": "code",
   "execution_count": null,
   "metadata": {
    "id": "9XiN9Eq8-69r",
    "outputId": "5b9bd7a0-6b18-4a3b-cfd7-815d8e43a4e3"
   },
   "outputs": [
    {
     "name": "stdout",
     "output_type": "stream",
     "text": [
      "A\n",
      "AB\n",
      "ABC\n",
      "ABCD\n",
      "ABCDE\n"
     ]
    }
   ],
   "source": [
    "for i in range (65,70):\n",
    "    # inner loop\n",
    "    for j in range(65,i+1):\n",
    "        print(chr(j),end=\"\")\n",
    "    print()"
   ]
  },
  {
   "cell_type": "markdown",
   "metadata": {
    "id": "nt1WTDqy-69r"
   },
   "source": [
    "**Access each individual item of the sublists using nested for loop**"
   ]
  },
  {
   "cell_type": "code",
   "execution_count": null,
   "metadata": {
    "id": "n_nexW86-69r",
    "outputId": "6f51b54e-9c90-4992-9b80-ddb45af93f9f"
   },
   "outputs": [
    {
     "name": "stdout",
     "output_type": "stream",
     "text": [
      "Pune\n",
      "Mumbai\n",
      "Delhi\n",
      "23\n",
      "12\n",
      "32\n",
      "9.29\n",
      "8.28\n",
      "7.27\n"
     ]
    }
   ],
   "source": [
    "list_of_lists = [['Pune', 'Mumbai', 'Delhi'],[23, 12, 32],[9.29, 8.28, 7.27]]\n",
    "\n",
    "for list in list_of_lists:\n",
    "    for item in list:\n",
    "        print(item)"
   ]
  },
  {
   "cell_type": "markdown",
   "metadata": {
    "id": "BB5apaWK-69r"
   },
   "source": [
    "**Read a number n and print an identity matrix of the same order**"
   ]
  },
  {
   "cell_type": "code",
   "execution_count": null,
   "metadata": {
    "id": "-bCx4W43-69r",
    "outputId": "a37f622d-7bbd-462f-f1a5-86c1b32db1e8"
   },
   "outputs": [
    {
     "name": "stdout",
     "output_type": "stream",
     "text": [
      "Enter a number: 5\n",
      "1 0 0 0 0 \n",
      "0 1 0 0 0 \n",
      "0 0 1 0 0 \n",
      "0 0 0 1 0 \n",
      "0 0 0 0 1 \n"
     ]
    }
   ],
   "source": [
    "# identity matrix\n",
    "n=int(input(\"Enter a number: \"))\n",
    "for i in range(0,n):\n",
    "    for j in range(0,n):\n",
    "        if(i==j):\n",
    "            print(\"1\",sep=\" \",end=\" \")\n",
    "        else:\n",
    "            print(\"0\",sep=\" \",end=\" \")\n",
    "    print()"
   ]
  },
  {
   "cell_type": "markdown",
   "metadata": {
    "id": "5uEUuPN5-69r"
   },
   "source": [
    "**Access each individual letter from the given list of words**"
   ]
  },
  {
   "cell_type": "code",
   "execution_count": null,
   "metadata": {
    "id": "mrMqzA4Z-69r",
    "outputId": "49e98856-cac6-4a47-cc17-043efaf63230"
   },
   "outputs": [
    {
     "name": "stdout",
     "output_type": "stream",
     "text": [
      "The following lines will print each letters of Apple\n",
      "A\n",
      "p\n",
      "p\n",
      "l\n",
      "e\n",
      "\n",
      "The following lines will print each letters of Banana\n",
      "B\n",
      "a\n",
      "n\n",
      "a\n",
      "n\n",
      "a\n",
      "\n",
      "The following lines will print each letters of Car\n",
      "C\n",
      "a\n",
      "r\n",
      "\n",
      "The following lines will print each letters of Dolphin\n",
      "D\n",
      "o\n",
      "l\n",
      "p\n",
      "h\n",
      "i\n",
      "n\n",
      "\n"
     ]
    }
   ],
   "source": [
    "words= [\"Apple\", \"Banana\", \"Car\", \"Dolphin\" ]\n",
    "for word in words:\n",
    "        #access word from the list\n",
    "        print (\"The following lines will print each letters of \"+word)\n",
    "        for letter in word:\n",
    "                #access letter for the word\n",
    "                print (letter)\n",
    "        print(\"\")"
   ]
  },
  {
   "cell_type": "markdown",
   "metadata": {
    "id": "xV2iNrU3-69r"
   },
   "source": [
    "**Print a number pattern using a for loop and range function**"
   ]
  },
  {
   "cell_type": "code",
   "execution_count": null,
   "metadata": {
    "id": "pSMWkO6h-69s",
    "outputId": "27089a6c-6198-46b2-b96b-7b420e1976c1"
   },
   "outputs": [
    {
     "name": "stdout",
     "output_type": "stream",
     "text": [
      "\n",
      "\n",
      "1 \n",
      "\n",
      "2 2 \n",
      "\n",
      "3 3 3 \n",
      "\n",
      "4 4 4 4 \n",
      "\n",
      "5 5 5 5 5 \n",
      "\n",
      "6 6 6 6 6 6 \n",
      "\n",
      "7 7 7 7 7 7 7 \n",
      "\n",
      "8 8 8 8 8 8 8 8 \n",
      "\n",
      "9 9 9 9 9 9 9 9 9 \n",
      "\n",
      "10 10 10 10 10 10 10 10 10 10 \n",
      "\n",
      "11 11 11 11 11 11 11 11 11 11 11 \n",
      "\n",
      "12 12 12 12 12 12 12 12 12 12 12 12 \n",
      "\n",
      "13 13 13 13 13 13 13 13 13 13 13 13 13 \n",
      "\n",
      "14 14 14 14 14 14 14 14 14 14 14 14 14 14 \n",
      "\n"
     ]
    }
   ],
   "source": [
    "# 15 is the total number to print\n",
    "for num in range(15):\n",
    "    for i in range(num):\n",
    "        print (num, end=\" \") #print number\n",
    "    # new line after each row to display pattern correctly\n",
    "    print(\"\\n\")"
   ]
  },
  {
   "cell_type": "markdown",
   "metadata": {
    "id": "CMVtgU4J-69s"
   },
   "source": [
    "**Find the first 3-digit number that’s divisible by 12**"
   ]
  },
  {
   "cell_type": "code",
   "execution_count": null,
   "metadata": {
    "id": "LYLDY3Wl-69s",
    "outputId": "a8a34693-1ae1-4618-b3fd-b7800b703ddb"
   },
   "outputs": [
    {
     "name": "stdout",
     "output_type": "stream",
     "text": [
      "108\n"
     ]
    }
   ],
   "source": [
    "for i in range(0, 1000, 12):\n",
    "    if len(str(i)) == 3:\n",
    "        print(i)\n",
    "        break"
   ]
  },
  {
   "cell_type": "markdown",
   "metadata": {
    "id": "eI4L2bju-69s"
   },
   "source": [
    "**Write a programm to display even numbers using continue statement**"
   ]
  },
  {
   "cell_type": "code",
   "execution_count": null,
   "metadata": {
    "id": "SvjVtVTw-69s",
    "outputId": "30c68766-622d-4e3a-819c-9f1577a6d16e"
   },
   "outputs": [
    {
     "name": "stdout",
     "output_type": "stream",
     "text": [
      "211\n",
      "829\n"
     ]
    }
   ],
   "source": [
    "for num in [230, 211, 932, 626, 234, 829, 424]:\n",
    "    # Skipping the iteration when number is even\n",
    "    if num%2 == 0:\n",
    "        continue\n",
    "    # This statement will be skipped for all even numbers\n",
    "    print(num)"
   ]
  },
  {
   "cell_type": "markdown",
   "metadata": {
    "id": "gUUcMCEL-69s"
   },
   "source": [
    "<a id=\"while_loop\"> </a>\n",
    "## 4.5 while loop"
   ]
  },
  {
   "cell_type": "code",
   "execution_count": null,
   "metadata": {
    "id": "jIlFWBUS-69s",
    "outputId": "6f3e2a02-381b-44fd-9e1a-c792ae6e25f7"
   },
   "outputs": [
    {
     "name": "stdout",
     "output_type": "stream",
     "text": [
      "6\n",
      "5\n",
      "4\n",
      "3\n"
     ]
    }
   ],
   "source": [
    "# while loop with if else\n",
    "a = 7\n",
    "while a > 0:\n",
    "    a = a - 1\n",
    "    if a == 2:\n",
    "        break\n",
    "    print(a)\n",
    "else:\n",
    "    print(\"Loop is finished\")"
   ]
  },
  {
   "cell_type": "code",
   "execution_count": null,
   "metadata": {
    "id": "f2pPiDAc-69s",
    "outputId": "a2bf1be4-8f9e-49fd-ff5d-0e4ae6da1b73"
   },
   "outputs": [
    {
     "name": "stdout",
     "output_type": "stream",
     "text": [
      "1\n",
      "2\n",
      "3\n"
     ]
    }
   ],
   "source": [
    "# break in while\n",
    "i = 1\n",
    "while i < 6:\n",
    "  print(i)\n",
    "  if i == 3:\n",
    "    break\n",
    "  i += 1"
   ]
  },
  {
   "cell_type": "code",
   "execution_count": null,
   "metadata": {
    "id": "-U2vGIlo-69s",
    "outputId": "a9fb412c-890e-4979-ac49-2e066713ad4a"
   },
   "outputs": [
    {
     "name": "stdout",
     "output_type": "stream",
     "text": [
      "Please enter 'hello':python\n",
      "Please enter 'hello':hello python\n",
      "Please enter 'hello':hello\n"
     ]
    }
   ],
   "source": [
    "# break in while loop\n",
    "while True:\n",
    "    n = input(\"Please enter 'hello':\")\n",
    "    if n.strip() == 'hello':\n",
    "        break"
   ]
  },
  {
   "cell_type": "code",
   "execution_count": null,
   "metadata": {
    "id": "AS7LJxvB-69s",
    "outputId": "0748694b-b388-46fd-e318-f8fc55658d23"
   },
   "outputs": [
    {
     "name": "stdout",
     "output_type": "stream",
     "text": [
      "Sum of first  4 integers is:  6\n"
     ]
    }
   ],
   "source": [
    "# break in while loop\n",
    "num_sum = 0\n",
    "count = 0\n",
    "while(count<10):\n",
    "    num_sum = num_sum + count\n",
    "    count = count + 1\n",
    "    if count== 4:\n",
    "        break\n",
    "print(\"Sum of first \",count,\"integers is: \", num_sum)"
   ]
  },
  {
   "cell_type": "code",
   "execution_count": null,
   "metadata": {
    "id": "w-luEQdL-69t",
    "outputId": "69f19208-8fee-4a3d-d32d-f37edcd5eeb9"
   },
   "outputs": [
    {
     "name": "stdout",
     "output_type": "stream",
     "text": [
      "1\n",
      "2\n",
      "3\n",
      "5\n",
      "6\n",
      "7\n"
     ]
    }
   ],
   "source": [
    "# continue in while loop\n",
    "i = 0\n",
    "while i < 7:\n",
    "  i += 1\n",
    "  if i == 4:\n",
    "    continue\n",
    "  print(i)"
   ]
  },
  {
   "cell_type": "code",
   "execution_count": null,
   "metadata": {
    "id": "i3BW83VD-69t",
    "outputId": "bdd8fc9f-b0bd-40b2-ca16-a52edf8986a0"
   },
   "outputs": [
    {
     "name": "stdout",
     "output_type": "stream",
     "text": [
      "0\n",
      "1\n",
      "2\n",
      "4\n",
      "5\n"
     ]
    }
   ],
   "source": [
    "# continue in while loop\n",
    "for x in range(7):\n",
    "    if (x == 3 or x==6):\n",
    "        continue\n",
    "    print(x)"
   ]
  },
  {
   "cell_type": "markdown",
   "metadata": {
    "id": "N6bHHUen-69t"
   },
   "source": [
    "<a id=\"List_Comprehensions\"> </a>\n",
    "## 5. What are List Comprehensions?"
   ]
  },
  {
   "cell_type": "markdown",
   "metadata": {
    "id": "COWS0Kje-69t"
   },
   "source": [
    "<table align=\"left\">\n",
    "    <tr>\n",
    "        <td width=\"15%\">\n",
    "            <img src=\"note.png\">\n",
    "        </td>\n",
    "        <td>\n",
    "            <div align=\"left\", style=\"font-size:120%\">\n",
    "                <font color=\"#21618C\">\n",
    "                    <b>List comprehensions provide us with a simple way to create a list based on some iterable. During the creation, elements from the iterable can be conditionally included in the new list and transformed as needed.<br>\n",
    "                        <br>Components of list comprehensions:<br>\n",
    "                        . Output expression<br>\n",
    "                        . Iterable<br>\n",
    "                        . Iterator variable which represents the members of the iterable\n",
    "                        \n",
    "                        <img src=\"list.png\", height=\"400\", width=\"400\">\n",
    "                    </b>\n",
    "                </font>\n",
    "            </div>\n",
    "        </td>\n",
    "    </tr>\n",
    "</table>"
   ]
  },
  {
   "cell_type": "markdown",
   "metadata": {
    "id": "2ag6gZCo-69t"
   },
   "source": [
    "**In python, list comprehensions are constructed as follows:**<br>\n",
    "    \n",
    "    list = [x for x in iterable]"
   ]
  },
  {
   "cell_type": "markdown",
   "metadata": {
    "id": "fCTmprkl-69t"
   },
   "source": [
    "<a id=\"List_Comprehensions_loops\"> </a>\n",
    "## List Comprehensions vs loops"
   ]
  },
  {
   "cell_type": "markdown",
   "metadata": {
    "id": "JnHF7aIG-69t"
   },
   "source": [
    "<a id=\"for_loop_list\"> </a>\n",
    "### 5.1. for loop"
   ]
  },
  {
   "cell_type": "markdown",
   "metadata": {
    "id": "KVH_4Imq-69t"
   },
   "source": [
    "Let’s look at an example that creates a list based on a string:<br>\n",
    "Suppose, you want to separate the letters of the word 'Great Lakes' and add the letters as items of a list. The first thing that comes in mind would be using for loop<br>"
   ]
  },
  {
   "cell_type": "code",
   "execution_count": null,
   "metadata": {
    "id": "IRoylb4Z-69t",
    "outputId": "5e468e37-0e37-4022-e6ff-b93c2fdd7551"
   },
   "outputs": [
    {
     "data": {
      "text/plain": [
       "['G', 'r', 'e', 'a', 't', ' ', 'L', 'a', 'k', 'e', 's']"
      ]
     },
     "execution_count": 29,
     "metadata": {},
     "output_type": "execute_result"
    }
   ],
   "source": [
    "# Using loop for constructing output list\n",
    "list_1=[]\n",
    "for i in 'Great Lakes':\n",
    "    list_1.append(i)\n",
    "list_1"
   ]
  },
  {
   "cell_type": "markdown",
   "metadata": {
    "id": "v_aLuGgf-69t"
   },
   "source": [
    "Here, square brackets signifies that the output is a list. list_1.append(i) is the function executed for each element and for i in 'Great Lakes' is used to iterate over each element. But with a python list comprehension, we can do this in one line"
   ]
  },
  {
   "cell_type": "markdown",
   "metadata": {
    "id": "a-I5a8er-69u"
   },
   "source": [
    "<table align=\"left\">\n",
    "    <tr>\n",
    "        <td width=\"7%\">\n",
    "            <img src=\"caution.png\">\n",
    "        </td>\n",
    "        <td>\n",
    "            <div align=\"left\", style=\"font-size:120%\">\n",
    "                <font color=\"#21618C\">\n",
    "                    <b>Remember that a python string is iterable. We can not iterate dictionary like this. Iterating through a dictionary gives us 'dict' object has no attribute 'append'\n",
    "                    </b>\n",
    "                </font>\n",
    "            </div>\n",
    "        </td>\n",
    "    </tr>\n",
    "</table>"
   ]
  },
  {
   "cell_type": "code",
   "execution_count": null,
   "metadata": {
    "id": "LtOcQHFQ-69u",
    "outputId": "0742484f-d700-4c50-808e-2dcee35c1a44",
    "scrolled": true
   },
   "outputs": [
    {
     "ename": "AttributeError",
     "evalue": "'dict' object has no attribute 'append'",
     "output_type": "error",
     "traceback": [
      "\u001b[1;31m---------------------------------------------------------------------------\u001b[0m",
      "\u001b[1;31mAttributeError\u001b[0m                            Traceback (most recent call last)",
      "\u001b[1;32m<ipython-input-30-b59cbb569058>\u001b[0m in \u001b[0;36m<module>\u001b[1;34m()\u001b[0m\n\u001b[0;32m      2\u001b[0m \u001b[0mdict_1\u001b[0m\u001b[1;33m=\u001b[0m\u001b[1;33m{\u001b[0m\u001b[1;33m}\u001b[0m\u001b[1;33m\u001b[0m\u001b[1;33m\u001b[0m\u001b[0m\n\u001b[0;32m      3\u001b[0m \u001b[1;32mfor\u001b[0m \u001b[0mi\u001b[0m \u001b[1;32min\u001b[0m \u001b[1;34m'Great Lakes'\u001b[0m\u001b[1;33m:\u001b[0m\u001b[1;33m\u001b[0m\u001b[1;33m\u001b[0m\u001b[0m\n\u001b[1;32m----> 4\u001b[1;33m     \u001b[0mdict_1\u001b[0m\u001b[1;33m.\u001b[0m\u001b[0mappend\u001b[0m\u001b[1;33m(\u001b[0m\u001b[0mi\u001b[0m\u001b[1;33m)\u001b[0m\u001b[1;33m\u001b[0m\u001b[1;33m\u001b[0m\u001b[0m\n\u001b[0m\u001b[0;32m      5\u001b[0m \u001b[0mdict_1\u001b[0m\u001b[1;33m\u001b[0m\u001b[1;33m\u001b[0m\u001b[0m\n",
      "\u001b[1;31mAttributeError\u001b[0m: 'dict' object has no attribute 'append'"
     ]
    }
   ],
   "source": [
    "# Using loop for constructing output dictionary\n",
    "dict_1={}\n",
    "for i in 'Great Lakes':\n",
    "    dict_1.append(i)\n",
    "dict_1"
   ]
  },
  {
   "cell_type": "code",
   "execution_count": null,
   "metadata": {
    "id": "Pjs3aMjc-69u",
    "outputId": "d0aa91f5-d2db-491a-ae4a-24cc88ff34ec"
   },
   "outputs": [
    {
     "name": "stdout",
     "output_type": "stream",
     "text": [
      "['G', 'r', 'e', 'a', 't', ' ', 'L', 'a', 'k', 'e', 's']\n"
     ]
    }
   ],
   "source": [
    "# using list comprehensions\n",
    "new_list = [i for i in 'Great Lakes']\n",
    "print(new_list)"
   ]
  },
  {
   "cell_type": "markdown",
   "metadata": {
    "id": "gaTnlbAn-69u"
   },
   "source": [
    "In the above example, a new list is assigned to variable 'new_list', and list contains the items of the iterable string 'Great Lakes'. We call print() function to print the output"
   ]
  },
  {
   "cell_type": "markdown",
   "metadata": {
    "id": "3Ssb8S9u-69u"
   },
   "source": [
    "**Find the squares of each element using list comprehension**"
   ]
  },
  {
   "cell_type": "code",
   "execution_count": null,
   "metadata": {
    "id": "nQ4ZwtUl-69u",
    "outputId": "f972a2bf-2fa8-41c0-acbd-34cb7983cb3c"
   },
   "outputs": [
    {
     "name": "stdout",
     "output_type": "stream",
     "text": [
      "[169, 1024, 1089, 576]\n"
     ]
    }
   ],
   "source": [
    "num = [13, 32, 33, 24]\n",
    "num_squares = [n**2 for n in num]\n",
    "\n",
    "print(num_squares)"
   ]
  },
  {
   "cell_type": "markdown",
   "metadata": {
    "collapsed": true,
    "id": "-9YNyY8g-69u"
   },
   "source": [
    "In the above example, square brackets signifies that the output is a list. n**2 is the expression executed for each element and for n in numbers is used to iterate over each element"
   ]
  },
  {
   "cell_type": "markdown",
   "metadata": {
    "id": "e2x9Guim-69v"
   },
   "source": [
    "**We can use list comprehension to iterate over list of strings. Convert all the words in the given list to the upper case**    "
   ]
  },
  {
   "cell_type": "code",
   "execution_count": null,
   "metadata": {
    "id": "acurq5tr-69v",
    "outputId": "a4cb3203-c277-4330-d9a3-d2209d693091"
   },
   "outputs": [
    {
     "name": "stdout",
     "output_type": "stream",
     "text": [
      "['YES', \"IT'S\", 'A', 'BEAUTIFUL', 'DAY']\n"
     ]
    }
   ],
   "source": [
    "list_1 = [\"yes\", \"it's\", \"a\", \"Beautiful\", \"Day\"]\n",
    "\n",
    "upper_list_1 = [str.upper() for str in list_1]\n",
    "\n",
    "print(upper_list_1)"
   ]
  },
  {
   "cell_type": "markdown",
   "metadata": {
    "id": "iS7jC2ic-69v"
   },
   "source": [
    "**List comprehensions can be used to produce a list of a list, as shown below:**"
   ]
  },
  {
   "cell_type": "code",
   "execution_count": null,
   "metadata": {
    "id": "QsUgn7NW-69v",
    "outputId": "27c26eec-ff13-426a-a3e8-17319a950d42"
   },
   "outputs": [
    {
     "name": "stdout",
     "output_type": "stream",
     "text": [
      "[[1, 1], [4, 8], [9, 27], [16, 64]]\n"
     ]
    }
   ],
   "source": [
    "list_1 = [1, 2, 3, 4]\n",
    "\n",
    "square_cube_num = [ [a**2, a**3] for a in list_1]\n",
    "\n",
    "print(square_cube_num)"
   ]
  },
  {
   "cell_type": "markdown",
   "metadata": {
    "id": "-lKMfXqr-69v"
   },
   "source": [
    "Here we use list_1 to create square_cube_num, which is a list of list containing squares and cubes of the numbers from list_1"
   ]
  },
  {
   "cell_type": "markdown",
   "metadata": {
    "id": "dncN9mS_-69v"
   },
   "source": [
    "<a id=\"nested_for_loop_list\"> </a>\n",
    "### 5.2 nested for loop"
   ]
  },
  {
   "cell_type": "markdown",
   "metadata": {
    "id": "0aucyLte-69v"
   },
   "source": [
    "** Print the tables of numbers from 13 to 17**"
   ]
  },
  {
   "cell_type": "code",
   "execution_count": null,
   "metadata": {
    "id": "seGIqqBZ-69v",
    "outputId": "11836545-8702-4046-f775-6fb2bdcb66b2"
   },
   "outputs": [
    {
     "data": {
      "text/plain": [
       "[[13, 26, 39, 52, 65, 78, 91, 104, 117, 130],\n",
       " [14, 28, 42, 56, 70, 84, 98, 112, 126, 140],\n",
       " [15, 30, 45, 60, 75, 90, 105, 120, 135, 150],\n",
       " [16, 32, 48, 64, 80, 96, 112, 128, 144, 160],\n",
       " [17, 34, 51, 68, 85, 102, 119, 136, 153, 170]]"
      ]
     },
     "execution_count": 35,
     "metadata": {},
     "output_type": "execute_result"
    }
   ],
   "source": [
    "[[i*j for j in range(1,11)] for i in range(13,18)]"
   ]
  },
  {
   "cell_type": "markdown",
   "metadata": {
    "id": "HMMMWwJs-69v"
   },
   "source": [
    "**Create a list of tuples with a and b such that a is less than b**"
   ]
  },
  {
   "cell_type": "code",
   "execution_count": null,
   "metadata": {
    "id": "TNA3i2Qz-69w",
    "outputId": "cc2f551e-fd1e-43e3-a8b4-a651163acd95"
   },
   "outputs": [
    {
     "name": "stdout",
     "output_type": "stream",
     "text": [
      "[(13, 25), (13, 37), (13, 35), (27, 37), (27, 35)]\n"
     ]
    }
   ],
   "source": [
    "list_1 = [13, 72, 27, 83, 89, 54]\n",
    "list_2 = [25, 37, 35]\n",
    "\n",
    "new_list = [(a, b) for a in list_1 for b in list_2 if a < b]\n",
    "\n",
    "print(new_list)"
   ]
  },
  {
   "cell_type": "markdown",
   "metadata": {
    "id": "O3-GwI7k-69w"
   },
   "source": [
    "### Conditional list comprehension\n",
    "List comprehensions can utilize conditional statements to modify existing lists or other sequential data types when creating new lists.<br>\n",
    "Conditional list comprehension adds only those items to the list that meet the condition (for which the condition is True)."
   ]
  },
  {
   "cell_type": "markdown",
   "metadata": {
    "id": "tqCgtm8j-69w"
   },
   "source": [
    "**if statement**                        <img src=\"condition.png\", height=\"550\", width=\"550\">"
   ]
  },
  {
   "cell_type": "markdown",
   "metadata": {
    "id": "DDcQaL1Z-69w"
   },
   "source": [
    "**if-else statement**                        <img src=\"ifelse.png\", height=\"550\", width=\"550\">"
   ]
  },
  {
   "cell_type": "markdown",
   "metadata": {
    "id": "bY6PAvjv-69w"
   },
   "source": [
    "<a id=\"if_list\"> </a>\n",
    "### 5.3 if satement"
   ]
  },
  {
   "cell_type": "markdown",
   "metadata": {
    "id": "oayHBZS1-69w"
   },
   "source": [
    "We create an example that uses mathematical operators, integers, and the range() sequence type. Take the values from 0 to 10, and add the even values to a list"
   ]
  },
  {
   "cell_type": "code",
   "execution_count": null,
   "metadata": {
    "id": "Zd0Wf49k-69w",
    "outputId": "5c4b2801-2c44-4d36-923e-d9679cb04565"
   },
   "outputs": [
    {
     "name": "stdout",
     "output_type": "stream",
     "text": [
      "[0, 2, 4, 6, 8, 10]\n"
     ]
    }
   ],
   "source": [
    "num_list = [i for i in range(11) if i%2==0]\n",
    "print(num_list)"
   ]
  },
  {
   "cell_type": "markdown",
   "metadata": {
    "id": "rK0KH90h-69w"
   },
   "source": [
    "**Square the number if its even, else, cube it**"
   ]
  },
  {
   "cell_type": "code",
   "execution_count": null,
   "metadata": {
    "id": "9XqGNYA_-69w",
    "outputId": "e3381135-fe95-4b0b-ef3c-d6e9044ead1b"
   },
   "outputs": [
    {
     "data": {
      "text/plain": [
       "[4, 27, 16, 125]"
      ]
     },
     "execution_count": 38,
     "metadata": {},
     "output_type": "execute_result"
    }
   ],
   "source": [
    "[i**2 if i%2==0 else i**3 for i in [2,3,4,5]]"
   ]
  },
  {
   "cell_type": "markdown",
   "metadata": {
    "id": "-upT7Gxn-69w"
   },
   "source": [
    "<a id=\"nested_condition\"> </a>\n",
    "### 5.4 nested condition\n",
    "Nested conditions comprise condition statements contained within the definition of other condition statements"
   ]
  },
  {
   "cell_type": "markdown",
   "metadata": {
    "id": "Z7pv4yiD-69w"
   },
   "source": [
    "**Find all the numbers from a given list divisible by 2 and 3**"
   ]
  },
  {
   "cell_type": "code",
   "execution_count": null,
   "metadata": {
    "id": "XQ2DypeL-69w",
    "outputId": "3328c231-1a73-4f98-f624-cdbed00ee9ed"
   },
   "outputs": [
    {
     "name": "stdout",
     "output_type": "stream",
     "text": [
      "[6, 18]\n"
     ]
    }
   ],
   "source": [
    "numbers = [1, 2, 3, 4, 5, 6, 18, 20]\n",
    "number_list = [number for number in numbers if number % 2 == 0 if number % 3 == 0]\n",
    "print(number_list)"
   ]
  },
  {
   "cell_type": "markdown",
   "metadata": {
    "id": "1-CnSUgs-69x"
   },
   "source": [
    "Here, list comprehension checks the number is divisible by 2 and 3. If number satisfies both conditions, number is appended to number_list."
   ]
  },
  {
   "cell_type": "markdown",
   "metadata": {
    "id": "xD9QPYSr-69x"
   },
   "source": [
    "**Return whether the number is even or odd, for each integer from 0 to 20**"
   ]
  },
  {
   "cell_type": "code",
   "execution_count": null,
   "metadata": {
    "id": "bE3n4zLo-69x",
    "outputId": "4176acc0-d815-43de-8308-df6996093456"
   },
   "outputs": [
    {
     "data": {
      "text/plain": [
       "['Even',\n",
       " 'Odd',\n",
       " 'Even',\n",
       " 'Odd',\n",
       " 'Even',\n",
       " 'Odd',\n",
       " 'Even',\n",
       " 'Odd',\n",
       " 'Even',\n",
       " 'Odd',\n",
       " 'Even',\n",
       " 'Odd',\n",
       " 'Even',\n",
       " 'Odd',\n",
       " 'Even',\n",
       " 'Odd',\n",
       " 'Even',\n",
       " 'Odd',\n",
       " 'Even',\n",
       " 'Odd',\n",
       " 'Even']"
      ]
     },
     "execution_count": 40,
     "metadata": {},
     "output_type": "execute_result"
    }
   ],
   "source": [
    "[\"Even\" if i%2==0 else \"Odd\" for i in range(21)]"
   ]
  },
  {
   "cell_type": "markdown",
   "metadata": {
    "id": "2K6Lz2qw-69x"
   },
   "source": [
    "**Find common numbers from two list using list comprehension**"
   ]
  },
  {
   "cell_type": "code",
   "execution_count": null,
   "metadata": {
    "id": "MiYlrDWi-69x",
    "outputId": "b412e2c7-2784-4c5f-ab7d-43050b6edc11"
   },
   "outputs": [
    {
     "name": "stdout",
     "output_type": "stream",
     "text": [
      "[102, 233, 456, 564]\n"
     ]
    }
   ],
   "source": [
    "list_1 = [102, 232, 233, 344, 456, 564, 234]\n",
    "list_2 = [102, 233, 324, 564, 567, 523, 456]\n",
    "\n",
    "common_num = [a for a in list_1 for b in list_2 if a == b]\n",
    "\n",
    "print(common_num)"
   ]
  },
  {
   "cell_type": "markdown",
   "metadata": {
    "id": "IHfnzpiuAFfd"
   },
   "source": [
    "## Table of Content\n",
    "\n",
    "1. **[Built-in Functions](#builtin)**\n",
    "\n",
    "2. **[User Defined Functions](#user)**\n",
    "    - 2.1 - **[User defined functions without arguments](#without_arg)**\n",
    "    - 2.2 - **[User defined functions with arguments](#with_arg)**\n",
    "    - 2.3 - **[Recursive Functions](#Recursive_Functions)**\n",
    "\n",
    "3. **[Scope of  Variables](#scope)**\n",
    "\n",
    "4. **[Lambda Functions](#lambda)**\n",
    "\n",
    "5. **[Overview of map, reduce and filter functions](#overview)**\n",
    "    - 5.1 - [Function map()](#map)\n",
    "    - 5.2 - [Function filter()](#filter)\n",
    "    - 5.3 - [Function reduce()](#reduce)\n",
    "    - 5.4 - [Function accumulate() ](#accumulate)\n",
    "\n",
    "\n"
   ]
  },
  {
   "cell_type": "markdown",
   "metadata": {
    "id": "2Xs6Be71AFfe"
   },
   "source": [
    "<a id=\"builtin\"> </a>\n",
    "## 1. Built-in Functions"
   ]
  },
  {
   "cell_type": "markdown",
   "metadata": {
    "id": "mFAVIoljAFfe"
   },
   "source": [
    "<table align=\"left\">\n",
    "    <tr>\n",
    "        <td width=\"15%\">\n",
    "            <img src=\"note.png\">\n",
    "        </td>\n",
    "        <td>\n",
    "            <div align=\"left\", style=\"font-size:120%\">\n",
    "                <font color=\"#21618C\">\n",
    "                    <b>The Python interpreter has functions instantly available for use, called <i>built-in functions</i>. For example, the print() function prints the given object. <br><br> In Python 3.6 there are 69 built-in function.<br>\n",
    "                    </b>\n",
    "                </font>\n",
    "            </div>\n",
    "        </td>\n",
    "    </tr>\n",
    "</table>"
   ]
  },
  {
   "cell_type": "markdown",
   "metadata": {
    "id": "ZW8fSv8gAFff"
   },
   "source": [
    "Some exapmles are:\n",
    "\n",
    "<table border=\"2\">\n",
    "<tr>\n",
    "<th> Function </th>\n",
    "<th> Description </th>\n",
    "</tr>\n",
    "<tr>\n",
    "<th> abs()</th>\n",
    "<th> It gives the absolute of a numeric value </th>\n",
    "<tr>\n",
    "<tr>\n",
    "<th> sum()</th>\n",
    "<th> It gives the sum of a numeric values values </th>\n",
    "<tr>\n",
    "<tr>\n",
    "<th> len()</th>\n",
    "<th> It gives the sum of a numeric values values </th>\n",
    "<tr>   \n",
    "<tr>\n",
    "<th> apply()</th>\n",
    "<th> applied both to series and dataframes where function can be applied both series and individual elements based on the type of function provide </th>\n",
    "<tr>\n",
    "<tr>\n",
    "<th> map()</th>\n",
    "<th> only works on a pandas series where type of operation to be applied depends on argument passed as a function, dictionary or a list </th>\n",
    "<tr>         \n",
    "</table>    \n"
   ]
  },
  {
   "cell_type": "markdown",
   "metadata": {
    "id": "7BBLWrEPAFff"
   },
   "source": [
    "As we progress with the course, we shall come across a few more built-in functions."
   ]
  },
  {
   "cell_type": "markdown",
   "metadata": {
    "id": "tW5kZj7tAFff"
   },
   "source": [
    "Get the absolute value of a number."
   ]
  },
  {
   "cell_type": "code",
   "execution_count": null,
   "metadata": {
    "id": "IFr6buBjAFff",
    "outputId": "eaec6c8b-e28a-403d-dc57-70d1f3df4d1c"
   },
   "outputs": [
    {
     "data": {
      "text/plain": [
       "99.34"
      ]
     },
     "execution_count": 1,
     "metadata": {},
     "output_type": "execute_result"
    }
   ],
   "source": [
    "# get the absolute value of -99.34\n",
    "abs(-99.34)"
   ]
  },
  {
   "cell_type": "markdown",
   "metadata": {
    "id": "NaqS8S7VAFfg"
   },
   "source": [
    "A list consists of elements 44, 45, -56, 44, 32,-54, 44, 56, 44, 87, 44, 56. <br>\n",
    "We can obtain the number of elements in list and sum of all these elements."
   ]
  },
  {
   "cell_type": "code",
   "execution_count": null,
   "metadata": {
    "collapsed": true,
    "id": "P-y8OrKMAFfg"
   },
   "outputs": [],
   "source": [
    "x = [44, 45, -56, 44, 32,-54, 44, 56, 44, 87, 44, 56]"
   ]
  },
  {
   "cell_type": "code",
   "execution_count": null,
   "metadata": {
    "id": "-7fbq7hcAFfh",
    "outputId": "1e78b156-16e9-4f09-ad6c-ae8ac62ae415"
   },
   "outputs": [
    {
     "data": {
      "text/plain": [
       "12"
      ]
     },
     "execution_count": 3,
     "metadata": {},
     "output_type": "execute_result"
    }
   ],
   "source": [
    "# len() is used to check length\n",
    "len(x)"
   ]
  },
  {
   "cell_type": "code",
   "execution_count": null,
   "metadata": {
    "id": "NfYNuSpGAFfh",
    "outputId": "f542ecf4-9c9f-4aff-c2ea-a8386cba97aa"
   },
   "outputs": [
    {
     "data": {
      "text/plain": [
       "386"
      ]
     },
     "execution_count": 4,
     "metadata": {},
     "output_type": "execute_result"
    }
   ],
   "source": [
    "# sum() is used to obtain sum of all the elements in list\n",
    "sum(x)"
   ]
  },
  {
   "cell_type": "code",
   "execution_count": null,
   "metadata": {
    "collapsed": true,
    "id": "eUm6D9VIAFfh"
   },
   "outputs": [],
   "source": [
    "# create a string\n",
    "string = \"Data Science\""
   ]
  },
  {
   "cell_type": "markdown",
   "metadata": {
    "id": "LR15naYvAFfh"
   },
   "source": [
    "Get the length of the string"
   ]
  },
  {
   "cell_type": "code",
   "execution_count": null,
   "metadata": {
    "id": "HR-4_u2qAFfh",
    "outputId": "178d2602-b822-4005-a84f-4554dbf36a23"
   },
   "outputs": [
    {
     "data": {
      "text/plain": [
       "12"
      ]
     },
     "execution_count": 6,
     "metadata": {},
     "output_type": "execute_result"
    }
   ],
   "source": [
    "# use len() to obtain the length of the string\n",
    "len(string)"
   ]
  },
  {
   "cell_type": "markdown",
   "metadata": {
    "id": "kUDYUcKeAFfh"
   },
   "source": [
    "The output is the number of characters in the string including the blank space."
   ]
  },
  {
   "cell_type": "markdown",
   "metadata": {
    "id": "CkU33-P_AFfh"
   },
   "source": [
    "Now let us find the number of words in the string.\n",
    "\n",
    "To do so, we will first break the string at the blank space using the function split() and then with the help of the function len() we obtain the number of words in the string."
   ]
  },
  {
   "cell_type": "code",
   "execution_count": null,
   "metadata": {
    "id": "ovrTy47YAFfh",
    "outputId": "174d0088-34e6-4998-d4dd-f8c3f4a8960e"
   },
   "outputs": [
    {
     "data": {
      "text/plain": [
       "2"
      ]
     },
     "execution_count": 7,
     "metadata": {},
     "output_type": "execute_result"
    }
   ],
   "source": [
    "len(string.split())"
   ]
  },
  {
   "cell_type": "markdown",
   "metadata": {
    "id": "Nia0BMkdAFfh"
   },
   "source": [
    "Now we create a string 'apple, kiwi, pineapple,mango,grapes, banana'. Is it possible to find the number of fruits in the string.\n",
    "\n",
    "Yes, it is. We shall use the split function again and then function 'len'."
   ]
  },
  {
   "cell_type": "code",
   "execution_count": null,
   "metadata": {
    "id": "h3K2WUIQAFfh",
    "outputId": "9cf769f2-7328-49ba-c9d4-18ddf4ee7e29"
   },
   "outputs": [
    {
     "name": "stdout",
     "output_type": "stream",
     "text": [
      "['apple,', 'kiwi,', 'pineapple,mango,grapes,', 'banana']\n",
      "The number of fruits in the list are:  4\n"
     ]
    }
   ],
   "source": [
    "# create a string\n",
    "fruits = 'apple, kiwi, pineapple,mango,grapes, banana'\n",
    "\n",
    "print(fruits.split())\n",
    "print(\"The number of fruits in the list are: \" , len(fruits.split()))"
   ]
  },
  {
   "cell_type": "markdown",
   "metadata": {
    "id": "Vsb-AyViAFfi"
   },
   "source": [
    "It is however evident that there are more than 4 fruits in the list\n",
    "\n",
    "**Note:** The function split(), breaks the string at a blank space (white space) if no argument is passed. So now we shall specify for it to break at a \",\" since the string is not spaced properly."
   ]
  },
  {
   "cell_type": "code",
   "execution_count": null,
   "metadata": {
    "id": "SUS5dDU8AFfi",
    "outputId": "e4e2b3cb-159f-437e-987f-24d84756ff85"
   },
   "outputs": [
    {
     "name": "stdout",
     "output_type": "stream",
     "text": [
      "['apple', ' kiwi', ' pineapple', 'mango', 'grapes', ' banana']\n",
      "The number of fruits in the list are:  6\n"
     ]
    }
   ],
   "source": [
    "print(fruits.split(\",\"))\n",
    "print(\"The number of fruits in the list are: \" , len(fruits.split(\",\")))"
   ]
  },
  {
   "cell_type": "markdown",
   "metadata": {
    "id": "6IU9juBnAFfi"
   },
   "source": [
    "This gives the correct output."
   ]
  },
  {
   "cell_type": "markdown",
   "metadata": {
    "id": "zYD_qCKTAFfi"
   },
   "source": [
    "**Note:** We can specify any character we wish to split at. For instance, a letter, a number, \",\" , \"'\" , \".\" and so on. If nothing is specified, the function will split at a white space by default."
   ]
  },
  {
   "cell_type": "markdown",
   "metadata": {
    "id": "BIseNDTyAFfi"
   },
   "source": [
    "<a id=\"user\"> </a>\n",
    "## 2. User Defined Functions"
   ]
  },
  {
   "cell_type": "markdown",
   "metadata": {
    "id": "MDwSM4zPAFfi"
   },
   "source": [
    "There are situations where in built functions are not availabe in a library. In such cases, we do the computations by using formulas/concepts"
   ]
  },
  {
   "cell_type": "markdown",
   "metadata": {
    "id": "1i4NPHNbAFfi"
   },
   "source": [
    "<table align=\"left\">\n",
    "    <tr>\n",
    "        <td width=\"15%\">\n",
    "            <img src=\"note.png\">\n",
    "        </td>\n",
    "        <td>\n",
    "            <div align=\"left\", style=\"font-size:120%\">\n",
    "                <font color=\"#21618C\">\n",
    "                    <b> At times there are no built-in functions available, thus there arises a need for the user to define a function as desired. The user-defined functions are named blocks of code that are designed to do a specific job(s). When you want to perform a particular task that you’ve defined in a function, you call the name of the function responsible for it. This aids the scenarios where a chunk of code is required repeatedly; just call the function dedicated to handling that task, and the call tells Python to run the code inside the function. You’ll find that using functions makes your programs easier to write, read, test, and fix.\n",
    "                    </b>\n",
    "                </font>\n",
    "            </div>\n",
    "        </td>\n",
    "    </tr>\n",
    "</table>"
   ]
  },
  {
   "cell_type": "markdown",
   "metadata": {
    "id": "1yCA3lOhAFfi"
   },
   "source": [
    "### Argument and Parameter\n",
    "\n",
    "\n",
    "<table align=\"left\">\n",
    "    <tr>\n",
    "        <td width=\"8%\">\n",
    "            <img src=\"caution.png\">\n",
    "        </td>\n",
    "        <td>\n",
    "            <div align=\"left\", style=\"font-size:120%\">\n",
    "                <font color=\"#21618C\">\n",
    "                    <b> Parameters and arguments are subtly different. Lets us first define them.<br><br>\n",
    "                         1. Parameter: A value which is passed when defining a function\n",
    "                        <br><br>\n",
    "                         2. Argument: A value that is passed when invoking a function\n",
    "                    </b>\n",
    "                </font>\n",
    "            </div>\n",
    "        </td>\n",
    "    </tr>\n",
    "</table>"
   ]
  },
  {
   "cell_type": "markdown",
   "metadata": {
    "id": "ZkIZtoVvAFfi"
   },
   "source": [
    "Consider the following user defined function:"
   ]
  },
  {
   "cell_type": "raw",
   "metadata": {
    "id": "q8A0va9DAFfi"
   },
   "source": [
    "def fun(params):\n",
    "    statement 1\n",
    "    statement 2\n",
    "        .\n",
    "        .\n",
    "        .\n"
   ]
  },
  {
   "cell_type": "markdown",
   "metadata": {
    "id": "oc5e9BEdAFfi"
   },
   "source": [
    "Now, if we invoke this function:"
   ]
  },
  {
   "cell_type": "raw",
   "metadata": {
    "id": "WY0uI-1lAFfj"
   },
   "source": [
    "fun(sample_parameters)"
   ]
  },
  {
   "cell_type": "markdown",
   "metadata": {
    "id": "CvcIG6AgAFfj"
   },
   "source": [
    "Here the 'sample_parameters' is called argument."
   ]
  },
  {
   "cell_type": "markdown",
   "metadata": {
    "id": "AU9PycIiAFfj"
   },
   "source": [
    "<a id=\"without_arg\"> </a>\n",
    "## 2.1 User defined functions without arguments"
   ]
  },
  {
   "cell_type": "markdown",
   "metadata": {
    "id": "mMu52PmLAFfj"
   },
   "source": [
    "Once a function is defined, it can be called anytime, without running the function again. Generally, a function returns a value or prints a value.  \n",
    "\n",
    "Let us see a few examples of user defined functions."
   ]
  },
  {
   "cell_type": "markdown",
   "metadata": {
    "id": "bM_Upl16AFfj"
   },
   "source": [
    "**1. We shall write a user defined function without argument to find the twice of a number.**"
   ]
  },
  {
   "cell_type": "code",
   "execution_count": null,
   "metadata": {
    "collapsed": true,
    "id": "Fu7z5UqgAFfj"
   },
   "outputs": [],
   "source": [
    "def twice():\n",
    "    a = int(input('enter a number: '))\n",
    "    print(a*2)"
   ]
  },
  {
   "cell_type": "code",
   "execution_count": null,
   "metadata": {
    "id": "W4_HV6vTAFfj",
    "outputId": "df5b11c4-5471-42cc-c507-8b6aeddba023"
   },
   "outputs": [
    {
     "name": "stdout",
     "output_type": "stream",
     "text": [
      "enter a number: 34\n",
      "68\n"
     ]
    }
   ],
   "source": [
    "# In this function, no argument is passed\n",
    "# call the function\n",
    "twice()"
   ]
  },
  {
   "cell_type": "markdown",
   "metadata": {
    "id": "kTQzmEb4AFfj"
   },
   "source": [
    "**2. We shall write a user defined function hi() which take a string input. The output will greet the user displaying his/her name on the screen.**"
   ]
  },
  {
   "cell_type": "code",
   "execution_count": null,
   "metadata": {
    "collapsed": true,
    "id": "vrt_Y8LBAFfj"
   },
   "outputs": [],
   "source": [
    "def hi():\n",
    "    name = str(input('Enter your name: '))\n",
    "    print(\"Hey \" + name +\", how are you?\")"
   ]
  },
  {
   "cell_type": "code",
   "execution_count": null,
   "metadata": {
    "id": "4TkT5UbxAFfj",
    "outputId": "b84aa522-4efb-4574-a263-64229e1e1fbf"
   },
   "outputs": [
    {
     "name": "stdout",
     "output_type": "stream",
     "text": [
      "Enter your name: python\n",
      "Hey python, how are you?\n"
     ]
    }
   ],
   "source": [
    "# In this function, no argument is passed\n",
    "# call the function\n",
    "hi()"
   ]
  },
  {
   "cell_type": "code",
   "execution_count": null,
   "metadata": {
    "collapsed": true,
    "id": "5K5MrgQnAFfk"
   },
   "outputs": [],
   "source": [
    "#create a function\n",
    "def greetings():\n",
    "    print(\"hello\")\n",
    "    print(\"How r u ?\")"
   ]
  },
  {
   "cell_type": "code",
   "execution_count": null,
   "metadata": {
    "id": "V5Y3POIvAFfk",
    "outputId": "5f87af58-f018-4fee-fbfb-53f7abfb1cce"
   },
   "outputs": [
    {
     "name": "stdout",
     "output_type": "stream",
     "text": [
      "hello\n",
      "How r u ?\n"
     ]
    }
   ],
   "source": [
    "# In this function, no argument is passed\n",
    "# call the function\n",
    "greetings()"
   ]
  },
  {
   "cell_type": "markdown",
   "metadata": {
    "id": "U19gUaJTAFfk"
   },
   "source": [
    "**3. To find area of a circle**"
   ]
  },
  {
   "cell_type": "code",
   "execution_count": null,
   "metadata": {
    "collapsed": true,
    "id": "gr_P5NkJAFfk"
   },
   "outputs": [],
   "source": [
    "def area_circle():\n",
    "    r = int(input('Enter the radius of circle: '))\n",
    "    area = 3.14 * r**2\n",
    "    print(\"The area of cicle with radius \" + str(r)  +\" is \" + str(area) + \" sq. units\")"
   ]
  },
  {
   "cell_type": "code",
   "execution_count": null,
   "metadata": {
    "id": "awXxrCOCAFfk",
    "outputId": "2b6122af-4f9e-45ad-e2d8-fc7c12fecc7e"
   },
   "outputs": [
    {
     "name": "stdout",
     "output_type": "stream",
     "text": [
      "Enter the radius of circle: 3\n",
      "The area of cicle with radius 3 is 28.26 sq. units\n"
     ]
    }
   ],
   "source": [
    "# call the function\n",
    "area_circle()"
   ]
  },
  {
   "cell_type": "markdown",
   "metadata": {
    "id": "U0s76FaHAFfk"
   },
   "source": [
    "<a id=\"with_arg\"> </a>\n",
    "## 2.2 User defined functions with arguments"
   ]
  },
  {
   "cell_type": "markdown",
   "metadata": {
    "id": "6sJ6Dv8nAFfk"
   },
   "source": [
    "Most of the function will either `return` a value or `print` an output. Take a note of this in the examples considered below."
   ]
  },
  {
   "cell_type": "markdown",
   "metadata": {
    "id": "T6jqDEksAFfk"
   },
   "source": [
    "**1. A user defined function to get the average of all numbers in a sequence.**"
   ]
  },
  {
   "cell_type": "code",
   "execution_count": null,
   "metadata": {
    "collapsed": true,
    "id": "LuGviYCVAFfk"
   },
   "outputs": [],
   "source": [
    "def average(x):\n",
    "    count = 0\n",
    "    total = 0\n",
    "    for i in x:\n",
    "        count += 1\n",
    "        total += i\n",
    "    avg = total/count\n",
    "    return avg"
   ]
  },
  {
   "cell_type": "code",
   "execution_count": null,
   "metadata": {
    "collapsed": true,
    "id": "8opdfahfAFfk"
   },
   "outputs": [],
   "source": [
    "x = (44, 45, -56, 44, 32,-54, 44, 56, 44, 87, 44, 56)"
   ]
  },
  {
   "cell_type": "code",
   "execution_count": null,
   "metadata": {
    "id": "wspVyumjAFfl",
    "outputId": "9a6ee357-c82e-4a3c-ba2e-2a37602a079b"
   },
   "outputs": [
    {
     "data": {
      "text/plain": [
       "32.166666666666664"
      ]
     },
     "execution_count": 20,
     "metadata": {},
     "output_type": "execute_result"
    }
   ],
   "source": [
    "# call the function\n",
    "average(x)"
   ]
  },
  {
   "cell_type": "markdown",
   "metadata": {
    "id": "q1JUGk-PAFfl"
   },
   "source": [
    "The average of the number is 32.1667"
   ]
  },
  {
   "cell_type": "markdown",
   "metadata": {
    "id": "s33JaNKIAFfl"
   },
   "source": [
    "If the function requires an argument to be passed and we do not provide it, then an error with be shown."
   ]
  },
  {
   "cell_type": "code",
   "execution_count": null,
   "metadata": {
    "id": "L5k7p375AFfl",
    "outputId": "b5c7afac-ef6a-459c-c4b8-f6f70a797d6a"
   },
   "outputs": [
    {
     "ename": "TypeError",
     "evalue": "average() missing 1 required positional argument: 'x'",
     "output_type": "error",
     "traceback": [
      "\u001b[1;31m---------------------------------------------------------------------------\u001b[0m",
      "\u001b[1;31mTypeError\u001b[0m                                 Traceback (most recent call last)",
      "\u001b[1;32m<ipython-input-21-817fa9574eec>\u001b[0m in \u001b[0;36m<module>\u001b[1;34m()\u001b[0m\n\u001b[0;32m      1\u001b[0m \u001b[1;31m# call the function\u001b[0m\u001b[1;33m\u001b[0m\u001b[1;33m\u001b[0m\u001b[1;33m\u001b[0m\u001b[0m\n\u001b[1;32m----> 2\u001b[1;33m \u001b[0maverage\u001b[0m\u001b[1;33m(\u001b[0m\u001b[1;33m)\u001b[0m\u001b[1;33m\u001b[0m\u001b[1;33m\u001b[0m\u001b[0m\n\u001b[0m",
      "\u001b[1;31mTypeError\u001b[0m: average() missing 1 required positional argument: 'x'"
     ]
    }
   ],
   "source": [
    "# call the function\n",
    "average()"
   ]
  },
  {
   "cell_type": "markdown",
   "metadata": {
    "id": "9l4UBzCuAFfl"
   },
   "source": [
    "**2. A user defined function with argument to greet a person by name.**"
   ]
  },
  {
   "cell_type": "code",
   "execution_count": null,
   "metadata": {
    "collapsed": true,
    "id": "GkVl4-AcAFfl"
   },
   "outputs": [],
   "source": [
    "def greet(name):\n",
    "    name = str(name)\n",
    "    print(\"Hello, \" + name)"
   ]
  },
  {
   "cell_type": "code",
   "execution_count": null,
   "metadata": {
    "id": "jdURiQKJAFfl",
    "outputId": "1d7a7ac3-399c-4a53-8031-3c859b1e61f1"
   },
   "outputs": [
    {
     "name": "stdout",
     "output_type": "stream",
     "text": [
      "Hello, Dave\n"
     ]
    }
   ],
   "source": [
    "# call the function\n",
    "greet('Dave')"
   ]
  },
  {
   "cell_type": "markdown",
   "metadata": {
    "id": "yHlB6snOAFfl"
   },
   "source": [
    "Enter your name in the paranthese, and your notebook will greet you!.\n",
    "\n",
    "**Also note that this function prints an output.**"
   ]
  },
  {
   "cell_type": "markdown",
   "metadata": {
    "id": "5t9Fkm9YAFfl"
   },
   "source": [
    "<table align=\"left\">\n",
    "    <tr>\n",
    "        <td width=\"8%\">\n",
    "            <img src=\"todo.png\">\n",
    "        </td>\n",
    "        <td>\n",
    "            <div align=\"left\", style=\"font-size:120%\">\n",
    "                <font color=\"#21618C\">\n",
    "                    <b> TRY IT YOURSELF: <br> Assign a print() function to a variable. Is it possible?\n",
    "                    </b>\n",
    "                </font>\n",
    "            </div>\n",
    "        </td>\n",
    "    </tr>\n",
    "</table>"
   ]
  },
  {
   "cell_type": "markdown",
   "metadata": {
    "id": "i4hYPiGRAFfl"
   },
   "source": [
    "**Answer:** The 'print' output can not be stored in a variable. Moreover, any function which returns a value can be stored in a variable."
   ]
  },
  {
   "cell_type": "markdown",
   "metadata": {
    "id": "1vPyHXTKAFfl"
   },
   "source": [
    "**4. Consider the list given below and write a function to find the unique values of the list**\n",
    "\n",
    "                [44,45,56,44,32,54,44,56,44,87,44,56]\n"
   ]
  },
  {
   "cell_type": "code",
   "execution_count": null,
   "metadata": {
    "collapsed": true,
    "id": "tV9BygArAFfm"
   },
   "outputs": [],
   "source": [
    "def unique(list1):\n",
    "    unique_list = []\n",
    "    for x in list1:\n",
    "            if x not in unique_list:\n",
    "                 unique_list.append(x)\n",
    "    return unique_list"
   ]
  },
  {
   "cell_type": "code",
   "execution_count": null,
   "metadata": {
    "id": "gsZlyBz-AFfm",
    "outputId": "9109b9b2-9bf8-4587-f92e-902fbc7684b6"
   },
   "outputs": [
    {
     "data": {
      "text/plain": [
       "[44, 45, 56, 32, 54, 87]"
      ]
     },
     "execution_count": 25,
     "metadata": {},
     "output_type": "execute_result"
    }
   ],
   "source": [
    "x = [44,45,56,44,32,54,44,56,44,87,44,56]\n",
    "\n",
    "# call the function\n",
    "# store the output in a variable\n",
    "unique_values = unique(x)\n",
    "\n",
    "# print the variable name\n",
    "unique_values"
   ]
  },
  {
   "cell_type": "markdown",
   "metadata": {
    "id": "5kaSXdPlAFfm"
   },
   "source": [
    "These are the unique values in the list.\n",
    "\n",
    "**Also note that this function returns the output to the calling program.**"
   ]
  },
  {
   "cell_type": "markdown",
   "metadata": {
    "id": "nBTCtX-MAFfm"
   },
   "source": [
    "**5. A function to reverse a string**"
   ]
  },
  {
   "cell_type": "code",
   "execution_count": null,
   "metadata": {
    "collapsed": true,
    "id": "IEgyVZm8AFfm"
   },
   "outputs": [],
   "source": [
    "def reverse(string):\n",
    "    # set the empty string\n",
    "    rev=''\n",
    "    for i in string:\n",
    "        rev = i+rev\n",
    "    print(rev)"
   ]
  },
  {
   "cell_type": "code",
   "execution_count": null,
   "metadata": {
    "id": "8iBs2FpQAFfm",
    "outputId": "024bf4df-02ff-4463-94ab-4a736d3c5298"
   },
   "outputs": [
    {
     "name": "stdout",
     "output_type": "stream",
     "text": [
      "Enter string:python for data science\n",
      "ecneics atad rof nohtyp\n"
     ]
    }
   ],
   "source": [
    "# call the function\n",
    "string = str(input('Enter string:'))\n",
    "reverse(string)"
   ]
  },
  {
   "cell_type": "markdown",
   "metadata": {
    "id": "VK2TNRm2AFfm"
   },
   "source": [
    "**6. A function to display multiplication table of an integer**"
   ]
  },
  {
   "cell_type": "code",
   "execution_count": null,
   "metadata": {
    "collapsed": true,
    "id": "uxtYDPGaAFfm"
   },
   "outputs": [],
   "source": [
    "def table(n):\n",
    "    multi = 1\n",
    "    for i in range(1,11):\n",
    "        multi = n*i\n",
    "        print(str(i) + \" times \" + str(n) + \" is \" + str(multi))"
   ]
  },
  {
   "cell_type": "code",
   "execution_count": null,
   "metadata": {
    "id": "WXZYxFfTAFfm",
    "outputId": "f2c0a901-0052-4ddd-8b31-ea00f80272e8"
   },
   "outputs": [
    {
     "name": "stdout",
     "output_type": "stream",
     "text": [
      "Enter number:23\n",
      "1 times 23 is 23\n",
      "2 times 23 is 46\n",
      "3 times 23 is 69\n",
      "4 times 23 is 92\n",
      "5 times 23 is 115\n",
      "6 times 23 is 138\n",
      "7 times 23 is 161\n",
      "8 times 23 is 184\n",
      "9 times 23 is 207\n",
      "10 times 23 is 230\n"
     ]
    }
   ],
   "source": [
    "# call the function\n",
    "n=int(input('Enter number:'))\n",
    "table(n)"
   ]
  },
  {
   "cell_type": "markdown",
   "metadata": {
    "id": "6iK4XG2vAFfm"
   },
   "source": [
    "**7. To find product of numbers in a list.**"
   ]
  },
  {
   "cell_type": "code",
   "execution_count": null,
   "metadata": {
    "collapsed": true,
    "id": "pqpR7pCVAFfm"
   },
   "outputs": [],
   "source": [
    "def product(x):\n",
    "    prod = 1\n",
    "    for i in x:\n",
    "        prod *= i\n",
    "    return prod"
   ]
  },
  {
   "cell_type": "code",
   "execution_count": null,
   "metadata": {
    "id": "4gWIzu2lAFfn",
    "outputId": "17046135-b8af-4d59-e4aa-1f780bbb9fc1"
   },
   "outputs": [
    {
     "data": {
      "text/plain": [
       "120"
      ]
     },
     "execution_count": 33,
     "metadata": {},
     "output_type": "execute_result"
    }
   ],
   "source": [
    "#call the function\n",
    "product([1,2,3,4,5])"
   ]
  },
  {
   "cell_type": "markdown",
   "metadata": {
    "id": "l4TNJKNdAFfn"
   },
   "source": [
    "**8. A function which takes the order of a matrix and mutliplies it with a scalar. The function take two parameters- first the order of identity matrix and second the scaler to be multiplied.**"
   ]
  },
  {
   "cell_type": "code",
   "execution_count": null,
   "metadata": {
    "collapsed": true,
    "id": "0E5MZSwXAFfn"
   },
   "outputs": [],
   "source": [
    "def scalar_multiplication(n,m):\n",
    "    for i in range(0,n):\n",
    "        for j in range(0,n):\n",
    "            if(i==j):\n",
    "                print(m,sep=\" \",end=\" \")\n",
    "            else:\n",
    "                print(\"0\",sep=\" \",end=\" \")\n",
    "        print()"
   ]
  },
  {
   "cell_type": "code",
   "execution_count": null,
   "metadata": {
    "id": "H-x5rYj1AFfn",
    "outputId": "fd4c9fc8-5368-4cca-9e06-f4938b38443e"
   },
   "outputs": [
    {
     "name": "stdout",
     "output_type": "stream",
     "text": [
      "5 0 0 0 \n",
      "0 5 0 0 \n",
      "0 0 5 0 \n",
      "0 0 0 5 \n"
     ]
    }
   ],
   "source": [
    "#call the function\n",
    "scalar_multiplication(4,5)"
   ]
  },
  {
   "cell_type": "markdown",
   "metadata": {
    "id": "GZWZ4V9WAFfn"
   },
   "source": [
    "**9. Usage of `*args`.**"
   ]
  },
  {
   "cell_type": "markdown",
   "metadata": {
    "id": "tIth68_eAFfn"
   },
   "source": [
    "Usage : multiple arguments can be added without specifying the number of parameter defined in a function.  It is used to pass a non-keyworded, variable-length argument list.\n",
    "\n",
    " `*args` in function definitions in python is used to pass a variable number of arguments to a function. It reads the value one by one and performs the required task. <br>\n",
    " The symbol `*` is used to take in a variable number of arguments; by convention, it is often used with the word 'args', however we may use another word.\n"
   ]
  },
  {
   "cell_type": "code",
   "execution_count": null,
   "metadata": {
    "collapsed": true,
    "id": "YHYfw3z9AFfn"
   },
   "outputs": [],
   "source": [
    "# * indicates that number of arguments can be taken\n",
    "def Multiple(*args):\n",
    "    for parameter in args:\n",
    "        print (parameter)"
   ]
  },
  {
   "cell_type": "code",
   "execution_count": null,
   "metadata": {
    "id": "uPPXDk8pAFfn",
    "outputId": "78db7f6e-b50c-4ea6-e860-8cac168034dc"
   },
   "outputs": [
    {
     "name": "stdout",
     "output_type": "stream",
     "text": [
      "Lets\n",
      "learn\n",
      "Python\n",
      "for\n",
      "Data\n",
      "Science\n"
     ]
    }
   ],
   "source": [
    "#call the function\n",
    "Multiple(\"Lets\",\"learn\",\"Python\",\"for\",\"Data\",\"Science\")"
   ]
  },
  {
   "cell_type": "markdown",
   "metadata": {
    "id": "g3TQP-nsAFfn"
   },
   "source": [
    "**10. Another example on `*args`.**"
   ]
  },
  {
   "cell_type": "code",
   "execution_count": null,
   "metadata": {
    "collapsed": true,
    "id": "JkKRSQRBAFfo"
   },
   "outputs": [],
   "source": [
    "def to_print( argument1, *argument):\n",
    "   print(argument1)\n",
    "   for var in argument:\n",
    "        print(var)"
   ]
  },
  {
   "cell_type": "code",
   "execution_count": null,
   "metadata": {
    "id": "lrj-rAziAFfo",
    "outputId": "8db5a1db-5af5-454c-e273-51ff70a64e26"
   },
   "outputs": [
    {
     "name": "stdout",
     "output_type": "stream",
     "text": [
      "10\n",
      "20\n",
      "30\n"
     ]
    }
   ],
   "source": [
    "#call the function\n",
    "to_print( 10,20,30 )"
   ]
  },
  {
   "cell_type": "markdown",
   "metadata": {
    "id": "ehJEZ5sAAFfo"
   },
   "source": [
    "**11. Usage of  ` **kwargs`.**"
   ]
  },
  {
   "cell_type": "markdown",
   "metadata": {
    "id": "wzKnzpzTAFfo"
   },
   "source": [
    "Usage: `**kwargs` is used to pass a keyworded, variable-length argument list to the function. The name 'kwargs' is used with the double star because it allows us to pass through keyword arguments (and any number of them)."
   ]
  },
  {
   "cell_type": "code",
   "execution_count": null,
   "metadata": {
    "collapsed": true,
    "id": "3eaXCfgbAFfo"
   },
   "outputs": [],
   "source": [
    "def function(**kwargs):\n",
    "    for a,b in kwargs.items():\n",
    "        print(a,\"==\",b)"
   ]
  },
  {
   "cell_type": "code",
   "execution_count": null,
   "metadata": {
    "id": "raQiCQ0aAFfo",
    "outputId": "40b6699c-9d00-4b97-d5e4-322d66d0cca7"
   },
   "outputs": [
    {
     "name": "stdout",
     "output_type": "stream",
     "text": [
      "A == First letter\n",
      "B == Second letter\n",
      "C == Thirs letter\n"
     ]
    }
   ],
   "source": [
    "# call the function\n",
    "a=function(A = \"First letter\", B = \"Second letter\", C = \"Thirs letter\")"
   ]
  },
  {
   "cell_type": "markdown",
   "metadata": {
    "id": "yE09zgWSAFfo"
   },
   "source": [
    "**12. Another example of ` **kwargs `.**\n",
    "\n",
    "`**kwargs` is a dict of the keyword or arguments passed to the function"
   ]
  },
  {
   "cell_type": "code",
   "execution_count": null,
   "metadata": {
    "collapsed": true,
    "id": "LoqRHrQRAFfo"
   },
   "outputs": [],
   "source": [
    "def print_keyword_args(**kwargs):\n",
    "      for key, value in kwargs.items():\n",
    "            print( \"%s = %s\" % (key, value))"
   ]
  },
  {
   "cell_type": "code",
   "execution_count": null,
   "metadata": {
    "id": "oNzVfQIIAFfo",
    "outputId": "a78796f4-9fbd-495c-c31f-735b6955e079"
   },
   "outputs": [
    {
     "name": "stdout",
     "output_type": "stream",
     "text": [
      "first_name = John\n",
      "last_name = Doe\n"
     ]
    }
   ],
   "source": [
    "# call the function\n",
    "print_keyword_args(first_name=\"John\", last_name=\"Doe\")"
   ]
  },
  {
   "cell_type": "markdown",
   "metadata": {
    "id": "KhMjWdANAFfo"
   },
   "source": [
    "<a id=\"Recursive_Functions\"> </a>\n",
    "## 2.3 Recursive Functions"
   ]
  },
  {
   "cell_type": "markdown",
   "metadata": {
    "id": "aAxKZh3yAFfo"
   },
   "source": [
    "A function that calls itself is a recursive function. Recursive function is used when a certain problem is defined in terms of itself."
   ]
  },
  {
   "cell_type": "code",
   "execution_count": null,
   "metadata": {
    "id": "wh7iIHpjAFfo",
    "outputId": "d416d6f2-cd2a-4aea-92f0-aa7cffa81604"
   },
   "outputs": [
    {
     "data": {
      "text/plain": [
       "10"
      ]
     },
     "execution_count": 44,
     "metadata": {},
     "output_type": "execute_result"
    }
   ],
   "source": [
    "# calculate the sum of all numbers present in the list\n",
    "def sum_list(nums):\n",
    "    if len(nums) == 0:\n",
    "        return 0\n",
    "\n",
    "    last_num = nums.pop()\n",
    "    return last_num + sum_list(nums)\n",
    "\n",
    "num = [1,2,3,4]\n",
    "sum_list(num)"
   ]
  },
  {
   "cell_type": "code",
   "execution_count": null,
   "metadata": {
    "id": "BD6NZCfTAFfp",
    "outputId": "7968d9af-719a-45f7-da45-9fab759ac110"
   },
   "outputs": [
    {
     "name": "stdout",
     "output_type": "stream",
     "text": [
      "0 1 1 2 3 5 8 13 21 34 55 89 144 233 377 "
     ]
    }
   ],
   "source": [
    "# implementation of the fibonacci series using recursion\n",
    "def fib(n):\n",
    "    if n == 0:\n",
    "        return 0\n",
    "    elif n == 1:\n",
    "        return 1\n",
    "    else:\n",
    "        return fib(n - 1) + fib(n - 2)\n",
    "\n",
    "\n",
    "for i in range(15):\n",
    "    print(fib(i), end=\" \")"
   ]
  },
  {
   "cell_type": "markdown",
   "metadata": {
    "id": "AghrVSoyAFfp"
   },
   "source": [
    "<a id = 'scope'></a>\n",
    "## 3. Scope of Variables:"
   ]
  },
  {
   "cell_type": "markdown",
   "metadata": {
    "id": "pggHILrbAFfp"
   },
   "source": [
    "<table align=\"left\">\n",
    "    <tr>\n",
    "        <td width=\"15%\">\n",
    "            <img src=\"note.png\">\n",
    "        </td>\n",
    "        <td>\n",
    "            <div align=\"left\", style=\"font-size:120%\">\n",
    "                <font color=\"#21618C\">\n",
    "                    <b> The scope of variables is broadly classified as: <br><br>\n",
    "                        1. Global Variable: Global variables are the variables declared outside of the function or in global scope. This means, global variable can be accessed inside or outside of the function.\n",
    "                        <br> <br> <br>\n",
    "                        2. Local Variable : Local variables are the varibales declared inside the function's body or in the local scope\n",
    "                    </b>\n",
    "                </font>\n",
    "            </div>\n",
    "        </td>\n",
    "    </tr>\n",
    "</table>"
   ]
  },
  {
   "cell_type": "markdown",
   "metadata": {
    "id": "Okd46xfqAFfp"
   },
   "source": [
    "**Following are examples of Global variables:**"
   ]
  },
  {
   "cell_type": "markdown",
   "metadata": {
    "id": "QzIf_b8xAFfp"
   },
   "source": [
    "The variable 'string' is a global variable."
   ]
  },
  {
   "cell_type": "code",
   "execution_count": null,
   "metadata": {
    "id": "bkdhEiZLAFfp",
    "outputId": "7c76c693-051e-4469-8d19-b3456ea7a140"
   },
   "outputs": [
    {
     "name": "stdout",
     "output_type": "stream",
     "text": [
      "Python for Data Science\n"
     ]
    }
   ],
   "source": [
    "# This function uses global variable 'string'\n",
    "def function():\n",
    "    print (string)\n",
    "\n",
    "\n",
    "string = \"Python for Data Science\"\n",
    "function()"
   ]
  },
  {
   "cell_type": "markdown",
   "metadata": {
    "id": "5syYIIGOAFfp"
   },
   "source": [
    "Another example where x is a global variable"
   ]
  },
  {
   "cell_type": "code",
   "execution_count": null,
   "metadata": {
    "collapsed": true,
    "id": "LYceGkv9AFfp"
   },
   "outputs": [],
   "source": [
    "def f():\n",
    "    y = x\n",
    "    print(y)"
   ]
  },
  {
   "cell_type": "code",
   "execution_count": null,
   "metadata": {
    "id": "caFeEZ5MAFfp",
    "outputId": "af8a3017-b80e-44b4-d8c6-f21b1f521f69"
   },
   "outputs": [
    {
     "name": "stdout",
     "output_type": "stream",
     "text": [
      "8\n"
     ]
    }
   ],
   "source": [
    "x = 8\n",
    "f()"
   ]
  },
  {
   "cell_type": "markdown",
   "metadata": {
    "id": "RObWwa3AAFfp"
   },
   "source": [
    "Consider another scenario where x is declared in the function after y is declared."
   ]
  },
  {
   "cell_type": "code",
   "execution_count": null,
   "metadata": {
    "collapsed": true,
    "id": "IZgXa72HAFfp"
   },
   "outputs": [],
   "source": [
    "def f():\n",
    "    y = x\n",
    "    print(y)\n",
    "    x = 22"
   ]
  },
  {
   "cell_type": "code",
   "execution_count": null,
   "metadata": {
    "id": "qZkrmjJCAFfq",
    "outputId": "4426971e-f37c-4846-99af-38c4814039f6"
   },
   "outputs": [
    {
     "ename": "UnboundLocalError",
     "evalue": "local variable 'x' referenced before assignment",
     "output_type": "error",
     "traceback": [
      "\u001b[1;31m---------------------------------------------------------------------------\u001b[0m",
      "\u001b[1;31mUnboundLocalError\u001b[0m                         Traceback (most recent call last)",
      "\u001b[1;32m<ipython-input-50-0ec059b9bfe1>\u001b[0m in \u001b[0;36m<module>\u001b[1;34m()\u001b[0m\n\u001b[1;32m----> 1\u001b[1;33m \u001b[0mf\u001b[0m\u001b[1;33m(\u001b[0m\u001b[1;33m)\u001b[0m\u001b[1;33m\u001b[0m\u001b[1;33m\u001b[0m\u001b[0m\n\u001b[0m",
      "\u001b[1;32m<ipython-input-49-0efb2420edee>\u001b[0m in \u001b[0;36mf\u001b[1;34m()\u001b[0m\n\u001b[0;32m      1\u001b[0m \u001b[1;32mdef\u001b[0m \u001b[0mf\u001b[0m\u001b[1;33m(\u001b[0m\u001b[1;33m)\u001b[0m\u001b[1;33m:\u001b[0m\u001b[1;33m\u001b[0m\u001b[1;33m\u001b[0m\u001b[0m\n\u001b[1;32m----> 2\u001b[1;33m     \u001b[0my\u001b[0m \u001b[1;33m=\u001b[0m \u001b[0mx\u001b[0m\u001b[1;33m\u001b[0m\u001b[1;33m\u001b[0m\u001b[0m\n\u001b[0m\u001b[0;32m      3\u001b[0m     \u001b[0mprint\u001b[0m\u001b[1;33m(\u001b[0m\u001b[0my\u001b[0m\u001b[1;33m)\u001b[0m\u001b[1;33m\u001b[0m\u001b[1;33m\u001b[0m\u001b[0m\n\u001b[0;32m      4\u001b[0m     \u001b[0mx\u001b[0m \u001b[1;33m=\u001b[0m \u001b[1;36m22\u001b[0m\u001b[1;33m\u001b[0m\u001b[1;33m\u001b[0m\u001b[0m\n",
      "\u001b[1;31mUnboundLocalError\u001b[0m: local variable 'x' referenced before assignment"
     ]
    }
   ],
   "source": [
    "f()"
   ]
  },
  {
   "cell_type": "markdown",
   "metadata": {
    "id": "nmXn-CKSAFfq"
   },
   "source": [
    "The output will be an error since x is declared after y and y is x."
   ]
  },
  {
   "cell_type": "markdown",
   "metadata": {
    "id": "vulrhGpCAFfq"
   },
   "source": [
    "### 2. Local Variable"
   ]
  },
  {
   "cell_type": "markdown",
   "metadata": {
    "id": "W2fXXy35AFfq"
   },
   "source": [
    "Example of local variables."
   ]
  },
  {
   "cell_type": "code",
   "execution_count": null,
   "metadata": {
    "id": "rKV4VSPqAFfq",
    "outputId": "a9facb51-f4ef-4843-9d46-7d6b71479196"
   },
   "outputs": [
    {
     "name": "stdout",
     "output_type": "stream",
     "text": [
      "11\n"
     ]
    }
   ],
   "source": [
    "def sum(x,y):\n",
    "    sum = x + y\n",
    "    return sum\n",
    "\n",
    "print(sum(4,7)   )"
   ]
  },
  {
   "cell_type": "markdown",
   "metadata": {
    "id": "HTYJvWAKAFfq"
   },
   "source": [
    "Here, x and y are local variables. Their value is not callable outside the definition."
   ]
  },
  {
   "cell_type": "markdown",
   "metadata": {
    "id": "eLZ6WKDSAFfq"
   },
   "source": [
    "Let us print x and check it value."
   ]
  },
  {
   "cell_type": "code",
   "execution_count": null,
   "metadata": {
    "id": "eocHg7TfAFfq",
    "outputId": "2cb2f486-bc6c-479a-d83b-462bd00571d0"
   },
   "outputs": [
    {
     "data": {
      "text/plain": [
       "8"
      ]
     },
     "execution_count": 52,
     "metadata": {},
     "output_type": "execute_result"
    }
   ],
   "source": [
    "x"
   ]
  },
  {
   "cell_type": "markdown",
   "metadata": {
    "id": "85yB6PnaAFfq"
   },
   "source": [
    "**Here x takes its global value and not the one defined in the function.**"
   ]
  },
  {
   "cell_type": "markdown",
   "metadata": {
    "id": "1d1nYNjtAFfq"
   },
   "source": [
    "Another example of local variable:"
   ]
  },
  {
   "cell_type": "code",
   "execution_count": null,
   "metadata": {
    "id": "QYSo4_KQAFfq",
    "outputId": "ce125ca0-795e-4c29-cc92-24d83ded129b"
   },
   "outputs": [
    {
     "name": "stdout",
     "output_type": "stream",
     "text": [
      "This is a Local variable\n"
     ]
    }
   ],
   "source": [
    "# set a local variable\n",
    "def local():\n",
    "    y = \"This is a Local variable\"\n",
    "    print(y)\n",
    "\n",
    "local()"
   ]
  },
  {
   "cell_type": "markdown",
   "metadata": {
    "id": "GyOPDO-HAFfq"
   },
   "source": [
    "Now if we print just y"
   ]
  },
  {
   "cell_type": "code",
   "execution_count": null,
   "metadata": {
    "id": "kgu6C3KdAFfq",
    "outputId": "2390f100-346b-4c82-c8c2-e724b7c4e1dc",
    "scrolled": true
   },
   "outputs": [
    {
     "ename": "NameError",
     "evalue": "name 'y' is not defined",
     "output_type": "error",
     "traceback": [
      "\u001b[1;31m---------------------------------------------------------------------------\u001b[0m",
      "\u001b[1;31mNameError\u001b[0m                                 Traceback (most recent call last)",
      "\u001b[1;32m<ipython-input-54-5b64542eefae>\u001b[0m in \u001b[0;36m<module>\u001b[1;34m()\u001b[0m\n\u001b[0;32m      1\u001b[0m \u001b[1;31m# local variable y cannot be accessed outside the function\u001b[0m\u001b[1;33m\u001b[0m\u001b[1;33m\u001b[0m\u001b[1;33m\u001b[0m\u001b[0m\n\u001b[1;32m----> 2\u001b[1;33m \u001b[0mprint\u001b[0m\u001b[1;33m(\u001b[0m\u001b[0my\u001b[0m\u001b[1;33m)\u001b[0m\u001b[1;33m\u001b[0m\u001b[1;33m\u001b[0m\u001b[0m\n\u001b[0m",
      "\u001b[1;31mNameError\u001b[0m: name 'y' is not defined"
     ]
    }
   ],
   "source": [
    "# local variable y cannot be accessed outside the function\n",
    "print(y)"
   ]
  },
  {
   "cell_type": "markdown",
   "metadata": {
    "id": "BpBmdg8aAFfr"
   },
   "source": [
    "We are bound to get an error since it. The variable 'y' is a local variable."
   ]
  },
  {
   "cell_type": "markdown",
   "metadata": {
    "id": "EiMAEtPjAFfr"
   },
   "source": [
    "<a id = 'lambda' > </a>\n",
    "## 4. Lambda Functions"
   ]
  },
  {
   "cell_type": "markdown",
   "metadata": {
    "id": "qlKLDt8bAFfr"
   },
   "source": [
    "<table align=\"left\">\n",
    "    <tr>\n",
    "        <td width=\"15%\">\n",
    "            <img src=\"note.png\">\n",
    "        </td>\n",
    "        <td>\n",
    "            <div align=\"left\", style=\"font-size:120%\">\n",
    "                <font color=\"#21618C\">\n",
    "                    <b> A lambda operator or lambda function is used for creating small, one-time, anonymous function objects in Python.<br><br>The general expression for a lambda function is <br>\n",
    "                                      lambda argument(s): expression <br><br>\n",
    "                        A lambda function can take any number of arguments, but they contain only a single expression. An expression is a piece of code executed by the lambda function, which may or may not return any value. <br><br>\n",
    "                    </b>\n",
    "                </font>\n",
    "            </div>\n",
    "        </td>\n",
    "    </tr>\n",
    "</table>"
   ]
  },
  {
   "cell_type": "markdown",
   "metadata": {
    "id": "DfZFhWFzAFfr"
   },
   "source": [
    "Let us look at some examples using on lambda functions."
   ]
  },
  {
   "cell_type": "markdown",
   "metadata": {
    "id": "-OGUlVkAAFfr"
   },
   "source": [
    "**1. Obtain the minimum among two numbers**"
   ]
  },
  {
   "cell_type": "code",
   "execution_count": null,
   "metadata": {
    "id": "LE5Z3DTtAFfr",
    "outputId": "4f582dc4-83d9-4311-cb8d-e08851a2c4c2"
   },
   "outputs": [
    {
     "data": {
      "text/plain": [
       "34"
      ]
     },
     "execution_count": 55,
     "metadata": {},
     "output_type": "execute_result"
    }
   ],
   "source": [
    "min_value = (lambda x, y: x if x < y else y)\n",
    "min_value(34, 78)"
   ]
  },
  {
   "cell_type": "markdown",
   "metadata": {
    "id": "CJR9U77KAFfr"
   },
   "source": [
    "**2.  Check whether two strings are equal**"
   ]
  },
  {
   "cell_type": "code",
   "execution_count": null,
   "metadata": {
    "id": "v2HTuZNvAFfr",
    "outputId": "0aab1711-5658-4001-9b3b-9a0cfbd2a920"
   },
   "outputs": [
    {
     "data": {
      "text/plain": [
       "'False'"
      ]
     },
     "execution_count": 56,
     "metadata": {},
     "output_type": "execute_result"
    }
   ],
   "source": [
    "result = (lambda x, y: 'True' if x == y else 'False')\n",
    "result(\"Data\", \"DaTa\")"
   ]
  },
  {
   "cell_type": "markdown",
   "metadata": {
    "id": "9qcRBmjOAFfr"
   },
   "source": [
    "**3. Demonstrating wrong usuage of variable name**"
   ]
  },
  {
   "cell_type": "code",
   "execution_count": null,
   "metadata": {
    "id": "gtgQMJjcAFfr",
    "outputId": "e6c55750-b814-4779-8487-81b728486710"
   },
   "outputs": [
    {
     "ename": "NameError",
     "evalue": "name 'b' is not defined",
     "output_type": "error",
     "traceback": [
      "\u001b[1;31m---------------------------------------------------------------------------\u001b[0m",
      "\u001b[1;31mNameError\u001b[0m                                 Traceback (most recent call last)",
      "\u001b[1;32m<ipython-input-57-f2865e686470>\u001b[0m in \u001b[0;36m<module>\u001b[1;34m()\u001b[0m\n\u001b[0;32m      1\u001b[0m \u001b[1;31m# multiplication - wrong usage of variable\u001b[0m\u001b[1;33m\u001b[0m\u001b[1;33m\u001b[0m\u001b[1;33m\u001b[0m\u001b[0m\n\u001b[0;32m      2\u001b[0m \u001b[0mx\u001b[0m \u001b[1;33m=\u001b[0m \u001b[1;32mlambda\u001b[0m \u001b[0ma\u001b[0m\u001b[1;33m,\u001b[0m \u001b[0mc\u001b[0m \u001b[1;33m:\u001b[0m \u001b[0ma\u001b[0m \u001b[1;33m+\u001b[0m \u001b[0mb\u001b[0m\u001b[1;33m\u001b[0m\u001b[1;33m\u001b[0m\u001b[0m\n\u001b[1;32m----> 3\u001b[1;33m \u001b[0mprint\u001b[0m\u001b[1;33m(\u001b[0m\u001b[0mx\u001b[0m\u001b[1;33m(\u001b[0m\u001b[1;36m5\u001b[0m\u001b[1;33m,\u001b[0m \u001b[1;36m6\u001b[0m\u001b[1;33m)\u001b[0m\u001b[1;33m)\u001b[0m\u001b[1;33m\u001b[0m\u001b[1;33m\u001b[0m\u001b[0m\n\u001b[0m",
      "\u001b[1;32m<ipython-input-57-f2865e686470>\u001b[0m in \u001b[0;36m<lambda>\u001b[1;34m(a, c)\u001b[0m\n\u001b[0;32m      1\u001b[0m \u001b[1;31m# multiplication - wrong usage of variable\u001b[0m\u001b[1;33m\u001b[0m\u001b[1;33m\u001b[0m\u001b[1;33m\u001b[0m\u001b[0m\n\u001b[1;32m----> 2\u001b[1;33m \u001b[0mx\u001b[0m \u001b[1;33m=\u001b[0m \u001b[1;32mlambda\u001b[0m \u001b[0ma\u001b[0m\u001b[1;33m,\u001b[0m \u001b[0mc\u001b[0m \u001b[1;33m:\u001b[0m \u001b[0ma\u001b[0m \u001b[1;33m+\u001b[0m \u001b[0mb\u001b[0m\u001b[1;33m\u001b[0m\u001b[1;33m\u001b[0m\u001b[0m\n\u001b[0m\u001b[0;32m      3\u001b[0m \u001b[0mprint\u001b[0m\u001b[1;33m(\u001b[0m\u001b[0mx\u001b[0m\u001b[1;33m(\u001b[0m\u001b[1;36m5\u001b[0m\u001b[1;33m,\u001b[0m \u001b[1;36m6\u001b[0m\u001b[1;33m)\u001b[0m\u001b[1;33m)\u001b[0m\u001b[1;33m\u001b[0m\u001b[1;33m\u001b[0m\u001b[0m\n",
      "\u001b[1;31mNameError\u001b[0m: name 'b' is not defined"
     ]
    }
   ],
   "source": [
    "# multiplication - wrong usage of variable\n",
    "x = lambda a, c : a + b\n",
    "print(x(5, 6))"
   ]
  },
  {
   "cell_type": "markdown",
   "metadata": {
    "id": "m_rc5HpQAFfr"
   },
   "source": [
    "**If variable a and c are used, then the operations should be on a and c.**"
   ]
  },
  {
   "cell_type": "markdown",
   "metadata": {
    "id": "SggbAfYWAFfr"
   },
   "source": [
    "<a id='overview'> </a>\n",
    "## 5. Overview of map, reduce and filter functions"
   ]
  },
  {
   "cell_type": "markdown",
   "metadata": {
    "id": "iFFiAQB2AFfs"
   },
   "source": [
    "<table align=\"left\">\n",
    "    <tr>\n",
    "        <td width=\"15%\">\n",
    "            <img src=\"note.png\">\n",
    "        </td>\n",
    "        <td>\n",
    "            <div align=\"left\", style=\"font-size:120%\">\n",
    "                <font color=\"#21618C\">\n",
    "                    <b> The function map(f,l) applies a function 'f' to each element of list 'l' <br>\n",
    "                        The output of map is not a list, to convert it to a list use list(map(f,l)) <br><br>\n",
    "                        <br>\n",
    "                      The function filter(p,l) where property p is checked for every element in list l. The output of fliter(p, l) is a sublist of list 'l' that satistifies the property 'p'. <br><br><br>\n",
    "                        The reduce(fun,seq) function is used to apply a particular function passed in its argument to all of the list elements mentioned in the sequence passed along and returns only one value.This function is defined in “functools” module. <br><br><br>\n",
    "                        The  accumulate() in “itertools” module. The syntax for it is  accumulate(l,f). It works similar to the reduce(), however there is a little difference in the output.\n",
    "                    </b>\n",
    "                </font>\n",
    "            </div>\n",
    "        </td>\n",
    "    </tr>\n",
    "</table>"
   ]
  },
  {
   "cell_type": "markdown",
   "metadata": {
    "id": "UibD9nA8AFfs"
   },
   "source": [
    "<a id='map'></a>\n",
    "### 5.1 Function map()"
   ]
  },
  {
   "cell_type": "markdown",
   "metadata": {
    "id": "5FTyn8H0AFfs"
   },
   "source": [
    "**1. A test was conducted in a class, the list of all the scores is given. Tha scores are out of 45. Obtain the percentage of each score using lambda function.**\n",
    "             \n",
    "             marks = [ 20, 23, 34, 45, 33, 10, 43, 23, 27, 34, 37, 44, 42, 43 ]\n"
   ]
  },
  {
   "cell_type": "code",
   "execution_count": null,
   "metadata": {
    "id": "S5_Z2ibJAFfs",
    "outputId": "ed89f182-6e47-4388-8fca-9ec0a7582ef2"
   },
   "outputs": [
    {
     "name": "stdout",
     "output_type": "stream",
     "text": [
      "[44.44444444444444, 51.111111111111114, 75.55555555555556, 100.0, 73.33333333333333, 22.22222222222222, 95.55555555555556, 51.111111111111114, 60.0, 75.55555555555556, 82.22222222222223, 97.77777777777777, 93.33333333333333, 95.55555555555556]\n"
     ]
    }
   ],
   "source": [
    "marks = [ 20, 23, 34, 45, 33, 10, 43, 23, 27, 34, 37, 44, 42, 43 ]\n",
    "\n",
    "print(list(map(lambda x, y=100 :x*y/45 , marks)))"
   ]
  },
  {
   "cell_type": "markdown",
   "metadata": {
    "id": "gO9ZI3GhAFfs"
   },
   "source": [
    "The output is the percentage scores."
   ]
  },
  {
   "cell_type": "markdown",
   "metadata": {
    "id": "0eLchs7UAFfs"
   },
   "source": [
    "**2. Create two lists and add corresponding elements of each list**"
   ]
  },
  {
   "cell_type": "code",
   "execution_count": null,
   "metadata": {
    "id": "i4yOnFbRAFfs",
    "outputId": "9f0824b2-6e3d-434b-9aee-b8947059b4a8"
   },
   "outputs": [
    {
     "name": "stdout",
     "output_type": "stream",
     "text": [
      "[42, 40, 110]\n"
     ]
    }
   ],
   "source": [
    "# iteration using list\n",
    "list_a = [30, 35, 40]\n",
    "list_b = [12, 5, 70]\n",
    "\n",
    "print(list(map(lambda x, y: x + y, list_a, list_b)))"
   ]
  },
  {
   "cell_type": "markdown",
   "metadata": {
    "id": "OYUhcH6yAFfs"
   },
   "source": [
    "<a id='filter'></a>\n",
    "### 5.2 Function filter()"
   ]
  },
  {
   "cell_type": "markdown",
   "metadata": {
    "id": "7qHtqWNuAFfs"
   },
   "source": [
    "**1. To obtain the  sum of cubes of odd number from 1 to 50**"
   ]
  },
  {
   "cell_type": "code",
   "execution_count": null,
   "metadata": {
    "id": "BY7A4A9gAFfs",
    "outputId": "8264e10d-207b-4cb5-b32e-c5e92eae827c"
   },
   "outputs": [
    {
     "data": {
      "text/plain": [
       "20825"
      ]
     },
     "execution_count": 1,
     "metadata": {},
     "output_type": "execute_result"
    }
   ],
   "source": [
    "# sum of cubes of odd numers from 1 to 50\n",
    "\n",
    "# user defined function to obtain the cube\n",
    "def cube(x):\n",
    "    return(x*x)\n",
    "\n",
    "# user defined function to obtain odds numbers from a list\n",
    "def isodd(x):\n",
    "    return(x%2 == 1)\n",
    "\n",
    "# create a list of all cubes\n",
    "list_cubes = list(map(cube,filter(isodd,range(1,50))))\n",
    "\n",
    "# sum of all elements in the in the list_cube\n",
    "sum(list_cubes)"
   ]
  },
  {
   "cell_type": "markdown",
   "metadata": {
    "id": "ilSqySeRAFft"
   },
   "source": [
    "The same code above can be done using list comprehension  in the follwing way:"
   ]
  },
  {
   "cell_type": "code",
   "execution_count": null,
   "metadata": {
    "id": "yP0BlvK1AFft",
    "outputId": "92857da8-dbe6-40a1-e883-6ed9835d77fd",
    "scrolled": true
   },
   "outputs": [
    {
     "data": {
      "text/plain": [
       "20825"
      ]
     },
     "execution_count": 2,
     "metadata": {},
     "output_type": "execute_result"
    }
   ],
   "source": [
    "# map - the function defined above is called\n",
    "# generator - the range for numbers is fixed\n",
    "# filter - cube is calculated for the numbers which satisfy the 'if' condition\n",
    "# built-in function sum() is used to obtain the sum\n",
    "\n",
    "sum ( [cube(x) for x in range(50) if isodd(x)] ) # Map - Generator - Filter\n"
   ]
  },
  {
   "cell_type": "markdown",
   "metadata": {
    "id": "8cYuNjoYAFft"
   },
   "source": [
    "**2. To obtain the odd numbers from a list**"
   ]
  },
  {
   "cell_type": "code",
   "execution_count": null,
   "metadata": {
    "id": "PH8Zp57wAFft",
    "outputId": "9d618508-280d-4f19-f708-9089be94c723"
   },
   "outputs": [
    {
     "name": "stdout",
     "output_type": "stream",
     "text": [
      "Type of filter object:  <class 'filter'>\n",
      "Even number is as follows:  [34, 458, 456, 578]\n"
     ]
    }
   ],
   "source": [
    "numbers = [121, 443, 477, 125, 34, 655, 458, 141, 363, 125, 456 , 578, 123]\n",
    "\n",
    "# function that filters the numbers\n",
    "def oddnumber(in_num):\n",
    "    if(in_num % 2) == 0:\n",
    "        return True\n",
    "    else:\n",
    "        return False\n",
    "\n",
    "# Use filter() to remove odd numbers\n",
    "out_filter_number = filter(oddnumber, numbers)\n",
    "\n",
    "print(\"Type of filter object: \", type(out_filter_number))\n",
    "print(\"Even number is as follows: \", list(out_filter_number))"
   ]
  },
  {
   "cell_type": "markdown",
   "metadata": {
    "id": "xN5GFZZrAFft"
   },
   "source": [
    "<a id='reduce'></a>\n",
    "### 4.3 Function reduce()"
   ]
  },
  {
   "cell_type": "markdown",
   "metadata": {
    "id": "58FJjdLzAFft"
   },
   "source": [
    "**1. List of  sales in a shop are noted. Obtain the total sales**"
   ]
  },
  {
   "cell_type": "code",
   "execution_count": null,
   "metadata": {
    "id": "pVAXrdGMAFft",
    "outputId": "53298ff9-feab-4546-d107-a03fe99421d1"
   },
   "outputs": [
    {
     "name": "stdout",
     "output_type": "stream",
     "text": [
      "385730\n"
     ]
    }
   ],
   "source": [
    "# import reduce function from functools\n",
    "from functools import reduce\n",
    "\n",
    "sale = [14565,65460,74450,54546,23245,14543,84355,54566]\n",
    "total_sale = reduce(lambda a, b: a + b, sale)\n",
    "print(total_sale)\n"
   ]
  },
  {
   "cell_type": "markdown",
   "metadata": {
    "id": "KHA3BqhfAFft"
   },
   "source": [
    "**Thus we may say the total sale is 385730 INR.**"
   ]
  },
  {
   "cell_type": "markdown",
   "metadata": {
    "id": "cAiv981MAFfu"
   },
   "source": [
    "**2. Factorial of a 5**"
   ]
  },
  {
   "cell_type": "code",
   "execution_count": null,
   "metadata": {
    "id": "KR2VKi_JAFfu",
    "outputId": "112a7313-4615-4abd-da7b-7da83abbb677"
   },
   "outputs": [
    {
     "name": "stdout",
     "output_type": "stream",
     "text": [
      "The factorial of 6 is  720\n"
     ]
    }
   ],
   "source": [
    "# import reduce function from functools\n",
    "from functools import reduce\n",
    "\n",
    "factorial = reduce(lambda p,q : p*q , range(1,7))\n",
    "\n",
    "print(\"The factorial of 6 is \",factorial)"
   ]
  },
  {
   "cell_type": "markdown",
   "metadata": {
    "id": "y7nDDhGuAFfu"
   },
   "source": [
    "<a id='accumulate'></a>\n",
    "### 4.3 Function accumulate()"
   ]
  },
  {
   "cell_type": "markdown",
   "metadata": {
    "id": "YQsT2fjCAFfu"
   },
   "source": [
    "**1.  Sum of first ten whole numbers**"
   ]
  },
  {
   "cell_type": "code",
   "execution_count": null,
   "metadata": {
    "id": "l8CRI8jWAFfu",
    "outputId": "1d8ff28d-4db6-49a4-fd25-df7fbffe1dee"
   },
   "outputs": [
    {
     "name": "stdout",
     "output_type": "stream",
     "text": [
      "The summation of list using accumulate is :[0, 1, 3, 6, 10, 15, 21, 28, 36, 45]\n"
     ]
    }
   ],
   "source": [
    "# importing itertools for accumulate()\n",
    "import itertools\n",
    "\n",
    "# priting summation using accumulate()\n",
    "print (\"The summation of list using accumulate is :\",end=\"\")\n",
    "print (list(itertools.accumulate(range(10),lambda x,y : x+y)))"
   ]
  },
  {
   "cell_type": "markdown",
   "metadata": {
    "id": "8uxND3QIAFfu"
   },
   "source": [
    "The output of reduce() will be:"
   ]
  },
  {
   "cell_type": "code",
   "execution_count": null,
   "metadata": {
    "id": "rdCNMvT4AFfu",
    "outputId": "0f0fa6fb-470b-4462-b6a9-e59264e92f24"
   },
   "outputs": [
    {
     "name": "stdout",
     "output_type": "stream",
     "text": [
      "45\n"
     ]
    }
   ],
   "source": [
    "# import reduce function from functools\n",
    "from functools import reduce\n",
    "\n",
    "sum = reduce(lambda a,b : a+b , range(10))\n",
    "print(sum)"
   ]
  },
  {
   "cell_type": "markdown",
   "metadata": {
    "id": "jJsv4QyHAFfv"
   },
   "source": [
    "The function accumulate() displays the iterations whereas the function reduce() displays the final output."
   ]
  },
  {
   "cell_type": "code",
   "execution_count": null,
   "metadata": {
    "id": "PmoYq2a0A58O"
   },
   "outputs": [],
   "source": []
  }
 ],
 "metadata": {
  "colab": {
   "authorship_tag": "ABX9TyPZowkz+CakxPH6kREau3Gk",
   "provenance": [
    {
     "file_id": "1Y97HDoCubU_i1q4uaF5tvuj0HSZGtY8t",
     "timestamp": 1694078910907
    }
   ]
  },
  "kernelspec": {
   "display_name": "Python 3 (ipykernel)",
   "language": "python",
   "name": "python3"
  },
  "language_info": {
   "codemirror_mode": {
    "name": "ipython",
    "version": 3
   },
   "file_extension": ".py",
   "mimetype": "text/x-python",
   "name": "python",
   "nbconvert_exporter": "python",
   "pygments_lexer": "ipython3",
   "version": "3.11.4"
  }
 },
 "nbformat": 4,
 "nbformat_minor": 1
}
