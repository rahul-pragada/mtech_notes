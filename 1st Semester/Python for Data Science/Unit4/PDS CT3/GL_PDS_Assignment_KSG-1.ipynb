{
 "cells": [
  {
   "cell_type": "code",
   "execution_count": 1,
   "id": "9b949514",
   "metadata": {
    "id": "9b949514"
   },
   "outputs": [],
   "source": [
    "import pandas as pd\n",
    "import numpy as np"
   ]
  },
  {
   "cell_type": "code",
   "execution_count": 2,
   "id": "839befe7",
   "metadata": {
    "id": "5e1b63fd"
   },
   "outputs": [],
   "source": [
    "# ## 1. create the following two dimensional arrays\n",
    "\n",
    "# [[1., 0., 0., 0., 0.],\n",
    "#        [0., 1., 0., 0., 0.],\n",
    "#        [0., 0., 1., 0., 0.],\n",
    "#        [0., 0., 0., 1., 0.],\n",
    "#        [0., 0., 0., 0., 1.]]\n",
    "# 2. [[1, 0, 0, 0],\n",
    "#        [0, 2, 0, 0],\n",
    "#        [0, 0, 3, 0],\n",
    "#        [0, 0, 0, 4]]\n",
    "# 3. Create a checkerboard pattern in an array using row and col slicing\n"
   ]
  },
  {
   "cell_type": "markdown",
   "id": "10ee3bc2",
   "metadata": {},
   "source": [
    "Question 1.1: Create an array with below pattern\n",
    "    \n",
    "        [[1., 0., 0., 0., 0.],\n",
    "    \n",
    "        [0., 1., 0., 0., 0.],\n",
    "\n",
    "        [0., 0., 1., 0., 0.],\n",
    "\n",
    "        [0., 0., 0., 1., 0.],\n",
    "\n",
    "        [0., 0., 0., 0., 1.]]"
   ]
  },
  {
   "cell_type": "code",
   "execution_count": 3,
   "id": "62bb379a",
   "metadata": {},
   "outputs": [
    {
     "data": {
      "text/plain": [
       "array([[1., 0., 0., 0., 0.],\n",
       "       [0., 1., 0., 0., 0.],\n",
       "       [0., 0., 1., 0., 0.],\n",
       "       [0., 0., 0., 1., 0.],\n",
       "       [0., 0., 0., 0., 1.]])"
      ]
     },
     "execution_count": 3,
     "metadata": {},
     "output_type": "execute_result"
    }
   ],
   "source": [
    "#Method 1: Using identity function of numpy\n",
    "arr1=np.identity(5)\n",
    "arr1"
   ]
  },
  {
   "cell_type": "code",
   "execution_count": 4,
   "id": "ec6e8bb5",
   "metadata": {},
   "outputs": [
    {
     "data": {
      "text/plain": [
       "array([[1., 0., 0., 0., 0.],\n",
       "       [0., 1., 0., 0., 0.],\n",
       "       [0., 0., 1., 0., 0.],\n",
       "       [0., 0., 0., 1., 0.],\n",
       "       [0., 0., 0., 0., 1.]])"
      ]
     },
     "execution_count": 4,
     "metadata": {},
     "output_type": "execute_result"
    }
   ],
   "source": [
    "#Method 2: Using for loop\n",
    "arr1=np.zeros([5,5])\n",
    "array_shape = arr1.shape\n",
    "rows = array_shape[0]\n",
    "cols = array_shape[1]\n",
    "for r in range(0,rows):\n",
    "    for c in range(0,cols):\n",
    "        if(r==c):\n",
    "            arr1[r,c] = 1\n",
    "arr1"
   ]
  },
  {
   "cell_type": "markdown",
   "id": "6251bd86",
   "metadata": {},
   "source": [
    "Question 1.2: Create an array with below pattern\n",
    "    \n",
    "        [[1, 0, 0, 0],\n",
    "          \n",
    "        [0, 2, 0, 0],\n",
    "        \n",
    "        [0, 0, 3, 0],\n",
    "        \n",
    "        [0, 0, 0, 4]]"
   ]
  },
  {
   "cell_type": "code",
   "execution_count": 5,
   "id": "4fe3c738",
   "metadata": {},
   "outputs": [
    {
     "data": {
      "text/plain": [
       "array([[1, 0, 0, 0],\n",
       "       [0, 2, 0, 0],\n",
       "       [0, 0, 3, 0],\n",
       "       [0, 0, 0, 4]])"
      ]
     },
     "execution_count": 5,
     "metadata": {},
     "output_type": "execute_result"
    }
   ],
   "source": [
    "#Method 1: Using diag function of numpy\n",
    "arr2= np.diag((1,2,3,4))\n",
    "arr2"
   ]
  },
  {
   "cell_type": "code",
   "execution_count": 6,
   "id": "cd27d15c",
   "metadata": {},
   "outputs": [
    {
     "data": {
      "text/plain": [
       "array([[1, 0, 0, 0],\n",
       "       [0, 2, 0, 0],\n",
       "       [0, 0, 3, 0],\n",
       "       [0, 0, 0, 4]])"
      ]
     },
     "execution_count": 6,
     "metadata": {},
     "output_type": "execute_result"
    }
   ],
   "source": [
    "# Method 2: Using for loop\n",
    "arr2=np.full([4,4],0)\n",
    "array_shape = arr1.shape\n",
    "rows = array_shape[0]\n",
    "cols = array_shape[1]\n",
    "for r in range(0,rows-1):\n",
    "    for c in range(0,cols-1):\n",
    "        if(r==c):\n",
    "            arr2[r,c] = r+1\n",
    "arr2"
   ]
  },
  {
   "cell_type": "markdown",
   "id": "0c9a692b",
   "metadata": {},
   "source": [
    "Question 1.3: 3. Create a checkerboard pattern in an array using row and col slicing\n"
   ]
  },
  {
   "cell_type": "code",
   "execution_count": 7,
   "id": "72dc3f50",
   "metadata": {},
   "outputs": [
    {
     "data": {
      "text/plain": [
       "array([[1, 0, 1, 0, 1, 0, 1, 0],\n",
       "       [0, 1, 0, 1, 0, 1, 0, 1],\n",
       "       [1, 0, 1, 0, 1, 0, 1, 0],\n",
       "       [0, 1, 0, 1, 0, 1, 0, 1],\n",
       "       [1, 0, 1, 0, 1, 0, 1, 0],\n",
       "       [0, 1, 0, 1, 0, 1, 0, 1],\n",
       "       [1, 0, 1, 0, 1, 0, 1, 0],\n",
       "       [0, 1, 0, 1, 0, 1, 0, 1]], dtype=int32)"
      ]
     },
     "execution_count": 7,
     "metadata": {},
     "output_type": "execute_result"
    }
   ],
   "source": [
    "#Creating a checkerboard pattern using Slicing so that alternative elemement is assigned as 1\n",
    "\n",
    "arr3=np.zeros([8,8], dtype='int32')\n",
    "arr3[::2,::2]=1\n",
    "arr3[1::2,1::2]=1\n",
    "arr3"
   ]
  },
  {
   "cell_type": "markdown",
   "id": "3b8299d0",
   "metadata": {
    "id": "b57ec644"
   },
   "source": [
    "4. Compute the no of bytes occupied in the memory for an array of numbers from 1 to 10"
   ]
  },
  {
   "cell_type": "code",
   "execution_count": 8,
   "id": "3a215957",
   "metadata": {},
   "outputs": [
    {
     "name": "stdout",
     "output_type": "stream",
     "text": [
      "Bytes Occupied in memory by given array is:  80\n"
     ]
    }
   ],
   "source": [
    "#Using nbytes function of numpy array to find out the bytes occupied in memory for a given array\n",
    "arr4=np.arange(1,11)\n",
    "print(\"Bytes Occupied in memory by given array is: \", arr4.nbytes)\n"
   ]
  },
  {
   "cell_type": "markdown",
   "id": "cebaf237",
   "metadata": {
    "id": "3b270eab"
   },
   "source": [
    "### 5. img=[[200,210,209],[213,0,214],[214,215,217]]\n",
    "\n",
    "\n",
    "Given a snap shot of the image, estimate the centre pixel with mean,median values.\n"
   ]
  },
  {
   "cell_type": "code",
   "execution_count": 28,
   "id": "8ef6850d",
   "metadata": {},
   "outputs": [
    {
     "name": "stdout",
     "output_type": "stream",
     "text": [
      "Center pixel value replaced with mean:\n",
      " [[200 210 209]\n",
      " [213 188 214]\n",
      " [214 215 217]]\n",
      "\n",
      "Center pixel value replaced with mendia:\n",
      " [[200 210 209]\n",
      " [213 213 214]\n",
      " [214 215 217]]\n"
     ]
    }
   ],
   "source": [
    "img=np.array([[200,210,209],[213,0,214],[214,215,217]])\n",
    "plane_img=img.ravel()\n",
    "img[1,1]=np.mean(plane_img)\n",
    "print(\"Center pixel value replaced with mean:\\n\", img) \n",
    "# Mean value 188 seems to be very less compated other elements in the image array so need to apply median\n",
    "img[1,1]=np.median(plane_img)\n",
    "print(\"\\nCenter pixel value replaced with median:\\n\",img)\n",
    "# Median value 213 proves to appropriate value for the given location. \n"
   ]
  },
  {
   "cell_type": "markdown",
   "id": "c65c4b65",
   "metadata": {
    "id": "0a925b91"
   },
   "source": [
    "6. create a Pandas series to store the marks of students and filter the marks >50,>70,>90"
   ]
  },
  {
   "cell_type": "code",
   "execution_count": 10,
   "id": "d0610b4e",
   "metadata": {},
   "outputs": [
    {
     "name": "stdout",
     "output_type": "stream",
     "text": [
      "Marks greater than 50:\n",
      " 2     74\n",
      "9     85\n",
      "13    53\n",
      "18    96\n",
      "19    82\n",
      "dtype: int64\n",
      "\n",
      "\n",
      "Marks greater than 75:\n",
      " 2     74\n",
      "9     85\n",
      "18    96\n",
      "19    82\n",
      "dtype: int64\n",
      "\n",
      "\n",
      "Marks greater than 90:\n",
      " 18    96\n",
      "dtype: int64\n"
     ]
    }
   ],
   "source": [
    "arr6 = np.random.randint(0,100, size =(20))\n",
    "marks = pd.Series(arr6)\n",
    "print(\"Marks greater than 50:\\n\", marks[marks>50])\n",
    "print(\"\\n\\nMarks greater than 75:\\n\", marks[marks>70])\n",
    "print(\"\\n\\nMarks greater than 90:\\n\", marks[marks>90])"
   ]
  },
  {
   "cell_type": "markdown",
   "id": "13f9ae60",
   "metadata": {
    "id": "b023f3a9"
   },
   "source": [
    "7.Create data frame given below to store student info from the numpy arrays defined"
   ]
  },
  {
   "cell_type": "code",
   "execution_count": 11,
   "id": "d9e17aa8",
   "metadata": {
    "id": "d9e17aa8",
    "outputId": "a3cb33b5-36d9-4f23-87d0-bdc14aae388c"
   },
   "outputs": [
    {
     "data": {
      "text/html": [
       "<div>\n",
       "<style scoped>\n",
       "    .dataframe tbody tr th:only-of-type {\n",
       "        vertical-align: middle;\n",
       "    }\n",
       "\n",
       "    .dataframe tbody tr th {\n",
       "        vertical-align: top;\n",
       "    }\n",
       "\n",
       "    .dataframe thead th {\n",
       "        text-align: right;\n",
       "    }\n",
       "</style>\n",
       "<table border=\"1\" class=\"dataframe\">\n",
       "  <thead>\n",
       "    <tr style=\"text-align: right;\">\n",
       "      <th></th>\n",
       "      <th>name</th>\n",
       "      <th>age</th>\n",
       "      <th>gender</th>\n",
       "      <th>state</th>\n",
       "      <th>cgpa</th>\n",
       "    </tr>\n",
       "  </thead>\n",
       "  <tbody>\n",
       "    <tr>\n",
       "      <th>0</th>\n",
       "      <td>kevin</td>\n",
       "      <td>23</td>\n",
       "      <td>m</td>\n",
       "      <td>TN</td>\n",
       "      <td>9</td>\n",
       "    </tr>\n",
       "    <tr>\n",
       "      <th>1</th>\n",
       "      <td>john</td>\n",
       "      <td>21</td>\n",
       "      <td>m</td>\n",
       "      <td>KL</td>\n",
       "      <td>8</td>\n",
       "    </tr>\n",
       "    <tr>\n",
       "      <th>2</th>\n",
       "      <td>hari</td>\n",
       "      <td>22</td>\n",
       "      <td>f</td>\n",
       "      <td>KN</td>\n",
       "      <td>7</td>\n",
       "    </tr>\n",
       "  </tbody>\n",
       "</table>\n",
       "</div>"
      ],
      "text/plain": [
       "    name  age gender state  cgpa\n",
       "0  kevin   23      m    TN     9\n",
       "1   john   21      m    KL     8\n",
       "2   hari   22      f    KN     7"
      ]
     },
     "execution_count": 11,
     "metadata": {},
     "output_type": "execute_result"
    }
   ],
   "source": [
    "name=np.array(['kevin','john','hari'])\n",
    "age=np.array([23,21,22])\n",
    "gender=np.array(['m','m','f'])\n",
    "state=np.array(['TN','KL','KN'])\n",
    "cgpa=np.array([9,8,7])\n",
    "\n",
    "df=pd.DataFrame({'name':name,'age':age,'gender':gender,'state':state,'cgpa':cgpa})\n",
    "df"
   ]
  },
  {
   "cell_type": "markdown",
   "id": "2c47fd25",
   "metadata": {
    "id": "8471b19c"
   },
   "source": [
    "    1.Filter the age\n",
    "    \n",
    "    2.filter age,cgpa\n",
    "    \n",
    "    3.Filter age>22\n",
    "    \n",
    "    4.names starts with j\n",
    "    \n",
    "    5.names contains 'n'"
   ]
  },
  {
   "cell_type": "code",
   "execution_count": 12,
   "id": "908e25c3",
   "metadata": {},
   "outputs": [
    {
     "data": {
      "text/plain": [
       "0    23\n",
       "1    21\n",
       "2    22\n",
       "Name: age, dtype: int64"
      ]
     },
     "execution_count": 12,
     "metadata": {},
     "output_type": "execute_result"
    }
   ],
   "source": [
    "#1.Filter the age\n",
    "df_age=df['age']\n",
    "df_age"
   ]
  },
  {
   "cell_type": "code",
   "execution_count": 13,
   "id": "4e9f1015",
   "metadata": {
    "scrolled": true
   },
   "outputs": [
    {
     "data": {
      "text/html": [
       "<div>\n",
       "<style scoped>\n",
       "    .dataframe tbody tr th:only-of-type {\n",
       "        vertical-align: middle;\n",
       "    }\n",
       "\n",
       "    .dataframe tbody tr th {\n",
       "        vertical-align: top;\n",
       "    }\n",
       "\n",
       "    .dataframe thead th {\n",
       "        text-align: right;\n",
       "    }\n",
       "</style>\n",
       "<table border=\"1\" class=\"dataframe\">\n",
       "  <thead>\n",
       "    <tr style=\"text-align: right;\">\n",
       "      <th></th>\n",
       "      <th>age</th>\n",
       "      <th>cgpa</th>\n",
       "    </tr>\n",
       "  </thead>\n",
       "  <tbody>\n",
       "    <tr>\n",
       "      <th>0</th>\n",
       "      <td>23</td>\n",
       "      <td>9</td>\n",
       "    </tr>\n",
       "    <tr>\n",
       "      <th>1</th>\n",
       "      <td>21</td>\n",
       "      <td>8</td>\n",
       "    </tr>\n",
       "    <tr>\n",
       "      <th>2</th>\n",
       "      <td>22</td>\n",
       "      <td>7</td>\n",
       "    </tr>\n",
       "  </tbody>\n",
       "</table>\n",
       "</div>"
      ],
      "text/plain": [
       "   age  cgpa\n",
       "0   23     9\n",
       "1   21     8\n",
       "2   22     7"
      ]
     },
     "execution_count": 13,
     "metadata": {},
     "output_type": "execute_result"
    }
   ],
   "source": [
    "#2.filter age,cgpa\n",
    "df_age_cgpa=df[['age','cgpa']]\n",
    "df_age_cgpa"
   ]
  },
  {
   "cell_type": "code",
   "execution_count": 14,
   "id": "f130ea10",
   "metadata": {},
   "outputs": [
    {
     "data": {
      "text/html": [
       "<div>\n",
       "<style scoped>\n",
       "    .dataframe tbody tr th:only-of-type {\n",
       "        vertical-align: middle;\n",
       "    }\n",
       "\n",
       "    .dataframe tbody tr th {\n",
       "        vertical-align: top;\n",
       "    }\n",
       "\n",
       "    .dataframe thead th {\n",
       "        text-align: right;\n",
       "    }\n",
       "</style>\n",
       "<table border=\"1\" class=\"dataframe\">\n",
       "  <thead>\n",
       "    <tr style=\"text-align: right;\">\n",
       "      <th></th>\n",
       "      <th>name</th>\n",
       "      <th>age</th>\n",
       "      <th>gender</th>\n",
       "      <th>state</th>\n",
       "      <th>cgpa</th>\n",
       "    </tr>\n",
       "  </thead>\n",
       "  <tbody>\n",
       "    <tr>\n",
       "      <th>0</th>\n",
       "      <td>kevin</td>\n",
       "      <td>23</td>\n",
       "      <td>m</td>\n",
       "      <td>TN</td>\n",
       "      <td>9</td>\n",
       "    </tr>\n",
       "  </tbody>\n",
       "</table>\n",
       "</div>"
      ],
      "text/plain": [
       "    name  age gender state  cgpa\n",
       "0  kevin   23      m    TN     9"
      ]
     },
     "execution_count": 14,
     "metadata": {},
     "output_type": "execute_result"
    }
   ],
   "source": [
    "#3.Filter age>22\n",
    "df_age_check=df[df['age']>22]\n",
    "df_age_check"
   ]
  },
  {
   "cell_type": "code",
   "execution_count": 15,
   "id": "e2b69591",
   "metadata": {},
   "outputs": [
    {
     "name": "stdout",
     "output_type": "stream",
     "text": [
      "1    john\n",
      "Name: name, dtype: object\n"
     ]
    }
   ],
   "source": [
    "#4.names starts with j\n",
    "print(df['name'][df['name'].str.startswith('j')])\n"
   ]
  },
  {
   "cell_type": "code",
   "execution_count": 16,
   "id": "9ab2b3c8",
   "metadata": {},
   "outputs": [
    {
     "name": "stdout",
     "output_type": "stream",
     "text": [
      "0    kevin\n",
      "1     john\n",
      "Name: name, dtype: object\n"
     ]
    }
   ],
   "source": [
    "#5.names contains 'n'\n",
    "print(df['name'][df['name'].str.contains('n')])"
   ]
  },
  {
   "cell_type": "markdown",
   "id": "f2101123",
   "metadata": {
    "id": "9122528b"
   },
   "source": [
    "8. Given the two data frames,\n",
    "\n",
    "dfr1=pd.DataFrame({'Id':[1,2,3,5,9],\n",
    "\n",
    "                    'Col1':[1,2,3,4,5],\n",
    "                    \n",
    "                     'col2':[6,7,8,9,10],\n",
    "                     \n",
    "                      'col4':['apple','orange','banana','strawberry','rasberry']})\n",
    "                      \n",
    "  dfr2=pd.DataFrame({'Id':[1,1,3,5],\n",
    "  \n",
    "                    'ColA':[8,9,10,11],\n",
    "                    \n",
    "                     'colB':[12,13,15,17],\n",
    "                     \n",
    "                      'col4':['apple','orange','banana','kiwi']})\n",
    "                      \n",
    "\n",
    "Perform left, right and inner join on the dataframes"
   ]
  },
  {
   "cell_type": "code",
   "execution_count": 17,
   "id": "80929c22",
   "metadata": {},
   "outputs": [],
   "source": [
    "dfr1=pd.DataFrame({'Id':[1,2,3,5,9],\n",
    "                'Col1':[1,2,3,4,5],\n",
    "                \n",
    "                 'col2':[6,7,8,9,10],\n",
    "                 \n",
    "                  'col4':['apple','orange','banana','strawberry','rasberry']})\n",
    "                  \n",
    "dfr2=pd.DataFrame({'Id':[1,1,3,5],\n",
    "                'ColA':[8,9,10,11],\n",
    "                \n",
    "                 'colB':[12,13,15,17],\n",
    "                 \n",
    "                  'col4':['apple','orange','banana','kiwi']})\n",
    "\n"
   ]
  },
  {
   "cell_type": "code",
   "execution_count": 18,
   "id": "f48fb8fd",
   "metadata": {},
   "outputs": [
    {
     "data": {
      "text/html": [
       "<div>\n",
       "<style scoped>\n",
       "    .dataframe tbody tr th:only-of-type {\n",
       "        vertical-align: middle;\n",
       "    }\n",
       "\n",
       "    .dataframe tbody tr th {\n",
       "        vertical-align: top;\n",
       "    }\n",
       "\n",
       "    .dataframe thead th {\n",
       "        text-align: right;\n",
       "    }\n",
       "</style>\n",
       "<table border=\"1\" class=\"dataframe\">\n",
       "  <thead>\n",
       "    <tr style=\"text-align: right;\">\n",
       "      <th></th>\n",
       "      <th>Id</th>\n",
       "      <th>Col1</th>\n",
       "      <th>col2</th>\n",
       "      <th>col4</th>\n",
       "    </tr>\n",
       "  </thead>\n",
       "  <tbody>\n",
       "    <tr>\n",
       "      <th>0</th>\n",
       "      <td>1</td>\n",
       "      <td>1</td>\n",
       "      <td>6</td>\n",
       "      <td>apple</td>\n",
       "    </tr>\n",
       "    <tr>\n",
       "      <th>1</th>\n",
       "      <td>2</td>\n",
       "      <td>2</td>\n",
       "      <td>7</td>\n",
       "      <td>orange</td>\n",
       "    </tr>\n",
       "    <tr>\n",
       "      <th>2</th>\n",
       "      <td>3</td>\n",
       "      <td>3</td>\n",
       "      <td>8</td>\n",
       "      <td>banana</td>\n",
       "    </tr>\n",
       "    <tr>\n",
       "      <th>3</th>\n",
       "      <td>5</td>\n",
       "      <td>4</td>\n",
       "      <td>9</td>\n",
       "      <td>strawberry</td>\n",
       "    </tr>\n",
       "    <tr>\n",
       "      <th>4</th>\n",
       "      <td>9</td>\n",
       "      <td>5</td>\n",
       "      <td>10</td>\n",
       "      <td>rasberry</td>\n",
       "    </tr>\n",
       "  </tbody>\n",
       "</table>\n",
       "</div>"
      ],
      "text/plain": [
       "   Id  Col1  col2        col4\n",
       "0   1     1     6       apple\n",
       "1   2     2     7      orange\n",
       "2   3     3     8      banana\n",
       "3   5     4     9  strawberry\n",
       "4   9     5    10    rasberry"
      ]
     },
     "execution_count": 18,
     "metadata": {},
     "output_type": "execute_result"
    }
   ],
   "source": [
    "dfr1"
   ]
  },
  {
   "cell_type": "code",
   "execution_count": 19,
   "id": "92e2646e",
   "metadata": {},
   "outputs": [
    {
     "data": {
      "text/html": [
       "<div>\n",
       "<style scoped>\n",
       "    .dataframe tbody tr th:only-of-type {\n",
       "        vertical-align: middle;\n",
       "    }\n",
       "\n",
       "    .dataframe tbody tr th {\n",
       "        vertical-align: top;\n",
       "    }\n",
       "\n",
       "    .dataframe thead th {\n",
       "        text-align: right;\n",
       "    }\n",
       "</style>\n",
       "<table border=\"1\" class=\"dataframe\">\n",
       "  <thead>\n",
       "    <tr style=\"text-align: right;\">\n",
       "      <th></th>\n",
       "      <th>Id</th>\n",
       "      <th>ColA</th>\n",
       "      <th>colB</th>\n",
       "      <th>col4</th>\n",
       "    </tr>\n",
       "  </thead>\n",
       "  <tbody>\n",
       "    <tr>\n",
       "      <th>0</th>\n",
       "      <td>1</td>\n",
       "      <td>8</td>\n",
       "      <td>12</td>\n",
       "      <td>apple</td>\n",
       "    </tr>\n",
       "    <tr>\n",
       "      <th>1</th>\n",
       "      <td>1</td>\n",
       "      <td>9</td>\n",
       "      <td>13</td>\n",
       "      <td>orange</td>\n",
       "    </tr>\n",
       "    <tr>\n",
       "      <th>2</th>\n",
       "      <td>3</td>\n",
       "      <td>10</td>\n",
       "      <td>15</td>\n",
       "      <td>banana</td>\n",
       "    </tr>\n",
       "    <tr>\n",
       "      <th>3</th>\n",
       "      <td>5</td>\n",
       "      <td>11</td>\n",
       "      <td>17</td>\n",
       "      <td>kiwi</td>\n",
       "    </tr>\n",
       "  </tbody>\n",
       "</table>\n",
       "</div>"
      ],
      "text/plain": [
       "   Id  ColA  colB    col4\n",
       "0   1     8    12   apple\n",
       "1   1     9    13  orange\n",
       "2   3    10    15  banana\n",
       "3   5    11    17    kiwi"
      ]
     },
     "execution_count": 19,
     "metadata": {},
     "output_type": "execute_result"
    }
   ],
   "source": [
    "dfr2"
   ]
  },
  {
   "cell_type": "code",
   "execution_count": 20,
   "id": "95cd4769",
   "metadata": {},
   "outputs": [
    {
     "data": {
      "text/html": [
       "<div>\n",
       "<style scoped>\n",
       "    .dataframe tbody tr th:only-of-type {\n",
       "        vertical-align: middle;\n",
       "    }\n",
       "\n",
       "    .dataframe tbody tr th {\n",
       "        vertical-align: top;\n",
       "    }\n",
       "\n",
       "    .dataframe thead th {\n",
       "        text-align: right;\n",
       "    }\n",
       "</style>\n",
       "<table border=\"1\" class=\"dataframe\">\n",
       "  <thead>\n",
       "    <tr style=\"text-align: right;\">\n",
       "      <th></th>\n",
       "      <th>Id_L</th>\n",
       "      <th>Col1</th>\n",
       "      <th>col2</th>\n",
       "      <th>col4_L</th>\n",
       "      <th>Id_R</th>\n",
       "      <th>ColA</th>\n",
       "      <th>colB</th>\n",
       "      <th>col4_R</th>\n",
       "    </tr>\n",
       "  </thead>\n",
       "  <tbody>\n",
       "    <tr>\n",
       "      <th>0</th>\n",
       "      <td>1</td>\n",
       "      <td>1</td>\n",
       "      <td>6</td>\n",
       "      <td>apple</td>\n",
       "      <td>1.0</td>\n",
       "      <td>8.0</td>\n",
       "      <td>12.0</td>\n",
       "      <td>apple</td>\n",
       "    </tr>\n",
       "    <tr>\n",
       "      <th>1</th>\n",
       "      <td>2</td>\n",
       "      <td>2</td>\n",
       "      <td>7</td>\n",
       "      <td>orange</td>\n",
       "      <td>1.0</td>\n",
       "      <td>9.0</td>\n",
       "      <td>13.0</td>\n",
       "      <td>orange</td>\n",
       "    </tr>\n",
       "    <tr>\n",
       "      <th>2</th>\n",
       "      <td>3</td>\n",
       "      <td>3</td>\n",
       "      <td>8</td>\n",
       "      <td>banana</td>\n",
       "      <td>3.0</td>\n",
       "      <td>10.0</td>\n",
       "      <td>15.0</td>\n",
       "      <td>banana</td>\n",
       "    </tr>\n",
       "    <tr>\n",
       "      <th>3</th>\n",
       "      <td>5</td>\n",
       "      <td>4</td>\n",
       "      <td>9</td>\n",
       "      <td>strawberry</td>\n",
       "      <td>5.0</td>\n",
       "      <td>11.0</td>\n",
       "      <td>17.0</td>\n",
       "      <td>kiwi</td>\n",
       "    </tr>\n",
       "    <tr>\n",
       "      <th>4</th>\n",
       "      <td>9</td>\n",
       "      <td>5</td>\n",
       "      <td>10</td>\n",
       "      <td>rasberry</td>\n",
       "      <td>NaN</td>\n",
       "      <td>NaN</td>\n",
       "      <td>NaN</td>\n",
       "      <td>NaN</td>\n",
       "    </tr>\n",
       "  </tbody>\n",
       "</table>\n",
       "</div>"
      ],
      "text/plain": [
       "   Id_L  Col1  col2      col4_L  Id_R  ColA  colB  col4_R\n",
       "0     1     1     6       apple   1.0   8.0  12.0   apple\n",
       "1     2     2     7      orange   1.0   9.0  13.0  orange\n",
       "2     3     3     8      banana   3.0  10.0  15.0  banana\n",
       "3     5     4     9  strawberry   5.0  11.0  17.0    kiwi\n",
       "4     9     5    10    rasberry   NaN   NaN   NaN     NaN"
      ]
     },
     "execution_count": 20,
     "metadata": {},
     "output_type": "execute_result"
    }
   ],
   "source": [
    "#Left Join\n",
    "dfr1.join(dfr2, how='left', lsuffix=\"_L\", rsuffix=\"_R\")"
   ]
  },
  {
   "cell_type": "code",
   "execution_count": 21,
   "id": "8bcaf933",
   "metadata": {
    "scrolled": true
   },
   "outputs": [
    {
     "data": {
      "text/html": [
       "<div>\n",
       "<style scoped>\n",
       "    .dataframe tbody tr th:only-of-type {\n",
       "        vertical-align: middle;\n",
       "    }\n",
       "\n",
       "    .dataframe tbody tr th {\n",
       "        vertical-align: top;\n",
       "    }\n",
       "\n",
       "    .dataframe thead th {\n",
       "        text-align: right;\n",
       "    }\n",
       "</style>\n",
       "<table border=\"1\" class=\"dataframe\">\n",
       "  <thead>\n",
       "    <tr style=\"text-align: right;\">\n",
       "      <th></th>\n",
       "      <th>Id_L</th>\n",
       "      <th>Col1</th>\n",
       "      <th>col2</th>\n",
       "      <th>col4_L</th>\n",
       "      <th>Id_R</th>\n",
       "      <th>ColA</th>\n",
       "      <th>colB</th>\n",
       "      <th>col4_R</th>\n",
       "    </tr>\n",
       "  </thead>\n",
       "  <tbody>\n",
       "    <tr>\n",
       "      <th>0</th>\n",
       "      <td>1</td>\n",
       "      <td>1</td>\n",
       "      <td>6</td>\n",
       "      <td>apple</td>\n",
       "      <td>1</td>\n",
       "      <td>8</td>\n",
       "      <td>12</td>\n",
       "      <td>apple</td>\n",
       "    </tr>\n",
       "    <tr>\n",
       "      <th>1</th>\n",
       "      <td>2</td>\n",
       "      <td>2</td>\n",
       "      <td>7</td>\n",
       "      <td>orange</td>\n",
       "      <td>1</td>\n",
       "      <td>9</td>\n",
       "      <td>13</td>\n",
       "      <td>orange</td>\n",
       "    </tr>\n",
       "    <tr>\n",
       "      <th>2</th>\n",
       "      <td>3</td>\n",
       "      <td>3</td>\n",
       "      <td>8</td>\n",
       "      <td>banana</td>\n",
       "      <td>3</td>\n",
       "      <td>10</td>\n",
       "      <td>15</td>\n",
       "      <td>banana</td>\n",
       "    </tr>\n",
       "    <tr>\n",
       "      <th>3</th>\n",
       "      <td>5</td>\n",
       "      <td>4</td>\n",
       "      <td>9</td>\n",
       "      <td>strawberry</td>\n",
       "      <td>5</td>\n",
       "      <td>11</td>\n",
       "      <td>17</td>\n",
       "      <td>kiwi</td>\n",
       "    </tr>\n",
       "  </tbody>\n",
       "</table>\n",
       "</div>"
      ],
      "text/plain": [
       "   Id_L  Col1  col2      col4_L  Id_R  ColA  colB  col4_R\n",
       "0     1     1     6       apple     1     8    12   apple\n",
       "1     2     2     7      orange     1     9    13  orange\n",
       "2     3     3     8      banana     3    10    15  banana\n",
       "3     5     4     9  strawberry     5    11    17    kiwi"
      ]
     },
     "execution_count": 21,
     "metadata": {},
     "output_type": "execute_result"
    }
   ],
   "source": [
    "#Right Join\n",
    "dfr1.join(dfr2, how='right', lsuffix=\"_L\", rsuffix=\"_R\")"
   ]
  },
  {
   "cell_type": "code",
   "execution_count": 22,
   "id": "381f0e97",
   "metadata": {
    "scrolled": false
   },
   "outputs": [
    {
     "data": {
      "text/html": [
       "<div>\n",
       "<style scoped>\n",
       "    .dataframe tbody tr th:only-of-type {\n",
       "        vertical-align: middle;\n",
       "    }\n",
       "\n",
       "    .dataframe tbody tr th {\n",
       "        vertical-align: top;\n",
       "    }\n",
       "\n",
       "    .dataframe thead th {\n",
       "        text-align: right;\n",
       "    }\n",
       "</style>\n",
       "<table border=\"1\" class=\"dataframe\">\n",
       "  <thead>\n",
       "    <tr style=\"text-align: right;\">\n",
       "      <th></th>\n",
       "      <th>Id_L</th>\n",
       "      <th>Col1</th>\n",
       "      <th>col2</th>\n",
       "      <th>col4_L</th>\n",
       "      <th>Id_R</th>\n",
       "      <th>ColA</th>\n",
       "      <th>colB</th>\n",
       "      <th>col4_R</th>\n",
       "    </tr>\n",
       "  </thead>\n",
       "  <tbody>\n",
       "    <tr>\n",
       "      <th>0</th>\n",
       "      <td>1</td>\n",
       "      <td>1</td>\n",
       "      <td>6</td>\n",
       "      <td>apple</td>\n",
       "      <td>1</td>\n",
       "      <td>8</td>\n",
       "      <td>12</td>\n",
       "      <td>apple</td>\n",
       "    </tr>\n",
       "    <tr>\n",
       "      <th>1</th>\n",
       "      <td>2</td>\n",
       "      <td>2</td>\n",
       "      <td>7</td>\n",
       "      <td>orange</td>\n",
       "      <td>1</td>\n",
       "      <td>9</td>\n",
       "      <td>13</td>\n",
       "      <td>orange</td>\n",
       "    </tr>\n",
       "    <tr>\n",
       "      <th>2</th>\n",
       "      <td>3</td>\n",
       "      <td>3</td>\n",
       "      <td>8</td>\n",
       "      <td>banana</td>\n",
       "      <td>3</td>\n",
       "      <td>10</td>\n",
       "      <td>15</td>\n",
       "      <td>banana</td>\n",
       "    </tr>\n",
       "    <tr>\n",
       "      <th>3</th>\n",
       "      <td>5</td>\n",
       "      <td>4</td>\n",
       "      <td>9</td>\n",
       "      <td>strawberry</td>\n",
       "      <td>5</td>\n",
       "      <td>11</td>\n",
       "      <td>17</td>\n",
       "      <td>kiwi</td>\n",
       "    </tr>\n",
       "  </tbody>\n",
       "</table>\n",
       "</div>"
      ],
      "text/plain": [
       "   Id_L  Col1  col2      col4_L  Id_R  ColA  colB  col4_R\n",
       "0     1     1     6       apple     1     8    12   apple\n",
       "1     2     2     7      orange     1     9    13  orange\n",
       "2     3     3     8      banana     3    10    15  banana\n",
       "3     5     4     9  strawberry     5    11    17    kiwi"
      ]
     },
     "execution_count": 22,
     "metadata": {},
     "output_type": "execute_result"
    }
   ],
   "source": [
    "#Inner Join\n",
    "dfr1.join(dfr2, how='inner', lsuffix=\"_L\", rsuffix=\"_R\")"
   ]
  },
  {
   "cell_type": "markdown",
   "id": "0395fba2",
   "metadata": {
    "id": "4b9e73eb"
   },
   "source": [
    "9. Apply sigmoid function to the array [2,5,6]\n",
    "\n",
    "1.define sigmoid function\n",
    "\n",
    "2.create the np array\n",
    "\n",
    "3.Apply the function to the array"
   ]
  },
  {
   "cell_type": "code",
   "execution_count": 23,
   "id": "390e877e",
   "metadata": {},
   "outputs": [],
   "source": [
    "# 1. Defining Sigmoid function\n",
    "def sigmoid_function(x):\n",
    "    return(1/(1+np.exp(-x)))\n",
    "    "
   ]
  },
  {
   "cell_type": "code",
   "execution_count": 24,
   "id": "329055a2",
   "metadata": {},
   "outputs": [
    {
     "data": {
      "text/plain": [
       "array([2, 5, 6])"
      ]
     },
     "execution_count": 24,
     "metadata": {},
     "output_type": "execute_result"
    }
   ],
   "source": [
    "# 2. Numpy array Creation\n",
    "arr9=np.array([2,5,6])\n",
    "arr9"
   ]
  },
  {
   "cell_type": "code",
   "execution_count": 25,
   "id": "9e35d174",
   "metadata": {},
   "outputs": [
    {
     "data": {
      "text/plain": [
       "array([0.88079708, 0.99330715, 0.99752738])"
      ]
     },
     "execution_count": 25,
     "metadata": {},
     "output_type": "execute_result"
    }
   ],
   "source": [
    "# 3. Applying the Sigmoid function to the array\n",
    "sigmoid_function(arr9)"
   ]
  },
  {
   "cell_type": "code",
   "execution_count": null,
   "id": "92bd10df",
   "metadata": {},
   "outputs": [],
   "source": []
  }
 ],
 "metadata": {
  "colab": {
   "provenance": []
  },
  "kernelspec": {
   "display_name": "Python 3 (ipykernel)",
   "language": "python",
   "name": "python3"
  },
  "language_info": {
   "codemirror_mode": {
    "name": "ipython",
    "version": 3
   },
   "file_extension": ".py",
   "mimetype": "text/x-python",
   "name": "python",
   "nbconvert_exporter": "python",
   "pygments_lexer": "ipython3",
   "version": "3.11.4"
  }
 },
 "nbformat": 4,
 "nbformat_minor": 5
}
