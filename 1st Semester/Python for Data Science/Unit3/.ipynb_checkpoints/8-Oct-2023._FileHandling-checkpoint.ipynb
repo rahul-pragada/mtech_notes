{
 "cells": [
  {
   "cell_type": "code",
   "execution_count": 1,
   "id": "bdd61e6e",
   "metadata": {},
   "outputs": [
    {
     "name": "stdout",
     "output_type": "stream",
     "text": [
      "This is ok you can work on files\n",
      "\n",
      "File1\n",
      "\n",
      "Filet2\n",
      "\n",
      "File3\n",
      "\n",
      "File4}\n"
     ]
    }
   ],
   "source": [
    "f=open('1.txt')\n",
    "for each_line in f:\n",
    "    print(each_line)"
   ]
  },
  {
   "cell_type": "code",
   "execution_count": 2,
   "id": "2af154c7",
   "metadata": {},
   "outputs": [
    {
     "name": "stdout",
     "output_type": "stream",
     "text": [
      "This is ok you can work on files\n",
      "\n",
      "File1\n",
      "\n",
      "Filet2\n",
      "\n",
      "File3\n",
      "\n",
      "File4}\n"
     ]
    }
   ],
   "source": [
    "f1=open('1.txt','rt') #read mode and t of text file\n",
    "for each_line1 in f1:\n",
    "    print(each_line1)"
   ]
  },
  {
   "cell_type": "code",
   "execution_count": 3,
   "id": "0caaecdf",
   "metadata": {
    "scrolled": true
   },
   "outputs": [
    {
     "name": "stdout",
     "output_type": "stream",
     "text": [
      "This is ok you can work on files\n",
      "\n",
      "File1\n",
      "\n",
      "Filet2\n",
      "\n",
      "File3\n",
      "\n",
      "File4}\n"
     ]
    }
   ],
   "source": [
    "f2=open('1.txt','rt') #read mode \n",
    "for each_line2 in f2:\n",
    "    print(each_line2)"
   ]
  },
  {
   "cell_type": "code",
   "execution_count": 4,
   "id": "79878fbd",
   "metadata": {},
   "outputs": [
    {
     "name": "stdout",
     "output_type": "stream",
     "text": [
      "This is ok you can work on files\n",
      "File1\n",
      "Filet2\n",
      "File3\n",
      "File4}\n"
     ]
    }
   ],
   "source": [
    "f2=open('1.txt','rt') #read mode \n",
    "print(f2.read())"
   ]
  },
  {
   "cell_type": "code",
   "execution_count": 5,
   "id": "61306f6b",
   "metadata": {},
   "outputs": [
    {
     "name": "stdout",
     "output_type": "stream",
     "text": [
      "This is ok you can work on files\n",
      "File1\n",
      "Filet2\n",
      "File3\n",
      "File4}\n"
     ]
    }
   ],
   "source": [
    "with open(\"1.txt\") as f:\n",
    "    file_content = f.read()\n",
    "print(file_content)"
   ]
  },
  {
   "cell_type": "code",
   "execution_count": 6,
   "id": "52b524ad",
   "metadata": {},
   "outputs": [
    {
     "name": "stdout",
     "output_type": "stream",
     "text": [
      "20\n",
      "ork on files\n",
      "File1\n",
      "Filet2\n",
      "File3\n",
      "File4}\n"
     ]
    }
   ],
   "source": [
    "with open(\"1.txt\") as f:\n",
    "    f.seek(20)\n",
    "    print(f.tell())\n",
    "    file_content = f.read()\n",
    "print(file_content)"
   ]
  },
  {
   "cell_type": "code",
   "execution_count": 1,
   "id": "372dcb19",
   "metadata": {},
   "outputs": [
    {
     "name": "stdout",
     "output_type": "stream",
     "text": [
      "['This is ok you can work on files\\n', 'File1\\n', 'Filet2\\n', 'File3\\n', 'File4}']\n"
     ]
    }
   ],
   "source": [
    "with open('1.txt','r') as f:\n",
    "    data = f.readlines()\n",
    "print(data)\n",
    "#     for line in data:\n",
    "#         word = line.split()\n",
    "#         print(word)"
   ]
  },
  {
   "cell_type": "code",
   "execution_count": 8,
   "id": "9ddb473f",
   "metadata": {},
   "outputs": [],
   "source": [
    "fx = open(\"2.txt\",\"x\")"
   ]
  },
  {
   "cell_type": "code",
   "execution_count": 23,
   "id": "c9f16da9",
   "metadata": {},
   "outputs": [],
   "source": [
    "fw = open(\"3.txt\",\"a\")\n",
    "fw.writelines(\"333 We are learning file handling in pythong. this file is opened as write \\n\")\n",
    "fw.writelines([\"444 We are learning file handling in pythong. this file is opened as write\",\"555 We are learning file handling in pythong. this file is opened as write \\n\"])\n",
    "fw.close()"
   ]
  },
  {
   "cell_type": "code",
   "execution_count": 15,
   "id": "705a1d23",
   "metadata": {},
   "outputs": [],
   "source": [
    "fw = open(\"3.txt\",\"w\")\n",
    "fw.writelines(\"444 We are learning file handling in pythong. this file is opened as write\")\n",
    "fw.close()"
   ]
  },
  {
   "cell_type": "code",
   "execution_count": 16,
   "id": "0b1f8221",
   "metadata": {},
   "outputs": [],
   "source": [
    "fw = open(\"4.txt\",\"a\")\n",
    "fw.writelines(\"333 We are learning file handling in pythong. this file is opened as write\")\n",
    "fw.close()"
   ]
  },
  {
   "cell_type": "code",
   "execution_count": 18,
   "id": "f41a801c",
   "metadata": {},
   "outputs": [
    {
     "ename": "FileExistsError",
     "evalue": "[Errno 17] File exists: '5.txt'",
     "output_type": "error",
     "traceback": [
      "\u001b[0;31m---------------------------------------------------------------------------\u001b[0m",
      "\u001b[0;31mFileExistsError\u001b[0m                           Traceback (most recent call last)",
      "Cell \u001b[0;32mIn[18], line 1\u001b[0m\n\u001b[0;32m----> 1\u001b[0m fw \u001b[38;5;241m=\u001b[39m \u001b[38;5;28mopen\u001b[39m(\u001b[38;5;124m\"\u001b[39m\u001b[38;5;124m5.txt\u001b[39m\u001b[38;5;124m\"\u001b[39m,\u001b[38;5;124m\"\u001b[39m\u001b[38;5;124mx\u001b[39m\u001b[38;5;124m\"\u001b[39m)\n\u001b[1;32m      2\u001b[0m fw\u001b[38;5;241m.\u001b[39mwritelines(\u001b[38;5;124m\"\u001b[39m\u001b[38;5;124m333 We are learning file handling in pythong. this file is opened as write\u001b[39m\u001b[38;5;124m\"\u001b[39m)\n\u001b[1;32m      3\u001b[0m fw\u001b[38;5;241m.\u001b[39mclose()\n",
      "File \u001b[0;32m~/anaconda3/lib/python3.11/site-packages/IPython/core/interactiveshell.py:284\u001b[0m, in \u001b[0;36m_modified_open\u001b[0;34m(file, *args, **kwargs)\u001b[0m\n\u001b[1;32m    277\u001b[0m \u001b[38;5;28;01mif\u001b[39;00m file \u001b[38;5;129;01min\u001b[39;00m {\u001b[38;5;241m0\u001b[39m, \u001b[38;5;241m1\u001b[39m, \u001b[38;5;241m2\u001b[39m}:\n\u001b[1;32m    278\u001b[0m     \u001b[38;5;28;01mraise\u001b[39;00m \u001b[38;5;167;01mValueError\u001b[39;00m(\n\u001b[1;32m    279\u001b[0m         \u001b[38;5;124mf\u001b[39m\u001b[38;5;124m\"\u001b[39m\u001b[38;5;124mIPython won\u001b[39m\u001b[38;5;124m'\u001b[39m\u001b[38;5;124mt let you open fd=\u001b[39m\u001b[38;5;132;01m{\u001b[39;00mfile\u001b[38;5;132;01m}\u001b[39;00m\u001b[38;5;124m by default \u001b[39m\u001b[38;5;124m\"\u001b[39m\n\u001b[1;32m    280\u001b[0m         \u001b[38;5;124m\"\u001b[39m\u001b[38;5;124mas it is likely to crash IPython. If you know what you are doing, \u001b[39m\u001b[38;5;124m\"\u001b[39m\n\u001b[1;32m    281\u001b[0m         \u001b[38;5;124m\"\u001b[39m\u001b[38;5;124myou can use builtins\u001b[39m\u001b[38;5;124m'\u001b[39m\u001b[38;5;124m open.\u001b[39m\u001b[38;5;124m\"\u001b[39m\n\u001b[1;32m    282\u001b[0m     )\n\u001b[0;32m--> 284\u001b[0m \u001b[38;5;28;01mreturn\u001b[39;00m io_open(file, \u001b[38;5;241m*\u001b[39margs, \u001b[38;5;241m*\u001b[39m\u001b[38;5;241m*\u001b[39mkwargs)\n",
      "\u001b[0;31mFileExistsError\u001b[0m: [Errno 17] File exists: '5.txt'"
     ]
    }
   ],
   "source": [
    "fw = open(\"5.txt\",\"x\")\n",
    "fw.writelines(\"333 We are learning file handling in pythong. this file is opened as write\")\n",
    "fw.close()"
   ]
  },
  {
   "cell_type": "code",
   "execution_count": 28,
   "id": "277b52b7",
   "metadata": {},
   "outputs": [],
   "source": [
    "with open(\"1.csv\",'w') as f:\n",
    "    for i in range(1,10):\n",
    "        for j in range(1,i+3):\n",
    "            f.writelines(f'{j} ,')\n",
    "        f.writelines('\\n')\n",
    "f.close()"
   ]
  },
  {
   "cell_type": "code",
   "execution_count": 31,
   "id": "df1a46c7",
   "metadata": {},
   "outputs": [
    {
     "name": "stdout",
     "output_type": "stream",
     "text": [
      "1 ,2 ,3 ,4 ,\n",
      "1 ,2 ,3 ,4 ,5 ,\n",
      "1 ,2 ,3 ,4 ,5 ,6 ,\n",
      "1 ,2 ,3 ,4 ,5 ,6 ,7 ,\n",
      "1 ,2 ,3 ,4 ,5 ,6 ,7 ,8 ,\n",
      "1 ,2 ,3 ,4 ,5 ,6 ,7 ,8 ,9 ,\n",
      "1 ,2 ,3 ,4 ,5 ,6 ,7 ,8 ,9 ,10 ,\n",
      "1 ,2 ,3 ,4 ,5 ,6 ,7 ,8 ,9 ,10 ,11 ,\n",
      "\n"
     ]
    }
   ],
   "source": [
    "with open(\"1.csv\", \"r\") as f:\n",
    "    for i in f:\n",
    "        print(f.read())"
   ]
  },
  {
   "cell_type": "code",
   "execution_count": 45,
   "id": "618733ff",
   "metadata": {},
   "outputs": [],
   "source": [
    "import random \n",
    "with open(\"sum.txt\",\"w\") as f:\n",
    "    for i in range(1,10):\n",
    "        f.writelines(str(random.randint(1,99))+'\\n')"
   ]
  },
  {
   "cell_type": "code",
   "execution_count": 57,
   "id": "d4d07a85",
   "metadata": {},
   "outputs": [
    {
     "name": "stdout",
     "output_type": "stream",
     "text": [
      "24\n",
      "\n",
      "34\n",
      "\n",
      "35\n",
      "\n",
      "43\n",
      "\n",
      "65\n",
      "\n",
      "76\n",
      "\n",
      "67\n",
      "\n",
      "87\n",
      "\n",
      "98\n",
      "529\n"
     ]
    }
   ],
   "source": [
    "sum1 = 0\n",
    "with open(\"sum-c.txt\",'r') as fc:\n",
    "    for i in fc.readlines():\n",
    "        print(i)\n",
    "        sum1 += int(i)\n",
    "print(sum1)"
   ]
  },
  {
   "cell_type": "code",
   "execution_count": 56,
   "id": "0d296238",
   "metadata": {},
   "outputs": [
    {
     "name": "stdout",
     "output_type": "stream",
     "text": [
      "Enter filename:uu\n",
      "Enter something:lajsdflasjf lasjdf \n"
     ]
    }
   ],
   "source": [
    "fn = input(\"Enter filename:\")\n",
    "with open(fn,\"w\") as f:\n",
    "    txt = input(\"Enter something:\")\n",
    "    f.write(txt)\n",
    "f.close()"
   ]
  },
  {
   "cell_type": "code",
   "execution_count": null,
   "id": "3088eb1e",
   "metadata": {},
   "outputs": [],
   "source": []
  }
 ],
 "metadata": {
  "kernelspec": {
   "display_name": "Python 3 (ipykernel)",
   "language": "python",
   "name": "python3"
  },
  "language_info": {
   "codemirror_mode": {
    "name": "ipython",
    "version": 3
   },
   "file_extension": ".py",
   "mimetype": "text/x-python",
   "name": "python",
   "nbconvert_exporter": "python",
   "pygments_lexer": "ipython3",
   "version": "3.11.4"
  }
 },
 "nbformat": 4,
 "nbformat_minor": 5
}
