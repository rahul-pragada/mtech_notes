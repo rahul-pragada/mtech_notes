{
 "cells": [
  {
   "cell_type": "markdown",
   "id": "221cf346",
   "metadata": {},
   "source": [
    "Class: A classs is a denotion of collection of objects. \n",
    "\n",
    "A class ontains the blueprints or the prototype from which the objects are being created. \n",
    "\n",
    "It is a logical entity that contains some attributees and methods\n",
    "\n",
    "class Classname:\n",
    "\n",
    "Object_name = class_name()\n",
    "the pass statement\n",
    "Inheritence: child (derived) class inherit parent class \n",
    "    Class BaseClass:\n",
    "    Class ChildClass inhertits BaseClass"
   ]
  },
  {
   "cell_type": "code",
   "execution_count": 1,
   "id": "4b5d825e",
   "metadata": {},
   "outputs": [],
   "source": [
    "class SampleClass:\n",
    "    first_atr = 12"
   ]
  },
  {
   "cell_type": "code",
   "execution_count": 2,
   "id": "7717a8bd",
   "metadata": {},
   "outputs": [
    {
     "name": "stdout",
     "output_type": "stream",
     "text": [
      "12\n"
     ]
    }
   ],
   "source": [
    "first_object = SampleClass()\n",
    "print(first_object.first_atr)"
   ]
  },
  {
   "cell_type": "code",
   "execution_count": 3,
   "id": "31737bc3",
   "metadata": {},
   "outputs": [
    {
     "name": "stdout",
     "output_type": "stream",
     "text": [
      "KSG Anand\n",
      "90\n",
      "Male\n"
     ]
    }
   ],
   "source": [
    "class Person:\n",
    "    def __init__(self,name, age, gender):\n",
    "        self.name = name\n",
    "        self.age = age\n",
    "        self.gender = gender\n",
    "    \n",
    "first_person = Person(\"KSG Anand\",90,\"Male\")\n",
    "\n",
    "print(first_person.name)\n",
    "print(first_person.age)\n",
    "print(first_person.gender)"
   ]
  },
  {
   "cell_type": "code",
   "execution_count": 4,
   "id": "5ec8ad68",
   "metadata": {},
   "outputs": [
    {
     "name": "stdout",
     "output_type": "stream",
     "text": [
      "<__main__.Person object at 0x105d1f590>\n"
     ]
    }
   ],
   "source": [
    "class Person:\n",
    "    def __init__(self,name, age, gender):\n",
    "        self.name = name\n",
    "        self.age = age\n",
    "        self.gender = gender\n",
    "        \n",
    "    \n",
    "    \n",
    "second_person = Person(\"KSG Anand\",90,\"Male\")\n",
    "\n",
    "print(second_person)\n"
   ]
  },
  {
   "cell_type": "code",
   "execution_count": 5,
   "id": "3a8353cf",
   "metadata": {},
   "outputs": [
    {
     "name": "stdout",
     "output_type": "stream",
     "text": [
      "KSG Anand , 90 , Male\n"
     ]
    }
   ],
   "source": [
    "class Person:\n",
    "    def __init__(self,name, age, gender):\n",
    "        self.name = name\n",
    "        self.age = age\n",
    "        self.gender = gender\n",
    "        \n",
    "    def __str__(self):\n",
    "        return f\"{self.name} , {self.age} , {self.gender}\"\n",
    "    \n",
    "second_person = Person(\"KSG Anand\",90,\"Male\")\n",
    "\n",
    "print(second_person)\n"
   ]
  },
  {
   "cell_type": "code",
   "execution_count": 8,
   "id": "6f6a93d9",
   "metadata": {},
   "outputs": [
    {
     "name": "stdout",
     "output_type": "stream",
     "text": [
      "This is just to display \n",
      " My name: KSG Anand\n",
      " My age: 90\n"
     ]
    }
   ],
   "source": [
    "class Person:\n",
    "    def __init__(self,name, age, gender):\n",
    "        self.name = name\n",
    "        self.age = age\n",
    "        self.gender = gender\n",
    "        \n",
    "    def myfunc(self):\n",
    "        print(\"This is just to display \\n My name: \" + self.name + \"\\n My age: \" +str(self.age))\n",
    "        \n",
    "    \n",
    "    \n",
    "third_person = Person(\"KSG Anand\",90,\"Male\")\n",
    "\n",
    "third_person.myfunc()"
   ]
  },
  {
   "cell_type": "code",
   "execution_count": 12,
   "id": "2bc4cf35",
   "metadata": {},
   "outputs": [
    {
     "name": "stdout",
     "output_type": "stream",
     "text": [
      "This is just to display \n",
      " My name: KSG Anand\n",
      " My age: 90\n"
     ]
    }
   ],
   "source": [
    "class Person:\n",
    "    def __init__(myobject,name, age, gender):\n",
    "        myobject.name = name\n",
    "        myobject.age = age\n",
    "        myobject.gender = gender\n",
    "        \n",
    "    def myfunc(xyz):\n",
    "        print(\"This is just to display \\n My name: \" + xyz.name + \"\\n My age: \" +str(xyz.age))\n",
    "        \n",
    "    \n",
    "    \n",
    "forth_person = Person(\"KSG Anand\",90,\"Male\")\n",
    "\n",
    "forth_person.myfunc()"
   ]
  },
  {
   "cell_type": "code",
   "execution_count": 13,
   "id": "5e515bb7",
   "metadata": {},
   "outputs": [],
   "source": [
    "forth_person.age = 75"
   ]
  },
  {
   "cell_type": "code",
   "execution_count": 14,
   "id": "bd846a80",
   "metadata": {},
   "outputs": [
    {
     "data": {
      "text/plain": [
       "<__main__.Person at 0x1069a0fd0>"
      ]
     },
     "execution_count": 14,
     "metadata": {},
     "output_type": "execute_result"
    }
   ],
   "source": [
    "forth_person"
   ]
  },
  {
   "cell_type": "code",
   "execution_count": 15,
   "id": "c006e0db",
   "metadata": {},
   "outputs": [
    {
     "name": "stdout",
     "output_type": "stream",
     "text": [
      "This is just to display \n",
      " My name: KSG Anand\n",
      " My age: 75\n"
     ]
    }
   ],
   "source": [
    "forth_person.myfunc()"
   ]
  },
  {
   "cell_type": "code",
   "execution_count": 16,
   "id": "6e02ffd8",
   "metadata": {},
   "outputs": [],
   "source": [
    "del forth_person.age"
   ]
  },
  {
   "cell_type": "code",
   "execution_count": 17,
   "id": "00e2624c",
   "metadata": {},
   "outputs": [
    {
     "ename": "AttributeError",
     "evalue": "'Person' object has no attribute 'age'",
     "output_type": "error",
     "traceback": [
      "\u001b[0;31m---------------------------------------------------------------------------\u001b[0m",
      "\u001b[0;31mAttributeError\u001b[0m                            Traceback (most recent call last)",
      "Cell \u001b[0;32mIn[17], line 1\u001b[0m\n\u001b[0;32m----> 1\u001b[0m forth_person\u001b[38;5;241m.\u001b[39mmyfunc()\n",
      "Cell \u001b[0;32mIn[12], line 8\u001b[0m, in \u001b[0;36mPerson.myfunc\u001b[0;34m(xyz)\u001b[0m\n\u001b[1;32m      7\u001b[0m \u001b[38;5;28;01mdef\u001b[39;00m \u001b[38;5;21mmyfunc\u001b[39m(xyz):\n\u001b[0;32m----> 8\u001b[0m     \u001b[38;5;28mprint\u001b[39m(\u001b[38;5;124m\"\u001b[39m\u001b[38;5;124mThis is just to display \u001b[39m\u001b[38;5;130;01m\\n\u001b[39;00m\u001b[38;5;124m My name: \u001b[39m\u001b[38;5;124m\"\u001b[39m \u001b[38;5;241m+\u001b[39m xyz\u001b[38;5;241m.\u001b[39mname \u001b[38;5;241m+\u001b[39m \u001b[38;5;124m\"\u001b[39m\u001b[38;5;130;01m\\n\u001b[39;00m\u001b[38;5;124m My age: \u001b[39m\u001b[38;5;124m\"\u001b[39m \u001b[38;5;241m+\u001b[39m\u001b[38;5;28mstr\u001b[39m(xyz\u001b[38;5;241m.\u001b[39mage))\n",
      "\u001b[0;31mAttributeError\u001b[0m: 'Person' object has no attribute 'age'"
     ]
    }
   ],
   "source": [
    "forth_person.myfunc() # should give error as age is deleted from object"
   ]
  },
  {
   "cell_type": "code",
   "execution_count": 18,
   "id": "30860b64",
   "metadata": {},
   "outputs": [],
   "source": [
    "del forth_person"
   ]
  },
  {
   "cell_type": "code",
   "execution_count": 19,
   "id": "4593cb8a",
   "metadata": {},
   "outputs": [
    {
     "ename": "NameError",
     "evalue": "name 'forth_person' is not defined",
     "output_type": "error",
     "traceback": [
      "\u001b[0;31m---------------------------------------------------------------------------\u001b[0m",
      "\u001b[0;31mNameError\u001b[0m                                 Traceback (most recent call last)",
      "Cell \u001b[0;32mIn[19], line 1\u001b[0m\n\u001b[0;32m----> 1\u001b[0m forth_person\u001b[38;5;241m.\u001b[39mmyfunc()\n",
      "\u001b[0;31mNameError\u001b[0m: name 'forth_person' is not defined"
     ]
    }
   ],
   "source": [
    "forth_person.myfunc()"
   ]
  },
  {
   "cell_type": "code",
   "execution_count": 21,
   "id": "5c746e4e",
   "metadata": {},
   "outputs": [],
   "source": [
    "#inehritence\n",
    "#pass to inherit all the properties of the parent\n",
    "class MalePerson(Person):\n",
    "    pass"
   ]
  },
  {
   "cell_type": "code",
   "execution_count": 49,
   "id": "4b624109",
   "metadata": {},
   "outputs": [],
   "source": [
    "count = 0 #class level perameter\n",
    "class Shape:\n",
    "\n",
    "    def __init__(myobject,side1,side2):\n",
    "        myobject.side1 = side1 \n",
    "        myobject.side2 = side2\n",
    "  \n",
    "    def area(myobject):\n",
    "        return myobject.side1*myobject.side2\n",
    "    def perimeter(myobject):\n",
    "        return 2*(myobject.side1+myobject.side2)\n",
    "    def scale(myobject, scale):\n",
    "        return scale*(myobject.side1*myobject.side2)\n",
    "    count+=1"
   ]
  },
  {
   "cell_type": "code",
   "execution_count": 58,
   "id": "8078ddbe",
   "metadata": {},
   "outputs": [
    {
     "name": "stdout",
     "output_type": "stream",
     "text": [
      "First shape area is:  15\n",
      "First shape Perimeter is:  16\n",
      "1\n"
     ]
    }
   ],
   "source": [
    "rectangle = Shape(3,5)\n",
    "\n",
    "print(\"First shape area is: \", rectangle.area())\n",
    "print(\"First shape Perimeter is: \", rectangle.perimeter())\n",
    "sh1 = Shape(30,40) #Create object\n",
    "sh2 = Shape(90,90) #Create object\n",
    "print(sh2.__class__.count) ##??"
   ]
  },
  {
   "cell_type": "code",
   "execution_count": 51,
   "id": "65b44d34",
   "metadata": {},
   "outputs": [
    {
     "data": {
      "text/plain": [
       "40"
      ]
     },
     "execution_count": 51,
     "metadata": {},
     "output_type": "execute_result"
    }
   ],
   "source": [
    "#get, set, has, del Attribute\n",
    "getattr(sh1, \"side2\")"
   ]
  },
  {
   "cell_type": "code",
   "execution_count": 52,
   "id": "da8ec6ca",
   "metadata": {},
   "outputs": [
    {
     "data": {
      "text/plain": [
       "True"
      ]
     },
     "execution_count": 52,
     "metadata": {},
     "output_type": "execute_result"
    }
   ],
   "source": [
    "hasattr(sh1, \"side2\")"
   ]
  },
  {
   "cell_type": "code",
   "execution_count": 53,
   "id": "df1e405b",
   "metadata": {},
   "outputs": [
    {
     "data": {
      "text/plain": [
       "40"
      ]
     },
     "execution_count": 53,
     "metadata": {},
     "output_type": "execute_result"
    }
   ],
   "source": [
    "getattr(sh1, \"side2\", 90)"
   ]
  },
  {
   "cell_type": "code",
   "execution_count": 54,
   "id": "12a24f9e",
   "metadata": {},
   "outputs": [
    {
     "data": {
      "text/plain": [
       "40"
      ]
     },
     "execution_count": 54,
     "metadata": {},
     "output_type": "execute_result"
    }
   ],
   "source": [
    "getattr(sh1, \"side2\")"
   ]
  },
  {
   "cell_type": "code",
   "execution_count": 55,
   "id": "06c922c3",
   "metadata": {},
   "outputs": [],
   "source": [
    "delattr(sh1, \"side2\")"
   ]
  },
  {
   "cell_type": "code",
   "execution_count": 56,
   "id": "09dca67f",
   "metadata": {},
   "outputs": [
    {
     "data": {
      "text/plain": [
       "False"
      ]
     },
     "execution_count": 56,
     "metadata": {},
     "output_type": "execute_result"
    }
   ],
   "source": [
    "hasattr(sh1, \"side2\")"
   ]
  },
  {
   "cell_type": "code",
   "execution_count": 57,
   "id": "b3177163",
   "metadata": {},
   "outputs": [],
   "source": [
    "sh1 = Shape(30,40)"
   ]
  },
  {
   "cell_type": "code",
   "execution_count": 59,
   "id": "220cb8a9",
   "metadata": {},
   "outputs": [
    {
     "name": "stdout",
     "output_type": "stream",
     "text": [
      "{'side1': 3, 'side2': 5}\n"
     ]
    }
   ],
   "source": [
    "#Built in attributes\n",
    "print(rectangle.__dict__) # Get a named list of attributes and values"
   ]
  },
  {
   "cell_type": "code",
   "execution_count": 60,
   "id": "d9049d03",
   "metadata": {},
   "outputs": [
    {
     "name": "stdout",
     "output_type": "stream",
     "text": [
      "Shape\n"
     ]
    }
   ],
   "source": [
    "print(rectangle.__class__.__name__) # Get class name of the object"
   ]
  },
  {
   "cell_type": "code",
   "execution_count": 61,
   "id": "c544072f",
   "metadata": {},
   "outputs": [
    {
     "name": "stdout",
     "output_type": "stream",
     "text": [
      "None\n"
     ]
    }
   ],
   "source": [
    "print(rectangle.__doc__) # Get object Documentation if any"
   ]
  },
  {
   "cell_type": "code",
   "execution_count": 62,
   "id": "d4961945",
   "metadata": {},
   "outputs": [
    {
     "name": "stdout",
     "output_type": "stream",
     "text": [
      "__main__\n"
     ]
    }
   ],
   "source": [
    "print(rectangle.__module__) # Get object module (By default main() will be given )"
   ]
  },
  {
   "cell_type": "code",
   "execution_count": 63,
   "id": "f3662bc3",
   "metadata": {},
   "outputs": [
    {
     "name": "stdout",
     "output_type": "stream",
     "text": [
      "(<class 'object'>,)\n"
     ]
    }
   ],
   "source": [
    "print(rectangle.__class__.__bases__) # Give if the object is perent class or child class"
   ]
  },
  {
   "cell_type": "code",
   "execution_count": 74,
   "id": "b6ada576",
   "metadata": {},
   "outputs": [],
   "source": [
    "class A:\n",
    "    \"\"\"\n",
    "    I Am A\n",
    "    \"\"\"\n",
    "    pass\n",
    "\n",
    "class B(A):\n",
    "    \"\"\"\n",
    "    I am B\n",
    "    \"\"\"\n",
    "    pass\n",
    "\n",
    "\n",
    "b = B()"
   ]
  },
  {
   "cell_type": "code",
   "execution_count": 76,
   "id": "5a90e461",
   "metadata": {},
   "outputs": [
    {
     "name": "stdout",
     "output_type": "stream",
     "text": [
      "(<class '__main__.A'>,)\n",
      "\n",
      "    I am B\n",
      "    \n"
     ]
    }
   ],
   "source": [
    "print(b.__class__.__bases__)\n",
    "print(b.__doc__)"
   ]
  },
  {
   "cell_type": "code",
   "execution_count": null,
   "id": "b6937402",
   "metadata": {},
   "outputs": [],
   "source": []
  },
  {
   "cell_type": "code",
   "execution_count": 77,
   "id": "163a1cd6",
   "metadata": {},
   "outputs": [
    {
     "name": "stdout",
     "output_type": "stream",
     "text": [
      "John Doe\n"
     ]
    }
   ],
   "source": [
    "class Person:\n",
    "    def __init__(self, fname, lname):\n",
    "        self.firstname = fname\n",
    "        self.lastname = lname\n",
    "    def printname(self):\n",
    "        print(self.firstname, self.lastname)\n",
    "\n",
    "x = Person(\"John\", \"Doe\")\n",
    "x.printname()"
   ]
  },
  {
   "cell_type": "code",
   "execution_count": 85,
   "id": "47c54f75",
   "metadata": {},
   "outputs": [
    {
     "name": "stdout",
     "output_type": "stream",
     "text": [
      "John Doe\n",
      "John Doe 8 2023\n"
     ]
    }
   ],
   "source": [
    "#Child class\n",
    "class Student(Person):\n",
    "        def __init__(self, fname, lname, grade, year): #Overriding the Class initation\n",
    "            Person.__init__(self,fname,lname) #also super() can be used.\n",
    "            self.grade = grade\n",
    "            self.year = year\n",
    "        def printdetails(self):\n",
    "            print(self.firstname, self.lastname,self.grade,self.year)\n",
    "            \n",
    "student2 = Student(\"John\", \"Doe\", 8, 2023)\n",
    "student2.printname()\n",
    "student2.printdetails()"
   ]
  },
  {
   "cell_type": "code",
   "execution_count": 108,
   "id": "6ac8a9bf",
   "metadata": {},
   "outputs": [],
   "source": [
    "#Another exmaple of parent (base) and child class\n",
    "class Polygon:\n",
    "    def __init__(self, sides):\n",
    "        self.n = sides\n",
    "\n",
    "    def inputSides(self):\n",
    "        self.sides = [float(input(\"Enter side\" + str(i+1)+ \" : \")) for i in range(self.n)]\n",
    "\n",
    "    def disSides(self):\n",
    "        for i in range(self.n):\n",
    "            print(\"Side \", i+1 , \"is\", self.sides[i])\n",
    "    def findArea(self):\n",
    "        area = 1\n",
    "        for i in range(self.n):\n",
    "            area *= self.sides[i]\n",
    "        print(area)"
   ]
  },
  {
   "cell_type": "code",
   "execution_count": 110,
   "id": "fa973221",
   "metadata": {},
   "outputs": [
    {
     "name": "stdout",
     "output_type": "stream",
     "text": [
      "Enter side1 : 4\n",
      "Enter side2 : 3\n",
      "Enter side3 : 6\n",
      "Enter side4 : 7\n",
      "Side  1 is 4.0\n",
      "Side  2 is 3.0\n",
      "Side  3 is 6.0\n",
      "Side  4 is 7.0\n",
      "504.0\n"
     ]
    }
   ],
   "source": [
    "#Creating an object for Parent Class\n",
    "object1_Polygon = Polygon(4)\n",
    "object1_Polygon.inputSides()\n",
    "object1_Polygon.disSides()\n",
    "object1_Polygon.findArea()"
   ]
  },
  {
   "cell_type": "code",
   "execution_count": 118,
   "id": "bdbed1ba",
   "metadata": {},
   "outputs": [],
   "source": [
    "import numpy as np"
   ]
  },
  {
   "cell_type": "code",
   "execution_count": 119,
   "id": "e2c06a2a",
   "metadata": {},
   "outputs": [],
   "source": [
    "#Creating a child class\n",
    "\n",
    "class triangle(Polygon):\n",
    "    def __init__(self,t):\n",
    "        super().__init__(3)\n",
    "        self.typ=t\n",
    "    def findArea(self):\n",
    "        a,b,c = self.sides\n",
    "        s = (a+b+c)/2\n",
    "        area = (float)(np.sqrt(s*(s-a)*(s-b)*(s-c)))\n",
    "        print('Area of the %s triangle is %0.2f' %(self.typ,area))"
   ]
  },
  {
   "cell_type": "code",
   "execution_count": 120,
   "id": "4d36bf35",
   "metadata": {},
   "outputs": [
    {
     "name": "stdout",
     "output_type": "stream",
     "text": [
      "Enter side1 : 3\n",
      "Enter side2 : 4\n",
      "Enter side3 : 5\n",
      "Side  1 is 3.0\n",
      "Side  2 is 4.0\n",
      "Side  3 is 5.0\n",
      "Area of the 4 triangle is 6.00\n"
     ]
    }
   ],
   "source": [
    "#creating child object\n",
    "triangle_object = triangle(4)\n",
    "\n",
    "triangle_object.inputSides()\n",
    "triangle_object.disSides()\n",
    "triangle_object.findArea()"
   ]
  },
  {
   "cell_type": "markdown",
   "id": "e8390af2",
   "metadata": {},
   "source": [
    "###### "
   ]
  }
 ],
 "metadata": {
  "kernelspec": {
   "display_name": "Python 3 (ipykernel)",
   "language": "python",
   "name": "python3"
  },
  "language_info": {
   "codemirror_mode": {
    "name": "ipython",
    "version": 3
   },
   "file_extension": ".py",
   "mimetype": "text/x-python",
   "name": "python",
   "nbconvert_exporter": "python",
   "pygments_lexer": "ipython3",
   "version": "3.11.4"
  }
 },
 "nbformat": 4,
 "nbformat_minor": 5
}
