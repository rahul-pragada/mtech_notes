{
 "cells": [
  {
   "cell_type": "markdown",
   "id": "05e806d2",
   "metadata": {},
   "source": [
    "# Numpy"
   ]
  },
  {
   "cell_type": "code",
   "execution_count": 1,
   "id": "ec34fb56",
   "metadata": {},
   "outputs": [],
   "source": [
    "import numpy as np"
   ]
  },
  {
   "cell_type": "code",
   "execution_count": 2,
   "id": "0ac05184",
   "metadata": {},
   "outputs": [],
   "source": [
    "a=np.arange(4)"
   ]
  },
  {
   "cell_type": "code",
   "execution_count": 3,
   "id": "436f6b82",
   "metadata": {},
   "outputs": [
    {
     "data": {
      "text/plain": [
       "array([0, 1, 2, 3])"
      ]
     },
     "execution_count": 3,
     "metadata": {},
     "output_type": "execute_result"
    }
   ],
   "source": [
    "a\n"
   ]
  },
  {
   "cell_type": "code",
   "execution_count": 4,
   "id": "0274b990",
   "metadata": {},
   "outputs": [],
   "source": [
    "b=np.arange(5,9)"
   ]
  },
  {
   "cell_type": "code",
   "execution_count": 5,
   "id": "3cf95df6",
   "metadata": {},
   "outputs": [
    {
     "data": {
      "text/plain": [
       "array([5, 6, 7, 8])"
      ]
     },
     "execution_count": 5,
     "metadata": {},
     "output_type": "execute_result"
    }
   ],
   "source": [
    "b\n"
   ]
  },
  {
   "cell_type": "code",
   "execution_count": 6,
   "id": "58122477",
   "metadata": {},
   "outputs": [],
   "source": [
    "c=np.arange(5,11,2)"
   ]
  },
  {
   "cell_type": "code",
   "execution_count": 7,
   "id": "89643c32",
   "metadata": {},
   "outputs": [
    {
     "data": {
      "text/plain": [
       "array([5, 7, 9])"
      ]
     },
     "execution_count": 7,
     "metadata": {},
     "output_type": "execute_result"
    }
   ],
   "source": [
    "c"
   ]
  },
  {
   "cell_type": "code",
   "execution_count": 8,
   "id": "770c4296",
   "metadata": {},
   "outputs": [
    {
     "data": {
      "text/plain": [
       "numpy.ndarray"
      ]
     },
     "execution_count": 8,
     "metadata": {},
     "output_type": "execute_result"
    }
   ],
   "source": [
    "type(c)"
   ]
  },
  {
   "cell_type": "code",
   "execution_count": 9,
   "id": "0ffada6a",
   "metadata": {},
   "outputs": [
    {
     "data": {
      "text/plain": [
       "array([0, 1, 2, 3, 4, 5, 6, 7, 8])"
      ]
     },
     "execution_count": 9,
     "metadata": {},
     "output_type": "execute_result"
    }
   ],
   "source": [
    "a=np.arange(9)\n",
    "a"
   ]
  },
  {
   "cell_type": "code",
   "execution_count": 10,
   "id": "a2fee24c",
   "metadata": {},
   "outputs": [
    {
     "data": {
      "text/plain": [
       "array([[0, 1, 2],\n",
       "       [3, 4, 5],\n",
       "       [6, 7, 8]])"
      ]
     },
     "execution_count": 10,
     "metadata": {},
     "output_type": "execute_result"
    }
   ],
   "source": [
    "a.reshape(3,3) "
   ]
  },
  {
   "cell_type": "code",
   "execution_count": 11,
   "id": "96142817",
   "metadata": {
    "scrolled": false
   },
   "outputs": [
    {
     "data": {
      "text/plain": [
       "array([0, 1, 2, 3, 4, 5, 6, 7, 8])"
      ]
     },
     "execution_count": 11,
     "metadata": {},
     "output_type": "execute_result"
    }
   ],
   "source": [
    "a"
   ]
  },
  {
   "cell_type": "code",
   "execution_count": 12,
   "id": "9d907f09",
   "metadata": {},
   "outputs": [],
   "source": [
    "a1=np.array([[1,2,3],[4,5,6]])"
   ]
  },
  {
   "cell_type": "code",
   "execution_count": 13,
   "id": "b1aa92ea",
   "metadata": {},
   "outputs": [
    {
     "data": {
      "text/plain": [
       "array([[1, 2, 3],\n",
       "       [4, 5, 6]])"
      ]
     },
     "execution_count": 13,
     "metadata": {},
     "output_type": "execute_result"
    }
   ],
   "source": [
    "a1"
   ]
  },
  {
   "cell_type": "code",
   "execution_count": 14,
   "id": "50bfae45",
   "metadata": {},
   "outputs": [],
   "source": [
    "a2=np.array([[[1,2,3],[4,5,6]],[[7,8,9],[10,11,12]]])"
   ]
  },
  {
   "cell_type": "code",
   "execution_count": 15,
   "id": "1f754f2b",
   "metadata": {},
   "outputs": [
    {
     "data": {
      "text/plain": [
       "array([[[ 1,  2,  3],\n",
       "        [ 4,  5,  6]],\n",
       "\n",
       "       [[ 7,  8,  9],\n",
       "        [10, 11, 12]]])"
      ]
     },
     "execution_count": 15,
     "metadata": {},
     "output_type": "execute_result"
    }
   ],
   "source": [
    "a2"
   ]
  },
  {
   "cell_type": "code",
   "execution_count": 16,
   "id": "c6e64c13",
   "metadata": {},
   "outputs": [
    {
     "data": {
      "text/plain": [
       "(2, 2, 3)"
      ]
     },
     "execution_count": 16,
     "metadata": {},
     "output_type": "execute_result"
    }
   ],
   "source": [
    "a2.shape"
   ]
  },
  {
   "cell_type": "code",
   "execution_count": 17,
   "id": "88e34b6a",
   "metadata": {},
   "outputs": [
    {
     "data": {
      "text/plain": [
       "3"
      ]
     },
     "execution_count": 17,
     "metadata": {},
     "output_type": "execute_result"
    }
   ],
   "source": [
    "a2.ndim"
   ]
  },
  {
   "cell_type": "code",
   "execution_count": 18,
   "id": "780177d0",
   "metadata": {},
   "outputs": [
    {
     "data": {
      "text/plain": [
       "12"
      ]
     },
     "execution_count": 18,
     "metadata": {},
     "output_type": "execute_result"
    }
   ],
   "source": [
    "a2.size"
   ]
  },
  {
   "cell_type": "code",
   "execution_count": 19,
   "id": "8095ed23",
   "metadata": {},
   "outputs": [],
   "source": [
    "z1=np.zeros((3,3)) #will result floating numbers"
   ]
  },
  {
   "cell_type": "code",
   "execution_count": 20,
   "id": "97873bf1",
   "metadata": {},
   "outputs": [
    {
     "data": {
      "text/plain": [
       "array([[0., 0., 0.],\n",
       "       [0., 0., 0.],\n",
       "       [0., 0., 0.]])"
      ]
     },
     "execution_count": 20,
     "metadata": {},
     "output_type": "execute_result"
    }
   ],
   "source": [
    "z1"
   ]
  },
  {
   "cell_type": "code",
   "execution_count": 21,
   "id": "e84ad8cd",
   "metadata": {},
   "outputs": [],
   "source": [
    "z2=np.zeros((3,3),dtype=int) #will result int numbers"
   ]
  },
  {
   "cell_type": "code",
   "execution_count": 22,
   "id": "89a607d9",
   "metadata": {},
   "outputs": [],
   "source": [
    "o1=np.ones((3,3)) #will result floating numbers"
   ]
  },
  {
   "cell_type": "code",
   "execution_count": 23,
   "id": "c895c134",
   "metadata": {},
   "outputs": [
    {
     "data": {
      "text/plain": [
       "array([[1., 1., 1.],\n",
       "       [1., 1., 1.],\n",
       "       [1., 1., 1.]])"
      ]
     },
     "execution_count": 23,
     "metadata": {},
     "output_type": "execute_result"
    }
   ],
   "source": [
    "o1"
   ]
  },
  {
   "cell_type": "code",
   "execution_count": 24,
   "id": "05bdbd9a",
   "metadata": {},
   "outputs": [],
   "source": [
    "o2=np.ones((3,3), dtype=int) #will result int numbers"
   ]
  },
  {
   "cell_type": "code",
   "execution_count": 25,
   "id": "fc70c024",
   "metadata": {},
   "outputs": [
    {
     "data": {
      "text/plain": [
       "array([[1, 1, 1],\n",
       "       [1, 1, 1],\n",
       "       [1, 1, 1]])"
      ]
     },
     "execution_count": 25,
     "metadata": {},
     "output_type": "execute_result"
    }
   ],
   "source": [
    "o2"
   ]
  },
  {
   "cell_type": "code",
   "execution_count": 26,
   "id": "1b347c9d",
   "metadata": {},
   "outputs": [],
   "source": [
    "f7= np.full((3,3),7) # fill all elements with given number"
   ]
  },
  {
   "cell_type": "code",
   "execution_count": 27,
   "id": "519a9f3b",
   "metadata": {},
   "outputs": [
    {
     "data": {
      "text/plain": [
       "array([[7, 7, 7],\n",
       "       [7, 7, 7],\n",
       "       [7, 7, 7]])"
      ]
     },
     "execution_count": 27,
     "metadata": {},
     "output_type": "execute_result"
    }
   ],
   "source": [
    "f7"
   ]
  },
  {
   "cell_type": "code",
   "execution_count": 28,
   "id": "a47833ec",
   "metadata": {},
   "outputs": [],
   "source": [
    "f8= np.full((5,5),8)"
   ]
  },
  {
   "cell_type": "code",
   "execution_count": 29,
   "id": "ed4511c8",
   "metadata": {},
   "outputs": [
    {
     "data": {
      "text/plain": [
       "array([[8, 8, 8, 8, 8],\n",
       "       [8, 8, 8, 8, 8],\n",
       "       [8, 8, 8, 8, 8],\n",
       "       [8, 8, 8, 8, 8],\n",
       "       [8, 8, 8, 8, 8]])"
      ]
     },
     "execution_count": 29,
     "metadata": {},
     "output_type": "execute_result"
    }
   ],
   "source": [
    "f8"
   ]
  },
  {
   "cell_type": "code",
   "execution_count": 30,
   "id": "62654e44",
   "metadata": {},
   "outputs": [],
   "source": [
    "e=np.random.randint(200,size=(5)) #random number till 200 randint for int random numbers"
   ]
  },
  {
   "cell_type": "code",
   "execution_count": 31,
   "id": "b3ec1258",
   "metadata": {},
   "outputs": [
    {
     "data": {
      "text/plain": [
       "array([ 89,  47, 101, 142, 154])"
      ]
     },
     "execution_count": 31,
     "metadata": {},
     "output_type": "execute_result"
    }
   ],
   "source": [
    "e"
   ]
  },
  {
   "cell_type": "code",
   "execution_count": 32,
   "id": "44d139a9",
   "metadata": {},
   "outputs": [],
   "source": [
    "e1=np.random.rand(10) ## 10 random numbers. random generates between 0 and 1"
   ]
  },
  {
   "cell_type": "code",
   "execution_count": 33,
   "id": "5e921304",
   "metadata": {},
   "outputs": [
    {
     "data": {
      "text/plain": [
       "array([0.6588246 , 0.81068745, 0.71740169, 0.57609819, 0.77122054,\n",
       "       0.46867197, 0.77766965, 0.81893933, 0.14329209, 0.73958785])"
      ]
     },
     "execution_count": 33,
     "metadata": {},
     "output_type": "execute_result"
    }
   ],
   "source": [
    "e1"
   ]
  },
  {
   "cell_type": "code",
   "execution_count": 34,
   "id": "74c3165d",
   "metadata": {
    "scrolled": true
   },
   "outputs": [],
   "source": [
    "r3=np.random.randint(20,size=(4,6)) "
   ]
  },
  {
   "cell_type": "code",
   "execution_count": 35,
   "id": "af554a5b",
   "metadata": {},
   "outputs": [
    {
     "data": {
      "text/plain": [
       "array([[13,  6,  4, 17, 14, 12],\n",
       "       [13,  5,  7, 19, 12, 12],\n",
       "       [12,  0, 14, 13, 18,  1],\n",
       "       [ 8, 13, 10, 18, 18, 12]])"
      ]
     },
     "execution_count": 35,
     "metadata": {},
     "output_type": "execute_result"
    }
   ],
   "source": [
    "r3"
   ]
  },
  {
   "cell_type": "code",
   "execution_count": 36,
   "id": "514ab5cc",
   "metadata": {},
   "outputs": [],
   "source": [
    "a11=np.array([1,2,3,4])\n",
    "a12=np.array([5,6,7,8])"
   ]
  },
  {
   "cell_type": "code",
   "execution_count": 37,
   "id": "68e3515b",
   "metadata": {},
   "outputs": [
    {
     "data": {
      "text/plain": [
       "array([ 6,  8, 10, 12])"
      ]
     },
     "execution_count": 37,
     "metadata": {},
     "output_type": "execute_result"
    }
   ],
   "source": [
    "a11+a12 #Operator or function can be used. Same applies for -, *, /\n",
    "#a11-a12\n",
    "#a11*a12\n",
    "#a11/a12\n",
    "#a12%a11"
   ]
  },
  {
   "cell_type": "code",
   "execution_count": 38,
   "id": "f9c4e9fc",
   "metadata": {},
   "outputs": [
    {
     "data": {
      "text/plain": [
       "(array([0, 0, 0, 0]), array([1, 2, 3, 4]))"
      ]
     },
     "execution_count": 38,
     "metadata": {},
     "output_type": "execute_result"
    }
   ],
   "source": [
    "np.add(a11,a12) #Operator or function can be used. Same applies for subtract, multiplication, devision\n",
    "# np.subtract\n",
    "# np.multiply\n",
    "# np.divide\n",
    "#np.mod\n",
    "np.divmod(a11,a12) #gives two arrays. quotient and remainder"
   ]
  },
  {
   "cell_type": "markdown",
   "id": "629e0fd1",
   "metadata": {},
   "source": [
    "# Array comparison"
   ]
  },
  {
   "cell_type": "code",
   "execution_count": 39,
   "id": "bc6e85b5",
   "metadata": {},
   "outputs": [],
   "source": [
    "x=[1,2,3]\n",
    "y=[2,3,4]\n",
    "z=[1,2,4]"
   ]
  },
  {
   "cell_type": "code",
   "execution_count": 40,
   "id": "a0ddc827",
   "metadata": {},
   "outputs": [
    {
     "data": {
      "text/plain": [
       "array([False, False, False])"
      ]
     },
     "execution_count": 40,
     "metadata": {},
     "output_type": "execute_result"
    }
   ],
   "source": [
    "np.equal(x,y) # Checks for each element and Results for each element"
   ]
  },
  {
   "cell_type": "code",
   "execution_count": 41,
   "id": "1db3ccf3",
   "metadata": {},
   "outputs": [
    {
     "data": {
      "text/plain": [
       "False"
      ]
     },
     "execution_count": 41,
     "metadata": {},
     "output_type": "execute_result"
    }
   ],
   "source": [
    "np.array_equal(x,y) # Checks for each element but results for entire array"
   ]
  },
  {
   "cell_type": "markdown",
   "id": "7a10ed5e",
   "metadata": {},
   "source": [
    "# Broad Casting an array"
   ]
  },
  {
   "cell_type": "code",
   "execution_count": 42,
   "id": "8dffa14b",
   "metadata": {},
   "outputs": [],
   "source": [
    "# To add certain numbers in all the rows"
   ]
  },
  {
   "cell_type": "code",
   "execution_count": 43,
   "id": "57b984e1",
   "metadata": {},
   "outputs": [],
   "source": [
    "ab=np.array([[0,0,0],[1,2,3],[3,4,5],[6,7,8]])"
   ]
  },
  {
   "cell_type": "code",
   "execution_count": 44,
   "id": "37e2d8e1",
   "metadata": {},
   "outputs": [],
   "source": [
    "bc= [1,2,3]"
   ]
  },
  {
   "cell_type": "code",
   "execution_count": 45,
   "id": "44219c84",
   "metadata": {
    "scrolled": true
   },
   "outputs": [
    {
     "data": {
      "text/plain": [
       "array([[ 1,  2,  3],\n",
       "       [ 2,  4,  6],\n",
       "       [ 4,  6,  8],\n",
       "       [ 7,  9, 11]])"
      ]
     },
     "execution_count": 45,
     "metadata": {},
     "output_type": "execute_result"
    }
   ],
   "source": [
    "ab+bc #adds the array elements to all the rows in 'ab' array"
   ]
  },
  {
   "cell_type": "markdown",
   "id": "b0fcf56f",
   "metadata": {},
   "source": [
    "# Array Manipulation"
   ]
  },
  {
   "cell_type": "code",
   "execution_count": 46,
   "id": "015aa243",
   "metadata": {},
   "outputs": [
    {
     "data": {
      "text/plain": [
       "array([[0, 0, 0],\n",
       "       [1, 2, 3],\n",
       "       [3, 4, 5],\n",
       "       [6, 7, 8]])"
      ]
     },
     "execution_count": 46,
     "metadata": {},
     "output_type": "execute_result"
    }
   ],
   "source": [
    "ab=np.array([[0,0,0],[1,2,3],[3,4,5],[6,7,8]])\n",
    "ab"
   ]
  },
  {
   "cell_type": "code",
   "execution_count": 47,
   "id": "df6185a4",
   "metadata": {},
   "outputs": [
    {
     "data": {
      "text/plain": [
       "array([[0, 0, 0],\n",
       "       [1, 2, 3],\n",
       "       [3, 4, 5],\n",
       "       [6, 7, 8]])"
      ]
     },
     "execution_count": 47,
     "metadata": {},
     "output_type": "execute_result"
    }
   ],
   "source": [
    "cd=np.array([[0,0,0],[1,2,3],[3,4,5],[6,7,8]])\n",
    "cd"
   ]
  },
  {
   "cell_type": "code",
   "execution_count": 48,
   "id": "d05a82af",
   "metadata": {},
   "outputs": [
    {
     "data": {
      "text/plain": [
       "array([[0, 0, 0],\n",
       "       [1, 2, 3],\n",
       "       [3, 4, 5],\n",
       "       [6, 7, 8],\n",
       "       [0, 0, 0],\n",
       "       [1, 2, 3],\n",
       "       [3, 4, 5],\n",
       "       [6, 7, 8]])"
      ]
     },
     "execution_count": 48,
     "metadata": {},
     "output_type": "execute_result"
    }
   ],
   "source": [
    "np.concatenate([ab,cd]) \n",
    "#need to pass the ordered sequence (either tuple or list) in this concatenate the function\n",
    "#by default axis=0 that is it adds as rows"
   ]
  },
  {
   "cell_type": "code",
   "execution_count": 49,
   "id": "41799d45",
   "metadata": {},
   "outputs": [
    {
     "data": {
      "text/plain": [
       "array([[0, 0, 0, 0, 0, 0],\n",
       "       [1, 2, 3, 1, 2, 3],\n",
       "       [3, 4, 5, 3, 4, 5],\n",
       "       [6, 7, 8, 6, 7, 8]])"
      ]
     },
     "execution_count": 49,
     "metadata": {},
     "output_type": "execute_result"
    }
   ],
   "source": [
    "np.concatenate([ab,cd], axis=1) #axis=1, that is it adds as columns"
   ]
  },
  {
   "cell_type": "code",
   "execution_count": 50,
   "id": "ab153164",
   "metadata": {},
   "outputs": [
    {
     "data": {
      "text/plain": [
       "array([[0, 0, 0, 0, 0, 0],\n",
       "       [1, 2, 3, 1, 2, 3],\n",
       "       [3, 4, 5, 3, 4, 5],\n",
       "       [6, 7, 8, 6, 7, 8]])"
      ]
     },
     "execution_count": 50,
     "metadata": {},
     "output_type": "execute_result"
    }
   ],
   "source": [
    "np.hstack((ab,cd)) #stacks arrays next to the first one"
   ]
  },
  {
   "cell_type": "code",
   "execution_count": 51,
   "id": "49b0e0da",
   "metadata": {},
   "outputs": [
    {
     "data": {
      "text/plain": [
       "array([[0, 0, 0],\n",
       "       [1, 2, 3],\n",
       "       [3, 4, 5],\n",
       "       [6, 7, 8],\n",
       "       [0, 0, 0],\n",
       "       [1, 2, 3],\n",
       "       [3, 4, 5],\n",
       "       [6, 7, 8]])"
      ]
     },
     "execution_count": 51,
     "metadata": {},
     "output_type": "execute_result"
    }
   ],
   "source": [
    "np.vstack((ab,cd)) #stacks arrays below to the first one"
   ]
  },
  {
   "cell_type": "code",
   "execution_count": 52,
   "id": "76714ebd",
   "metadata": {},
   "outputs": [],
   "source": [
    "ef=np.array([[0,0,0],[1,2,3],[3,4,5],[6,7,8]])"
   ]
  },
  {
   "cell_type": "code",
   "execution_count": 53,
   "id": "96d503ee",
   "metadata": {},
   "outputs": [
    {
     "data": {
      "text/plain": [
       "array([[0, 0, 0],\n",
       "       [1, 2, 3],\n",
       "       [3, 4, 5],\n",
       "       [6, 7, 8],\n",
       "       [0, 0, 0],\n",
       "       [1, 2, 3],\n",
       "       [3, 4, 5],\n",
       "       [6, 7, 8],\n",
       "       [0, 0, 0],\n",
       "       [1, 2, 3],\n",
       "       [3, 4, 5],\n",
       "       [6, 7, 8]])"
      ]
     },
     "execution_count": 53,
     "metadata": {},
     "output_type": "execute_result"
    }
   ],
   "source": [
    "np.vstack((ab,cd,ef))"
   ]
  },
  {
   "cell_type": "code",
   "execution_count": 54,
   "id": "2dd23660",
   "metadata": {},
   "outputs": [
    {
     "data": {
      "text/plain": [
       "array([[0, 0, 0, 0, 0, 0, 0, 0, 0],\n",
       "       [1, 2, 3, 1, 2, 3, 1, 2, 3],\n",
       "       [3, 4, 5, 3, 4, 5, 3, 4, 5],\n",
       "       [6, 7, 8, 6, 7, 8, 6, 7, 8]])"
      ]
     },
     "execution_count": 54,
     "metadata": {},
     "output_type": "execute_result"
    }
   ],
   "source": [
    "np.column_stack((ab,cd,ef))"
   ]
  },
  {
   "cell_type": "code",
   "execution_count": 55,
   "id": "c3501ac6",
   "metadata": {},
   "outputs": [
    {
     "data": {
      "text/plain": [
       "array([[0, 0, 0],\n",
       "       [1, 2, 3],\n",
       "       [3, 4, 5],\n",
       "       [6, 7, 8],\n",
       "       [0, 0, 0],\n",
       "       [1, 2, 3],\n",
       "       [3, 4, 5],\n",
       "       [6, 7, 8],\n",
       "       [0, 0, 0],\n",
       "       [1, 2, 3],\n",
       "       [3, 4, 5],\n",
       "       [6, 7, 8]])"
      ]
     },
     "execution_count": 55,
     "metadata": {},
     "output_type": "execute_result"
    }
   ],
   "source": [
    "np.row_stack((ab,cd,ef))"
   ]
  },
  {
   "cell_type": "markdown",
   "id": "3192c38b",
   "metadata": {},
   "source": [
    "# Splitting of arrays"
   ]
  },
  {
   "cell_type": "code",
   "execution_count": 56,
   "id": "0f8e6d41",
   "metadata": {},
   "outputs": [],
   "source": [
    "x=np.arange(10,26).reshape(4,4)"
   ]
  },
  {
   "cell_type": "code",
   "execution_count": 57,
   "id": "92fb3964",
   "metadata": {},
   "outputs": [
    {
     "data": {
      "text/plain": [
       "array([[10, 11, 12, 13],\n",
       "       [14, 15, 16, 17],\n",
       "       [18, 19, 20, 21],\n",
       "       [22, 23, 24, 25]])"
      ]
     },
     "execution_count": 57,
     "metadata": {},
     "output_type": "execute_result"
    }
   ],
   "source": [
    "x"
   ]
  },
  {
   "cell_type": "code",
   "execution_count": 58,
   "id": "20c7f4bf",
   "metadata": {},
   "outputs": [
    {
     "data": {
      "text/plain": [
       "[array([[10, 11],\n",
       "        [14, 15],\n",
       "        [18, 19],\n",
       "        [22, 23]]),\n",
       " array([[12, 13],\n",
       "        [16, 17],\n",
       "        [20, 21],\n",
       "        [24, 25]])]"
      ]
     },
     "execution_count": 58,
     "metadata": {},
     "output_type": "execute_result"
    }
   ],
   "source": [
    "np.hsplit(x,2)"
   ]
  },
  {
   "cell_type": "code",
   "execution_count": 59,
   "id": "de646ed1",
   "metadata": {},
   "outputs": [
    {
     "data": {
      "text/plain": [
       "[array([[10, 11, 12, 13],\n",
       "        [14, 15, 16, 17]]),\n",
       " array([[18, 19, 20, 21],\n",
       "        [22, 23, 24, 25]])]"
      ]
     },
     "execution_count": 59,
     "metadata": {},
     "output_type": "execute_result"
    }
   ],
   "source": [
    "np.vsplit(x,2)"
   ]
  },
  {
   "cell_type": "code",
   "execution_count": 60,
   "id": "e2614b45",
   "metadata": {},
   "outputs": [
    {
     "data": {
      "text/plain": [
       "[array([[10],\n",
       "        [14],\n",
       "        [18],\n",
       "        [22]]),\n",
       " array([[11],\n",
       "        [15],\n",
       "        [19],\n",
       "        [23]]),\n",
       " array([[12, 13],\n",
       "        [16, 17],\n",
       "        [20, 21],\n",
       "        [24, 25]])]"
      ]
     },
     "execution_count": 60,
     "metadata": {},
     "output_type": "execute_result"
    }
   ],
   "source": [
    "np.hsplit(x,np.array([1,2])) # - 1 is how many columns in first array and 2 is index "
   ]
  },
  {
   "cell_type": "markdown",
   "id": "9f6d2e65",
   "metadata": {},
   "source": [
    "# Slicing and Indexing"
   ]
  },
  {
   "cell_type": "code",
   "execution_count": 61,
   "id": "44e5e07a",
   "metadata": {},
   "outputs": [
    {
     "name": "stdout",
     "output_type": "stream",
     "text": [
      "1\n",
      "2\n",
      "2\n",
      "3\n",
      "3\n",
      "4\n",
      "5\n",
      "6\n"
     ]
    }
   ],
   "source": [
    "arr = np.array([[1,2],[2,3],[3,4],[5,6]])\n",
    "arr.ndim\n",
    "for x in np.nditer(arr):\n",
    "    print(x)\n",
    "    \n",
    "# No need to go with multiple inner for loop if we use 'nditer'"
   ]
  },
  {
   "cell_type": "markdown",
   "id": "d0743f97",
   "metadata": {},
   "source": [
    "# Hands on in class"
   ]
  },
  {
   "cell_type": "code",
   "execution_count": 62,
   "id": "16aa4e77",
   "metadata": {},
   "outputs": [],
   "source": [
    "#Create np array of zeros of size (2,3)\n",
    "zz1 = np.zeros((2,3))"
   ]
  },
  {
   "cell_type": "code",
   "execution_count": 63,
   "id": "cded7c23",
   "metadata": {},
   "outputs": [
    {
     "data": {
      "text/plain": [
       "array([[0., 0., 0.],\n",
       "       [0., 0., 0.]])"
      ]
     },
     "execution_count": 63,
     "metadata": {},
     "output_type": "execute_result"
    }
   ],
   "source": [
    "zz1"
   ]
  },
  {
   "cell_type": "code",
   "execution_count": 64,
   "id": "a3b9c4ff",
   "metadata": {},
   "outputs": [
    {
     "data": {
      "text/plain": [
       "array([[0, 0, 0],\n",
       "       [1, 2, 3],\n",
       "       [3, 4, 5],\n",
       "       [6, 7, 8]])"
      ]
     },
     "execution_count": 64,
     "metadata": {},
     "output_type": "execute_result"
    }
   ],
   "source": [
    "#Flatten 2d np array to 1d np array\n",
    "cd=np.array([[0,0,0],[1,2,3],[3,4,5],[6,7,8]])\n",
    "cd"
   ]
  },
  {
   "cell_type": "code",
   "execution_count": 65,
   "id": "a8d32d85",
   "metadata": {},
   "outputs": [
    {
     "data": {
      "text/plain": [
       "2"
      ]
     },
     "execution_count": 65,
     "metadata": {},
     "output_type": "execute_result"
    }
   ],
   "source": [
    "cd.ndim"
   ]
  },
  {
   "cell_type": "code",
   "execution_count": 66,
   "id": "1681bce1",
   "metadata": {},
   "outputs": [
    {
     "data": {
      "text/plain": [
       "array([0, 0, 0, 1, 2, 3, 3, 4, 5, 6, 7, 8])"
      ]
     },
     "execution_count": 66,
     "metadata": {},
     "output_type": "execute_result"
    }
   ],
   "source": [
    "cd.ravel() # ravel() flattens the arrays"
   ]
  },
  {
   "cell_type": "code",
   "execution_count": 67,
   "id": "989e4762",
   "metadata": {},
   "outputs": [],
   "source": [
    "#Convert 1D np Array to 2D np array from a pythong list\n",
    "List1 = [0,1,2,3,4,5,6,7]\n",
    "ar1 = np.array(List1)"
   ]
  },
  {
   "cell_type": "code",
   "execution_count": 68,
   "id": "afc7b22c",
   "metadata": {},
   "outputs": [
    {
     "data": {
      "text/plain": [
       "array([0, 1, 2, 3, 4, 5, 6, 7])"
      ]
     },
     "execution_count": 68,
     "metadata": {},
     "output_type": "execute_result"
    }
   ],
   "source": [
    "ar1"
   ]
  },
  {
   "cell_type": "code",
   "execution_count": 69,
   "id": "5721e369",
   "metadata": {},
   "outputs": [
    {
     "data": {
      "text/plain": [
       "array([[0, 1, 2, 3],\n",
       "       [4, 5, 6, 7]])"
      ]
     },
     "execution_count": 69,
     "metadata": {},
     "output_type": "execute_result"
    }
   ],
   "source": [
    "ar1.reshape(2,4)"
   ]
  },
  {
   "cell_type": "code",
   "execution_count": 70,
   "id": "089456ff",
   "metadata": {},
   "outputs": [],
   "source": [
    "#Create np Array and sort"
   ]
  },
  {
   "cell_type": "code",
   "execution_count": 71,
   "id": "6e313ed6",
   "metadata": {},
   "outputs": [],
   "source": [
    "sr1 = np.random.randint(200,size=(5))"
   ]
  },
  {
   "cell_type": "code",
   "execution_count": 72,
   "id": "0b3c0160",
   "metadata": {},
   "outputs": [
    {
     "data": {
      "text/plain": [
       "array([138, 101,  94, 130,  35])"
      ]
     },
     "execution_count": 72,
     "metadata": {},
     "output_type": "execute_result"
    }
   ],
   "source": [
    "sr1"
   ]
  },
  {
   "cell_type": "code",
   "execution_count": 73,
   "id": "228993f5",
   "metadata": {},
   "outputs": [],
   "source": [
    "sr1.sort()"
   ]
  },
  {
   "cell_type": "code",
   "execution_count": 74,
   "id": "e378d76c",
   "metadata": {},
   "outputs": [
    {
     "data": {
      "text/plain": [
       "array([ 35,  94, 101, 130, 138])"
      ]
     },
     "execution_count": 74,
     "metadata": {},
     "output_type": "execute_result"
    }
   ],
   "source": [
    "sr1"
   ]
  },
  {
   "cell_type": "code",
   "execution_count": 75,
   "id": "2f93d728",
   "metadata": {},
   "outputs": [
    {
     "data": {
      "text/plain": [
       "array([2, 3, 4, 5, 6, 7])"
      ]
     },
     "execution_count": 75,
     "metadata": {},
     "output_type": "execute_result"
    }
   ],
   "source": [
    "# Slice an np array to create another array without first two elements of the original array\n",
    "List1 = [0,1,2,3,4,5,6,7]\n",
    "ar1 = np.array(List1)\n",
    "ar2 = ar1[2:]\n",
    "ar2"
   ]
  },
  {
   "cell_type": "code",
   "execution_count": 76,
   "id": "90f0fdae",
   "metadata": {},
   "outputs": [
    {
     "data": {
      "text/plain": [
       "array([[ 2,  3,  4],\n",
       "       [ 5,  6,  7],\n",
       "       [ 8,  9, 10]])"
      ]
     },
     "execution_count": 76,
     "metadata": {},
     "output_type": "execute_result"
    }
   ],
   "source": [
    "#Create a 3x3 matrix array with values ranging from 2 to 10\n",
    "r3 = np.arange(2,11).reshape(3,3)\n",
    "r3"
   ]
  },
  {
   "cell_type": "code",
   "execution_count": 77,
   "id": "afca02ec",
   "metadata": {},
   "outputs": [
    {
     "name": "stdout",
     "output_type": "stream",
     "text": [
      "Enter the element: 1\n",
      "Enter the element: 2\n",
      "Enter the element: 3\n",
      "Enter the element: 4\n",
      "Enter the element: 5\n",
      "Enter the element: 6\n",
      "Enter the element: 7\n",
      "Enter the element: 8\n",
      "Enter the element: 9\n",
      "Original array:  [1, 2, 3, 4, 5, 6, 7, 8, 9]\n",
      "[1.0, 2.0, 3.0, 4.0, 5.0, 6.0, 7.0, 8.0, 9.0]\n"
     ]
    },
    {
     "data": {
      "text/plain": [
       "float"
      ]
     },
     "execution_count": 77,
     "metadata": {},
     "output_type": "execute_result"
    }
   ],
   "source": [
    "\n",
    "#Create a numpy array having user input values and convert the integer type to the float  ?????\n",
    "#type of the elements of the array\n",
    "f3 = []\n",
    "\n",
    "#Taking user input value for array\n",
    "for i in range(0,9):\n",
    "    \n",
    "    f3.append(int(input(\"Enter the element: \")))\n",
    "print(\"Original array: \", f3)\n",
    "\n",
    "#converting each element to float\n",
    "for i in range(0,len(f3)):\n",
    "     f3[i] = float(f3[i])\n",
    "print(f3)\n",
    "\n",
    "#Checking a random element datatype after chaning.\n",
    "type(f3[1])\n",
    "\n",
    "\n"
   ]
  },
  {
   "cell_type": "code",
   "execution_count": 78,
   "id": "dbb30773",
   "metadata": {},
   "outputs": [
    {
     "data": {
      "text/plain": [
       "array([10, 20, 30, 40, 50, 60, 70, 80, 90])"
      ]
     },
     "execution_count": 78,
     "metadata": {},
     "output_type": "execute_result"
    }
   ],
   "source": [
    "# Write a numpy program to append values to the end of an array. \n",
    "#For instrace:\n",
    "ar1 = [10,20,30]\n",
    "ar2 = [40,50,60]\n",
    "ar3 = [70,80,90]\n",
    "rr = np.hstack((ar1,ar2,ar3))\n",
    "rr"
   ]
  },
  {
   "cell_type": "code",
   "execution_count": 79,
   "id": "23793661",
   "metadata": {},
   "outputs": [
    {
     "data": {
      "text/plain": [
       "array([50, 70, 90])"
      ]
     },
     "execution_count": 79,
     "metadata": {},
     "output_type": "execute_result"
    }
   ],
   "source": [
    "# Create two numpy arrays and add the elements of both arrays and strone the result in another array. \n",
    "\n",
    "ar1 = np.array([10,20,30])\n",
    "ar2 = np.array([40,50,60])\n",
    "sumArray = ar1+ar2\n",
    "sumArray"
   ]
  },
  {
   "cell_type": "code",
   "execution_count": 80,
   "id": "107349a0",
   "metadata": {},
   "outputs": [
    {
     "data": {
      "text/plain": [
       "array([[10, 20, 30],\n",
       "       [40, 50, 60],\n",
       "       [70, 80, 90]])"
      ]
     },
     "execution_count": 80,
     "metadata": {},
     "output_type": "execute_result"
    }
   ],
   "source": [
    "# Create a 3*3 array having values from 10-90 (Interaval of 10) and store that in array1. Perform following tasks\n",
    "# a. Extract the 1st row from the array. \n",
    "# b. Extract the last element from the array\n",
    "array1 = np.arange(10,91,10).reshape(3,3)\n",
    "array1"
   ]
  },
  {
   "cell_type": "code",
   "execution_count": 81,
   "id": "800a0506",
   "metadata": {},
   "outputs": [],
   "source": [
    "frow = array1[0]"
   ]
  },
  {
   "cell_type": "code",
   "execution_count": 82,
   "id": "e0d11bfb",
   "metadata": {},
   "outputs": [
    {
     "data": {
      "text/plain": [
       "array([10, 20, 30])"
      ]
     },
     "execution_count": 82,
     "metadata": {},
     "output_type": "execute_result"
    }
   ],
   "source": [
    "frow\n"
   ]
  },
  {
   "cell_type": "code",
   "execution_count": 83,
   "id": "f70cd885",
   "metadata": {},
   "outputs": [
    {
     "data": {
      "text/plain": [
       "90"
      ]
     },
     "execution_count": 83,
     "metadata": {},
     "output_type": "execute_result"
    }
   ],
   "source": [
    "last_el = array1[2,2]\n",
    "last_el"
   ]
  },
  {
   "cell_type": "code",
   "execution_count": 84,
   "id": "7c64ddd6",
   "metadata": {},
   "outputs": [
    {
     "name": "stdout",
     "output_type": "stream",
     "text": [
      "[[7 7 7 7 7]\n",
      " [7 7 7 7 7]\n",
      " [7 7 7 7 7]\n",
      " [7 7 7 7 7]\n",
      " [7 7 7 7 7]]\n"
     ]
    }
   ],
   "source": [
    "#Create a function that takes dimentions as tuples e.g (3,3) and a numeric value and given and returns a \n",
    "#number array of the given dimention filled with the given values say solve((3,3,5)) will return\n",
    "#[[5,5,5,],[5,5,5,],[5,5,5]]\n",
    "\n",
    "def solve(x,y,z):\n",
    "    ar1 = np.full((x,y),z)\n",
    "    return ar1\n",
    "\n",
    "print(solve(5,5,7))\n",
    "    "
   ]
  },
  {
   "cell_type": "code",
   "execution_count": 85,
   "id": "733dc5ce",
   "metadata": {},
   "outputs": [
    {
     "data": {
      "text/plain": [
       "array([50, 70, 90])"
      ]
     },
     "execution_count": 85,
     "metadata": {},
     "output_type": "execute_result"
    }
   ],
   "source": [
    "\n",
    "# Create a method that takes n Numpy arrays of same dimensions and sums them and returns the answer????\n",
    "# hint from class -  use for loop\n",
    "def arrsum(arr1,arr2):\n",
    "    return arr1+arr2\n",
    "\n",
    "ar1 = np.array([10,20,30])\n",
    "ar2 = np.array([40,50,60])\n",
    "arrsum(ar1,ar2)"
   ]
  },
  {
   "cell_type": "code",
   "execution_count": 86,
   "id": "dce60c7f",
   "metadata": {},
   "outputs": [
    {
     "name": "stdout",
     "output_type": "stream",
     "text": [
      "[[10 20 30]\n",
      " [40 50 60]\n",
      " [70 80 90]]\n",
      "[[10 20]\n",
      " [40 50]]\n"
     ]
    }
   ],
   "source": [
    "# Given a 2 D Array of N X M Dimension, write a function that accepts this array as well as two number N and M.\n",
    "#the method should return the top left NxM  sub matrix e.g:\n",
    "#[[1,2,3],[4,5,6],[7,8,9]]]\n",
    "#top_left_sub_Matrix (matrix,2,2) - > Should return: [[1,2][4,5]\n",
    "\n",
    "def top_left_sub_Matrix(matrix, N, M):\n",
    "    arr2 = matrix[0:N,0:M]\n",
    "    return(arr2)\n",
    "\n",
    "\n",
    "array1 = np.arange(10,100,10).reshape(3,3)\n",
    "print(array1)\n",
    "print(top_left_sub_Matrix(array1,2,2))"
   ]
  },
  {
   "cell_type": "code",
   "execution_count": 87,
   "id": "2a64cf50",
   "metadata": {},
   "outputs": [
    {
     "name": "stdout",
     "output_type": "stream",
     "text": [
      "[[ 9 10]\n",
      " [14 15]]\n"
     ]
    }
   ],
   "source": [
    "# Given a 2 D Array of N X M Dimension, write a function that accepts this array as well as two number N and M.\n",
    "#the method should return the bottom right NxM  sub matrix e.g:\n",
    "#[[1,2,3],[4,5,6],[7,8,9]]]\n",
    "#top_left_sub_Matrix (matrix,2,2) - > Should return: [[5,6][8,9]\n",
    "\n",
    "def top_left_sub_Matrix(matrix, N, M):\n",
    "     arr2 = matrix[N:,M:]\n",
    "     return(arr2)\n",
    "\n",
    "\n",
    "arr = np.array([[1, 2, 3, 4, 5], [6, 7, 8, 9, 10], [11, 12, 13, 14, 15]])\n",
    "print(top_left_sub_Matrix(arr,1,3))"
   ]
  },
  {
   "cell_type": "code",
   "execution_count": 88,
   "id": "9deb5926",
   "metadata": {},
   "outputs": [
    {
     "name": "stdout",
     "output_type": "stream",
     "text": [
      "{'mean': 3.5, 'std_dev': 2.29128784747792}\n"
     ]
    }
   ],
   "source": [
    "# Given a 1 D numpy array. Write a function that accepts this array as parameters. The method should return a \n",
    "#Dictionary with a 'mean' and 'std_Dev' as key and arrray's mean and arrays' standard deviation as values:\n",
    "#[1,1,1] solution(arr) --> Should return: { 'mean': 1.0, 'std_Dev': 0.0}\n",
    "\n",
    "def solution(arr):\n",
    "    mean_arr=np.mean(arr)\n",
    "    stddev_arr=np.std(arr)\n",
    "    d={'mean': mean_arr,'std_dev': stddev_arr}\n",
    "    return d\n",
    "\n",
    "List1 = [0,1,2,3,4,5,6,7]\n",
    "ar1 = np.array(List1)\n",
    "dic1 = solution(ar1)\n",
    "print(dic1)"
   ]
  },
  {
   "cell_type": "code",
   "execution_count": null,
   "id": "8006e706",
   "metadata": {},
   "outputs": [],
   "source": []
  }
 ],
 "metadata": {
  "kernelspec": {
   "display_name": "Python 3 (ipykernel)",
   "language": "python",
   "name": "python3"
  },
  "language_info": {
   "codemirror_mode": {
    "name": "ipython",
    "version": 3
   },
   "file_extension": ".py",
   "mimetype": "text/x-python",
   "name": "python",
   "nbconvert_exporter": "python",
   "pygments_lexer": "ipython3",
   "version": "3.11.4"
  }
 },
 "nbformat": 4,
 "nbformat_minor": 5
}
