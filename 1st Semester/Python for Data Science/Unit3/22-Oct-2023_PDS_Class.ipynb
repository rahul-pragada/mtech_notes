{
 "cells": [
  {
   "cell_type": "code",
   "execution_count": 2,
   "id": "79551579",
   "metadata": {},
   "outputs": [],
   "source": [
    "import numpy as np"
   ]
  },
  {
   "cell_type": "code",
   "execution_count": 2,
   "id": "c763313f",
   "metadata": {},
   "outputs": [
    {
     "data": {
      "text/plain": [
       "array([[[0.43924319, 0.8129108 ],\n",
       "        [0.78996567, 0.18715918]],\n",
       "\n",
       "       [[0.71732521, 0.07087143],\n",
       "        [0.09267353, 0.61180062]],\n",
       "\n",
       "       [[0.29809067, 0.48971532],\n",
       "        [0.79473565, 0.56822322]]])"
      ]
     },
     "execution_count": 2,
     "metadata": {},
     "output_type": "execute_result"
    }
   ],
   "source": [
    "my_array1 = np.random.random(size =(3,2,2))\n",
    "my_array1"
   ]
  },
  {
   "cell_type": "code",
   "execution_count": 3,
   "id": "a23c0b31",
   "metadata": {},
   "outputs": [
    {
     "data": {
      "text/plain": [
       "array([[ 2, 17, 19, 19,  1],\n",
       "       [ 5,  9,  9,  7,  9],\n",
       "       [ 9, 16, 18,  4, 19],\n",
       "       [ 3, 10,  1,  3, 15]])"
      ]
     },
     "execution_count": 3,
     "metadata": {},
     "output_type": "execute_result"
    }
   ],
   "source": [
    "my_array2 = np.random.randint(1,20, size =(4,5))\n",
    "my_array2"
   ]
  },
  {
   "cell_type": "code",
   "execution_count": 4,
   "id": "687f8d8f",
   "metadata": {},
   "outputs": [
    {
     "data": {
      "text/plain": [
       "array([ 0,  5, 10, 15, 20, 25, 30, 35])"
      ]
     },
     "execution_count": 4,
     "metadata": {},
     "output_type": "execute_result"
    }
   ],
   "source": [
    "my_array3 = np.arange(start = 0, stop = 40, step = 5)\n",
    "my_array3"
   ]
  },
  {
   "cell_type": "code",
   "execution_count": 5,
   "id": "76bedd50",
   "metadata": {},
   "outputs": [
    {
     "name": "stdout",
     "output_type": "stream",
     "text": [
      "[[11 32 23]\n",
      " [34 55 46]]\n",
      "2\n"
     ]
    }
   ],
   "source": [
    "my_array4 = np.array([(11,32,23),(34,55,46)])\n",
    "print(my_array4)\n",
    "print(my_array4.ndim)"
   ]
  },
  {
   "cell_type": "code",
   "execution_count": 6,
   "id": "ecc5f428",
   "metadata": {},
   "outputs": [
    {
     "name": "stdout",
     "output_type": "stream",
     "text": [
      "[[[18 13  4  1 11  4  1]\n",
      "  [16 10  1 10 14  7 12]\n",
      "  [13 18 17  5 19  4  5]\n",
      "  [13  4 16  2  2 19  7]\n",
      "  [15 19  2 12 14  7 12]]\n",
      "\n",
      " [[ 9 12 17 11 13 10  1]\n",
      "  [11  2  2 16  7  9 13]\n",
      "  [ 4  1 13  7 12  7  7]\n",
      "  [15 15  4 14 17  3 11]\n",
      "  [ 8  4 14 19  9 15 19]]\n",
      "\n",
      " [[ 9  4  9  8  8 13 13]\n",
      "  [ 5  1  8 16 17  8 16]\n",
      "  [ 7 13  7 16 10 17 15]\n",
      "  [16  4 17  8  7 13 16]\n",
      "  [15 15  7  6 14  1  1]]\n",
      "\n",
      " [[ 2  6  2 14 14 13  3]\n",
      "  [ 3 12  8  6 18  7 12]\n",
      "  [ 2 16  2  7  1  6  8]\n",
      "  [11 12  4  3  1  5 10]\n",
      "  [18 12  8 12 16  8 17]]]\n",
      "3\n",
      "140\n",
      "(4, 5, 7)\n"
     ]
    }
   ],
   "source": [
    "array5 = np.random.randint(1,20, [4,5,7])\n",
    "print(array5)\n",
    "print(array5.ndim)\n",
    "print(array5.size)\n",
    "print(array5.shape)"
   ]
  },
  {
   "cell_type": "code",
   "execution_count": 7,
   "id": "c053eec9",
   "metadata": {},
   "outputs": [
    {
     "name": "stdout",
     "output_type": "stream",
     "text": [
      "[[1 2 3 4 5 6]]\n",
      "6\n",
      "(1, 6)\n",
      "2\n"
     ]
    }
   ],
   "source": [
    "array6 = np.array([(1,2,3,4,5,6)])\n",
    "print(array6)\n",
    "print(array6.size)\n",
    "print(array6.shape)\n",
    "print(array6.ndim)"
   ]
  },
  {
   "cell_type": "code",
   "execution_count": 8,
   "id": "71770fc1",
   "metadata": {},
   "outputs": [
    {
     "name": "stdout",
     "output_type": "stream",
     "text": [
      "[[ 8  9 10]\n",
      " [11 12 13]]\n",
      "[[ 8  9 10]\n",
      " [11 12 13]]\n"
     ]
    }
   ],
   "source": [
    "array7 = np.array([(8,9,10),(11,12,13)])\n",
    "print(array7)\n",
    "#array7 = array7.reshape([2])\n",
    "print(array7)"
   ]
  },
  {
   "cell_type": "code",
   "execution_count": 9,
   "id": "de5d939a",
   "metadata": {},
   "outputs": [
    {
     "ename": "SyntaxError",
     "evalue": "closing parenthesis ')' does not match opening parenthesis '[' (1311586572.py, line 1)",
     "output_type": "error",
     "traceback": [
      "\u001b[0;36m  Cell \u001b[0;32mIn[9], line 1\u001b[0;36m\u001b[0m\n\u001b[0;31m    array 8 = np.array([[101,231,321,[412,,512,622,],[544,321,456]])\u001b[0m\n\u001b[0m                                                                   ^\u001b[0m\n\u001b[0;31mSyntaxError\u001b[0m\u001b[0;31m:\u001b[0m closing parenthesis ')' does not match opening parenthesis '['\n"
     ]
    }
   ],
   "source": [
    "array 8 = np.array([[101,231,321,[412,,512,622,],[544,321,456]])"
   ]
  },
  {
   "cell_type": "code",
   "execution_count": 12,
   "id": "e12d8862",
   "metadata": {},
   "outputs": [
    {
     "name": "stdout",
     "output_type": "stream",
     "text": [
      "[[19  5 17  7  1]\n",
      " [13 18 11  6  5]\n",
      " [15  3  4 10 10]\n",
      " [12 16 14  4 18]]\n",
      "2\n",
      "20\n",
      "(4, 5)\n"
     ]
    }
   ],
   "source": [
    "array24 = np.random.randint(1,20, [4,5])\n",
    "print(array24)\n",
    "print(array24.ndim)\n",
    "print(array24.size)\n",
    "print(array24.shape)"
   ]
  },
  {
   "cell_type": "code",
   "execution_count": 13,
   "id": "bd64be60",
   "metadata": {},
   "outputs": [
    {
     "ename": "NameError",
     "evalue": "name 'array9' is not defined",
     "output_type": "error",
     "traceback": [
      "\u001b[0;31m---------------------------------------------------------------------------\u001b[0m",
      "\u001b[0;31mNameError\u001b[0m                                 Traceback (most recent call last)",
      "Cell \u001b[0;32mIn[13], line 1\u001b[0m\n\u001b[0;32m----> 1\u001b[0m \u001b[38;5;28mprint\u001b[39m(array9[[\u001b[38;5;241m2\u001b[39m],[\u001b[38;5;241m2\u001b[39m],[\u001b[38;5;241m2\u001b[39m]])\n\u001b[1;32m      2\u001b[0m \u001b[38;5;28mprint\u001b[39m(array9[\u001b[38;5;241m2\u001b[39m][\u001b[38;5;241m1\u001b[39m])\n",
      "\u001b[0;31mNameError\u001b[0m: name 'array9' is not defined"
     ]
    }
   ],
   "source": [
    "print(array9[[2],[2],[2]])\n",
    "print(array9[2][1])"
   ]
  },
  {
   "cell_type": "code",
   "execution_count": 14,
   "id": "bd0f4a86",
   "metadata": {},
   "outputs": [
    {
     "name": "stdout",
     "output_type": "stream",
     "text": [
      "[[11 32 23]\n",
      " [34 55 46]]\n",
      "2\n"
     ]
    }
   ],
   "source": [
    "my_array10 = np.array([(11,32,23),(34,55,46)])\n",
    "print(my_array10)\n",
    "print(my_array4.ndim)"
   ]
  },
  {
   "cell_type": "code",
   "execution_count": 15,
   "id": "78314a3c",
   "metadata": {},
   "outputs": [
    {
     "data": {
      "text/plain": [
       "55"
      ]
     },
     "execution_count": 15,
     "metadata": {},
     "output_type": "execute_result"
    }
   ],
   "source": [
    "my_array10[1][1]"
   ]
  },
  {
   "cell_type": "code",
   "execution_count": 16,
   "id": "801c9e15",
   "metadata": {},
   "outputs": [],
   "source": [
    "my_array4 = np.zeros(5)"
   ]
  },
  {
   "cell_type": "code",
   "execution_count": 17,
   "id": "f5bcb480",
   "metadata": {},
   "outputs": [
    {
     "data": {
      "text/plain": [
       "array([0., 0., 0., 0., 0.])"
      ]
     },
     "execution_count": 17,
     "metadata": {},
     "output_type": "execute_result"
    }
   ],
   "source": [
    "my_array4"
   ]
  },
  {
   "cell_type": "code",
   "execution_count": 18,
   "id": "42070f73",
   "metadata": {},
   "outputs": [],
   "source": [
    "my_array11 = np.array([(45,54,67),(55,33,66)])"
   ]
  },
  {
   "cell_type": "code",
   "execution_count": 19,
   "id": "8a30ae22",
   "metadata": {},
   "outputs": [
    {
     "data": {
      "text/plain": [
       "array([[45, 54, 67],\n",
       "       [55, 33, 66]])"
      ]
     },
     "execution_count": 19,
     "metadata": {},
     "output_type": "execute_result"
    }
   ],
   "source": [
    "my_array11"
   ]
  },
  {
   "cell_type": "code",
   "execution_count": 20,
   "id": "125b4807",
   "metadata": {},
   "outputs": [
    {
     "name": "stdout",
     "output_type": "stream",
     "text": [
      "[[ 56  86  90]\n",
      " [ 89  88 112]]\n"
     ]
    }
   ],
   "source": [
    "my_array_add = my_array10+my_array11\n",
    "print(my_array_add)"
   ]
  },
  {
   "cell_type": "code",
   "execution_count": null,
   "id": "b032985a",
   "metadata": {},
   "outputs": [],
   "source": [
    "my_array_add = my_array_add+3"
   ]
  },
  {
   "cell_type": "code",
   "execution_count": 21,
   "id": "4c9f856c",
   "metadata": {},
   "outputs": [
    {
     "data": {
      "text/plain": [
       "array([[ 56,  86,  90],\n",
       "       [ 89,  88, 112]])"
      ]
     },
     "execution_count": 21,
     "metadata": {},
     "output_type": "execute_result"
    }
   ],
   "source": [
    "my_array_add"
   ]
  },
  {
   "cell_type": "code",
   "execution_count": 22,
   "id": "f9309cb5",
   "metadata": {},
   "outputs": [
    {
     "data": {
      "text/plain": [
       "array([[False, False,  True],\n",
       "       [False, False,  True]])"
      ]
     },
     "execution_count": 22,
     "metadata": {},
     "output_type": "execute_result"
    }
   ],
   "source": [
    "my_array12 = my_array_add >= 90\n",
    "my_array12"
   ]
  },
  {
   "cell_type": "code",
   "execution_count": null,
   "id": "b7f67aa1",
   "metadata": {},
   "outputs": [],
   "source": [
    "my_array13 = my_array_add[my_array12]\n",
    "my_array13"
   ]
  },
  {
   "cell_type": "code",
   "execution_count": null,
   "id": "1cfd01fe",
   "metadata": {},
   "outputs": [],
   "source": [
    "my_array14 = my_array_add[my_array_add >= 90]\n",
    "my_array14"
   ]
  },
  {
   "cell_type": "markdown",
   "id": "36281a48",
   "metadata": {},
   "source": [
    "2D arrays"
   ]
  },
  {
   "cell_type": "markdown",
   "id": "9e34247e",
   "metadata": {},
   "source": [
    "# 2D arrays"
   ]
  },
  {
   "cell_type": "code",
   "execution_count": 23,
   "id": "cdda1039",
   "metadata": {},
   "outputs": [],
   "source": [
    "my_array21 = np.array([(11,32,23),(34,55,46)])\n",
    "my_array22 = np.array([(45,54,67),(55,33,66)])"
   ]
  },
  {
   "cell_type": "code",
   "execution_count": 24,
   "id": "82afbf55",
   "metadata": {},
   "outputs": [
    {
     "data": {
      "text/plain": [
       "array([[ 495, 1728, 1541],\n",
       "       [1870, 1815, 3036]])"
      ]
     },
     "execution_count": 24,
     "metadata": {},
     "output_type": "execute_result"
    }
   ],
   "source": [
    "my_array21*my_array22"
   ]
  },
  {
   "cell_type": "code",
   "execution_count": 25,
   "id": "cce3e4aa",
   "metadata": {},
   "outputs": [
    {
     "data": {
      "text/plain": [
       "array([[ 22,  64,  46],\n",
       "       [ 68, 110,  92]])"
      ]
     },
     "execution_count": 25,
     "metadata": {},
     "output_type": "execute_result"
    }
   ],
   "source": [
    "my_array23= my_array21*2\n",
    "my_array23"
   ]
  },
  {
   "cell_type": "code",
   "execution_count": 26,
   "id": "70d902e0",
   "metadata": {},
   "outputs": [
    {
     "data": {
      "text/plain": [
       "402"
      ]
     },
     "execution_count": 26,
     "metadata": {},
     "output_type": "execute_result"
    }
   ],
   "source": [
    "my_array23.sum()\n"
   ]
  },
  {
   "cell_type": "code",
   "execution_count": 27,
   "id": "2178a420",
   "metadata": {},
   "outputs": [
    {
     "name": "stdout",
     "output_type": "stream",
     "text": [
      "[[11 32 23]\n",
      " [34 55 46]]\n",
      "axis = 0 [45 87 69]\n",
      "axis = 1 [ 66 135]\n"
     ]
    }
   ],
   "source": [
    "print(my_array21)\n",
    "print('axis = 0', my_array21.sum(axis = 0))\n",
    "print('axis = 1',  my_array21.sum(axis = 1))"
   ]
  },
  {
   "cell_type": "code",
   "execution_count": 1,
   "id": "1fc56a4d",
   "metadata": {},
   "outputs": [
    {
     "ename": "NameError",
     "evalue": "name 'np' is not defined",
     "output_type": "error",
     "traceback": [
      "\u001b[0;31m---------------------------------------------------------------------------\u001b[0m",
      "\u001b[0;31mNameError\u001b[0m                                 Traceback (most recent call last)",
      "Cell \u001b[0;32mIn[1], line 1\u001b[0m\n\u001b[0;32m----> 1\u001b[0m array24 \u001b[38;5;241m=\u001b[39m np\u001b[38;5;241m.\u001b[39mrandom\u001b[38;5;241m.\u001b[39mrandint(\u001b[38;5;241m1\u001b[39m,\u001b[38;5;241m20\u001b[39m, [\u001b[38;5;241m2\u001b[39m,\u001b[38;5;241m3\u001b[39m,\u001b[38;5;241m4\u001b[39m,\u001b[38;5;241m5\u001b[39m])\n\u001b[1;32m      2\u001b[0m \u001b[38;5;28mprint\u001b[39m(array24)\n\u001b[1;32m      3\u001b[0m \u001b[38;5;28mprint\u001b[39m(array24\u001b[38;5;241m.\u001b[39mndim)\n",
      "\u001b[0;31mNameError\u001b[0m: name 'np' is not defined"
     ]
    }
   ],
   "source": [
    "array24 = np.random.randint(1,20, [2,3,4,5])\n",
    "print(array24)\n",
    "print(array24.ndim)\n",
    "print(array24.size)\n",
    "print(array24.shape)\n",
    "print('axis = 0', array24.sum(axis = 0))\n",
    "print('axis = 1',  array24.sum(axis = 1))\n",
    "print('axis = 2',  array24.sum(axis = 2))\n",
    "print('axis = 3',  array24.sum(axis = 3))"
   ]
  },
  {
   "cell_type": "code",
   "execution_count": 29,
   "id": "0fa4fd34",
   "metadata": {},
   "outputs": [
    {
     "name": "stdout",
     "output_type": "stream",
     "text": [
      "[[11 32 23]\n",
      " [34 55 46]]\n",
      "[[45 54 67]\n",
      " [55 33 66]]\n"
     ]
    }
   ],
   "source": [
    "my_array21 = np.array([(11,32,23),(34,55,46)])\n",
    "my_array22 = np.array([(45,54,67),(55,33,66)])\n",
    "\n",
    "print(my_array21)\n",
    "print(my_array22)"
   ]
  },
  {
   "cell_type": "code",
   "execution_count": 30,
   "id": "1150e3e8",
   "metadata": {},
   "outputs": [
    {
     "data": {
      "text/plain": [
       "array([[11, 32, 23],\n",
       "       [34, 55, 46],\n",
       "       [45, 54, 67],\n",
       "       [55, 33, 66]])"
      ]
     },
     "execution_count": 30,
     "metadata": {},
     "output_type": "execute_result"
    }
   ],
   "source": [
    "np.concatenate([my_array21,my_array22])\n"
   ]
  },
  {
   "cell_type": "code",
   "execution_count": 31,
   "id": "6fcf150b",
   "metadata": {},
   "outputs": [
    {
     "data": {
      "text/plain": [
       "array([[11, 32, 23, 45, 54, 67],\n",
       "       [34, 55, 46, 55, 33, 66]])"
      ]
     },
     "execution_count": 31,
     "metadata": {},
     "output_type": "execute_result"
    }
   ],
   "source": [
    "np.concatenate([my_array21,my_array22],axis=1)"
   ]
  },
  {
   "cell_type": "code",
   "execution_count": 32,
   "id": "b33ea876",
   "metadata": {},
   "outputs": [
    {
     "name": "stdout",
     "output_type": "stream",
     "text": [
      "[ 0  1  2  3  4  5  6  7  8  9 10 11]\n",
      "10\n",
      "11\n",
      "12\n",
      "13\n",
      "14\n",
      "15\n",
      "16\n",
      "17\n",
      "18\n",
      "19\n",
      "20\n",
      "21\n"
     ]
    }
   ],
   "source": [
    "my_array21 = np.arange(12)\n",
    "print(my_array21)\n",
    "for i in my_array21:\n",
    "    print(i+10)"
   ]
  },
  {
   "cell_type": "code",
   "execution_count": 33,
   "id": "f1df12da",
   "metadata": {
    "scrolled": true
   },
   "outputs": [
    {
     "name": "stdout",
     "output_type": "stream",
     "text": [
      "[[10 10  8 12 19]\n",
      " [15  1  5 12 13]\n",
      " [ 9  7 18 17  6]\n",
      " [ 3 13 12  8 17]]\n",
      "2\n",
      "20\n",
      "(4, 5)\n"
     ]
    }
   ],
   "source": [
    "array25 = np.random.randint(1,20, [4,5])\n",
    "print(array25)\n",
    "print(array25.ndim)\n",
    "print(array25.size)\n",
    "print(array25.shape)"
   ]
  },
  {
   "cell_type": "code",
   "execution_count": 34,
   "id": "4335d6cf",
   "metadata": {
    "scrolled": true
   },
   "outputs": [
    {
     "name": "stdout",
     "output_type": "stream",
     "text": [
      "[20 20 18 22 29]\n",
      "[25 11 15 22 23]\n",
      "[19 17 28 27 16]\n",
      "[13 23 22 18 27]\n"
     ]
    }
   ],
   "source": [
    "for i in array25:\n",
    "    print(i+10)"
   ]
  },
  {
   "cell_type": "code",
   "execution_count": null,
   "id": "1dc7001b",
   "metadata": {},
   "outputs": [],
   "source": [
    "my_array21 = np.random.randint(1,20,[2,3])\n",
    "print (my_array21)\n",
    "for i in my_array21:\n",
    "    print(i,i+102)\n",
    "    print('new')\n",
    "    \n",
    "for i in my_array21:\n",
    "    for j in i:\n",
    "        print(j, j+102)\n",
    "        print('next row')"
   ]
  },
  {
   "cell_type": "code",
   "execution_count": null,
   "id": "8b524b2d",
   "metadata": {},
   "outputs": [],
   "source": [
    "pip install panda"
   ]
  },
  {
   "cell_type": "code",
   "execution_count": null,
   "id": "748fb87d",
   "metadata": {},
   "outputs": [],
   "source": [
    "import pandas as pd\n",
    "from pandas.core.arrays.sparse import SparseArray as _SparseArray"
   ]
  },
  {
   "cell_type": "code",
   "execution_count": null,
   "id": "4937370d",
   "metadata": {
    "scrolled": true
   },
   "outputs": [],
   "source": [
    "numbers = range(1,100,5)\n",
    "pd.Series(numbers)"
   ]
  },
  {
   "cell_type": "code",
   "execution_count": null,
   "id": "11a15dea",
   "metadata": {},
   "outputs": [],
   "source": [
    "data = {'Maths':60, 'Science':89, 'English': 76, 'Social Science': 86}\n",
    "ser1 = pd.Series(data)"
   ]
  },
  {
   "cell_type": "code",
   "execution_count": null,
   "id": "2fc6fa8c",
   "metadata": {},
   "outputs": [],
   "source": [
    "subjects= ['Maths', 'Science', 'English', 'Social Science', 'Arts']\n",
    "ser1"
   ]
  },
  {
   "cell_type": "code",
   "execution_count": null,
   "id": "b5d3309a",
   "metadata": {},
   "outputs": [],
   "source": [
    "ser1.isnull()"
   ]
  },
  {
   "cell_type": "code",
   "execution_count": null,
   "id": "83b06f5d",
   "metadata": {},
   "outputs": [],
   "source": [
    "ser1.isnull().sum()"
   ]
  },
  {
   "cell_type": "code",
   "execution_count": null,
   "id": "2ee100f3",
   "metadata": {},
   "outputs": [],
   "source": [
    "ser1['Science'] = 56"
   ]
  },
  {
   "cell_type": "code",
   "execution_count": null,
   "id": "640ed7eb",
   "metadata": {},
   "outputs": [],
   "source": [
    "ser1"
   ]
  },
  {
   "cell_type": "code",
   "execution_count": null,
   "id": "609ff0bf",
   "metadata": {},
   "outputs": [],
   "source": [
    "ser1.Maths == 74"
   ]
  },
  {
   "cell_type": "code",
   "execution_count": null,
   "id": "50205a21",
   "metadata": {},
   "outputs": [],
   "source": [
    "ser1.Maths"
   ]
  },
  {
   "cell_type": "code",
   "execution_count": null,
   "id": "65596ca4",
   "metadata": {},
   "outputs": [],
   "source": [
    "ser1.index"
   ]
  },
  {
   "cell_type": "code",
   "execution_count": null,
   "id": "4460cfcf",
   "metadata": {},
   "outputs": [],
   "source": [
    "ser1.index.name = 'Subject'"
   ]
  },
  {
   "cell_type": "code",
   "execution_count": null,
   "id": "20d9ed80",
   "metadata": {},
   "outputs": [],
   "source": [
    "ser1"
   ]
  },
  {
   "cell_type": "code",
   "execution_count": null,
   "id": "17f3c038",
   "metadata": {},
   "outputs": [],
   "source": [
    "ser1+5"
   ]
  },
  {
   "cell_type": "code",
   "execution_count": null,
   "id": "544287d6",
   "metadata": {},
   "outputs": [],
   "source": [
    "import numpy as np\n",
    "num = pd.Series(np.random.random(15)*10).round()\n",
    "num"
   ]
  },
  {
   "cell_type": "code",
   "execution_count": null,
   "id": "4f1bd0b2",
   "metadata": {},
   "outputs": [],
   "source": [
    "square = pd.Series(num*num)\n",
    "square.index = [num]\n",
    "square"
   ]
  },
  {
   "cell_type": "code",
   "execution_count": null,
   "id": "cf2c76f9",
   "metadata": {},
   "outputs": [],
   "source": [
    "square.name = 'Square'\n",
    "square.index.name = \"Number\"\n",
    "square"
   ]
  },
  {
   "cell_type": "code",
   "execution_count": null,
   "id": "5e709a6e",
   "metadata": {
    "scrolled": true
   },
   "outputs": [],
   "source": [
    "square.info()"
   ]
  },
  {
   "cell_type": "code",
   "execution_count": null,
   "id": "8abac1bf",
   "metadata": {},
   "outputs": [],
   "source": [
    "type(square)"
   ]
  },
  {
   "cell_type": "code",
   "execution_count": null,
   "id": "0d595d5c",
   "metadata": {},
   "outputs": [],
   "source": [
    "type(square)"
   ]
  },
  {
   "cell_type": "code",
   "execution_count": null,
   "id": "02724025",
   "metadata": {},
   "outputs": [],
   "source": [
    "square.index"
   ]
  },
  {
   "cell_type": "code",
   "execution_count": null,
   "id": "975b72bc",
   "metadata": {},
   "outputs": [],
   "source": [
    "square"
   ]
  },
  {
   "cell_type": "code",
   "execution_count": null,
   "id": "9e73c6d0",
   "metadata": {},
   "outputs": [],
   "source": [
    "square.iloc[3]"
   ]
  },
  {
   "cell_type": "code",
   "execution_count": null,
   "id": "056a4ea0",
   "metadata": {},
   "outputs": [],
   "source": [
    "square.loc[8]"
   ]
  },
  {
   "cell_type": "code",
   "execution_count": null,
   "id": "b29f75e6",
   "metadata": {},
   "outputs": [],
   "source": [
    "square.sort_values()"
   ]
  },
  {
   "cell_type": "code",
   "execution_count": null,
   "id": "bfce79d8",
   "metadata": {},
   "outputs": [],
   "source": [
    "ser1.sort_index()\n"
   ]
  },
  {
   "cell_type": "code",
   "execution_count": null,
   "id": "0c16502e",
   "metadata": {},
   "outputs": [],
   "source": [
    "ser1.sort_values()\n"
   ]
  },
  {
   "cell_type": "code",
   "execution_count": null,
   "id": "25a5972a",
   "metadata": {},
   "outputs": [],
   "source": []
  }
 ],
 "metadata": {
  "kernelspec": {
   "display_name": "Python 3 (ipykernel)",
   "language": "python",
   "name": "python3"
  },
  "language_info": {
   "codemirror_mode": {
    "name": "ipython",
    "version": 3
   },
   "file_extension": ".py",
   "mimetype": "text/x-python",
   "name": "python",
   "nbconvert_exporter": "python",
   "pygments_lexer": "ipython3",
   "version": "3.11.4"
  }
 },
 "nbformat": 4,
 "nbformat_minor": 5
}
