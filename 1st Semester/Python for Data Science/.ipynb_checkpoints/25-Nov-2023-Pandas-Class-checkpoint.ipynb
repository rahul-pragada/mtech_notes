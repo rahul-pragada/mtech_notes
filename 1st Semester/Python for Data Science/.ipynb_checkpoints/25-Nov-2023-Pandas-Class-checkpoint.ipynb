{
 "cells": [
  {
   "cell_type": "markdown",
   "id": "65e703c9",
   "metadata": {},
   "source": [
    "##### \n",
    "1D - Series\n",
    "\n",
    "2D - DataFrame \n",
    "\n",
    "3d - pandas - Panel dataset"
   ]
  },
  {
   "cell_type": "code",
   "execution_count": 1,
   "id": "c7bf13df",
   "metadata": {},
   "outputs": [],
   "source": [
    "import pandas as pd"
   ]
  },
  {
   "cell_type": "code",
   "execution_count": 2,
   "id": "9297501f",
   "metadata": {},
   "outputs": [],
   "source": [
    "data= [1,2,3,4]"
   ]
  },
  {
   "cell_type": "code",
   "execution_count": 3,
   "id": "c0ae3552",
   "metadata": {},
   "outputs": [
    {
     "data": {
      "text/plain": [
       "list"
      ]
     },
     "execution_count": 3,
     "metadata": {},
     "output_type": "execute_result"
    }
   ],
   "source": [
    "type(data)"
   ]
  },
  {
   "cell_type": "markdown",
   "id": "4c3fbaa0",
   "metadata": {},
   "source": [
    "Converting list to Series"
   ]
  },
  {
   "cell_type": "code",
   "execution_count": 4,
   "id": "5ff084c5",
   "metadata": {},
   "outputs": [
    {
     "data": {
      "text/plain": [
       "0    1\n",
       "1    2\n",
       "2    3\n",
       "3    4\n",
       "dtype: int64"
      ]
     },
     "execution_count": 4,
     "metadata": {},
     "output_type": "execute_result"
    }
   ],
   "source": [
    "s=pd.Series(data)\n",
    "s"
   ]
  },
  {
   "cell_type": "code",
   "execution_count": 5,
   "id": "0b9f6b17",
   "metadata": {},
   "outputs": [
    {
     "data": {
      "text/plain": [
       "pandas.core.series.Series"
      ]
     },
     "execution_count": 5,
     "metadata": {},
     "output_type": "execute_result"
    }
   ],
   "source": [
    "type(s)"
   ]
  },
  {
   "cell_type": "markdown",
   "id": "3efaef16",
   "metadata": {},
   "source": [
    "Giving customized Index"
   ]
  },
  {
   "cell_type": "code",
   "execution_count": 6,
   "id": "96c9727c",
   "metadata": {},
   "outputs": [],
   "source": [
    "s1 = pd.Series(data,index=['a','b','c','d'])"
   ]
  },
  {
   "cell_type": "code",
   "execution_count": 7,
   "id": "bcef7391",
   "metadata": {},
   "outputs": [
    {
     "data": {
      "text/plain": [
       "a    1\n",
       "b    2\n",
       "c    3\n",
       "d    4\n",
       "dtype: int64"
      ]
     },
     "execution_count": 7,
     "metadata": {},
     "output_type": "execute_result"
    }
   ],
   "source": [
    "s1"
   ]
  },
  {
   "cell_type": "markdown",
   "id": "9e48969f",
   "metadata": {},
   "source": [
    "Data Frame s - 2D labelled data with columsn of different data types. "
   ]
  },
  {
   "cell_type": "code",
   "execution_count": 8,
   "id": "cb3bf3f6",
   "metadata": {},
   "outputs": [],
   "source": [
    "df= pd. DataFrame(data) #Series to data frame. Column name '0' Introduced"
   ]
  },
  {
   "cell_type": "code",
   "execution_count": 9,
   "id": "48b5c6d2",
   "metadata": {},
   "outputs": [
    {
     "data": {
      "text/html": [
       "<div>\n",
       "<style scoped>\n",
       "    .dataframe tbody tr th:only-of-type {\n",
       "        vertical-align: middle;\n",
       "    }\n",
       "\n",
       "    .dataframe tbody tr th {\n",
       "        vertical-align: top;\n",
       "    }\n",
       "\n",
       "    .dataframe thead th {\n",
       "        text-align: right;\n",
       "    }\n",
       "</style>\n",
       "<table border=\"1\" class=\"dataframe\">\n",
       "  <thead>\n",
       "    <tr style=\"text-align: right;\">\n",
       "      <th></th>\n",
       "      <th>0</th>\n",
       "    </tr>\n",
       "  </thead>\n",
       "  <tbody>\n",
       "    <tr>\n",
       "      <th>0</th>\n",
       "      <td>1</td>\n",
       "    </tr>\n",
       "    <tr>\n",
       "      <th>1</th>\n",
       "      <td>2</td>\n",
       "    </tr>\n",
       "    <tr>\n",
       "      <th>2</th>\n",
       "      <td>3</td>\n",
       "    </tr>\n",
       "    <tr>\n",
       "      <th>3</th>\n",
       "      <td>4</td>\n",
       "    </tr>\n",
       "  </tbody>\n",
       "</table>\n",
       "</div>"
      ],
      "text/plain": [
       "   0\n",
       "0  1\n",
       "1  2\n",
       "2  3\n",
       "3  4"
      ]
     },
     "execution_count": 9,
     "metadata": {},
     "output_type": "execute_result"
    }
   ],
   "source": [
    "df"
   ]
  },
  {
   "cell_type": "markdown",
   "id": "ebedf742",
   "metadata": {},
   "source": [
    "Dictionary to Data frame"
   ]
  },
  {
   "cell_type": "code",
   "execution_count": 10,
   "id": "a4725cc7",
   "metadata": {},
   "outputs": [],
   "source": [
    "d = {'fruit': ['Apple','Orange'], 'cost': [10,20]}"
   ]
  },
  {
   "cell_type": "code",
   "execution_count": 11,
   "id": "75230783",
   "metadata": {},
   "outputs": [
    {
     "data": {
      "text/plain": [
       "{'fruit': ['Apple', 'Orange'], 'cost': [10, 20]}"
      ]
     },
     "execution_count": 11,
     "metadata": {},
     "output_type": "execute_result"
    }
   ],
   "source": [
    "d"
   ]
  },
  {
   "cell_type": "code",
   "execution_count": 12,
   "id": "343d6f38",
   "metadata": {},
   "outputs": [
    {
     "data": {
      "text/plain": [
       "dict"
      ]
     },
     "execution_count": 12,
     "metadata": {},
     "output_type": "execute_result"
    }
   ],
   "source": [
    "type(d)"
   ]
  },
  {
   "cell_type": "code",
   "execution_count": 13,
   "id": "499d2ff6",
   "metadata": {},
   "outputs": [],
   "source": [
    "df1= pd.DataFrame(d) #Tabular format"
   ]
  },
  {
   "cell_type": "code",
   "execution_count": 14,
   "id": "dcbeed62",
   "metadata": {},
   "outputs": [
    {
     "data": {
      "text/html": [
       "<div>\n",
       "<style scoped>\n",
       "    .dataframe tbody tr th:only-of-type {\n",
       "        vertical-align: middle;\n",
       "    }\n",
       "\n",
       "    .dataframe tbody tr th {\n",
       "        vertical-align: top;\n",
       "    }\n",
       "\n",
       "    .dataframe thead th {\n",
       "        text-align: right;\n",
       "    }\n",
       "</style>\n",
       "<table border=\"1\" class=\"dataframe\">\n",
       "  <thead>\n",
       "    <tr style=\"text-align: right;\">\n",
       "      <th></th>\n",
       "      <th>fruit</th>\n",
       "      <th>cost</th>\n",
       "    </tr>\n",
       "  </thead>\n",
       "  <tbody>\n",
       "    <tr>\n",
       "      <th>0</th>\n",
       "      <td>Apple</td>\n",
       "      <td>10</td>\n",
       "    </tr>\n",
       "    <tr>\n",
       "      <th>1</th>\n",
       "      <td>Orange</td>\n",
       "      <td>20</td>\n",
       "    </tr>\n",
       "  </tbody>\n",
       "</table>\n",
       "</div>"
      ],
      "text/plain": [
       "    fruit  cost\n",
       "0   Apple    10\n",
       "1  Orange    20"
      ]
     },
     "execution_count": 14,
     "metadata": {},
     "output_type": "execute_result"
    }
   ],
   "source": [
    "df1"
   ]
  },
  {
   "cell_type": "markdown",
   "id": "c1520080",
   "metadata": {},
   "source": [
    "### Operations in Pandas"
   ]
  },
  {
   "cell_type": "markdown",
   "id": "3fc41945",
   "metadata": {},
   "source": [
    "merge and join operations\n",
    "\n",
    "Merge is with respoect to index values whereas join is with respect to the attributes"
   ]
  },
  {
   "cell_type": "code",
   "execution_count": 15,
   "id": "8877e869",
   "metadata": {},
   "outputs": [],
   "source": [
    "player = ['p1','p2','p3']\n",
    "points = [8,9,5]\n",
    "title = ['g1','g2','g3']\n"
   ]
  },
  {
   "cell_type": "code",
   "execution_count": 16,
   "id": "e32d0a44",
   "metadata": {},
   "outputs": [],
   "source": [
    "df5 = pd.DataFrame({'Name': player, 'points':points, 'Game': title})"
   ]
  },
  {
   "cell_type": "code",
   "execution_count": 17,
   "id": "3c377156",
   "metadata": {},
   "outputs": [
    {
     "data": {
      "text/html": [
       "<div>\n",
       "<style scoped>\n",
       "    .dataframe tbody tr th:only-of-type {\n",
       "        vertical-align: middle;\n",
       "    }\n",
       "\n",
       "    .dataframe tbody tr th {\n",
       "        vertical-align: top;\n",
       "    }\n",
       "\n",
       "    .dataframe thead th {\n",
       "        text-align: right;\n",
       "    }\n",
       "</style>\n",
       "<table border=\"1\" class=\"dataframe\">\n",
       "  <thead>\n",
       "    <tr style=\"text-align: right;\">\n",
       "      <th></th>\n",
       "      <th>Name</th>\n",
       "      <th>points</th>\n",
       "      <th>Game</th>\n",
       "    </tr>\n",
       "  </thead>\n",
       "  <tbody>\n",
       "    <tr>\n",
       "      <th>0</th>\n",
       "      <td>p1</td>\n",
       "      <td>8</td>\n",
       "      <td>g1</td>\n",
       "    </tr>\n",
       "    <tr>\n",
       "      <th>1</th>\n",
       "      <td>p2</td>\n",
       "      <td>9</td>\n",
       "      <td>g2</td>\n",
       "    </tr>\n",
       "    <tr>\n",
       "      <th>2</th>\n",
       "      <td>p3</td>\n",
       "      <td>5</td>\n",
       "      <td>g3</td>\n",
       "    </tr>\n",
       "  </tbody>\n",
       "</table>\n",
       "</div>"
      ],
      "text/plain": [
       "  Name  points Game\n",
       "0   p1       8   g1\n",
       "1   p2       9   g2\n",
       "2   p3       5   g3"
      ]
     },
     "execution_count": 17,
     "metadata": {},
     "output_type": "execute_result"
    }
   ],
   "source": [
    "df5"
   ]
  },
  {
   "cell_type": "code",
   "execution_count": 18,
   "id": "e81eedbe",
   "metadata": {},
   "outputs": [],
   "source": [
    "player = ['p1','p5','p6']\n",
    "power = ['punch','run','kick']\n",
    "title = ['g1','g5','g6']"
   ]
  },
  {
   "cell_type": "code",
   "execution_count": 19,
   "id": "75941d1d",
   "metadata": {},
   "outputs": [],
   "source": [
    "df6 = pd.DataFrame({'Name': player, 'skills':power, 'Game': title})"
   ]
  },
  {
   "cell_type": "code",
   "execution_count": 20,
   "id": "2e958278",
   "metadata": {},
   "outputs": [
    {
     "data": {
      "text/html": [
       "<div>\n",
       "<style scoped>\n",
       "    .dataframe tbody tr th:only-of-type {\n",
       "        vertical-align: middle;\n",
       "    }\n",
       "\n",
       "    .dataframe tbody tr th {\n",
       "        vertical-align: top;\n",
       "    }\n",
       "\n",
       "    .dataframe thead th {\n",
       "        text-align: right;\n",
       "    }\n",
       "</style>\n",
       "<table border=\"1\" class=\"dataframe\">\n",
       "  <thead>\n",
       "    <tr style=\"text-align: right;\">\n",
       "      <th></th>\n",
       "      <th>Name</th>\n",
       "      <th>skills</th>\n",
       "      <th>Game</th>\n",
       "    </tr>\n",
       "  </thead>\n",
       "  <tbody>\n",
       "    <tr>\n",
       "      <th>0</th>\n",
       "      <td>p1</td>\n",
       "      <td>punch</td>\n",
       "      <td>g1</td>\n",
       "    </tr>\n",
       "    <tr>\n",
       "      <th>1</th>\n",
       "      <td>p5</td>\n",
       "      <td>run</td>\n",
       "      <td>g5</td>\n",
       "    </tr>\n",
       "    <tr>\n",
       "      <th>2</th>\n",
       "      <td>p6</td>\n",
       "      <td>kick</td>\n",
       "      <td>g6</td>\n",
       "    </tr>\n",
       "  </tbody>\n",
       "</table>\n",
       "</div>"
      ],
      "text/plain": [
       "  Name skills Game\n",
       "0   p1  punch   g1\n",
       "1   p5    run   g5\n",
       "2   p6   kick   g6"
      ]
     },
     "execution_count": 20,
     "metadata": {},
     "output_type": "execute_result"
    }
   ],
   "source": [
    "df6"
   ]
  },
  {
   "cell_type": "markdown",
   "id": "466e5ba7",
   "metadata": {},
   "source": [
    "Merge\n",
    "\n",
    "Syntax: merge(data, on='col', how='i,o,r,l')"
   ]
  },
  {
   "cell_type": "code",
   "execution_count": 21,
   "id": "68fc0dc2",
   "metadata": {},
   "outputs": [
    {
     "data": {
      "text/html": [
       "<div>\n",
       "<style scoped>\n",
       "    .dataframe tbody tr th:only-of-type {\n",
       "        vertical-align: middle;\n",
       "    }\n",
       "\n",
       "    .dataframe tbody tr th {\n",
       "        vertical-align: top;\n",
       "    }\n",
       "\n",
       "    .dataframe thead th {\n",
       "        text-align: right;\n",
       "    }\n",
       "</style>\n",
       "<table border=\"1\" class=\"dataframe\">\n",
       "  <thead>\n",
       "    <tr style=\"text-align: right;\">\n",
       "      <th></th>\n",
       "      <th>Name</th>\n",
       "      <th>points</th>\n",
       "      <th>Game_x</th>\n",
       "      <th>skills</th>\n",
       "      <th>Game_y</th>\n",
       "    </tr>\n",
       "  </thead>\n",
       "  <tbody>\n",
       "    <tr>\n",
       "      <th>0</th>\n",
       "      <td>p1</td>\n",
       "      <td>8</td>\n",
       "      <td>g1</td>\n",
       "      <td>punch</td>\n",
       "      <td>g1</td>\n",
       "    </tr>\n",
       "  </tbody>\n",
       "</table>\n",
       "</div>"
      ],
      "text/plain": [
       "  Name  points Game_x skills Game_y\n",
       "0   p1       8     g1  punch     g1"
      ]
     },
     "execution_count": 21,
     "metadata": {},
     "output_type": "execute_result"
    }
   ],
   "source": [
    "df5.merge(df6, on = 'Name', how='inner')\n"
   ]
  },
  {
   "cell_type": "code",
   "execution_count": 22,
   "id": "dd80c5ac",
   "metadata": {},
   "outputs": [
    {
     "data": {
      "text/html": [
       "<div>\n",
       "<style scoped>\n",
       "    .dataframe tbody tr th:only-of-type {\n",
       "        vertical-align: middle;\n",
       "    }\n",
       "\n",
       "    .dataframe tbody tr th {\n",
       "        vertical-align: top;\n",
       "    }\n",
       "\n",
       "    .dataframe thead th {\n",
       "        text-align: right;\n",
       "    }\n",
       "</style>\n",
       "<table border=\"1\" class=\"dataframe\">\n",
       "  <thead>\n",
       "    <tr style=\"text-align: right;\">\n",
       "      <th></th>\n",
       "      <th>Name</th>\n",
       "      <th>points</th>\n",
       "      <th>Game_x</th>\n",
       "      <th>skills</th>\n",
       "      <th>Game_y</th>\n",
       "    </tr>\n",
       "  </thead>\n",
       "  <tbody>\n",
       "    <tr>\n",
       "      <th>0</th>\n",
       "      <td>p1</td>\n",
       "      <td>8.0</td>\n",
       "      <td>g1</td>\n",
       "      <td>punch</td>\n",
       "      <td>g1</td>\n",
       "    </tr>\n",
       "    <tr>\n",
       "      <th>1</th>\n",
       "      <td>p2</td>\n",
       "      <td>9.0</td>\n",
       "      <td>g2</td>\n",
       "      <td>NaN</td>\n",
       "      <td>NaN</td>\n",
       "    </tr>\n",
       "    <tr>\n",
       "      <th>2</th>\n",
       "      <td>p3</td>\n",
       "      <td>5.0</td>\n",
       "      <td>g3</td>\n",
       "      <td>NaN</td>\n",
       "      <td>NaN</td>\n",
       "    </tr>\n",
       "    <tr>\n",
       "      <th>3</th>\n",
       "      <td>p5</td>\n",
       "      <td>NaN</td>\n",
       "      <td>NaN</td>\n",
       "      <td>run</td>\n",
       "      <td>g5</td>\n",
       "    </tr>\n",
       "    <tr>\n",
       "      <th>4</th>\n",
       "      <td>p6</td>\n",
       "      <td>NaN</td>\n",
       "      <td>NaN</td>\n",
       "      <td>kick</td>\n",
       "      <td>g6</td>\n",
       "    </tr>\n",
       "  </tbody>\n",
       "</table>\n",
       "</div>"
      ],
      "text/plain": [
       "  Name  points Game_x skills Game_y\n",
       "0   p1     8.0     g1  punch     g1\n",
       "1   p2     9.0     g2    NaN    NaN\n",
       "2   p3     5.0     g3    NaN    NaN\n",
       "3   p5     NaN    NaN    run     g5\n",
       "4   p6     NaN    NaN   kick     g6"
      ]
     },
     "execution_count": 22,
     "metadata": {},
     "output_type": "execute_result"
    }
   ],
   "source": [
    "df5.merge(df6, on = 'Name', how='outer')\n",
    "#here NaN - represent Not a Number"
   ]
  },
  {
   "cell_type": "code",
   "execution_count": 23,
   "id": "891975f0",
   "metadata": {},
   "outputs": [
    {
     "data": {
      "text/html": [
       "<div>\n",
       "<style scoped>\n",
       "    .dataframe tbody tr th:only-of-type {\n",
       "        vertical-align: middle;\n",
       "    }\n",
       "\n",
       "    .dataframe tbody tr th {\n",
       "        vertical-align: top;\n",
       "    }\n",
       "\n",
       "    .dataframe thead th {\n",
       "        text-align: right;\n",
       "    }\n",
       "</style>\n",
       "<table border=\"1\" class=\"dataframe\">\n",
       "  <thead>\n",
       "    <tr style=\"text-align: right;\">\n",
       "      <th></th>\n",
       "      <th>Name</th>\n",
       "      <th>points</th>\n",
       "      <th>Game_x</th>\n",
       "      <th>skills</th>\n",
       "      <th>Game_y</th>\n",
       "    </tr>\n",
       "  </thead>\n",
       "  <tbody>\n",
       "    <tr>\n",
       "      <th>0</th>\n",
       "      <td>p1</td>\n",
       "      <td>8.0</td>\n",
       "      <td>g1</td>\n",
       "      <td>punch</td>\n",
       "      <td>g1</td>\n",
       "    </tr>\n",
       "    <tr>\n",
       "      <th>1</th>\n",
       "      <td>p5</td>\n",
       "      <td>NaN</td>\n",
       "      <td>NaN</td>\n",
       "      <td>run</td>\n",
       "      <td>g5</td>\n",
       "    </tr>\n",
       "    <tr>\n",
       "      <th>2</th>\n",
       "      <td>p6</td>\n",
       "      <td>NaN</td>\n",
       "      <td>NaN</td>\n",
       "      <td>kick</td>\n",
       "      <td>g6</td>\n",
       "    </tr>\n",
       "  </tbody>\n",
       "</table>\n",
       "</div>"
      ],
      "text/plain": [
       "  Name  points Game_x skills Game_y\n",
       "0   p1     8.0     g1  punch     g1\n",
       "1   p5     NaN    NaN    run     g5\n",
       "2   p6     NaN    NaN   kick     g6"
      ]
     },
     "execution_count": 23,
     "metadata": {},
     "output_type": "execute_result"
    }
   ],
   "source": [
    "df5.merge(df6, on = 'Name', how='right')"
   ]
  },
  {
   "cell_type": "code",
   "execution_count": 24,
   "id": "3fb0cc57",
   "metadata": {},
   "outputs": [
    {
     "data": {
      "text/html": [
       "<div>\n",
       "<style scoped>\n",
       "    .dataframe tbody tr th:only-of-type {\n",
       "        vertical-align: middle;\n",
       "    }\n",
       "\n",
       "    .dataframe tbody tr th {\n",
       "        vertical-align: top;\n",
       "    }\n",
       "\n",
       "    .dataframe thead th {\n",
       "        text-align: right;\n",
       "    }\n",
       "</style>\n",
       "<table border=\"1\" class=\"dataframe\">\n",
       "  <thead>\n",
       "    <tr style=\"text-align: right;\">\n",
       "      <th></th>\n",
       "      <th>Name</th>\n",
       "      <th>points</th>\n",
       "      <th>Game_x</th>\n",
       "      <th>skills</th>\n",
       "      <th>Game_y</th>\n",
       "    </tr>\n",
       "  </thead>\n",
       "  <tbody>\n",
       "    <tr>\n",
       "      <th>0</th>\n",
       "      <td>p1</td>\n",
       "      <td>8</td>\n",
       "      <td>g1</td>\n",
       "      <td>punch</td>\n",
       "      <td>g1</td>\n",
       "    </tr>\n",
       "    <tr>\n",
       "      <th>1</th>\n",
       "      <td>p2</td>\n",
       "      <td>9</td>\n",
       "      <td>g2</td>\n",
       "      <td>NaN</td>\n",
       "      <td>NaN</td>\n",
       "    </tr>\n",
       "    <tr>\n",
       "      <th>2</th>\n",
       "      <td>p3</td>\n",
       "      <td>5</td>\n",
       "      <td>g3</td>\n",
       "      <td>NaN</td>\n",
       "      <td>NaN</td>\n",
       "    </tr>\n",
       "  </tbody>\n",
       "</table>\n",
       "</div>"
      ],
      "text/plain": [
       "  Name  points Game_x skills Game_y\n",
       "0   p1       8     g1  punch     g1\n",
       "1   p2       9     g2    NaN    NaN\n",
       "2   p3       5     g3    NaN    NaN"
      ]
     },
     "execution_count": 24,
     "metadata": {},
     "output_type": "execute_result"
    }
   ],
   "source": [
    "df5.merge(df6, on = 'Name', how='left')"
   ]
  },
  {
   "cell_type": "markdown",
   "id": "98aa8543",
   "metadata": {},
   "source": [
    "Join\n",
    "\n",
    "Syntax: table1.join(table2, lsuffix= '', rsuffic='')"
   ]
  },
  {
   "cell_type": "code",
   "execution_count": 33,
   "id": "7ccd785d",
   "metadata": {},
   "outputs": [
    {
     "data": {
      "text/html": [
       "<div>\n",
       "<style scoped>\n",
       "    .dataframe tbody tr th:only-of-type {\n",
       "        vertical-align: middle;\n",
       "    }\n",
       "\n",
       "    .dataframe tbody tr th {\n",
       "        vertical-align: top;\n",
       "    }\n",
       "\n",
       "    .dataframe thead th {\n",
       "        text-align: right;\n",
       "    }\n",
       "</style>\n",
       "<table border=\"1\" class=\"dataframe\">\n",
       "  <thead>\n",
       "    <tr style=\"text-align: right;\">\n",
       "      <th></th>\n",
       "      <th>Name</th>\n",
       "      <th>points</th>\n",
       "      <th>Game</th>\n",
       "    </tr>\n",
       "  </thead>\n",
       "  <tbody>\n",
       "    <tr>\n",
       "      <th>0</th>\n",
       "      <td>p1</td>\n",
       "      <td>8</td>\n",
       "      <td>g1</td>\n",
       "    </tr>\n",
       "    <tr>\n",
       "      <th>1</th>\n",
       "      <td>p2</td>\n",
       "      <td>9</td>\n",
       "      <td>g2</td>\n",
       "    </tr>\n",
       "    <tr>\n",
       "      <th>2</th>\n",
       "      <td>p3</td>\n",
       "      <td>5</td>\n",
       "      <td>g3</td>\n",
       "    </tr>\n",
       "  </tbody>\n",
       "</table>\n",
       "</div>"
      ],
      "text/plain": [
       "  Name  points Game\n",
       "0   p1       8   g1\n",
       "1   p2       9   g2\n",
       "2   p3       5   g3"
      ]
     },
     "execution_count": 33,
     "metadata": {},
     "output_type": "execute_result"
    }
   ],
   "source": [
    "df5"
   ]
  },
  {
   "cell_type": "code",
   "execution_count": 34,
   "id": "40cf89ee",
   "metadata": {},
   "outputs": [
    {
     "data": {
      "text/html": [
       "<div>\n",
       "<style scoped>\n",
       "    .dataframe tbody tr th:only-of-type {\n",
       "        vertical-align: middle;\n",
       "    }\n",
       "\n",
       "    .dataframe tbody tr th {\n",
       "        vertical-align: top;\n",
       "    }\n",
       "\n",
       "    .dataframe thead th {\n",
       "        text-align: right;\n",
       "    }\n",
       "</style>\n",
       "<table border=\"1\" class=\"dataframe\">\n",
       "  <thead>\n",
       "    <tr style=\"text-align: right;\">\n",
       "      <th></th>\n",
       "      <th>Name</th>\n",
       "      <th>skills</th>\n",
       "      <th>Game</th>\n",
       "    </tr>\n",
       "  </thead>\n",
       "  <tbody>\n",
       "    <tr>\n",
       "      <th>0</th>\n",
       "      <td>p1</td>\n",
       "      <td>punch</td>\n",
       "      <td>g1</td>\n",
       "    </tr>\n",
       "    <tr>\n",
       "      <th>1</th>\n",
       "      <td>p5</td>\n",
       "      <td>run</td>\n",
       "      <td>g5</td>\n",
       "    </tr>\n",
       "    <tr>\n",
       "      <th>2</th>\n",
       "      <td>p6</td>\n",
       "      <td>kick</td>\n",
       "      <td>g6</td>\n",
       "    </tr>\n",
       "  </tbody>\n",
       "</table>\n",
       "</div>"
      ],
      "text/plain": [
       "  Name skills Game\n",
       "0   p1  punch   g1\n",
       "1   p5    run   g5\n",
       "2   p6   kick   g6"
      ]
     },
     "execution_count": 34,
     "metadata": {},
     "output_type": "execute_result"
    }
   ],
   "source": [
    "df6"
   ]
  },
  {
   "cell_type": "code",
   "execution_count": 25,
   "id": "4612a6de",
   "metadata": {},
   "outputs": [
    {
     "data": {
      "text/html": [
       "<div>\n",
       "<style scoped>\n",
       "    .dataframe tbody tr th:only-of-type {\n",
       "        vertical-align: middle;\n",
       "    }\n",
       "\n",
       "    .dataframe tbody tr th {\n",
       "        vertical-align: top;\n",
       "    }\n",
       "\n",
       "    .dataframe thead th {\n",
       "        text-align: right;\n",
       "    }\n",
       "</style>\n",
       "<table border=\"1\" class=\"dataframe\">\n",
       "  <thead>\n",
       "    <tr style=\"text-align: right;\">\n",
       "      <th></th>\n",
       "      <th>Name_LT</th>\n",
       "      <th>points</th>\n",
       "      <th>Game_LT</th>\n",
       "      <th>Name_RT</th>\n",
       "      <th>skills</th>\n",
       "      <th>Game_RT</th>\n",
       "    </tr>\n",
       "  </thead>\n",
       "  <tbody>\n",
       "    <tr>\n",
       "      <th>0</th>\n",
       "      <td>p1</td>\n",
       "      <td>8</td>\n",
       "      <td>g1</td>\n",
       "      <td>p1</td>\n",
       "      <td>punch</td>\n",
       "      <td>g1</td>\n",
       "    </tr>\n",
       "    <tr>\n",
       "      <th>1</th>\n",
       "      <td>p2</td>\n",
       "      <td>9</td>\n",
       "      <td>g2</td>\n",
       "      <td>p5</td>\n",
       "      <td>run</td>\n",
       "      <td>g5</td>\n",
       "    </tr>\n",
       "    <tr>\n",
       "      <th>2</th>\n",
       "      <td>p3</td>\n",
       "      <td>5</td>\n",
       "      <td>g3</td>\n",
       "      <td>p6</td>\n",
       "      <td>kick</td>\n",
       "      <td>g6</td>\n",
       "    </tr>\n",
       "  </tbody>\n",
       "</table>\n",
       "</div>"
      ],
      "text/plain": [
       "  Name_LT  points Game_LT Name_RT skills Game_RT\n",
       "0      p1       8      g1      p1  punch      g1\n",
       "1      p2       9      g2      p5    run      g5\n",
       "2      p3       5      g3      p6   kick      g6"
      ]
     },
     "execution_count": 25,
     "metadata": {},
     "output_type": "execute_result"
    }
   ],
   "source": [
    "df5.join(df6, how = 'inner', lsuffix = '_LT', rsuffix='_RT')\n",
    "#Got to see why it is not working, it is supposed to work similar to merge"
   ]
  },
  {
   "cell_type": "code",
   "execution_count": 26,
   "id": "bdcbdad1",
   "metadata": {},
   "outputs": [
    {
     "data": {
      "text/html": [
       "<div>\n",
       "<style scoped>\n",
       "    .dataframe tbody tr th:only-of-type {\n",
       "        vertical-align: middle;\n",
       "    }\n",
       "\n",
       "    .dataframe tbody tr th {\n",
       "        vertical-align: top;\n",
       "    }\n",
       "\n",
       "    .dataframe thead th {\n",
       "        text-align: right;\n",
       "    }\n",
       "</style>\n",
       "<table border=\"1\" class=\"dataframe\">\n",
       "  <thead>\n",
       "    <tr style=\"text-align: right;\">\n",
       "      <th></th>\n",
       "      <th>Name_LT</th>\n",
       "      <th>points</th>\n",
       "      <th>Game_LT</th>\n",
       "      <th>Name_RT</th>\n",
       "      <th>skills</th>\n",
       "      <th>Game_RT</th>\n",
       "    </tr>\n",
       "  </thead>\n",
       "  <tbody>\n",
       "    <tr>\n",
       "      <th>0</th>\n",
       "      <td>p1</td>\n",
       "      <td>8</td>\n",
       "      <td>g1</td>\n",
       "      <td>p1</td>\n",
       "      <td>punch</td>\n",
       "      <td>g1</td>\n",
       "    </tr>\n",
       "    <tr>\n",
       "      <th>1</th>\n",
       "      <td>p2</td>\n",
       "      <td>9</td>\n",
       "      <td>g2</td>\n",
       "      <td>p5</td>\n",
       "      <td>run</td>\n",
       "      <td>g5</td>\n",
       "    </tr>\n",
       "    <tr>\n",
       "      <th>2</th>\n",
       "      <td>p3</td>\n",
       "      <td>5</td>\n",
       "      <td>g3</td>\n",
       "      <td>p6</td>\n",
       "      <td>kick</td>\n",
       "      <td>g6</td>\n",
       "    </tr>\n",
       "  </tbody>\n",
       "</table>\n",
       "</div>"
      ],
      "text/plain": [
       "  Name_LT  points Game_LT Name_RT skills Game_RT\n",
       "0      p1       8      g1      p1  punch      g1\n",
       "1      p2       9      g2      p5    run      g5\n",
       "2      p3       5      g3      p6   kick      g6"
      ]
     },
     "execution_count": 26,
     "metadata": {},
     "output_type": "execute_result"
    }
   ],
   "source": [
    "df5.join(df6, how = 'outer', lsuffix = '_LT', rsuffix='_RT')"
   ]
  },
  {
   "cell_type": "code",
   "execution_count": 27,
   "id": "012c0aef",
   "metadata": {},
   "outputs": [
    {
     "data": {
      "text/html": [
       "<div>\n",
       "<style scoped>\n",
       "    .dataframe tbody tr th:only-of-type {\n",
       "        vertical-align: middle;\n",
       "    }\n",
       "\n",
       "    .dataframe tbody tr th {\n",
       "        vertical-align: top;\n",
       "    }\n",
       "\n",
       "    .dataframe thead th {\n",
       "        text-align: right;\n",
       "    }\n",
       "</style>\n",
       "<table border=\"1\" class=\"dataframe\">\n",
       "  <thead>\n",
       "    <tr style=\"text-align: right;\">\n",
       "      <th></th>\n",
       "      <th>Name_LT</th>\n",
       "      <th>points</th>\n",
       "      <th>Game_LT</th>\n",
       "      <th>Name_RT</th>\n",
       "      <th>skills</th>\n",
       "      <th>Game_RT</th>\n",
       "    </tr>\n",
       "  </thead>\n",
       "  <tbody>\n",
       "    <tr>\n",
       "      <th>0</th>\n",
       "      <td>p1</td>\n",
       "      <td>8</td>\n",
       "      <td>g1</td>\n",
       "      <td>p1</td>\n",
       "      <td>punch</td>\n",
       "      <td>g1</td>\n",
       "    </tr>\n",
       "    <tr>\n",
       "      <th>1</th>\n",
       "      <td>p2</td>\n",
       "      <td>9</td>\n",
       "      <td>g2</td>\n",
       "      <td>p5</td>\n",
       "      <td>run</td>\n",
       "      <td>g5</td>\n",
       "    </tr>\n",
       "    <tr>\n",
       "      <th>2</th>\n",
       "      <td>p3</td>\n",
       "      <td>5</td>\n",
       "      <td>g3</td>\n",
       "      <td>p6</td>\n",
       "      <td>kick</td>\n",
       "      <td>g6</td>\n",
       "    </tr>\n",
       "  </tbody>\n",
       "</table>\n",
       "</div>"
      ],
      "text/plain": [
       "  Name_LT  points Game_LT Name_RT skills Game_RT\n",
       "0      p1       8      g1      p1  punch      g1\n",
       "1      p2       9      g2      p5    run      g5\n",
       "2      p3       5      g3      p6   kick      g6"
      ]
     },
     "execution_count": 27,
     "metadata": {},
     "output_type": "execute_result"
    }
   ],
   "source": [
    "df5.join(df6, how = 'right', lsuffix = '_LT', rsuffix='_RT')"
   ]
  },
  {
   "cell_type": "code",
   "execution_count": 28,
   "id": "7dbdebaf",
   "metadata": {},
   "outputs": [
    {
     "data": {
      "text/html": [
       "<div>\n",
       "<style scoped>\n",
       "    .dataframe tbody tr th:only-of-type {\n",
       "        vertical-align: middle;\n",
       "    }\n",
       "\n",
       "    .dataframe tbody tr th {\n",
       "        vertical-align: top;\n",
       "    }\n",
       "\n",
       "    .dataframe thead th {\n",
       "        text-align: right;\n",
       "    }\n",
       "</style>\n",
       "<table border=\"1\" class=\"dataframe\">\n",
       "  <thead>\n",
       "    <tr style=\"text-align: right;\">\n",
       "      <th></th>\n",
       "      <th>Name_LT</th>\n",
       "      <th>points</th>\n",
       "      <th>Game_LT</th>\n",
       "      <th>Name_RT</th>\n",
       "      <th>skills</th>\n",
       "      <th>Game_RT</th>\n",
       "    </tr>\n",
       "  </thead>\n",
       "  <tbody>\n",
       "    <tr>\n",
       "      <th>0</th>\n",
       "      <td>p1</td>\n",
       "      <td>8</td>\n",
       "      <td>g1</td>\n",
       "      <td>p1</td>\n",
       "      <td>punch</td>\n",
       "      <td>g1</td>\n",
       "    </tr>\n",
       "    <tr>\n",
       "      <th>1</th>\n",
       "      <td>p2</td>\n",
       "      <td>9</td>\n",
       "      <td>g2</td>\n",
       "      <td>p5</td>\n",
       "      <td>run</td>\n",
       "      <td>g5</td>\n",
       "    </tr>\n",
       "    <tr>\n",
       "      <th>2</th>\n",
       "      <td>p3</td>\n",
       "      <td>5</td>\n",
       "      <td>g3</td>\n",
       "      <td>p6</td>\n",
       "      <td>kick</td>\n",
       "      <td>g6</td>\n",
       "    </tr>\n",
       "  </tbody>\n",
       "</table>\n",
       "</div>"
      ],
      "text/plain": [
       "  Name_LT  points Game_LT Name_RT skills Game_RT\n",
       "0      p1       8      g1      p1  punch      g1\n",
       "1      p2       9      g2      p5    run      g5\n",
       "2      p3       5      g3      p6   kick      g6"
      ]
     },
     "execution_count": 28,
     "metadata": {},
     "output_type": "execute_result"
    }
   ],
   "source": [
    "df5.join(df6, how = 'left', lsuffix = '_LT', rsuffix='_RT')"
   ]
  },
  {
   "cell_type": "markdown",
   "id": "fa3394b5",
   "metadata": {},
   "source": [
    "Iteration in dataframes"
   ]
  },
  {
   "cell_type": "code",
   "execution_count": 29,
   "id": "a87da50d",
   "metadata": {},
   "outputs": [
    {
     "data": {
      "text/plain": [
       "RangeIndex(start=0, stop=4, step=1)"
      ]
     },
     "execution_count": 29,
     "metadata": {},
     "output_type": "execute_result"
    }
   ],
   "source": [
    "import pandas as pd\n",
    "df.index"
   ]
  },
  {
   "cell_type": "markdown",
   "id": "3b98ef1f",
   "metadata": {},
   "source": [
    "Method 1"
   ]
  },
  {
   "cell_type": "code",
   "execution_count": 32,
   "id": "307fc734",
   "metadata": {},
   "outputs": [
    {
     "name": "stdout",
     "output_type": "stream",
     "text": [
      "p1 8\n",
      "p2 9\n",
      "p3 5\n"
     ]
    }
   ],
   "source": [
    "for i in df5.index:\n",
    "    print(df5['Name'][i],df5['points'][i],)"
   ]
  },
  {
   "cell_type": "markdown",
   "id": "541b6d57",
   "metadata": {},
   "source": [
    "Method 2 is loc"
   ]
  },
  {
   "cell_type": "code",
   "execution_count": 37,
   "id": "ba665650",
   "metadata": {},
   "outputs": [
    {
     "name": "stdout",
     "output_type": "stream",
     "text": [
      "p1 8\n",
      "p2 9\n",
      "p3 5\n"
     ]
    }
   ],
   "source": [
    "for i in range(len(df5)):\n",
    "    print(df5.loc[i,\"Name\"],df5.loc[i,\"points\"])"
   ]
  },
  {
   "cell_type": "markdown",
   "id": "cb38dc0a",
   "metadata": {},
   "source": [
    "Method 3 using iloc"
   ]
  },
  {
   "cell_type": "code",
   "execution_count": 39,
   "id": "71d08eb2",
   "metadata": {},
   "outputs": [
    {
     "name": "stdout",
     "output_type": "stream",
     "text": [
      "p1 8\n",
      "p2 9\n",
      "p3 5\n"
     ]
    }
   ],
   "source": [
    "for i in range(len(df5)):\n",
    "    print(df5.iloc[i,0],df5.iloc[i,1])"
   ]
  },
  {
   "cell_type": "code",
   "execution_count": 49,
   "id": "c0955782",
   "metadata": {},
   "outputs": [
    {
     "name": "stdout",
     "output_type": "stream",
     "text": [
      "p3 5\n",
      "p3 5\n",
      "p3 5\n"
     ]
    }
   ],
   "source": [
    "for index, rows in df5.iterrows():\n",
    "    print(df5.loc[i,\"Name\"],df5.loc[i,\"points\"])"
   ]
  },
  {
   "cell_type": "code",
   "execution_count": null,
   "id": "a13f62e3",
   "metadata": {},
   "outputs": [],
   "source": [
    "slicing"
   ]
  },
  {
   "cell_type": "code",
   "execution_count": 55,
   "id": "c0eeddc3",
   "metadata": {},
   "outputs": [],
   "source": [
    "rows, columns = df5.shape"
   ]
  },
  {
   "cell_type": "code",
   "execution_count": 56,
   "id": "63ced61e",
   "metadata": {},
   "outputs": [
    {
     "data": {
      "text/plain": [
       "int"
      ]
     },
     "execution_count": 56,
     "metadata": {},
     "output_type": "execute_result"
    }
   ],
   "source": [
    "type(rows)"
   ]
  },
  {
   "cell_type": "code",
   "execution_count": 58,
   "id": "3d8cd5c0",
   "metadata": {},
   "outputs": [
    {
     "data": {
      "text/plain": [
       "3"
      ]
     },
     "execution_count": 58,
     "metadata": {},
     "output_type": "execute_result"
    }
   ],
   "source": [
    "rows\n"
   ]
  },
  {
   "cell_type": "code",
   "execution_count": 59,
   "id": "93c00822",
   "metadata": {},
   "outputs": [
    {
     "data": {
      "text/plain": [
       "2"
      ]
     },
     "execution_count": 59,
     "metadata": {},
     "output_type": "execute_result"
    }
   ],
   "source": [
    "train = 0.8\n",
    "train_index = int(float(rows)*train)"
   ]
  },
  {
   "cell_type": "code",
   "execution_count": null,
   "id": "806f0f97",
   "metadata": {},
   "outputs": [],
   "source": []
  },
  {
   "cell_type": "code",
   "execution_count": 61,
   "id": "a521c9eb",
   "metadata": {
    "scrolled": true
   },
   "outputs": [
    {
     "name": "stdout",
     "output_type": "stream",
     "text": [
      "  Name  points Game\n",
      "0   p1       8   g1\n",
      "1   p2       9   g2\n"
     ]
    }
   ],
   "source": [
    "print(df5.iloc[:train_index,:])"
   ]
  },
  {
   "cell_type": "code",
   "execution_count": 62,
   "id": "57ab56e8",
   "metadata": {},
   "outputs": [
    {
     "name": "stdout",
     "output_type": "stream",
     "text": [
      "  Name  points Game\n",
      "2   p3       5   g3\n"
     ]
    }
   ],
   "source": [
    "print(df5.iloc[train_index:,:])"
   ]
  },
  {
   "cell_type": "markdown",
   "id": "81a5a499",
   "metadata": {},
   "source": [
    "Reading the dataset"
   ]
  },
  {
   "cell_type": "code",
   "execution_count": 64,
   "id": "8d97b0d5",
   "metadata": {},
   "outputs": [
    {
     "data": {
      "text/html": [
       "<div>\n",
       "<style scoped>\n",
       "    .dataframe tbody tr th:only-of-type {\n",
       "        vertical-align: middle;\n",
       "    }\n",
       "\n",
       "    .dataframe tbody tr th {\n",
       "        vertical-align: top;\n",
       "    }\n",
       "\n",
       "    .dataframe thead th {\n",
       "        text-align: right;\n",
       "    }\n",
       "</style>\n",
       "<table border=\"1\" class=\"dataframe\">\n",
       "  <thead>\n",
       "    <tr style=\"text-align: right;\">\n",
       "      <th></th>\n",
       "      <th>Dimensions.Height</th>\n",
       "      <th>Dimensions.Length</th>\n",
       "      <th>Dimensions.Width</th>\n",
       "      <th>Engine Information.Driveline</th>\n",
       "      <th>Engine Information.Engine Type</th>\n",
       "      <th>Engine Information.Hybrid</th>\n",
       "      <th>Engine Information.Number of Forward Gears</th>\n",
       "      <th>Engine Information.Transmission</th>\n",
       "      <th>Fuel Information.City mpg</th>\n",
       "      <th>Fuel Information.Fuel Type</th>\n",
       "      <th>Fuel Information.Highway mpg</th>\n",
       "      <th>Identification.Classification</th>\n",
       "      <th>Identification.ID</th>\n",
       "      <th>Identification.Make</th>\n",
       "      <th>Identification.Model Year</th>\n",
       "      <th>Identification.Year</th>\n",
       "      <th>Engine Information.Engine Statistics.Horsepower</th>\n",
       "      <th>Engine Information.Engine Statistics.Torque</th>\n",
       "    </tr>\n",
       "  </thead>\n",
       "  <tbody>\n",
       "    <tr>\n",
       "      <th>0</th>\n",
       "      <td>140</td>\n",
       "      <td>143</td>\n",
       "      <td>202</td>\n",
       "      <td>All-wheel drive</td>\n",
       "      <td>Audi 3.2L 6 cylinder 250hp 236ft-lbs</td>\n",
       "      <td>True</td>\n",
       "      <td>6</td>\n",
       "      <td>6 Speed Automatic Select Shift</td>\n",
       "      <td>18</td>\n",
       "      <td>Gasoline</td>\n",
       "      <td>25</td>\n",
       "      <td>Automatic transmission</td>\n",
       "      <td>2009 Audi A3 3.2</td>\n",
       "      <td>Audi</td>\n",
       "      <td>2009 Audi A3</td>\n",
       "      <td>2009</td>\n",
       "      <td>250</td>\n",
       "      <td>236</td>\n",
       "    </tr>\n",
       "    <tr>\n",
       "      <th>1</th>\n",
       "      <td>140</td>\n",
       "      <td>143</td>\n",
       "      <td>202</td>\n",
       "      <td>Front-wheel drive</td>\n",
       "      <td>Audi 2.0L 4 cylinder 200 hp 207 ft-lbs Turbo</td>\n",
       "      <td>True</td>\n",
       "      <td>6</td>\n",
       "      <td>6 Speed Automatic Select Shift</td>\n",
       "      <td>22</td>\n",
       "      <td>Gasoline</td>\n",
       "      <td>28</td>\n",
       "      <td>Automatic transmission</td>\n",
       "      <td>2009 Audi A3 2.0 T AT</td>\n",
       "      <td>Audi</td>\n",
       "      <td>2009 Audi A3</td>\n",
       "      <td>2009</td>\n",
       "      <td>200</td>\n",
       "      <td>207</td>\n",
       "    </tr>\n",
       "    <tr>\n",
       "      <th>2</th>\n",
       "      <td>140</td>\n",
       "      <td>143</td>\n",
       "      <td>202</td>\n",
       "      <td>Front-wheel drive</td>\n",
       "      <td>Audi 2.0L 4 cylinder 200 hp 207 ft-lbs Turbo</td>\n",
       "      <td>True</td>\n",
       "      <td>6</td>\n",
       "      <td>6 Speed Manual</td>\n",
       "      <td>21</td>\n",
       "      <td>Gasoline</td>\n",
       "      <td>30</td>\n",
       "      <td>Manual transmission</td>\n",
       "      <td>2009 Audi A3 2.0 T</td>\n",
       "      <td>Audi</td>\n",
       "      <td>2009 Audi A3</td>\n",
       "      <td>2009</td>\n",
       "      <td>200</td>\n",
       "      <td>207</td>\n",
       "    </tr>\n",
       "    <tr>\n",
       "      <th>3</th>\n",
       "      <td>140</td>\n",
       "      <td>143</td>\n",
       "      <td>202</td>\n",
       "      <td>All-wheel drive</td>\n",
       "      <td>Audi 2.0L 4 cylinder 200 hp 207 ft-lbs Turbo</td>\n",
       "      <td>True</td>\n",
       "      <td>6</td>\n",
       "      <td>6 Speed Automatic Select Shift</td>\n",
       "      <td>21</td>\n",
       "      <td>Gasoline</td>\n",
       "      <td>28</td>\n",
       "      <td>Automatic transmission</td>\n",
       "      <td>2009 Audi A3 2.0 T Quattro</td>\n",
       "      <td>Audi</td>\n",
       "      <td>2009 Audi A3</td>\n",
       "      <td>2009</td>\n",
       "      <td>200</td>\n",
       "      <td>207</td>\n",
       "    </tr>\n",
       "    <tr>\n",
       "      <th>4</th>\n",
       "      <td>140</td>\n",
       "      <td>143</td>\n",
       "      <td>202</td>\n",
       "      <td>All-wheel drive</td>\n",
       "      <td>Audi 2.0L 4 cylinder 200 hp 207 ft-lbs Turbo</td>\n",
       "      <td>True</td>\n",
       "      <td>6</td>\n",
       "      <td>6 Speed Automatic Select Shift</td>\n",
       "      <td>21</td>\n",
       "      <td>Gasoline</td>\n",
       "      <td>28</td>\n",
       "      <td>Automatic transmission</td>\n",
       "      <td>2009 Audi A3 2.0 T Quattro</td>\n",
       "      <td>Audi</td>\n",
       "      <td>2009 Audi A3</td>\n",
       "      <td>2009</td>\n",
       "      <td>200</td>\n",
       "      <td>207</td>\n",
       "    </tr>\n",
       "    <tr>\n",
       "      <th>...</th>\n",
       "      <td>...</td>\n",
       "      <td>...</td>\n",
       "      <td>...</td>\n",
       "      <td>...</td>\n",
       "      <td>...</td>\n",
       "      <td>...</td>\n",
       "      <td>...</td>\n",
       "      <td>...</td>\n",
       "      <td>...</td>\n",
       "      <td>...</td>\n",
       "      <td>...</td>\n",
       "      <td>...</td>\n",
       "      <td>...</td>\n",
       "      <td>...</td>\n",
       "      <td>...</td>\n",
       "      <td>...</td>\n",
       "      <td>...</td>\n",
       "      <td>...</td>\n",
       "    </tr>\n",
       "    <tr>\n",
       "      <th>5071</th>\n",
       "      <td>13</td>\n",
       "      <td>253</td>\n",
       "      <td>201</td>\n",
       "      <td>Front-wheel drive</td>\n",
       "      <td>Honda 3.5L 6 Cylinder 250 hp 253 ft-lbs</td>\n",
       "      <td>True</td>\n",
       "      <td>5</td>\n",
       "      <td>5 Speed Automatic</td>\n",
       "      <td>18</td>\n",
       "      <td>Gasoline</td>\n",
       "      <td>25</td>\n",
       "      <td>Automatic transmission</td>\n",
       "      <td>2012 Honda Pilot EX-L</td>\n",
       "      <td>Honda</td>\n",
       "      <td>2012 Honda Pilot</td>\n",
       "      <td>2012</td>\n",
       "      <td>250</td>\n",
       "      <td>253</td>\n",
       "    </tr>\n",
       "    <tr>\n",
       "      <th>5072</th>\n",
       "      <td>141</td>\n",
       "      <td>249</td>\n",
       "      <td>108</td>\n",
       "      <td>All-wheel drive</td>\n",
       "      <td>Lamborghini 5.2L 10 cylinder 552 hp 398 ft-lbs</td>\n",
       "      <td>True</td>\n",
       "      <td>6</td>\n",
       "      <td>6 Speed Manual</td>\n",
       "      <td>12</td>\n",
       "      <td>Gasoline</td>\n",
       "      <td>20</td>\n",
       "      <td>Manual transmission</td>\n",
       "      <td>2012 Lamborghini Gallardo Coupe LP 560-4</td>\n",
       "      <td>Lamborghini</td>\n",
       "      <td>2012 Lamborghini Gallardo Coup</td>\n",
       "      <td>2012</td>\n",
       "      <td>552</td>\n",
       "      <td>398</td>\n",
       "    </tr>\n",
       "    <tr>\n",
       "      <th>5073</th>\n",
       "      <td>160</td>\n",
       "      <td>249</td>\n",
       "      <td>108</td>\n",
       "      <td>All-wheel drive</td>\n",
       "      <td>Lamborghini 5.2L 10 cylinder 552 hp 398 ft-lbs</td>\n",
       "      <td>True</td>\n",
       "      <td>6</td>\n",
       "      <td>6 Speed Manual</td>\n",
       "      <td>12</td>\n",
       "      <td>Gasoline</td>\n",
       "      <td>20</td>\n",
       "      <td>Manual transmission</td>\n",
       "      <td>2012 Lamborghini Gallardo LP 560-4 Spyder</td>\n",
       "      <td>Lamborghini</td>\n",
       "      <td>2012 Lamborghini Gallardo Spyder</td>\n",
       "      <td>2012</td>\n",
       "      <td>552</td>\n",
       "      <td>398</td>\n",
       "    </tr>\n",
       "    <tr>\n",
       "      <th>5074</th>\n",
       "      <td>200</td>\n",
       "      <td>210</td>\n",
       "      <td>110</td>\n",
       "      <td>Rear-wheel drive</td>\n",
       "      <td>BMW 3.0L 6 cylinder 315hp 330 ft-lbs Turbo</td>\n",
       "      <td>True</td>\n",
       "      <td>6</td>\n",
       "      <td>6 Speed Automatic Select Shift</td>\n",
       "      <td>17</td>\n",
       "      <td>Gasoline</td>\n",
       "      <td>25</td>\n",
       "      <td>Automatic transmission</td>\n",
       "      <td>2012 BMW 740i Sedan</td>\n",
       "      <td>BMW</td>\n",
       "      <td>2012 BMW 7 Series</td>\n",
       "      <td>2012</td>\n",
       "      <td>315</td>\n",
       "      <td>330</td>\n",
       "    </tr>\n",
       "    <tr>\n",
       "      <th>5075</th>\n",
       "      <td>200</td>\n",
       "      <td>94</td>\n",
       "      <td>110</td>\n",
       "      <td>Rear-wheel drive</td>\n",
       "      <td>BMW 3.0L 6 cylinder 315hp 330 ft-lbs Turbo</td>\n",
       "      <td>True</td>\n",
       "      <td>6</td>\n",
       "      <td>6 Speed Automatic Select Shift</td>\n",
       "      <td>17</td>\n",
       "      <td>Gasoline</td>\n",
       "      <td>25</td>\n",
       "      <td>Automatic transmission</td>\n",
       "      <td>2012 BMW 740Li Sedan</td>\n",
       "      <td>BMW</td>\n",
       "      <td>2012 BMW 7 Series</td>\n",
       "      <td>2012</td>\n",
       "      <td>315</td>\n",
       "      <td>330</td>\n",
       "    </tr>\n",
       "  </tbody>\n",
       "</table>\n",
       "<p>5076 rows × 18 columns</p>\n",
       "</div>"
      ],
      "text/plain": [
       "      Dimensions.Height  Dimensions.Length  Dimensions.Width  \\\n",
       "0                   140                143               202   \n",
       "1                   140                143               202   \n",
       "2                   140                143               202   \n",
       "3                   140                143               202   \n",
       "4                   140                143               202   \n",
       "...                 ...                ...               ...   \n",
       "5071                 13                253               201   \n",
       "5072                141                249               108   \n",
       "5073                160                249               108   \n",
       "5074                200                210               110   \n",
       "5075                200                 94               110   \n",
       "\n",
       "     Engine Information.Driveline  \\\n",
       "0                 All-wheel drive   \n",
       "1               Front-wheel drive   \n",
       "2               Front-wheel drive   \n",
       "3                 All-wheel drive   \n",
       "4                 All-wheel drive   \n",
       "...                           ...   \n",
       "5071            Front-wheel drive   \n",
       "5072              All-wheel drive   \n",
       "5073              All-wheel drive   \n",
       "5074             Rear-wheel drive   \n",
       "5075             Rear-wheel drive   \n",
       "\n",
       "                      Engine Information.Engine Type  \\\n",
       "0               Audi 3.2L 6 cylinder 250hp 236ft-lbs   \n",
       "1       Audi 2.0L 4 cylinder 200 hp 207 ft-lbs Turbo   \n",
       "2       Audi 2.0L 4 cylinder 200 hp 207 ft-lbs Turbo   \n",
       "3       Audi 2.0L 4 cylinder 200 hp 207 ft-lbs Turbo   \n",
       "4       Audi 2.0L 4 cylinder 200 hp 207 ft-lbs Turbo   \n",
       "...                                              ...   \n",
       "5071         Honda 3.5L 6 Cylinder 250 hp 253 ft-lbs   \n",
       "5072  Lamborghini 5.2L 10 cylinder 552 hp 398 ft-lbs   \n",
       "5073  Lamborghini 5.2L 10 cylinder 552 hp 398 ft-lbs   \n",
       "5074      BMW 3.0L 6 cylinder 315hp 330 ft-lbs Turbo   \n",
       "5075      BMW 3.0L 6 cylinder 315hp 330 ft-lbs Turbo   \n",
       "\n",
       "      Engine Information.Hybrid  Engine Information.Number of Forward Gears  \\\n",
       "0                          True                                           6   \n",
       "1                          True                                           6   \n",
       "2                          True                                           6   \n",
       "3                          True                                           6   \n",
       "4                          True                                           6   \n",
       "...                         ...                                         ...   \n",
       "5071                       True                                           5   \n",
       "5072                       True                                           6   \n",
       "5073                       True                                           6   \n",
       "5074                       True                                           6   \n",
       "5075                       True                                           6   \n",
       "\n",
       "     Engine Information.Transmission  Fuel Information.City mpg  \\\n",
       "0     6 Speed Automatic Select Shift                         18   \n",
       "1     6 Speed Automatic Select Shift                         22   \n",
       "2                     6 Speed Manual                         21   \n",
       "3     6 Speed Automatic Select Shift                         21   \n",
       "4     6 Speed Automatic Select Shift                         21   \n",
       "...                              ...                        ...   \n",
       "5071               5 Speed Automatic                         18   \n",
       "5072                  6 Speed Manual                         12   \n",
       "5073                  6 Speed Manual                         12   \n",
       "5074  6 Speed Automatic Select Shift                         17   \n",
       "5075  6 Speed Automatic Select Shift                         17   \n",
       "\n",
       "     Fuel Information.Fuel Type  Fuel Information.Highway mpg  \\\n",
       "0                      Gasoline                            25   \n",
       "1                      Gasoline                            28   \n",
       "2                      Gasoline                            30   \n",
       "3                      Gasoline                            28   \n",
       "4                      Gasoline                            28   \n",
       "...                         ...                           ...   \n",
       "5071                   Gasoline                            25   \n",
       "5072                   Gasoline                            20   \n",
       "5073                   Gasoline                            20   \n",
       "5074                   Gasoline                            25   \n",
       "5075                   Gasoline                            25   \n",
       "\n",
       "     Identification.Classification                          Identification.ID  \\\n",
       "0           Automatic transmission                           2009 Audi A3 3.2   \n",
       "1           Automatic transmission                      2009 Audi A3 2.0 T AT   \n",
       "2              Manual transmission                         2009 Audi A3 2.0 T   \n",
       "3           Automatic transmission                 2009 Audi A3 2.0 T Quattro   \n",
       "4           Automatic transmission                 2009 Audi A3 2.0 T Quattro   \n",
       "...                            ...                                        ...   \n",
       "5071        Automatic transmission                      2012 Honda Pilot EX-L   \n",
       "5072           Manual transmission   2012 Lamborghini Gallardo Coupe LP 560-4   \n",
       "5073           Manual transmission  2012 Lamborghini Gallardo LP 560-4 Spyder   \n",
       "5074        Automatic transmission                        2012 BMW 740i Sedan   \n",
       "5075        Automatic transmission                       2012 BMW 740Li Sedan   \n",
       "\n",
       "     Identification.Make         Identification.Model Year  \\\n",
       "0                   Audi                      2009 Audi A3   \n",
       "1                   Audi                      2009 Audi A3   \n",
       "2                   Audi                      2009 Audi A3   \n",
       "3                   Audi                      2009 Audi A3   \n",
       "4                   Audi                      2009 Audi A3   \n",
       "...                  ...                               ...   \n",
       "5071               Honda                  2012 Honda Pilot   \n",
       "5072         Lamborghini    2012 Lamborghini Gallardo Coup   \n",
       "5073         Lamborghini  2012 Lamborghini Gallardo Spyder   \n",
       "5074                 BMW                 2012 BMW 7 Series   \n",
       "5075                 BMW                 2012 BMW 7 Series   \n",
       "\n",
       "      Identification.Year  Engine Information.Engine Statistics.Horsepower  \\\n",
       "0                    2009                                              250   \n",
       "1                    2009                                              200   \n",
       "2                    2009                                              200   \n",
       "3                    2009                                              200   \n",
       "4                    2009                                              200   \n",
       "...                   ...                                              ...   \n",
       "5071                 2012                                              250   \n",
       "5072                 2012                                              552   \n",
       "5073                 2012                                              552   \n",
       "5074                 2012                                              315   \n",
       "5075                 2012                                              315   \n",
       "\n",
       "      Engine Information.Engine Statistics.Torque  \n",
       "0                                             236  \n",
       "1                                             207  \n",
       "2                                             207  \n",
       "3                                             207  \n",
       "4                                             207  \n",
       "...                                           ...  \n",
       "5071                                          253  \n",
       "5072                                          398  \n",
       "5073                                          398  \n",
       "5074                                          330  \n",
       "5075                                          330  \n",
       "\n",
       "[5076 rows x 18 columns]"
      ]
     },
     "execution_count": 64,
     "metadata": {},
     "output_type": "execute_result"
    }
   ],
   "source": [
    "cars_df=pd.read_csv(\"cars.csv\")\n",
    "cars_df"
   ]
  },
  {
   "cell_type": "code",
   "execution_count": null,
   "id": "d649e483",
   "metadata": {},
   "outputs": [],
   "source": []
  }
 ],
 "metadata": {
  "kernelspec": {
   "display_name": "Python 3 (ipykernel)",
   "language": "python",
   "name": "python3"
  },
  "language_info": {
   "codemirror_mode": {
    "name": "ipython",
    "version": 3
   },
   "file_extension": ".py",
   "mimetype": "text/x-python",
   "name": "python",
   "nbconvert_exporter": "python",
   "pygments_lexer": "ipython3",
   "version": "3.11.4"
  }
 },
 "nbformat": 4,
 "nbformat_minor": 5
}
