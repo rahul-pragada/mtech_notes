{
 "cells": [
  {
   "cell_type": "markdown",
   "metadata": {
    "id": "XMvqQFs1ERE-"
   },
   "source": [
    "<table align=\"center\" width=100%>\n",
    "    <tr>\n",
    "       <td>\n",
    "            <div align=\"center\">\n",
    "                <font color=\"#21618C\" size=8px>\n",
    "                    <b> Statistics for Machine Learning CT-1 <br>\n",
    "                    </b>\n",
    "                </font>\n",
    "            </div>\n",
    "        </td>\n",
    "        <td width=\"25%\">\n",
    "            <img src=\"NEW_GL_Logo.png\">\n",
    "        </td>\n",
    "    </tr>\n",
    "</table>"
   ]
  },
  {
   "cell_type": "markdown",
   "metadata": {
    "id": "EYpkMdnx9HBF"
   },
   "source": [
    "# Group Members Name\n",
    "\n",
    "## 1.\n",
    "\n",
    "## 2.\n",
    "\n",
    "## 3."
   ]
  },
  {
   "cell_type": "markdown",
   "metadata": {
    "id": "ih5xV04uERFH"
   },
   "source": [
    "### Question -1(20 Marks)"
   ]
  },
  {
   "cell_type": "markdown",
   "metadata": {
    "id": "d9YOuCEhERFI"
   },
   "source": [
    "a.Read the Dataset \"turnout.csv\" (1 mark)\n",
    "\n",
    "b.Identify non-numerical inputs and convert into numerical wherever needed (3 marks) (*Hint: Use replace function if needed)\n",
    "\n",
    "c. Check whether the dataset having null values or not. If yes, do replace them with suitable average value (2 marks) (*Think out of box)\n",
    "\n",
    "d.Find mean, median and mode for atleast one possible column for each (3 marks)\n",
    "\n",
    "e.Check the outliers and remove it from the dataset. (3 marks)\n",
    "\n",
    "f.A city affected by 3 cyclones in a year on an average. Find the probability if the same city will getting affected by exactly 2 cyclones in the upcoming year (4 marks)\n",
    "\n",
    "g.If an athlete attended  6 olympics in his lifetime. Find the probability if he exactly have 2 wins (4 marks)\n",
    "\n"
   ]
  },
  {
   "cell_type": "code",
   "execution_count": 1,
   "metadata": {
    "id": "qnQgOXQYERFJ"
   },
   "outputs": [],
   "source": [
    "#import the libraries\n",
    "import pandas as pd\n",
    "import numpy as np\n",
    "import seaborn as sns"
   ]
  },
  {
   "cell_type": "markdown",
   "metadata": {
    "id": "AdGDjSCUblrp"
   },
   "source": [
    "### A. Read the Dataset \"turnout.csv\" (1 mark)"
   ]
  },
  {
   "cell_type": "code",
   "execution_count": null,
   "metadata": {
    "id": "_I_S2aosERFL"
   },
   "outputs": [],
   "source": []
  },
  {
   "cell_type": "markdown",
   "metadata": {
    "id": "RyfxYh8Lbwdd"
   },
   "source": [
    "### B.Identify non-numerical inputs and convert into numerical whatever needed (3 marks)\n",
    "(*Hint: Use replace function if needed)"
   ]
  },
  {
   "cell_type": "code",
   "execution_count": null,
   "metadata": {
    "id": "dqLmez8Qbzrp"
   },
   "outputs": [],
   "source": []
  },
  {
   "cell_type": "markdown",
   "metadata": {
    "id": "oQbYqF4Bb1Gs"
   },
   "source": [
    "### C. Describe the statistical measures using single function (2 marks)"
   ]
  },
  {
   "cell_type": "code",
   "execution_count": null,
   "metadata": {
    "id": "oB2gD_tXb7TD"
   },
   "outputs": [],
   "source": []
  },
  {
   "cell_type": "markdown",
   "metadata": {
    "id": "cMWhXtQgb-hG"
   },
   "source": [
    "### D.Find mean, median and mode for atleast one possible column for each (3 marks)"
   ]
  },
  {
   "cell_type": "code",
   "execution_count": null,
   "metadata": {
    "id": "9QPegyyocAne"
   },
   "outputs": [],
   "source": []
  },
  {
   "cell_type": "markdown",
   "metadata": {
    "id": "GdgFRvcvcBQA"
   },
   "source": [
    "### E.Check the outliers and remove it from the dataset. (3 marks)"
   ]
  },
  {
   "cell_type": "code",
   "execution_count": null,
   "metadata": {
    "id": "50BJ6rrecKhf"
   },
   "outputs": [],
   "source": []
  },
  {
   "cell_type": "markdown",
   "metadata": {
    "id": "sSfwt4GVcLIg"
   },
   "source": [
    "### F. A city affected by 3 cyclones in a year on an average. Find the probability if the same city will getting affected by exactly 2 cyclones in the upcoming year (4 marks)"
   ]
  },
  {
   "cell_type": "code",
   "execution_count": null,
   "metadata": {
    "id": "g03T_bbfcRgA"
   },
   "outputs": [],
   "source": []
  },
  {
   "cell_type": "markdown",
   "metadata": {
    "id": "aneC8Hi8cSS2"
   },
   "source": [
    "### G.If an athlete attended 6 olympics in his lifetime. Find the probability if he exactly have 2 wins (4 marks)"
   ]
  },
  {
   "cell_type": "code",
   "execution_count": null,
   "metadata": {
    "id": "LD3STCIdcXMx"
   },
   "outputs": [],
   "source": []
  }
 ],
 "metadata": {
  "celltoolbar": "Raw Cell Format",
  "colab": {
   "provenance": []
  },
  "kernelspec": {
   "display_name": "Python 3 (ipykernel)",
   "language": "python",
   "name": "python3"
  },
  "language_info": {
   "codemirror_mode": {
    "name": "ipython",
    "version": 3
   },
   "file_extension": ".py",
   "mimetype": "text/x-python",
   "name": "python",
   "nbconvert_exporter": "python",
   "pygments_lexer": "ipython3",
   "version": "3.11.4"
  }
 },
 "nbformat": 4,
 "nbformat_minor": 1
}
