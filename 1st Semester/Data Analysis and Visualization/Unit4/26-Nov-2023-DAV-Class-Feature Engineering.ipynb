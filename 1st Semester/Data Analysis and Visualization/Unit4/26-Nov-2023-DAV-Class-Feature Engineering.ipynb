{
 "cells": [
  {
   "cell_type": "code",
   "execution_count": 1,
   "id": "90796f3b",
   "metadata": {},
   "outputs": [],
   "source": [
    "#!pip install opencv-python"
   ]
  },
  {
   "cell_type": "code",
   "execution_count": 2,
   "id": "da3f31bf",
   "metadata": {},
   "outputs": [],
   "source": [
    "#!pip install --upgrade pip"
   ]
  },
  {
   "cell_type": "code",
   "execution_count": 3,
   "id": "97b11af8",
   "metadata": {},
   "outputs": [],
   "source": [
    "#!pip install scikit-image"
   ]
  },
  {
   "cell_type": "code",
   "execution_count": 4,
   "id": "4922d410",
   "metadata": {},
   "outputs": [],
   "source": [
    "import pandas as pd\n",
    "import numpy as np"
   ]
  },
  {
   "cell_type": "code",
   "execution_count": 5,
   "id": "b3c9435a",
   "metadata": {},
   "outputs": [],
   "source": [
    "def create_dataframe(keys, values):  \n",
    "    df=pd.DataFrame(values,columns=keys)\n",
    "    df.reset_index()\n",
    "    return(df)"
   ]
  },
  {
   "cell_type": "code",
   "execution_count": 6,
   "id": "1f0da10c",
   "metadata": {},
   "outputs": [],
   "source": [
    "df=create_dataframe([\"Prod_id\", \"Pname\",\"StockPrice\", \"StoreQT\",\"Catog\"], [[\"1\", \"Lap\", 20000, 50,'Electronics'], \n",
    "                                                                       [\"2\", \"Mob\", 23000, 30,'Electronics'],\n",
    "                                                                      [\"3\", \"Headset\", 3000, 100,'audia']])"
   ]
  },
  {
   "cell_type": "code",
   "execution_count": 7,
   "id": "a5add15f",
   "metadata": {},
   "outputs": [
    {
     "data": {
      "text/html": [
       "<div>\n",
       "<style scoped>\n",
       "    .dataframe tbody tr th:only-of-type {\n",
       "        vertical-align: middle;\n",
       "    }\n",
       "\n",
       "    .dataframe tbody tr th {\n",
       "        vertical-align: top;\n",
       "    }\n",
       "\n",
       "    .dataframe thead th {\n",
       "        text-align: right;\n",
       "    }\n",
       "</style>\n",
       "<table border=\"1\" class=\"dataframe\">\n",
       "  <thead>\n",
       "    <tr style=\"text-align: right;\">\n",
       "      <th></th>\n",
       "      <th>Prod_id</th>\n",
       "      <th>Pname</th>\n",
       "      <th>StockPrice</th>\n",
       "      <th>StoreQT</th>\n",
       "      <th>Catog</th>\n",
       "    </tr>\n",
       "  </thead>\n",
       "  <tbody>\n",
       "    <tr>\n",
       "      <th>0</th>\n",
       "      <td>1</td>\n",
       "      <td>Lap</td>\n",
       "      <td>20000</td>\n",
       "      <td>50</td>\n",
       "      <td>Electronics</td>\n",
       "    </tr>\n",
       "    <tr>\n",
       "      <th>1</th>\n",
       "      <td>2</td>\n",
       "      <td>Mob</td>\n",
       "      <td>23000</td>\n",
       "      <td>30</td>\n",
       "      <td>Electronics</td>\n",
       "    </tr>\n",
       "    <tr>\n",
       "      <th>2</th>\n",
       "      <td>3</td>\n",
       "      <td>Headset</td>\n",
       "      <td>3000</td>\n",
       "      <td>100</td>\n",
       "      <td>audia</td>\n",
       "    </tr>\n",
       "  </tbody>\n",
       "</table>\n",
       "</div>"
      ],
      "text/plain": [
       "  Prod_id    Pname  StockPrice  StoreQT        Catog\n",
       "0       1      Lap       20000       50  Electronics\n",
       "1       2      Mob       23000       30  Electronics\n",
       "2       3  Headset        3000      100        audia"
      ]
     },
     "execution_count": 7,
     "metadata": {},
     "output_type": "execute_result"
    }
   ],
   "source": [
    "df"
   ]
  },
  {
   "cell_type": "code",
   "execution_count": 8,
   "id": "0b195375",
   "metadata": {},
   "outputs": [],
   "source": [
    "df['PricePerUnit']=df['StockPrice']/df['StoreQT']"
   ]
  },
  {
   "cell_type": "code",
   "execution_count": 9,
   "id": "73decae6",
   "metadata": {},
   "outputs": [
    {
     "data": {
      "text/html": [
       "<div>\n",
       "<style scoped>\n",
       "    .dataframe tbody tr th:only-of-type {\n",
       "        vertical-align: middle;\n",
       "    }\n",
       "\n",
       "    .dataframe tbody tr th {\n",
       "        vertical-align: top;\n",
       "    }\n",
       "\n",
       "    .dataframe thead th {\n",
       "        text-align: right;\n",
       "    }\n",
       "</style>\n",
       "<table border=\"1\" class=\"dataframe\">\n",
       "  <thead>\n",
       "    <tr style=\"text-align: right;\">\n",
       "      <th></th>\n",
       "      <th>Prod_id</th>\n",
       "      <th>Pname</th>\n",
       "      <th>StockPrice</th>\n",
       "      <th>StoreQT</th>\n",
       "      <th>Catog</th>\n",
       "      <th>PricePerUnit</th>\n",
       "    </tr>\n",
       "  </thead>\n",
       "  <tbody>\n",
       "    <tr>\n",
       "      <th>0</th>\n",
       "      <td>1</td>\n",
       "      <td>Lap</td>\n",
       "      <td>20000</td>\n",
       "      <td>50</td>\n",
       "      <td>Electronics</td>\n",
       "      <td>400.000000</td>\n",
       "    </tr>\n",
       "    <tr>\n",
       "      <th>1</th>\n",
       "      <td>2</td>\n",
       "      <td>Mob</td>\n",
       "      <td>23000</td>\n",
       "      <td>30</td>\n",
       "      <td>Electronics</td>\n",
       "      <td>766.666667</td>\n",
       "    </tr>\n",
       "    <tr>\n",
       "      <th>2</th>\n",
       "      <td>3</td>\n",
       "      <td>Headset</td>\n",
       "      <td>3000</td>\n",
       "      <td>100</td>\n",
       "      <td>audia</td>\n",
       "      <td>30.000000</td>\n",
       "    </tr>\n",
       "  </tbody>\n",
       "</table>\n",
       "</div>"
      ],
      "text/plain": [
       "  Prod_id    Pname  StockPrice  StoreQT        Catog  PricePerUnit\n",
       "0       1      Lap       20000       50  Electronics    400.000000\n",
       "1       2      Mob       23000       30  Electronics    766.666667\n",
       "2       3  Headset        3000      100        audia     30.000000"
      ]
     },
     "execution_count": 9,
     "metadata": {},
     "output_type": "execute_result"
    }
   ],
   "source": [
    "df"
   ]
  },
  {
   "cell_type": "code",
   "execution_count": 10,
   "id": "c85a867f",
   "metadata": {},
   "outputs": [],
   "source": [
    "df['IsExpensive']=df['PricePerUnit']>df['PricePerUnit'].mean()"
   ]
  },
  {
   "cell_type": "code",
   "execution_count": 11,
   "id": "ef185194",
   "metadata": {},
   "outputs": [
    {
     "data": {
      "text/html": [
       "<div>\n",
       "<style scoped>\n",
       "    .dataframe tbody tr th:only-of-type {\n",
       "        vertical-align: middle;\n",
       "    }\n",
       "\n",
       "    .dataframe tbody tr th {\n",
       "        vertical-align: top;\n",
       "    }\n",
       "\n",
       "    .dataframe thead th {\n",
       "        text-align: right;\n",
       "    }\n",
       "</style>\n",
       "<table border=\"1\" class=\"dataframe\">\n",
       "  <thead>\n",
       "    <tr style=\"text-align: right;\">\n",
       "      <th></th>\n",
       "      <th>Prod_id</th>\n",
       "      <th>Pname</th>\n",
       "      <th>StockPrice</th>\n",
       "      <th>StoreQT</th>\n",
       "      <th>Catog</th>\n",
       "      <th>PricePerUnit</th>\n",
       "      <th>IsExpensive</th>\n",
       "    </tr>\n",
       "  </thead>\n",
       "  <tbody>\n",
       "    <tr>\n",
       "      <th>0</th>\n",
       "      <td>1</td>\n",
       "      <td>Lap</td>\n",
       "      <td>20000</td>\n",
       "      <td>50</td>\n",
       "      <td>Electronics</td>\n",
       "      <td>400.000000</td>\n",
       "      <td>True</td>\n",
       "    </tr>\n",
       "    <tr>\n",
       "      <th>1</th>\n",
       "      <td>2</td>\n",
       "      <td>Mob</td>\n",
       "      <td>23000</td>\n",
       "      <td>30</td>\n",
       "      <td>Electronics</td>\n",
       "      <td>766.666667</td>\n",
       "      <td>True</td>\n",
       "    </tr>\n",
       "    <tr>\n",
       "      <th>2</th>\n",
       "      <td>3</td>\n",
       "      <td>Headset</td>\n",
       "      <td>3000</td>\n",
       "      <td>100</td>\n",
       "      <td>audia</td>\n",
       "      <td>30.000000</td>\n",
       "      <td>False</td>\n",
       "    </tr>\n",
       "  </tbody>\n",
       "</table>\n",
       "</div>"
      ],
      "text/plain": [
       "  Prod_id    Pname  StockPrice  StoreQT        Catog  PricePerUnit  \\\n",
       "0       1      Lap       20000       50  Electronics    400.000000   \n",
       "1       2      Mob       23000       30  Electronics    766.666667   \n",
       "2       3  Headset        3000      100        audia     30.000000   \n",
       "\n",
       "   IsExpensive  \n",
       "0         True  \n",
       "1         True  \n",
       "2        False  "
      ]
     },
     "execution_count": 11,
     "metadata": {},
     "output_type": "execute_result"
    }
   ],
   "source": [
    "df"
   ]
  },
  {
   "cell_type": "code",
   "execution_count": 12,
   "id": "04a5c933",
   "metadata": {},
   "outputs": [
    {
     "data": {
      "text/html": [
       "<div>\n",
       "<style scoped>\n",
       "    .dataframe tbody tr th:only-of-type {\n",
       "        vertical-align: middle;\n",
       "    }\n",
       "\n",
       "    .dataframe tbody tr th {\n",
       "        vertical-align: top;\n",
       "    }\n",
       "\n",
       "    .dataframe thead th {\n",
       "        text-align: right;\n",
       "    }\n",
       "</style>\n",
       "<table border=\"1\" class=\"dataframe\">\n",
       "  <thead>\n",
       "    <tr style=\"text-align: right;\">\n",
       "      <th></th>\n",
       "      <th>Prod_id</th>\n",
       "      <th>Pname</th>\n",
       "      <th>StockPrice</th>\n",
       "      <th>StoreQT</th>\n",
       "      <th>Catog</th>\n",
       "      <th>PricePerUnit</th>\n",
       "      <th>IsExpensive</th>\n",
       "      <th>Categorycount</th>\n",
       "    </tr>\n",
       "  </thead>\n",
       "  <tbody>\n",
       "    <tr>\n",
       "      <th>0</th>\n",
       "      <td>1</td>\n",
       "      <td>Lap</td>\n",
       "      <td>20000</td>\n",
       "      <td>50</td>\n",
       "      <td>Electronics</td>\n",
       "      <td>400.000000</td>\n",
       "      <td>True</td>\n",
       "      <td>2</td>\n",
       "    </tr>\n",
       "    <tr>\n",
       "      <th>1</th>\n",
       "      <td>2</td>\n",
       "      <td>Mob</td>\n",
       "      <td>23000</td>\n",
       "      <td>30</td>\n",
       "      <td>Electronics</td>\n",
       "      <td>766.666667</td>\n",
       "      <td>True</td>\n",
       "      <td>2</td>\n",
       "    </tr>\n",
       "    <tr>\n",
       "      <th>2</th>\n",
       "      <td>3</td>\n",
       "      <td>Headset</td>\n",
       "      <td>3000</td>\n",
       "      <td>100</td>\n",
       "      <td>audia</td>\n",
       "      <td>30.000000</td>\n",
       "      <td>False</td>\n",
       "      <td>1</td>\n",
       "    </tr>\n",
       "  </tbody>\n",
       "</table>\n",
       "</div>"
      ],
      "text/plain": [
       "  Prod_id    Pname  StockPrice  StoreQT        Catog  PricePerUnit  \\\n",
       "0       1      Lap       20000       50  Electronics    400.000000   \n",
       "1       2      Mob       23000       30  Electronics    766.666667   \n",
       "2       3  Headset        3000      100        audia     30.000000   \n",
       "\n",
       "   IsExpensive  Categorycount  \n",
       "0         True              2  \n",
       "1         True              2  \n",
       "2        False              1  "
      ]
     },
     "execution_count": 12,
     "metadata": {},
     "output_type": "execute_result"
    }
   ],
   "source": [
    "df['Categorycount']=df.groupby('Catog')['Prod_id'].transform('count')\n",
    "df"
   ]
  },
  {
   "cell_type": "code",
   "execution_count": 13,
   "id": "7fcf5529",
   "metadata": {},
   "outputs": [
    {
     "name": "stdout",
     "output_type": "stream",
     "text": [
      "         date\n",
      "0  2023-11-26\n",
      "1  2023-11-21\n",
      "2  2023-11-20\n"
     ]
    }
   ],
   "source": [
    "data={'date':['2023-11-26', '2023-11-21', '2023-11-20']}\n",
    "df=pd.DataFrame(data)\n",
    "print(df)\n",
    "df['date']=pd.to_datetime(df['date'])"
   ]
  },
  {
   "cell_type": "code",
   "execution_count": 14,
   "id": "28aec402",
   "metadata": {},
   "outputs": [],
   "source": [
    "df['date']=pd.to_datetime(df['date'])"
   ]
  },
  {
   "cell_type": "code",
   "execution_count": 15,
   "id": "8522f306",
   "metadata": {},
   "outputs": [
    {
     "data": {
      "text/html": [
       "<div>\n",
       "<style scoped>\n",
       "    .dataframe tbody tr th:only-of-type {\n",
       "        vertical-align: middle;\n",
       "    }\n",
       "\n",
       "    .dataframe tbody tr th {\n",
       "        vertical-align: top;\n",
       "    }\n",
       "\n",
       "    .dataframe thead th {\n",
       "        text-align: right;\n",
       "    }\n",
       "</style>\n",
       "<table border=\"1\" class=\"dataframe\">\n",
       "  <thead>\n",
       "    <tr style=\"text-align: right;\">\n",
       "      <th></th>\n",
       "      <th>date</th>\n",
       "      <th>Day</th>\n",
       "      <th>Month</th>\n",
       "      <th>Year</th>\n",
       "    </tr>\n",
       "  </thead>\n",
       "  <tbody>\n",
       "    <tr>\n",
       "      <th>0</th>\n",
       "      <td>2023-11-26</td>\n",
       "      <td>26</td>\n",
       "      <td>11</td>\n",
       "      <td>2023</td>\n",
       "    </tr>\n",
       "    <tr>\n",
       "      <th>1</th>\n",
       "      <td>2023-11-21</td>\n",
       "      <td>21</td>\n",
       "      <td>11</td>\n",
       "      <td>2023</td>\n",
       "    </tr>\n",
       "    <tr>\n",
       "      <th>2</th>\n",
       "      <td>2023-11-20</td>\n",
       "      <td>20</td>\n",
       "      <td>11</td>\n",
       "      <td>2023</td>\n",
       "    </tr>\n",
       "  </tbody>\n",
       "</table>\n",
       "</div>"
      ],
      "text/plain": [
       "        date  Day  Month  Year\n",
       "0 2023-11-26   26     11  2023\n",
       "1 2023-11-21   21     11  2023\n",
       "2 2023-11-20   20     11  2023"
      ]
     },
     "execution_count": 15,
     "metadata": {},
     "output_type": "execute_result"
    }
   ],
   "source": [
    "df['Day']=df['date'].dt.day\n",
    "df['Month']=df['date'].dt.month\n",
    "df['Year']=df['date'].dt.year\n",
    "df"
   ]
  },
  {
   "cell_type": "markdown",
   "id": "eea727cc",
   "metadata": {},
   "source": [
    "Image reading"
   ]
  },
  {
   "cell_type": "code",
   "execution_count": 19,
   "id": "86499260",
   "metadata": {
    "scrolled": true
   },
   "outputs": [],
   "source": [
    "import cv2"
   ]
  },
  {
   "cell_type": "code",
   "execution_count": 22,
   "id": "d6378d29",
   "metadata": {},
   "outputs": [
    {
     "ename": "AttributeError",
     "evalue": "module 'cv2' has no attribute 'hog'",
     "output_type": "error",
     "traceback": [
      "\u001b[0;31m---------------------------------------------------------------------------\u001b[0m",
      "\u001b[0;31mAttributeError\u001b[0m                            Traceback (most recent call last)",
      "Cell \u001b[0;32mIn[22], line 3\u001b[0m\n\u001b[1;32m      1\u001b[0m \u001b[38;5;66;03m## below is working code study it later\u001b[39;00m\n\u001b[1;32m      2\u001b[0m bottle\u001b[38;5;241m=\u001b[39mcv2\u001b[38;5;241m.\u001b[39mimread(\u001b[38;5;124m'\u001b[39m\u001b[38;5;124mIMG.jpg\u001b[39m\u001b[38;5;124m'\u001b[39m,cv2\u001b[38;5;241m.\u001b[39mIMREAD_GRAYSCALE)\n\u001b[0;32m----> 3\u001b[0m hog_features,hog_image\u001b[38;5;241m=\u001b[39mcv2\u001b[38;5;241m.\u001b[39mhog(bottle, orientations\u001b[38;5;241m=\u001b[39m\u001b[38;5;241m16\u001b[39m, pixels_per_cell\u001b[38;5;241m=\u001b[39m(\u001b[38;5;241m16\u001b[39m,\u001b[38;5;241m16\u001b[39m),cells_per_block\u001b[38;5;241m=\u001b[39m(\u001b[38;5;241m1\u001b[39m,\u001b[38;5;241m1\u001b[39m),visualize\u001b[38;5;241m=\u001b[39m\u001b[38;5;28;01mTrue\u001b[39;00m)\n\u001b[1;32m      4\u001b[0m hog_image_rescaled\u001b[38;5;241m=\u001b[39mexposure\u001b[38;5;241m.\u001b[39mrescale_intensity(hog_image,in_range\u001b[38;5;241m=\u001b[39m(\u001b[38;5;241m0\u001b[39m,\u001b[38;5;241m10\u001b[39m))\n\u001b[1;32m      5\u001b[0m cv2\u001b[38;5;241m.\u001b[39mimshow(\u001b[38;5;124m\"\u001b[39m\u001b[38;5;124mOriginal img\u001b[39m\u001b[38;5;124m\"\u001b[39m,bottle)\n",
      "\u001b[0;31mAttributeError\u001b[0m: module 'cv2' has no attribute 'hog'"
     ]
    }
   ],
   "source": [
    "## below is working code study it later\n",
    "bottle=cv2.imread('IMG.jpg',cv2.IMREAD_GRAYSCALE)\n",
    "hog_features,hog_image=hog(bottle, orientations=16, pixels_per_cell=(16,16),cells_per_block=(1,1),visualize=True)\n",
    "hog_image_rescaled=exposure.rescale_intensity(hog_image,in_range=(0,10))\n",
    "cv2.imshow(\"Original img\",bottle)\n",
    "cv2.imshow(\"Hog Image\", hog_image_rescaled)\n",
    "cv2.waitKey(0)\n",
    "cv2.destroyAllWindows()"
   ]
  },
  {
   "cell_type": "code",
   "execution_count": null,
   "id": "0dcd7602",
   "metadata": {},
   "outputs": [],
   "source": []
  }
 ],
 "metadata": {
  "kernelspec": {
   "display_name": "Python 3 (ipykernel)",
   "language": "python",
   "name": "python3"
  },
  "language_info": {
   "codemirror_mode": {
    "name": "ipython",
    "version": 3
   },
   "file_extension": ".py",
   "mimetype": "text/x-python",
   "name": "python",
   "nbconvert_exporter": "python",
   "pygments_lexer": "ipython3",
   "version": "3.11.4"
  }
 },
 "nbformat": 4,
 "nbformat_minor": 5
}
