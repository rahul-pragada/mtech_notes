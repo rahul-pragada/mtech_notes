{
 "cells": [
  {
   "cell_type": "markdown",
   "id": "f5ed7485",
   "metadata": {},
   "source": [
    "# 1. Simple example for Feature engineering-(Including Training set Test set)"
   ]
  },
  {
   "cell_type": "code",
   "execution_count": 1,
   "id": "ebec719c",
   "metadata": {
    "ExecuteTime": {
     "end_time": "2023-11-25T05:02:00.984542Z",
     "start_time": "2023-11-25T05:01:56.937328Z"
    }
   },
   "outputs": [],
   "source": [
    "import pandas as pd\n",
    "from sklearn.model_selection import train_test_split\n",
    "from sklearn.ensemble import RandomForestClassifier\n",
    "from sklearn.metrics import accuracy_score\n",
    "\n",
    "# Create a sample dataset\n",
    "data = {\n",
    "    'Feature1': [1, 2, 3, 4, 5],\n",
    "    'Feature2': [5, 4, 3, 2, 1],\n",
    "    'Target': [0, 1, 0, 1, 0]\n",
    "}\n",
    "\n",
    "df = pd.DataFrame(data)"
   ]
  },
  {
   "cell_type": "code",
   "execution_count": 2,
   "id": "6b90c320",
   "metadata": {
    "ExecuteTime": {
     "end_time": "2023-11-25T05:02:13.315818Z",
     "start_time": "2023-11-25T05:02:13.290955Z"
    }
   },
   "outputs": [
    {
     "name": "stdout",
     "output_type": "stream",
     "text": [
      "Original Dataset:\n",
      "   Feature1  Feature2  Target\n",
      "0         1         5       0\n",
      "1         2         4       1\n",
      "2         3         3       0\n",
      "3         4         2       1\n",
      "4         5         1       0\n"
     ]
    }
   ],
   "source": [
    "# Original dataset\n",
    "print(\"Original Dataset:\")\n",
    "print(df)"
   ]
  },
  {
   "cell_type": "code",
   "execution_count": 3,
   "id": "5b9b85ba",
   "metadata": {
    "ExecuteTime": {
     "end_time": "2023-11-25T05:02:42.680055Z",
     "start_time": "2023-11-25T05:02:42.661743Z"
    }
   },
   "outputs": [
    {
     "name": "stdout",
     "output_type": "stream",
     "text": [
      "\n",
      "Dataset with New Feature:\n",
      "   Feature1  Feature2  Target  NewFeature\n",
      "0         1         5       0           6\n",
      "1         2         4       1           6\n",
      "2         3         3       0           6\n",
      "3         4         2       1           6\n",
      "4         5         1       0           6\n"
     ]
    }
   ],
   "source": [
    "# Feature engineering: Create a new feature by combining Feature1 and Feature2\n",
    "df['NewFeature'] = df['Feature1'] + df['Feature2']\n",
    "\n",
    "# Updated dataset with the new feature\n",
    "print(\"\\nDataset with New Feature:\")\n",
    "print(df)"
   ]
  },
  {
   "cell_type": "code",
   "execution_count": 4,
   "id": "7b71a2cf",
   "metadata": {
    "ExecuteTime": {
     "end_time": "2023-11-25T05:03:23.483894Z",
     "start_time": "2023-11-25T05:03:23.462191Z"
    }
   },
   "outputs": [],
   "source": [
    "# Split the dataset into features (X) and target variable (y)\n",
    "X = df[['Feature1', 'Feature2', 'NewFeature']]\n",
    "y = df['Target']"
   ]
  },
  {
   "cell_type": "code",
   "execution_count": 5,
   "id": "267960cf",
   "metadata": {
    "ExecuteTime": {
     "end_time": "2023-11-25T05:03:43.618357Z",
     "start_time": "2023-11-25T05:03:43.433927Z"
    }
   },
   "outputs": [
    {
     "name": "stdout",
     "output_type": "stream",
     "text": [
      "\n",
      "Model Accuracy: 0.0\n"
     ]
    }
   ],
   "source": [
    "# Split the data into training and testing sets\n",
    "X_train, X_test, y_train, y_test = train_test_split(X, y, test_size=0.2, random_state=42)\n",
    "\n",
    "# Train a simple model (Random Forest) on the updated dataset\n",
    "model = RandomForestClassifier(random_state=42)\n",
    "model.fit(X_train, y_train)\n",
    "\n",
    "# Make predictions on the test set\n",
    "y_pred = model.predict(X_test)\n",
    "\n",
    "# Evaluate the model accuracy\n",
    "accuracy = accuracy_score(y_test, y_pred)\n",
    "print(f\"\\nModel Accuracy: {accuracy}\")"
   ]
  },
  {
   "cell_type": "markdown",
   "id": "70089b8e",
   "metadata": {},
   "source": [
    "# 2. Time Date feature extraction example"
   ]
  },
  {
   "cell_type": "code",
   "execution_count": 6,
   "id": "dea1b394",
   "metadata": {
    "ExecuteTime": {
     "end_time": "2023-11-25T05:08:05.666294Z",
     "start_time": "2023-11-25T05:08:05.619259Z"
    }
   },
   "outputs": [
    {
     "name": "stdout",
     "output_type": "stream",
     "text": [
      "Updated Dataset with New Features:\n",
      "            Timestamp  DayOfWeek  HourOfDay  IsWeekend\n",
      "0 2023-01-15 08:30:00          6          8          1\n",
      "1 2023-01-15 14:45:00          6         14          1\n",
      "2 2023-01-16 20:15:00          0         20          0\n",
      "3 2023-01-17 12:00:00          1         12          0\n"
     ]
    }
   ],
   "source": [
    "import pandas as pd\n",
    "from datetime import datetime\n",
    "\n",
    "# Create a sample dataset with a timestamp column\n",
    "data = {\n",
    "    'Timestamp': ['2023-01-15 08:30:00', '2023-01-15 14:45:00', '2023-01-16 20:15:00', '2023-01-17 12:00:00']\n",
    "}\n",
    "\n",
    "df = pd.DataFrame(data)\n",
    "\n",
    "# Convert the 'Timestamp' column to datetime format\n",
    "df['Timestamp'] = pd.to_datetime(df['Timestamp'])\n",
    "\n",
    "# Feature engineering: Extract features from the timestamp\n",
    "df['DayOfWeek'] = df['Timestamp'].dt.dayofweek  # Monday is 0 and Sunday is 6\n",
    "df['HourOfDay'] = df['Timestamp'].dt.hour\n",
    "df['IsWeekend'] = df['Timestamp'].dt.weekday // 5  # 1 for Saturday or Sunday, 0 for other days\n",
    "\n",
    "# Display the updated dataset with new features\n",
    "print(\"Updated Dataset with New Features:\")\n",
    "print(df)"
   ]
  },
  {
   "cell_type": "markdown",
   "id": "9badc4b8",
   "metadata": {},
   "source": [
    "# 3. Simple example dataset with product information - Feature creation"
   ]
  },
  {
   "cell_type": "code",
   "execution_count": 9,
   "id": "ae39eeb2",
   "metadata": {
    "ExecuteTime": {
     "end_time": "2023-11-25T05:17:04.703036Z",
     "start_time": "2023-11-25T05:17:04.679513Z"
    }
   },
   "outputs": [
    {
     "name": "stdout",
     "output_type": "stream",
     "text": [
      "   ProductID ProductName  Price  StockQuantity     Category\n",
      "0          1      Laptop   1200             50  Electronics\n",
      "1          2  Smartphone    800            100  Electronics\n",
      "2          3  Headphones    150             30        Audio\n",
      "3          4      Tablet    500             80  Electronics\n",
      "Updated Dataset with New Features:\n",
      "   ProductID ProductName  Price  StockQuantity     Category  PricePerUnit  \\\n",
      "0          1      Laptop   1200             50  Electronics         24.00   \n",
      "1          2  Smartphone    800            100  Electronics          8.00   \n",
      "2          3  Headphones    150             30        Audio          5.00   \n",
      "3          4      Tablet    500             80  Electronics          6.25   \n",
      "\n",
      "   IsExpensive  CategoryCount  \n",
      "0         True              3  \n",
      "1         True              3  \n",
      "2        False              1  \n",
      "3        False              3  \n"
     ]
    }
   ],
   "source": [
    "import pandas as pd\n",
    "\n",
    "# Create a sample dataset with product information\n",
    "data = {\n",
    "    'ProductID': [1, 2, 3, 4],\n",
    "    'ProductName': ['Laptop', 'Smartphone', 'Headphones', 'Tablet'],\n",
    "    'Price': [1200, 800, 150, 500],\n",
    "    'StockQuantity': [50, 100, 30, 80],\n",
    "    'Category': ['Electronics', 'Electronics', 'Audio', 'Electronics']\n",
    "}\n",
    "\n",
    "df = pd.DataFrame(data)\n",
    "print(df)\n",
    "# Feature engineering: Create new features\n",
    "df['PricePerUnit'] = df['Price'] / df['StockQuantity']  # Price per unit of stock\n",
    "df['IsExpensive'] = df['Price'] > df['Price'].mean()  # Binary feature indicating if the product is expensive\n",
    "df['CategoryCount'] = df.groupby('Category')['ProductID'].transform('count')  # Count of products in the same category\n",
    "\n",
    "# Display the updated dataset with new features\n",
    "print(\"Updated Dataset with New Features:\")\n",
    "print(df)"
   ]
  },
  {
   "cell_type": "markdown",
   "id": "d84c774b",
   "metadata": {},
   "source": [
    "# 4 Feature extraction from image"
   ]
  },
  {
   "cell_type": "code",
   "execution_count": 6,
   "id": "2159fb38",
   "metadata": {
    "ExecuteTime": {
     "end_time": "2023-11-25T22:52:03.842715Z",
     "start_time": "2023-11-25T22:47:43.513458Z"
    }
   },
   "outputs": [],
   "source": [
    "import cv2\n",
    "from skimage.feature import hog\n",
    "from skimage import exposure\n",
    "# Load an example image\n",
    "image = cv2.imread('example_image.jpg', cv2.IMREAD_GRAYSCALE)\n",
    "# Calculate HOG features\n",
    "hog_features, hog_image = hog(image, orientations=160, pixels_per_cell=(6, 6),\n",
    " cells_per_block=(1, 1), visualize=True)\n",
    "# Enhance the HOG image for better visualization\n",
    "hog_image_rescaled = exposure.rescale_intensity(hog_image, in_range=(0, 10))\n",
    "# Display the original image and the HOG image\n",
    "cv2.imshow('Original Image', image)\n",
    "cv2.imshow('HOG Image', hog_image_rescaled)\n",
    "cv2.waitKey(0)\n",
    "cv2.destroyAllWindows()"
   ]
  },
  {
   "cell_type": "code",
   "execution_count": 2,
   "id": "2e32d8e8",
   "metadata": {
    "ExecuteTime": {
     "end_time": "2023-11-25T10:41:37.321245Z",
     "start_time": "2023-11-25T10:41:19.438495Z"
    }
   },
   "outputs": [
    {
     "name": "stdout",
     "output_type": "stream",
     "text": [
      "Collecting opencv-python\n",
      "  Downloading opencv_python-4.8.1.78-cp37-abi3-win_amd64.whl (38.1 MB)\n",
      "     ---------------------------------------- 38.1/38.1 MB 3.0 MB/s eta 0:00:00\n",
      "Requirement already satisfied: numpy>=1.17.0 in c:\\users\\hp four\\anaconda3\\lib\\site-packages (from opencv-python) (1.23.5)\n",
      "Installing collected packages: opencv-python\n",
      "Successfully installed opencv-python-4.8.1.78\n",
      "Note: you may need to restart the kernel to use updated packages.\n"
     ]
    }
   ],
   "source": [
    "pip install opencv-python"
   ]
  },
  {
   "cell_type": "code",
   "execution_count": 4,
   "id": "c062d97f",
   "metadata": {
    "ExecuteTime": {
     "end_time": "2023-11-25T10:43:03.090862Z",
     "start_time": "2023-11-25T10:42:49.895731Z"
    }
   },
   "outputs": [
    {
     "name": "stdout",
     "output_type": "stream",
     "text": [
      "Requirement already satisfied: pip in c:\\users\\hp four\\anaconda3\\lib\\site-packages (22.3.1)\n",
      "Collecting pip\n",
      "  Downloading pip-23.3.1-py3-none-any.whl (2.1 MB)\n",
      "     ---------------------------------------- 2.1/2.1 MB 2.7 MB/s eta 0:00:00\n",
      "Installing collected packages: pip\n",
      "  Attempting uninstall: pip\n",
      "    Found existing installation: pip 22.3.1\n",
      "    Uninstalling pip-22.3.1:\n",
      "      Successfully uninstalled pip-22.3.1\n",
      "Successfully installed pip-23.3.1\n",
      "Note: you may need to restart the kernel to use updated packages.\n"
     ]
    }
   ],
   "source": [
    "pip install --upgrade pip"
   ]
  },
  {
   "cell_type": "markdown",
   "id": "513893f0",
   "metadata": {},
   "source": [
    "# Example to find Correlation"
   ]
  },
  {
   "cell_type": "code",
   "execution_count": 9,
   "id": "88ccc8f7",
   "metadata": {
    "ExecuteTime": {
     "end_time": "2023-11-25T11:26:18.012745Z",
     "start_time": "2023-11-25T11:26:17.989013Z"
    }
   },
   "outputs": [
    {
     "name": "stdout",
     "output_type": "stream",
     "text": [
      "Correlation between Age and Income: -0.3407771005482389\n"
     ]
    }
   ],
   "source": [
    "import pandas as pd\n",
    "\n",
    "data = pd.DataFrame({'Age': [25, 30, 35, 40, 45],\n",
    "                     'Income': [50000, 60000, 75000, 80000, 10000]})\n",
    "\n",
    "# Calculate the correlation matrix\n",
    "correlation_matrix = data.corr()\n",
    "\n",
    "# Check the correlation between 'Age' and 'Income'\n",
    "age_income_correlation = correlation_matrix.loc['Age', 'Income']\n",
    "\n",
    "print(f'Correlation between Age and Income: {age_income_correlation}')\n"
   ]
  },
  {
   "cell_type": "markdown",
   "id": "537f52ee",
   "metadata": {},
   "source": [
    "# Date feature extraction"
   ]
  },
  {
   "cell_type": "code",
   "execution_count": 11,
   "id": "64a1ebf6",
   "metadata": {
    "ExecuteTime": {
     "end_time": "2023-11-25T17:44:23.933350Z",
     "start_time": "2023-11-25T17:44:23.890215Z"
    }
   },
   "outputs": [
    {
     "name": "stdout",
     "output_type": "stream",
     "text": [
      "         date\n",
      "0  2023-11-22\n",
      "1  2023-10-20\n",
      "2  2023-09-23\n"
     ]
    }
   ],
   "source": [
    "import pandas as pd\n",
    "data={'date':['2023-11-22','2023-10-20','2023-09-23']}\n",
    "df=pd.DataFrame(data)\n",
    "print(df)"
   ]
  },
  {
   "cell_type": "code",
   "execution_count": 14,
   "id": "804ac843",
   "metadata": {
    "ExecuteTime": {
     "end_time": "2023-11-25T17:46:04.196252Z",
     "start_time": "2023-11-25T17:46:04.154626Z"
    }
   },
   "outputs": [
    {
     "name": "stdout",
     "output_type": "stream",
     "text": [
      "        date\n",
      "0 2023-11-22\n",
      "1 2023-10-20\n",
      "2 2023-09-23\n"
     ]
    }
   ],
   "source": [
    "df['date']=pd.to_datetime(df['date'])\n",
    "print(df)"
   ]
  },
  {
   "cell_type": "code",
   "execution_count": 15,
   "id": "6f8694f4",
   "metadata": {
    "ExecuteTime": {
     "end_time": "2023-11-25T17:48:24.336736Z",
     "start_time": "2023-11-25T17:48:24.312295Z"
    }
   },
   "outputs": [
    {
     "name": "stdout",
     "output_type": "stream",
     "text": [
      "        date  day  month  year\n",
      "0 2023-11-22   22     11  2023\n",
      "1 2023-10-20   20     10  2023\n",
      "2 2023-09-23   23      9  2023\n"
     ]
    }
   ],
   "source": [
    "df['day']=df['date'].dt.day\n",
    "df['month']=df['date'].dt.month\n",
    "df['year']=df['date'].dt.year\n",
    "print(df)"
   ]
  },
  {
   "cell_type": "markdown",
   "id": "894ace2c",
   "metadata": {},
   "source": [
    "# Create new feature from dataframe"
   ]
  },
  {
   "cell_type": "code",
   "execution_count": 16,
   "id": "9168ab0f",
   "metadata": {
    "ExecuteTime": {
     "end_time": "2023-11-25T17:59:21.612023Z",
     "start_time": "2023-11-25T17:59:21.581001Z"
    }
   },
   "outputs": [
    {
     "name": "stdout",
     "output_type": "stream",
     "text": [
      "   ProductID ProductName  Price  StockQuantity Category\n",
      "0          1         Lap   1200             50    Elect\n",
      "1          2       Phone    800            100    Elect\n",
      "2          3     Headset    150             30    Audio\n",
      "3          4      Tablet    500             80    Elect\n"
     ]
    }
   ],
   "source": [
    "import pandas as pd\n",
    "data={\n",
    "    'ProductID':[1,2,3,4],\n",
    "    'ProductName':['Lap','Phone','Headset','Tablet'],\n",
    "    'Price':[1200,800,150,500],\n",
    "    'StockQuantity':[50,100,30,80],\n",
    "    'Category':['Elect','Elect','Audio','Elect']  \n",
    "}\n",
    "df=pd.DataFrame(data)\n",
    "print(df)"
   ]
  },
  {
   "cell_type": "code",
   "execution_count": 17,
   "id": "22dd6c6f",
   "metadata": {
    "ExecuteTime": {
     "end_time": "2023-11-25T18:08:24.827847Z",
     "start_time": "2023-11-25T18:08:24.790992Z"
    }
   },
   "outputs": [
    {
     "name": "stdout",
     "output_type": "stream",
     "text": [
      "Updated values\n",
      "   ProductID ProductName  Price  StockQuantity  Category  Price per unit  \\\n",
      "0          1         Lap   1200             50         3           24.00   \n",
      "1          2       Phone    800            100         3            8.00   \n",
      "2          3     Headset    150             30         1            5.00   \n",
      "3          4      Tablet    500             80         3            6.25   \n",
      "\n",
      "   IsExpensive  \n",
      "0         True  \n",
      "1         True  \n",
      "2        False  \n",
      "3        False  \n"
     ]
    }
   ],
   "source": [
    "df['Price per unit']=df['Price']/df['StockQuantity']\n",
    "df['IsExpensive']=df['Price']>df['Price'].mean()\n",
    "df['Category']=df.groupby('Category')['ProductID'].transform('count')\n",
    "print(\"Updated values\")\n",
    "print(df)"
   ]
  },
  {
   "cell_type": "code",
   "execution_count": null,
   "id": "31efabe8",
   "metadata": {
    "ExecuteTime": {
     "end_time": "2023-11-25T21:57:52.667180Z",
     "start_time": "2023-11-25T21:57:52.535988Z"
    }
   },
   "outputs": [],
   "source": []
  },
  {
   "cell_type": "code",
   "execution_count": null,
   "id": "96f85039",
   "metadata": {},
   "outputs": [],
   "source": []
  }
 ],
 "metadata": {
  "kernelspec": {
   "display_name": "Python 3 (ipykernel)",
   "language": "python",
   "name": "python3"
  },
  "language_info": {
   "codemirror_mode": {
    "name": "ipython",
    "version": 3
   },
   "file_extension": ".py",
   "mimetype": "text/x-python",
   "name": "python",
   "nbconvert_exporter": "python",
   "pygments_lexer": "ipython3",
   "version": "3.10.9"
  },
  "varInspector": {
   "cols": {
    "lenName": 16,
    "lenType": 16,
    "lenVar": 40
   },
   "kernels_config": {
    "python": {
     "delete_cmd_postfix": "",
     "delete_cmd_prefix": "del ",
     "library": "var_list.py",
     "varRefreshCmd": "print(var_dic_list())"
    },
    "r": {
     "delete_cmd_postfix": ") ",
     "delete_cmd_prefix": "rm(",
     "library": "var_list.r",
     "varRefreshCmd": "cat(var_dic_list()) "
    }
   },
   "types_to_exclude": [
    "module",
    "function",
    "builtin_function_or_method",
    "instance",
    "_Feature"
   ],
   "window_display": false
  }
 },
 "nbformat": 4,
 "nbformat_minor": 5
}
