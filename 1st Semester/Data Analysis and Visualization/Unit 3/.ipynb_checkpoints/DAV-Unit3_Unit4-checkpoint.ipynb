{
 "cells": [
  {
   "cell_type": "markdown",
   "id": "7bdd5002",
   "metadata": {},
   "source": [
    "## DAV - Unit 3 and Unit 4 "
   ]
  },
  {
   "cell_type": "markdown",
   "id": "9c3cba1c",
   "metadata": {},
   "source": [
    "### Data preprocissing Techniques "
   ]
  },
  {
   "cell_type": "markdown",
   "id": "0b4ca6bc",
   "metadata": {},
   "source": [
    "#### Missing Values"
   ]
  },
  {
   "cell_type": "code",
   "execution_count": null,
   "id": "267b36e4",
   "metadata": {},
   "outputs": [],
   "source": [
    "import pandas as pd"
   ]
  },
  {
   "cell_type": "code",
   "execution_count": null,
   "id": "92e1a407",
   "metadata": {},
   "outputs": [],
   "source": [
    "df=pd.read_csv(\"Bengaluru_House_Data.csv\")\n",
    "df"
   ]
  },
  {
   "cell_type": "code",
   "execution_count": null,
   "id": "8af5593c",
   "metadata": {},
   "outputs": [],
   "source": [
    "df1=df.dropna() # drop all rows with null values in any column\n",
    "df1"
   ]
  },
  {
   "cell_type": "code",
   "execution_count": null,
   "id": "0337b1ae",
   "metadata": {},
   "outputs": [],
   "source": [
    "df2=df.dropna(how='all') # deletes row if all rows are empty\n",
    "df2"
   ]
  },
  {
   "cell_type": "code",
   "execution_count": null,
   "id": "5a4e21d2",
   "metadata": {},
   "outputs": [],
   "source": [
    "df3=df.drop_duplicates #to drop duplicates\n",
    "df3"
   ]
  },
  {
   "cell_type": "code",
   "execution_count": null,
   "id": "9fabf39d",
   "metadata": {},
   "outputs": [],
   "source": [
    "df"
   ]
  },
  {
   "cell_type": "code",
   "execution_count": null,
   "id": "c0fd3e59",
   "metadata": {},
   "outputs": [],
   "source": [
    "df3=df.drop(columns = ['bath'], axis= 'columns') # to remove the columns with nulls #inplace=True if we have to use same dataframe\n",
    "df3"
   ]
  },
  {
   "cell_type": "markdown",
   "id": "165769d5",
   "metadata": {},
   "source": [
    "##### Numerical Imputation"
   ]
  },
  {
   "cell_type": "code",
   "execution_count": null,
   "id": "6ea47d0e",
   "metadata": {},
   "outputs": [],
   "source": [
    "# To replace the missing value with mean, mode, median (MMM)\n",
    "mean_a=np.round(df['A'].mean())\n",
    "df['A'].fillna(mean_a,inplace=True)"
   ]
  },
  {
   "cell_type": "code",
   "execution_count": null,
   "id": "3ef2594d",
   "metadata": {},
   "outputs": [],
   "source": [
    "# To replace the missing value with Linear Regression\n",
    "\n",
    "from sklearn.linear_model import LinearRegression\n",
    "\n",
    "data={'X':[1,2,3,4,5,6,7,8,9,10],\n",
    "     'Y':[10,20,30,40,50,np.nan,np.nan,80,90,100]}\n",
    "df=pd.DataFrame(data)\n",
    "print(\"Original Dataset\")\n",
    "print(df)\n",
    "\n",
    "model= LinearRegression()\n",
    "known=df[~df['Y'].isna()] # To be checked further and remember\n",
    "unknown=df[df['Y'].isna()] # To be checked further and remember\n",
    "\n",
    "model.fit(known[['X']],known['Y']) # To be checked further and remember\n",
    "\n",
    "predicted = model.predict(unknown[['X']]) # To be checked further and remember\n",
    "df.loc[df['Y'].isna(),'Y']=predicted # To be checked further and remember\n",
    "print(\"imputed values\")\n",
    "print(df)"
   ]
  },
  {
   "cell_type": "code",
   "execution_count": null,
   "id": "128ae8dc",
   "metadata": {},
   "outputs": [],
   "source": [
    "df2=df.fillna(method='pad') #Fills with previous value in that column"
   ]
  },
  {
   "cell_type": "code",
   "execution_count": null,
   "id": "ca657835",
   "metadata": {},
   "outputs": [],
   "source": [
    "df2=df.fillna(method='bfill') #fills with next value in that column"
   ]
  },
  {
   "cell_type": "code",
   "execution_count": null,
   "id": "9e64169a",
   "metadata": {},
   "outputs": [],
   "source": [
    "df2=df.fillna(method='bfill', axis=1) #fills with next value in that row"
   ]
  },
  {
   "cell_type": "code",
   "execution_count": null,
   "id": "78cec490",
   "metadata": {},
   "outputs": [],
   "source": [
    "df9=df.replace(to_replace=3.0,value=0000) \n",
    "df9"
   ]
  },
  {
   "cell_type": "code",
   "execution_count": null,
   "id": "853f6ef4",
   "metadata": {},
   "outputs": [],
   "source": [
    "df5=df.fillna({'society':'abced', \n",
    "              'balcony':'fghi'})\n",
    "df5"
   ]
  },
  {
   "cell_type": "code",
   "execution_count": null,
   "id": "539d7f39",
   "metadata": {},
   "outputs": [],
   "source": []
  },
  {
   "cell_type": "markdown",
   "id": "c424a620",
   "metadata": {},
   "source": [
    "#### Groupby based Imputation. "
   ]
  },
  {
   "cell_type": "code",
   "execution_count": null,
   "id": "206c140f",
   "metadata": {},
   "outputs": [],
   "source": [
    "import pandas as pd\n",
    "data={'StuID':[1,2,3,4,5,6,7,8,9,10],\n",
    "      'Grade':['A','B','A','B','C','A','A','B','C','A'],\n",
    "      'Score':[95,78,87,70,62,None,91,75,None,83]}\n",
    "\n",
    "df=pd.DataFrame(data)\n",
    "df"
   ]
  },
  {
   "cell_type": "code",
   "execution_count": null,
   "id": "73f2d063",
   "metadata": {},
   "outputs": [],
   "source": [
    "Grades_means = df.groupby('Grade')['Score'].mean()\n",
    "\n",
    "print(Grades_means)\n",
    "type(Grades_means)"
   ]
  },
  {
   "cell_type": "code",
   "execution_count": null,
   "id": "457a093c",
   "metadata": {},
   "outputs": [],
   "source": [
    "# Imputation for each grade using lambda\n",
    "df['Score']=df.apply(lambda row: Grades_means[row['Grade']] if pd.isna(row['Score']) else row['Score'],axis=1)\n",
    "print(df)   "
   ]
  },
  {
   "cell_type": "markdown",
   "id": "1e69dbd1",
   "metadata": {},
   "source": [
    "##### Categorical ***********to be filled ********"
   ]
  },
  {
   "cell_type": "markdown",
   "id": "18d43989",
   "metadata": {},
   "source": [
    "#### Data Transformation Techniques "
   ]
  },
  {
   "cell_type": "code",
   "execution_count": null,
   "id": "f5c8bd23",
   "metadata": {},
   "outputs": [],
   "source": [
    "# Log and Squre root \n",
    "import numpy as np\n",
    "import matplotlib.pyplot as plt\n",
    "import pandas as pd\n",
    "data1=np.abs(np.random.normal(0,2,1000))\n",
    "print(data1)\n",
    "\n",
    "log_transformed_data = np.log(data)\n",
    "sqrt_transformed_data = np.sqrt(data)\n",
    "print(log_transformed_data)\n",
    "print(sqrt_transformed_data)"
   ]
  },
  {
   "cell_type": "code",
   "execution_count": null,
   "id": "91dfbd28",
   "metadata": {},
   "outputs": [],
   "source": [
    "plt.boxplot(data)\n",
    "plt.show()"
   ]
  },
  {
   "cell_type": "code",
   "execution_count": null,
   "id": "63fa062a",
   "metadata": {},
   "outputs": [],
   "source": [
    "plt.figure(figsize = (20,10))\n",
    "plt.subplot(1,3,1)\n",
    "plt.hist(data,bins=30,color='blue', alpha=0.7)\n",
    "plt.title('Original data')\n",
    "\n",
    "plt.subplot(1,3,2)\n",
    "plt.hist(log_transformed_data,bins=30,color='green', alpha=0.7)\n",
    "plt.title('log data')\n",
    "\n",
    "plt.subplot(1,3,3)\n",
    "plt.hist(sqrt_transformed_data,bins=30,color='red', alpha=0.7)\n",
    "plt.title('Sqrt data')\n",
    "\n",
    "plt.tight_layout()\n",
    "plt.show()"
   ]
  },
  {
   "cell_type": "markdown",
   "id": "5ae23862",
   "metadata": {},
   "source": [
    "### Scaling"
   ]
  },
  {
   "cell_type": "code",
   "execution_count": null,
   "id": "0daf2ea9",
   "metadata": {},
   "outputs": [],
   "source": [
    "import matplotlib.pyplot as plt\n",
    "import seaborn as sns\n",
    "import warnings\n",
    "df = pd.read_csv(\"winequality-red.csv\")"
   ]
  },
  {
   "cell_type": "code",
   "execution_count": null,
   "id": "fa6676e9",
   "metadata": {},
   "outputs": [],
   "source": [
    "from sklearn.preprocessing import MinMaxScaler #Normalizer, StandardScaler, RobustScaler, MaxAbsScaler\n",
    "scaler = MinMaxScaler()\n",
    "scaled_data = scaler.fit_transform(df)\n",
    "scaled_newtable = pd.DataFrame(scaled_data,columns=df.columns)\n",
    "scaled_newtable.head(10)\n",
    "\n",
    "# and do the plot of all scaling to check the distribution and best fit for the given scenario using \n",
    "#sns.kdeplot(wine['fixed acidity'],color= 'red')"
   ]
  },
  {
   "cell_type": "markdown",
   "id": "be089962",
   "metadata": {},
   "source": [
    "### Feture Enginnering"
   ]
  },
  {
   "cell_type": "code",
   "execution_count": null,
   "id": "d2a32b5c",
   "metadata": {},
   "outputs": [],
   "source": [
    "# Feture Selection - to be done based on Domain Knowledge\n",
    "# Feture Transformation - Using Tranformation like log, sqrt, square and scaling using Normalization and Standardization\n",
    "#Feture Creation\n",
    "df['IsExpensive']=df['PricePerUnit']>df['PricePerUnit'].mean()\n",
    "\n",
    "# Freture Extraction - Dimentionality Reduction - Using Domain Knowledge "
   ]
  }
 ],
 "metadata": {
  "kernelspec": {
   "display_name": "Python 3 (ipykernel)",
   "language": "python",
   "name": "python3"
  },
  "language_info": {
   "codemirror_mode": {
    "name": "ipython",
    "version": 3
   },
   "file_extension": ".py",
   "mimetype": "text/x-python",
   "name": "python",
   "nbconvert_exporter": "python",
   "pygments_lexer": "ipython3",
   "version": "3.11.4"
  }
 },
 "nbformat": 4,
 "nbformat_minor": 5
}
