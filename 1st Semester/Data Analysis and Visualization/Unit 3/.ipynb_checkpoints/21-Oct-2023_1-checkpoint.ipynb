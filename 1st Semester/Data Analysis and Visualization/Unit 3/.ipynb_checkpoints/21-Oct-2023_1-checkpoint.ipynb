{
 "cells": [
  {
   "cell_type": "code",
   "execution_count": 1,
   "id": "954587fc",
   "metadata": {},
   "outputs": [],
   "source": [
    "import pandas as pd"
   ]
  },
  {
   "cell_type": "code",
   "execution_count": 2,
   "id": "eadd4848",
   "metadata": {
    "scrolled": false
   },
   "outputs": [
    {
     "name": "stdout",
     "output_type": "stream",
     "text": [
      "  Category  Value\n",
      "0        A     10\n",
      "1        B     20\n",
      "2        C     30\n",
      "3        A     40\n",
      "4     None     50\n",
      "5        B     60\n",
      "6        C     70\n",
      "7        A     80\n",
      "8     None     90\n",
      "9        B    100\n"
     ]
    }
   ],
   "source": [
    "data={'Category': ['A','B','C','A',None,'B','C','A',None, 'B'],\n",
    "        'Value':[10,20,30,40,50,60,70,80,90,100]}\n",
    "        \n",
    "df=pd.DataFrame(data)\n",
    "print(df)"
   ]
  },
  {
   "cell_type": "markdown",
   "id": "fcd3309f",
   "metadata": {},
   "source": [
    "Defining a function to fill the Null values in given column with Mode values from given position"
   ]
  },
  {
   "cell_type": "code",
   "execution_count": 6,
   "id": "b2120211",
   "metadata": {},
   "outputs": [],
   "source": [
    "def custom(df,column_name):\n",
    "    mode=df[column_name].mode()[0]\n",
    "    df[column_name].fillna(mode,inplace=True)"
   ]
  },
  {
   "cell_type": "code",
   "execution_count": 9,
   "id": "018234f6",
   "metadata": {},
   "outputs": [
    {
     "name": "stdout",
     "output_type": "stream",
     "text": [
      "Imputed data\n",
      "  Category  Value\n",
      "0        A     10\n",
      "1        B     20\n",
      "2        C     30\n",
      "3        A     40\n",
      "4        A     50\n",
      "5        B     60\n",
      "6        C     70\n",
      "7        A     80\n",
      "8        A     90\n",
      "9        B    100\n"
     ]
    }
   ],
   "source": [
    "custom(df,'Category')\n",
    "print('Imputed data')\n",
    "print(df)"
   ]
  },
  {
   "cell_type": "code",
   "execution_count": null,
   "id": "b26f781b",
   "metadata": {},
   "outputs": [],
   "source": []
  }
 ],
 "metadata": {
  "kernelspec": {
   "display_name": "Python 3 (ipykernel)",
   "language": "python",
   "name": "python3"
  },
  "language_info": {
   "codemirror_mode": {
    "name": "ipython",
    "version": 3
   },
   "file_extension": ".py",
   "mimetype": "text/x-python",
   "name": "python",
   "nbconvert_exporter": "python",
   "pygments_lexer": "ipython3",
   "version": "3.11.4"
  }
 },
 "nbformat": 4,
 "nbformat_minor": 5
}
