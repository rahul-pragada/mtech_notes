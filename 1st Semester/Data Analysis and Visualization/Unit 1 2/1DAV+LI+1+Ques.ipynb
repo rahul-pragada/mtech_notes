{
 "cells": [
  {
   "cell_type": "markdown",
   "id": "0dcec3b4",
   "metadata": {},
   "source": [
    "Create a list of numbers"
   ]
  },
  {
   "cell_type": "code",
   "execution_count": null,
   "id": "1d6f7241",
   "metadata": {},
   "outputs": [],
   "source": []
  },
  {
   "cell_type": "markdown",
   "id": "9c5a7c14",
   "metadata": {},
   "source": [
    "Create a list of numbers  b/w 50 to 100 with step size 5"
   ]
  },
  {
   "cell_type": "code",
   "execution_count": null,
   "id": "9643e83b",
   "metadata": {},
   "outputs": [],
   "source": []
  },
  {
   "cell_type": "markdown",
   "id": "a9d55736",
   "metadata": {},
   "source": [
    "Create a series of random num with random state 25 using random"
   ]
  },
  {
   "cell_type": "code",
   "execution_count": null,
   "id": "87395b79",
   "metadata": {},
   "outputs": [],
   "source": []
  },
  {
   "cell_type": "markdown",
   "id": "99f5943b",
   "metadata": {},
   "source": [
    "Create a graph using above random series"
   ]
  },
  {
   "cell_type": "code",
   "execution_count": null,
   "id": "a8831f7a",
   "metadata": {},
   "outputs": [],
   "source": []
  },
  {
   "cell_type": "markdown",
   "id": "dc9114f3",
   "metadata": {},
   "source": [
    "Create a histogram and distplot using above random num"
   ]
  },
  {
   "cell_type": "code",
   "execution_count": null,
   "id": "224fd4c7",
   "metadata": {},
   "outputs": [],
   "source": []
  },
  {
   "cell_type": "markdown",
   "id": "6260bd47",
   "metadata": {},
   "source": [
    "create a list of 25 randint  b/w 50 to 100"
   ]
  },
  {
   "cell_type": "code",
   "execution_count": null,
   "id": "941e6f0d",
   "metadata": {},
   "outputs": [],
   "source": []
  },
  {
   "cell_type": "markdown",
   "id": "f6f53409",
   "metadata": {},
   "source": [
    "Difference b/w sort and sorted"
   ]
  },
  {
   "cell_type": "code",
   "execution_count": null,
   "id": "2b69dabd",
   "metadata": {},
   "outputs": [],
   "source": []
  },
  {
   "cell_type": "markdown",
   "id": "f483bd80",
   "metadata": {},
   "source": [
    "convert the above list into 5*5 matrix dataframe,subject names for the same"
   ]
  },
  {
   "cell_type": "markdown",
   "id": "c114f8ff",
   "metadata": {},
   "source": []
  },
  {
   "cell_type": "markdown",
   "id": "35dcbd31",
   "metadata": {},
   "source": [
    "Add Name to above said dataframe using insert option as first row"
   ]
  },
  {
   "cell_type": "code",
   "execution_count": null,
   "id": "0f693dd4",
   "metadata": {},
   "outputs": [],
   "source": []
  },
  {
   "cell_type": "markdown",
   "id": "57db3e47",
   "metadata": {},
   "source": [
    "fetch the row  mark of 1 subject where marks greather than 75"
   ]
  },
  {
   "cell_type": "code",
   "execution_count": null,
   "id": "171c5d06",
   "metadata": {},
   "outputs": [],
   "source": []
  },
  {
   "cell_type": "markdown",
   "id": "a2921899",
   "metadata": {},
   "source": [
    "Using loc "
   ]
  },
  {
   "cell_type": "code",
   "execution_count": null,
   "id": "a5ef986b",
   "metadata": {},
   "outputs": [],
   "source": []
  },
  {
   "cell_type": "markdown",
   "id": "87397c34",
   "metadata": {},
   "source": [
    "Using Iloc"
   ]
  },
  {
   "cell_type": "code",
   "execution_count": null,
   "id": "1121cd7e",
   "metadata": {},
   "outputs": [],
   "source": []
  },
  {
   "cell_type": "markdown",
   "id": "e274cba1",
   "metadata": {},
   "source": [
    "Slice the data"
   ]
  },
  {
   "cell_type": "code",
   "execution_count": null,
   "id": "6da3b295",
   "metadata": {},
   "outputs": [],
   "source": []
  },
  {
   "cell_type": "markdown",
   "id": "6e90a1be",
   "metadata": {},
   "source": [
    "change the value for 3rd row 2nd columns"
   ]
  },
  {
   "cell_type": "code",
   "execution_count": null,
   "id": "e0ae8652",
   "metadata": {},
   "outputs": [],
   "source": []
  },
  {
   "cell_type": "markdown",
   "id": "94f329b4",
   "metadata": {},
   "source": [
    "Set index,reset index concept"
   ]
  },
  {
   "cell_type": "markdown",
   "id": "9ad17eb0",
   "metadata": {},
   "source": [
    "Create data frame\n",
    "\n",
    "Category- ['Washing_Machine','Mobile','AC','TV','FRIDGE'],\n",
    "Brand- ['SAMSUNG','APPLE','OGENERAL','SONY','LG'],\n",
    "Color-['SILVER','BLACK','WHITE','BLACK','SILVER'],\n",
    "Price-[30000,20000,50000,40000,28000]"
   ]
  },
  {
   "cell_type": "code",
   "execution_count": null,
   "id": "860c41d9",
   "metadata": {},
   "outputs": [],
   "source": []
  },
  {
   "cell_type": "markdown",
   "id": "b0d5375b",
   "metadata": {},
   "source": [
    "Sorth the value of price in descending"
   ]
  },
  {
   "cell_type": "code",
   "execution_count": null,
   "id": "22c030b0",
   "metadata": {},
   "outputs": [],
   "source": []
  },
  {
   "cell_type": "markdown",
   "id": "fabc24da",
   "metadata": {},
   "source": [
    "Sort the value of Category in asc and price in descending"
   ]
  },
  {
   "cell_type": "code",
   "execution_count": null,
   "id": "1f6e1bb1",
   "metadata": {},
   "outputs": [],
   "source": []
  },
  {
   "cell_type": "markdown",
   "id": "940d742a",
   "metadata": {},
   "source": [
    "Plot the bargraph b/w Category and price"
   ]
  },
  {
   "cell_type": "code",
   "execution_count": null,
   "id": "c0d3972a",
   "metadata": {},
   "outputs": [],
   "source": []
  },
  {
   "cell_type": "markdown",
   "id": "f3a4ff0c",
   "metadata": {},
   "source": [
    "Add new rows \n",
    "{'Category': ['Laptop','Smartwatch'],\n",
    "                     'Brand': ['Dell','Noise'],\n",
    "                     'Color': ['Blue','Black'],\n",
    "                     'Price':[57000,4000]}"
   ]
  },
  {
   "cell_type": "code",
   "execution_count": null,
   "id": "d5fe5fa0",
   "metadata": {},
   "outputs": [],
   "source": []
  },
  {
   "cell_type": "markdown",
   "id": "0574a91a",
   "metadata": {},
   "source": [
    "Add this new row to above data frame"
   ]
  },
  {
   "cell_type": "code",
   "execution_count": null,
   "id": "99f12d27",
   "metadata": {},
   "outputs": [],
   "source": []
  },
  {
   "cell_type": "markdown",
   "id": "653e140a",
   "metadata": {},
   "source": [
    "Create new data \n",
    "new_data=['watch','MI','Rose',2000]"
   ]
  },
  {
   "cell_type": "code",
   "execution_count": null,
   "id": "36f060c4",
   "metadata": {},
   "outputs": [],
   "source": []
  },
  {
   "cell_type": "markdown",
   "id": "73e55641",
   "metadata": {},
   "source": [
    "concate the above new data to dataframe"
   ]
  },
  {
   "cell_type": "code",
   "execution_count": null,
   "id": "6b180183",
   "metadata": {},
   "outputs": [],
   "source": []
  },
  {
   "cell_type": "markdown",
   "id": "a29c83c5",
   "metadata": {},
   "source": [
    "Drop the last row"
   ]
  },
  {
   "cell_type": "code",
   "execution_count": null,
   "id": "93defd42",
   "metadata": {},
   "outputs": [],
   "source": []
  },
  {
   "cell_type": "markdown",
   "id": "95550207",
   "metadata": {},
   "source": [
    "Create \n",
    "new_row1=pd.DataFrame({'Category': ['Laptop'],\n",
    "                     'Brand': ['Dell'],\n",
    "                     'Color': ['Blue'],\n",
    "                     'Price':[57000]})\n",
    "                     \n",
    "                     \n",
    "and concate it"
   ]
  },
  {
   "cell_type": "code",
   "execution_count": null,
   "id": "dee8c067",
   "metadata": {},
   "outputs": [],
   "source": []
  },
  {
   "cell_type": "markdown",
   "id": "1d18c36c",
   "metadata": {},
   "source": [
    "Check the duplicates"
   ]
  },
  {
   "cell_type": "code",
   "execution_count": null,
   "id": "d9e787be",
   "metadata": {},
   "outputs": [],
   "source": []
  },
  {
   "cell_type": "markdown",
   "id": "1daee47b",
   "metadata": {},
   "source": [
    "Drop the duplicates keep last"
   ]
  },
  {
   "cell_type": "code",
   "execution_count": null,
   "id": "f64bce51",
   "metadata": {},
   "outputs": [],
   "source": []
  },
  {
   "cell_type": "markdown",
   "id": "08cd5511",
   "metadata": {},
   "source": [
    "drop null values"
   ]
  },
  {
   "cell_type": "code",
   "execution_count": null,
   "id": "ea769551",
   "metadata": {},
   "outputs": [],
   "source": []
  },
  {
   "cell_type": "markdown",
   "id": "ba7695c5",
   "metadata": {},
   "source": [
    "Fetch sns data names"
   ]
  },
  {
   "cell_type": "code",
   "execution_count": null,
   "id": "723a8af8",
   "metadata": {},
   "outputs": [],
   "source": []
  },
  {
   "cell_type": "markdown",
   "id": "ed071be9",
   "metadata": {},
   "source": [
    "# load 'titanic' data set"
   ]
  },
  {
   "cell_type": "code",
   "execution_count": null,
   "id": "520f840b",
   "metadata": {},
   "outputs": [],
   "source": []
  },
  {
   "cell_type": "markdown",
   "id": "c5662c7b",
   "metadata": {},
   "source": [
    "View dimension"
   ]
  },
  {
   "cell_type": "code",
   "execution_count": null,
   "id": "f7baee9a",
   "metadata": {},
   "outputs": [],
   "source": []
  },
  {
   "cell_type": "markdown",
   "id": "b5adb919",
   "metadata": {},
   "source": [
    "View rows and columns"
   ]
  },
  {
   "cell_type": "code",
   "execution_count": null,
   "id": "b03ac258",
   "metadata": {},
   "outputs": [],
   "source": []
  },
  {
   "cell_type": "markdown",
   "id": "198d12de",
   "metadata": {},
   "source": [
    "view data type"
   ]
  },
  {
   "cell_type": "code",
   "execution_count": null,
   "id": "d5c44322",
   "metadata": {},
   "outputs": [],
   "source": []
  },
  {
   "cell_type": "markdown",
   "id": "94f5026e",
   "metadata": {},
   "source": [
    "View data"
   ]
  },
  {
   "cell_type": "markdown",
   "id": "60ab306e",
   "metadata": {},
   "source": [
    "5 point summary"
   ]
  },
  {
   "cell_type": "code",
   "execution_count": null,
   "id": "bb7b164e",
   "metadata": {},
   "outputs": [],
   "source": []
  },
  {
   "cell_type": "markdown",
   "id": "c5a014e0",
   "metadata": {},
   "source": [
    "5 point summary for category variable"
   ]
  },
  {
   "cell_type": "code",
   "execution_count": null,
   "id": "4c2692d3",
   "metadata": {},
   "outputs": [],
   "source": []
  },
  {
   "cell_type": "markdown",
   "id": "4e23d0f7",
   "metadata": {},
   "source": [
    "seek for null values"
   ]
  },
  {
   "cell_type": "code",
   "execution_count": null,
   "id": "4c850132",
   "metadata": {},
   "outputs": [],
   "source": []
  },
  {
   "cell_type": "markdown",
   "id": "4f1f574c",
   "metadata": {},
   "source": [
    "Sum of null values"
   ]
  },
  {
   "cell_type": "code",
   "execution_count": null,
   "id": "ddbe18d9",
   "metadata": {},
   "outputs": [],
   "source": []
  },
  {
   "cell_type": "markdown",
   "id": "27c87d98",
   "metadata": {},
   "source": [
    "Seek for duplicates"
   ]
  },
  {
   "cell_type": "code",
   "execution_count": null,
   "id": "b4299531",
   "metadata": {},
   "outputs": [],
   "source": []
  },
  {
   "cell_type": "markdown",
   "id": "33f1aad0",
   "metadata": {},
   "source": [
    "Showcase duplicates"
   ]
  },
  {
   "cell_type": "code",
   "execution_count": null,
   "id": "2c5beb70",
   "metadata": {},
   "outputs": [],
   "source": []
  },
  {
   "cell_type": "markdown",
   "id": "b4e85857",
   "metadata": {},
   "source": [
    "showcase unique values in each column"
   ]
  },
  {
   "cell_type": "code",
   "execution_count": null,
   "id": "79c68073",
   "metadata": {},
   "outputs": [],
   "source": []
  },
  {
   "cell_type": "markdown",
   "id": "fd5c3846",
   "metadata": {},
   "source": [
    "Change the male,female as 1,0 respectively"
   ]
  },
  {
   "cell_type": "code",
   "execution_count": null,
   "id": "abbfa1f8",
   "metadata": {},
   "outputs": [],
   "source": []
  },
  {
   "cell_type": "markdown",
   "id": "2f7884f6",
   "metadata": {},
   "source": [
    "Count of Male and Female in ship"
   ]
  },
  {
   "cell_type": "code",
   "execution_count": null,
   "id": "3fac210a",
   "metadata": {},
   "outputs": [],
   "source": []
  },
  {
   "cell_type": "markdown",
   "id": "51d0c237",
   "metadata": {},
   "source": [
    "Plot pie graph showing how many male and felmale in ship"
   ]
  },
  {
   "cell_type": "code",
   "execution_count": null,
   "id": "b29172b3",
   "metadata": {},
   "outputs": [],
   "source": []
  },
  {
   "cell_type": "markdown",
   "id": "c7a26c2f",
   "metadata": {},
   "source": [
    "In which class people are more in ship plot countplot"
   ]
  },
  {
   "cell_type": "code",
   "execution_count": null,
   "id": "de3501d5",
   "metadata": {},
   "outputs": [],
   "source": []
  },
  {
   "cell_type": "markdown",
   "id": "3b6073fb",
   "metadata": {},
   "source": [
    "Which class fare collection is high"
   ]
  },
  {
   "cell_type": "code",
   "execution_count": null,
   "id": "3e13766b",
   "metadata": {},
   "outputs": [],
   "source": []
  },
  {
   "cell_type": "markdown",
   "id": "d637bea9",
   "metadata": {},
   "source": [
    "relationship between passenger class, fare, and gender "
   ]
  },
  {
   "cell_type": "code",
   "execution_count": null,
   "id": "52d790bf",
   "metadata": {},
   "outputs": [],
   "source": []
  },
  {
   "cell_type": "markdown",
   "id": "8c4b4597",
   "metadata": {},
   "source": [
    "Univarities\n",
    "a)Distribution plot"
   ]
  },
  {
   "cell_type": "code",
   "execution_count": null,
   "id": "81cae2dc",
   "metadata": {},
   "outputs": [],
   "source": []
  },
  {
   "cell_type": "markdown",
   "id": "fc523564",
   "metadata": {},
   "source": [
    "Value of skewness"
   ]
  },
  {
   "cell_type": "code",
   "execution_count": null,
   "id": "5c08d7e8",
   "metadata": {},
   "outputs": [],
   "source": []
  },
  {
   "cell_type": "markdown",
   "id": "42de905d",
   "metadata": {},
   "source": [
    "value of kurtosis"
   ]
  },
  {
   "cell_type": "code",
   "execution_count": null,
   "id": "9a66eaee",
   "metadata": {},
   "outputs": [],
   "source": []
  },
  {
   "cell_type": "markdown",
   "id": "90ac94b8",
   "metadata": {},
   "source": [
    "Check for outliers"
   ]
  },
  {
   "cell_type": "code",
   "execution_count": null,
   "id": "e1fc8ca2",
   "metadata": {},
   "outputs": [],
   "source": []
  },
  {
   "cell_type": "markdown",
   "id": "b7a4fc4c",
   "metadata": {},
   "source": [
    "Box Plot"
   ]
  },
  {
   "cell_type": "code",
   "execution_count": null,
   "id": "a8863498",
   "metadata": {},
   "outputs": [],
   "source": []
  },
  {
   "cell_type": "markdown",
   "id": "b27414e1",
   "metadata": {},
   "source": [
    "violin plot"
   ]
  },
  {
   "cell_type": "markdown",
   "id": "a09d63fd",
   "metadata": {},
   "source": [
    "# Bivarities"
   ]
  },
  {
   "cell_type": "markdown",
   "id": "c838a447",
   "metadata": {},
   "source": [
    "Num vs Num (scatter plot)"
   ]
  },
  {
   "cell_type": "code",
   "execution_count": null,
   "id": "b570f436",
   "metadata": {},
   "outputs": [],
   "source": []
  },
  {
   "cell_type": "markdown",
   "id": "5e5a4530",
   "metadata": {},
   "source": [
    "Num vs cat (bar graph)"
   ]
  },
  {
   "cell_type": "code",
   "execution_count": null,
   "id": "9ed2b02e",
   "metadata": {},
   "outputs": [],
   "source": []
  },
  {
   "cell_type": "markdown",
   "id": "b63fbef0",
   "metadata": {},
   "source": [
    "Cat Vs cat   (cross tab)"
   ]
  },
  {
   "cell_type": "code",
   "execution_count": null,
   "id": "70edb809",
   "metadata": {},
   "outputs": [],
   "source": []
  },
  {
   "cell_type": "markdown",
   "id": "520a0008",
   "metadata": {},
   "source": [
    "# Multivarites"
   ]
  },
  {
   "cell_type": "code",
   "execution_count": null,
   "id": "34a49ce5",
   "metadata": {},
   "outputs": [],
   "source": [
    "Heatmap"
   ]
  },
  {
   "cell_type": "markdown",
   "id": "82318830",
   "metadata": {},
   "source": []
  },
  {
   "cell_type": "markdown",
   "id": "a4267c0c",
   "metadata": {},
   "source": [
    "Pairplot"
   ]
  },
  {
   "cell_type": "code",
   "execution_count": null,
   "id": "26642773",
   "metadata": {},
   "outputs": [],
   "source": []
  },
  {
   "cell_type": "code",
   "execution_count": null,
   "id": "72acc75c",
   "metadata": {},
   "outputs": [],
   "source": []
  },
  {
   "cell_type": "markdown",
   "id": "2112b2cc",
   "metadata": {},
   "source": [
    "using Group by what is the mean,min,max age of each embarked"
   ]
  },
  {
   "cell_type": "code",
   "execution_count": null,
   "id": "654fe136",
   "metadata": {},
   "outputs": [],
   "source": []
  },
  {
   "cell_type": "code",
   "execution_count": null,
   "id": "8bee8407",
   "metadata": {},
   "outputs": [],
   "source": [
    "using Group by what is the sum of  fare each embarked"
   ]
  },
  {
   "cell_type": "code",
   "execution_count": null,
   "id": "8f3e40cb",
   "metadata": {},
   "outputs": [],
   "source": []
  },
  {
   "cell_type": "markdown",
   "id": "ad5476e2",
   "metadata": {},
   "source": [
    "using pivot table create the table for class vs fare"
   ]
  },
  {
   "cell_type": "code",
   "execution_count": null,
   "id": "ce555fad",
   "metadata": {},
   "outputs": [],
   "source": []
  },
  {
   "cell_type": "markdown",
   "id": "1b6e6dda",
   "metadata": {},
   "source": [
    "using pivot table create the table for class vs fare, along with age  show agg fun sum,mean"
   ]
  },
  {
   "cell_type": "code",
   "execution_count": null,
   "id": "8ebf3644",
   "metadata": {},
   "outputs": [],
   "source": []
  },
  {
   "cell_type": "markdown",
   "id": "5e4b19c2",
   "metadata": {},
   "source": [
    "using crosstab find how many male,female in each class"
   ]
  },
  {
   "cell_type": "code",
   "execution_count": null,
   "id": "1f13f25c",
   "metadata": {},
   "outputs": [],
   "source": []
  },
  {
   "cell_type": "code",
   "execution_count": null,
   "id": "28cbbcb7",
   "metadata": {},
   "outputs": [],
   "source": [
    "using crosstab find how many male,female traveled from each embarked town"
   ]
  },
  {
   "cell_type": "code",
   "execution_count": null,
   "id": "a23e3684",
   "metadata": {},
   "outputs": [],
   "source": []
  },
  {
   "cell_type": "code",
   "execution_count": null,
   "id": "75a809d7",
   "metadata": {},
   "outputs": [],
   "source": []
  }
 ],
 "metadata": {
  "kernelspec": {
   "display_name": "Python 3 (ipykernel)",
   "language": "python",
   "name": "python3"
  },
  "language_info": {
   "codemirror_mode": {
    "name": "ipython",
    "version": 3
   },
   "file_extension": ".py",
   "mimetype": "text/x-python",
   "name": "python",
   "nbconvert_exporter": "python",
   "pygments_lexer": "ipython3",
   "version": "3.11.4"
  }
 },
 "nbformat": 4,
 "nbformat_minor": 5
}
