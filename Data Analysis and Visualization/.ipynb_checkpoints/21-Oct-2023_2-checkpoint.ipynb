{
 "cells": [
  {
   "cell_type": "markdown",
   "id": "e61b6524",
   "metadata": {},
   "source": [
    "Mean Median Stat"
   ]
  },
  {
   "cell_type": "code",
   "execution_count": 10,
   "id": "f2a70498",
   "metadata": {},
   "outputs": [
    {
     "name": "stdout",
     "output_type": "stream",
     "text": [
      "Original Data\n",
      "      A      B\n",
      "0   1.0   10.0\n",
      "1   2.0   20.0\n",
      "2   3.0   30.0\n",
      "3   4.0    NaN\n",
      "4   5.0   50.0\n",
      "5   NaN   60.0\n",
      "6   7.0   70.0\n",
      "7   8.0   80.0\n",
      "8   9.0   90.0\n",
      "9  10.0  100.0\n"
     ]
    }
   ],
   "source": [
    "import pandas as pd\n",
    "import numpy as np\n",
    "data = {'A':[1,2,3,4,5,np.nan,7,8,9,10],\n",
    "       'B':[10,20,30,np.nan,50,60,70,80,90,100]}\n",
    "df=pd.DataFrame(data)\n",
    "df1=df\n",
    "print(\"Original Data\")\n",
    "print(df)"
   ]
  },
  {
   "cell_type": "code",
   "execution_count": 6,
   "id": "8067557f",
   "metadata": {},
   "outputs": [
    {
     "name": "stdout",
     "output_type": "stream",
     "text": [
      "Inputed Value\n",
      "           A           B\n",
      "0   1.000000   10.000000\n",
      "1   2.000000   20.000000\n",
      "2   3.000000   30.000000\n",
      "3   4.000000   56.666667\n",
      "4   5.000000   50.000000\n",
      "5  56.666667   60.000000\n",
      "6   7.000000   70.000000\n",
      "7   8.000000   80.000000\n",
      "8   9.000000   90.000000\n",
      "9  10.000000  100.000000\n"
     ]
    }
   ],
   "source": [
    "mean_a=np.round(df['A'].mean())\n",
    "mean_b=np.round(df['B'].mean())\n",
    "df['A'].fillna(mean_a,inplace=True)\n",
    "df['B'].fillna(mean_b,inplace=True)\n",
    "print(\"Inputed Value\")\n",
    "print(df)"
   ]
  },
  {
   "cell_type": "code",
   "execution_count": 11,
   "id": "11d3ddb3",
   "metadata": {
    "scrolled": true
   },
   "outputs": [
    {
     "name": "stdout",
     "output_type": "stream",
     "text": [
      "Inputed Value\n",
      "      A      B\n",
      "0   1.0   10.0\n",
      "1   2.0   20.0\n",
      "2   3.0   30.0\n",
      "3   4.0   60.0\n",
      "4   5.0   50.0\n",
      "5   5.0   60.0\n",
      "6   7.0   70.0\n",
      "7   8.0   80.0\n",
      "8   9.0   90.0\n",
      "9  10.0  100.0\n"
     ]
    }
   ],
   "source": [
    "mean_a=np.round(df1['A'].median())\n",
    "mean_b=np.round(df1['B'].median())\n",
    "df1['A'].fillna(mean_a,inplace=True)\n",
    "df1['B'].fillna(mean_b,inplace=True)\n",
    "print(\"Inputed Value\")\n",
    "print(df1)"
   ]
  },
  {
   "cell_type": "code",
   "execution_count": null,
   "id": "0570644d",
   "metadata": {},
   "outputs": [],
   "source": []
  }
 ],
 "metadata": {
  "kernelspec": {
   "display_name": "Python 3 (ipykernel)",
   "language": "python",
   "name": "python3"
  },
  "language_info": {
   "codemirror_mode": {
    "name": "ipython",
    "version": 3
   },
   "file_extension": ".py",
   "mimetype": "text/x-python",
   "name": "python",
   "nbconvert_exporter": "python",
   "pygments_lexer": "ipython3",
   "version": "3.11.4"
  }
 },
 "nbformat": 4,
 "nbformat_minor": 5
}
