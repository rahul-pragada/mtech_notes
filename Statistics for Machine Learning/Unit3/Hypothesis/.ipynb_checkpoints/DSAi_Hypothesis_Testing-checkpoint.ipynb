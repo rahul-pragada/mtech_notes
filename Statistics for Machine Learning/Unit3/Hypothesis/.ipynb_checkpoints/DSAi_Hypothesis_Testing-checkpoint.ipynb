{
 "cells": [
  {
   "cell_type": "code",
   "execution_count": 1,
   "id": "31a6a80e",
   "metadata": {},
   "outputs": [],
   "source": [
    "# Hypothesis Testing"
   ]
  },
  {
   "cell_type": "code",
   "execution_count": 2,
   "id": "0d6e3911",
   "metadata": {},
   "outputs": [],
   "source": [
    "# HA: Drug response time is less 5min\n",
    "# H0 : Drug Response time is >5 min"
   ]
  },
  {
   "cell_type": "code",
   "execution_count": 3,
   "id": "41cfa7de",
   "metadata": {},
   "outputs": [],
   "source": [
    "import numpy as np\n",
    "import scipy.stats as stats"
   ]
  },
  {
   "cell_type": "code",
   "execution_count": 4,
   "id": "0dcbcace",
   "metadata": {},
   "outputs": [
    {
     "data": {
      "text/plain": [
       "-1.7677669529663704"
      ]
     },
     "execution_count": 4,
     "metadata": {},
     "output_type": "execute_result"
    }
   ],
   "source": [
    "zstat=(4.8-5)/(0.8/np.sqrt(50))\n",
    "zstat"
   ]
  },
  {
   "cell_type": "code",
   "execution_count": 5,
   "id": "a02a69d3",
   "metadata": {},
   "outputs": [
    {
     "data": {
      "text/plain": [
       "0.03854993587177073"
      ]
     },
     "execution_count": 5,
     "metadata": {},
     "output_type": "execute_result"
    }
   ],
   "source": [
    "stats.norm.cdf(zstat)"
   ]
  },
  {
   "cell_type": "code",
   "execution_count": 6,
   "id": "e2d97f49",
   "metadata": {},
   "outputs": [
    {
     "data": {
      "text/plain": [
       "1.6448536269514729"
      ]
     },
     "execution_count": 6,
     "metadata": {},
     "output_type": "execute_result"
    }
   ],
   "source": [
    "stats.norm.isf(0.05)"
   ]
  },
  {
   "cell_type": "code",
   "execution_count": 7,
   "id": "7d3bfe64",
   "metadata": {},
   "outputs": [
    {
     "data": {
      "text/plain": [
       "-9.302325581395317"
      ]
     },
     "execution_count": 7,
     "metadata": {},
     "output_type": "execute_result"
    }
   ],
   "source": [
    "# Covid\n",
    "# H0: positive covid age is 38\n",
    "# HA :positive covid age is not 38\n",
    "zstat=(37.2-38)/(4.3/np.sqrt(2500))\n",
    "zstat"
   ]
  },
  {
   "cell_type": "code",
   "execution_count": 8,
   "id": "d2272d4d",
   "metadata": {},
   "outputs": [
    {
     "data": {
      "text/plain": [
       "1.3740677108247303e-20"
      ]
     },
     "execution_count": 8,
     "metadata": {},
     "output_type": "execute_result"
    }
   ],
   "source": [
    "stats.norm.cdf(zstat)*2 #for 2 tail test"
   ]
  },
  {
   "cell_type": "markdown",
   "id": "870c5289",
   "metadata": {},
   "source": [
    "# one sample T test"
   ]
  },
  {
   "cell_type": "markdown",
   "id": "ae8416f9",
   "metadata": {},
   "source": [
    "For a particular organization, the average age of the employees was claimed 30 years.\n",
    "The authorities collected a random sample of employees' age data to check the claim made by the organization.\n",
    "Construct a hypothesis test to validate the hypothesis at a significance level of 0.05."
   ]
  },
  {
   "cell_type": "markdown",
   "id": "18828159",
   "metadata": {},
   "source": [
    "Ho = mean > 30\n",
    "\n",
    "Ha = mean $\\neq$ 30"
   ]
  },
  {
   "cell_type": "code",
   "execution_count": 18,
   "id": "066ecbc8",
   "metadata": {},
   "outputs": [
    {
     "name": "stdout",
     "output_type": "stream",
     "text": [
      "p-values [0.99493519]\n",
      "we are accepting null hypothesis hence H0 - as Avg age > 30\n"
     ]
    }
   ],
   "source": [
    "from scipy.stats import ttest_1samp\n",
    "import pandas as pd\n",
    "import numpy as np\n",
    "\n",
    "\n",
    "ages = pd.read_csv(\"Ages.csv\")\n",
    "ages\n",
    "#One Numeric Sample\n",
    "\n",
    "\n",
    "tset, pval = ttest_1samp(ages, 30, alternative=\"less\") # for 2 tail test remove 'alternative=\"less\"'\n",
    "# tset is statistics and pval --- Order is important\n",
    "# test is for sample but the Hypothesis claim is for entire population\n",
    "\n",
    "print(\"p-values\",pval)\n",
    "if pval < 0.05:    # alpha value is 0.05 or 5%\n",
    "    print(\" we are rejecting null hypothesis hence  Ha - as Avg age < 30\")\n",
    "else:\n",
    "    print(\"we are accepting null hypothesis hence H0 - as Avg age > 30\")"
   ]
  },
  {
   "cell_type": "code",
   "execution_count": 14,
   "id": "015ef3fc",
   "metadata": {},
   "outputs": [
    {
     "name": "stdout",
     "output_type": "stream",
     "text": [
      "ages    43.75\n",
      "dtype: float64\n"
     ]
    },
    {
     "name": "stderr",
     "output_type": "stream",
     "text": [
      "/Users/ksganand/anaconda3/lib/python3.11/site-packages/numpy/core/fromnumeric.py:3462: FutureWarning: In a future version, DataFrame.mean(axis=None) will return a scalar mean over the entire DataFrame. To retain the old behavior, use 'frame.mean(axis=0)' or just 'frame.mean()'\n",
      "  return mean(axis=axis, dtype=dtype, out=out, **kwargs)\n"
     ]
    }
   ],
   "source": [
    "ages_mean = np.mean(ages)\n",
    "print(ages_mean)"
   ]
  },
  {
   "cell_type": "markdown",
   "id": "5e56a3ab",
   "metadata": {},
   "source": [
    "# Two Sample T Test"
   ]
  },
  {
   "cell_type": "markdown",
   "id": "a650a16c",
   "metadata": {},
   "source": [
    "One Numerical and one Categorical varialbes/columns/  features, In this the categorical variable should be 2 level only - binomial"
   ]
  },
  {
   "cell_type": "markdown",
   "id": "1bf95749",
   "metadata": {},
   "source": [
    "Feature reduction - If there is no use of that column on the data analysis. / No relation betweeen columns to be analysed. "
   ]
  },
  {
   "cell_type": "code",
   "execution_count": 20,
   "id": "8cf68205",
   "metadata": {},
   "outputs": [],
   "source": [
    "data=pd.read_csv(\"HR_newdata.csv\")"
   ]
  },
  {
   "cell_type": "code",
   "execution_count": 22,
   "id": "e8fccb96",
   "metadata": {},
   "outputs": [
    {
     "data": {
      "text/html": [
       "<div>\n",
       "<style scoped>\n",
       "    .dataframe tbody tr th:only-of-type {\n",
       "        vertical-align: middle;\n",
       "    }\n",
       "\n",
       "    .dataframe tbody tr th {\n",
       "        vertical-align: top;\n",
       "    }\n",
       "\n",
       "    .dataframe thead th {\n",
       "        text-align: right;\n",
       "    }\n",
       "</style>\n",
       "<table border=\"1\" class=\"dataframe\">\n",
       "  <thead>\n",
       "    <tr style=\"text-align: right;\">\n",
       "      <th></th>\n",
       "      <th>Unnamed: 0</th>\n",
       "      <th>Individual</th>\n",
       "      <th>Attrition</th>\n",
       "      <th>Age</th>\n",
       "      <th>BusinessTravel</th>\n",
       "      <th>DailyRate</th>\n",
       "      <th>Department</th>\n",
       "      <th>DistanceFromHome</th>\n",
       "      <th>Education</th>\n",
       "      <th>EducationField</th>\n",
       "      <th>...</th>\n",
       "      <th>StockOptionLevel</th>\n",
       "      <th>TotalWorkingYears</th>\n",
       "      <th>TrainingTimesLastYear</th>\n",
       "      <th>WorkLifeBalance</th>\n",
       "      <th>YearsAtCompany</th>\n",
       "      <th>YearsInCurrentRole</th>\n",
       "      <th>YearsSinceLastPromotion</th>\n",
       "      <th>YearsWithCurrManager</th>\n",
       "      <th>Age1</th>\n",
       "      <th>MonthlyIncome1</th>\n",
       "    </tr>\n",
       "  </thead>\n",
       "  <tbody>\n",
       "    <tr>\n",
       "      <th>0</th>\n",
       "      <td>0</td>\n",
       "      <td>Ind1</td>\n",
       "      <td>Yes</td>\n",
       "      <td>41</td>\n",
       "      <td>1</td>\n",
       "      <td>1102</td>\n",
       "      <td>1</td>\n",
       "      <td>1</td>\n",
       "      <td>2</td>\n",
       "      <td>1</td>\n",
       "      <td>...</td>\n",
       "      <td>0</td>\n",
       "      <td>8</td>\n",
       "      <td>0</td>\n",
       "      <td>1</td>\n",
       "      <td>6</td>\n",
       "      <td>4</td>\n",
       "      <td>0</td>\n",
       "      <td>5</td>\n",
       "      <td>43.1</td>\n",
       "      <td>8952.576429</td>\n",
       "    </tr>\n",
       "    <tr>\n",
       "      <th>1</th>\n",
       "      <td>1</td>\n",
       "      <td>Ind2</td>\n",
       "      <td>No</td>\n",
       "      <td>49</td>\n",
       "      <td>2</td>\n",
       "      <td>279</td>\n",
       "      <td>2</td>\n",
       "      <td>8</td>\n",
       "      <td>1</td>\n",
       "      <td>1</td>\n",
       "      <td>...</td>\n",
       "      <td>1</td>\n",
       "      <td>10</td>\n",
       "      <td>3</td>\n",
       "      <td>3</td>\n",
       "      <td>10</td>\n",
       "      <td>7</td>\n",
       "      <td>1</td>\n",
       "      <td>7</td>\n",
       "      <td>42.4</td>\n",
       "      <td>15078.533314</td>\n",
       "    </tr>\n",
       "    <tr>\n",
       "      <th>2</th>\n",
       "      <td>2</td>\n",
       "      <td>Ind3</td>\n",
       "      <td>Yes</td>\n",
       "      <td>37</td>\n",
       "      <td>1</td>\n",
       "      <td>1373</td>\n",
       "      <td>2</td>\n",
       "      <td>2</td>\n",
       "      <td>2</td>\n",
       "      <td>6</td>\n",
       "      <td>...</td>\n",
       "      <td>0</td>\n",
       "      <td>7</td>\n",
       "      <td>3</td>\n",
       "      <td>3</td>\n",
       "      <td>0</td>\n",
       "      <td>0</td>\n",
       "      <td>0</td>\n",
       "      <td>0</td>\n",
       "      <td>41.2</td>\n",
       "      <td>8937.969054</td>\n",
       "    </tr>\n",
       "    <tr>\n",
       "      <th>3</th>\n",
       "      <td>3</td>\n",
       "      <td>Ind4</td>\n",
       "      <td>No</td>\n",
       "      <td>33</td>\n",
       "      <td>2</td>\n",
       "      <td>1392</td>\n",
       "      <td>2</td>\n",
       "      <td>3</td>\n",
       "      <td>4</td>\n",
       "      <td>1</td>\n",
       "      <td>...</td>\n",
       "      <td>0</td>\n",
       "      <td>8</td>\n",
       "      <td>3</td>\n",
       "      <td>3</td>\n",
       "      <td>8</td>\n",
       "      <td>7</td>\n",
       "      <td>3</td>\n",
       "      <td>0</td>\n",
       "      <td>32.0</td>\n",
       "      <td>10895.094251</td>\n",
       "    </tr>\n",
       "    <tr>\n",
       "      <th>4</th>\n",
       "      <td>4</td>\n",
       "      <td>Ind5</td>\n",
       "      <td>No</td>\n",
       "      <td>27</td>\n",
       "      <td>1</td>\n",
       "      <td>591</td>\n",
       "      <td>2</td>\n",
       "      <td>2</td>\n",
       "      <td>1</td>\n",
       "      <td>2</td>\n",
       "      <td>...</td>\n",
       "      <td>1</td>\n",
       "      <td>6</td>\n",
       "      <td>3</td>\n",
       "      <td>3</td>\n",
       "      <td>2</td>\n",
       "      <td>2</td>\n",
       "      <td>2</td>\n",
       "      <td>2</td>\n",
       "      <td>32.0</td>\n",
       "      <td>13826.520409</td>\n",
       "    </tr>\n",
       "    <tr>\n",
       "      <th>5</th>\n",
       "      <td>5</td>\n",
       "      <td>Ind6</td>\n",
       "      <td>No</td>\n",
       "      <td>32</td>\n",
       "      <td>2</td>\n",
       "      <td>1005</td>\n",
       "      <td>2</td>\n",
       "      <td>2</td>\n",
       "      <td>2</td>\n",
       "      <td>1</td>\n",
       "      <td>...</td>\n",
       "      <td>0</td>\n",
       "      <td>8</td>\n",
       "      <td>2</td>\n",
       "      <td>2</td>\n",
       "      <td>7</td>\n",
       "      <td>7</td>\n",
       "      <td>3</td>\n",
       "      <td>6</td>\n",
       "      <td>29.3</td>\n",
       "      <td>12656.722550</td>\n",
       "    </tr>\n",
       "    <tr>\n",
       "      <th>6</th>\n",
       "      <td>6</td>\n",
       "      <td>Ind7</td>\n",
       "      <td>No</td>\n",
       "      <td>59</td>\n",
       "      <td>1</td>\n",
       "      <td>1324</td>\n",
       "      <td>2</td>\n",
       "      <td>3</td>\n",
       "      <td>3</td>\n",
       "      <td>2</td>\n",
       "      <td>...</td>\n",
       "      <td>3</td>\n",
       "      <td>12</td>\n",
       "      <td>3</td>\n",
       "      <td>2</td>\n",
       "      <td>1</td>\n",
       "      <td>0</td>\n",
       "      <td>0</td>\n",
       "      <td>0</td>\n",
       "      <td>30.6</td>\n",
       "      <td>13880.932806</td>\n",
       "    </tr>\n",
       "    <tr>\n",
       "      <th>7</th>\n",
       "      <td>7</td>\n",
       "      <td>Ind8</td>\n",
       "      <td>No</td>\n",
       "      <td>30</td>\n",
       "      <td>1</td>\n",
       "      <td>1358</td>\n",
       "      <td>2</td>\n",
       "      <td>24</td>\n",
       "      <td>1</td>\n",
       "      <td>1</td>\n",
       "      <td>...</td>\n",
       "      <td>1</td>\n",
       "      <td>1</td>\n",
       "      <td>2</td>\n",
       "      <td>3</td>\n",
       "      <td>1</td>\n",
       "      <td>0</td>\n",
       "      <td>0</td>\n",
       "      <td>0</td>\n",
       "      <td>31.6</td>\n",
       "      <td>11376.407498</td>\n",
       "    </tr>\n",
       "    <tr>\n",
       "      <th>8</th>\n",
       "      <td>8</td>\n",
       "      <td>Ind9</td>\n",
       "      <td>No</td>\n",
       "      <td>38</td>\n",
       "      <td>2</td>\n",
       "      <td>216</td>\n",
       "      <td>2</td>\n",
       "      <td>23</td>\n",
       "      <td>3</td>\n",
       "      <td>1</td>\n",
       "      <td>...</td>\n",
       "      <td>0</td>\n",
       "      <td>10</td>\n",
       "      <td>2</td>\n",
       "      <td>3</td>\n",
       "      <td>9</td>\n",
       "      <td>7</td>\n",
       "      <td>1</td>\n",
       "      <td>8</td>\n",
       "      <td>34.5</td>\n",
       "      <td>15119.349158</td>\n",
       "    </tr>\n",
       "    <tr>\n",
       "      <th>9</th>\n",
       "      <td>9</td>\n",
       "      <td>Ind10</td>\n",
       "      <td>No</td>\n",
       "      <td>36</td>\n",
       "      <td>1</td>\n",
       "      <td>1299</td>\n",
       "      <td>2</td>\n",
       "      <td>27</td>\n",
       "      <td>3</td>\n",
       "      <td>2</td>\n",
       "      <td>...</td>\n",
       "      <td>2</td>\n",
       "      <td>17</td>\n",
       "      <td>3</td>\n",
       "      <td>2</td>\n",
       "      <td>7</td>\n",
       "      <td>7</td>\n",
       "      <td>7</td>\n",
       "      <td>7</td>\n",
       "      <td>43.4</td>\n",
       "      <td>10148.166811</td>\n",
       "    </tr>\n",
       "  </tbody>\n",
       "</table>\n",
       "<p>10 rows × 38 columns</p>\n",
       "</div>"
      ],
      "text/plain": [
       "   Unnamed: 0 Individual  Attrition  Age  BusinessTravel  DailyRate  \\\n",
       "0           0        Ind1       Yes   41               1       1102   \n",
       "1           1        Ind2        No   49               2        279   \n",
       "2           2        Ind3       Yes   37               1       1373   \n",
       "3           3        Ind4        No   33               2       1392   \n",
       "4           4        Ind5        No   27               1        591   \n",
       "5           5        Ind6        No   32               2       1005   \n",
       "6           6        Ind7        No   59               1       1324   \n",
       "7           7        Ind8        No   30               1       1358   \n",
       "8           8        Ind9        No   38               2        216   \n",
       "9           9       Ind10        No   36               1       1299   \n",
       "\n",
       "   Department  DistanceFromHome  Education  EducationField  ...  \\\n",
       "0           1                 1          2               1  ...   \n",
       "1           2                 8          1               1  ...   \n",
       "2           2                 2          2               6  ...   \n",
       "3           2                 3          4               1  ...   \n",
       "4           2                 2          1               2  ...   \n",
       "5           2                 2          2               1  ...   \n",
       "6           2                 3          3               2  ...   \n",
       "7           2                24          1               1  ...   \n",
       "8           2                23          3               1  ...   \n",
       "9           2                27          3               2  ...   \n",
       "\n",
       "   StockOptionLevel  TotalWorkingYears  TrainingTimesLastYear  \\\n",
       "0                 0                  8                      0   \n",
       "1                 1                 10                      3   \n",
       "2                 0                  7                      3   \n",
       "3                 0                  8                      3   \n",
       "4                 1                  6                      3   \n",
       "5                 0                  8                      2   \n",
       "6                 3                 12                      3   \n",
       "7                 1                  1                      2   \n",
       "8                 0                 10                      2   \n",
       "9                 2                 17                      3   \n",
       "\n",
       "   WorkLifeBalance  YearsAtCompany  YearsInCurrentRole  \\\n",
       "0                1               6                   4   \n",
       "1                3              10                   7   \n",
       "2                3               0                   0   \n",
       "3                3               8                   7   \n",
       "4                3               2                   2   \n",
       "5                2               7                   7   \n",
       "6                2               1                   0   \n",
       "7                3               1                   0   \n",
       "8                3               9                   7   \n",
       "9                2               7                   7   \n",
       "\n",
       "   YearsSinceLastPromotion  YearsWithCurrManager  Age1  MonthlyIncome1  \n",
       "0                        0                     5  43.1     8952.576429  \n",
       "1                        1                     7  42.4    15078.533314  \n",
       "2                        0                     0  41.2     8937.969054  \n",
       "3                        3                     0  32.0    10895.094251  \n",
       "4                        2                     2  32.0    13826.520409  \n",
       "5                        3                     6  29.3    12656.722550  \n",
       "6                        0                     0  30.6    13880.932806  \n",
       "7                        0                     0  31.6    11376.407498  \n",
       "8                        1                     8  34.5    15119.349158  \n",
       "9                        7                     7  43.4    10148.166811  \n",
       "\n",
       "[10 rows x 38 columns]"
      ]
     },
     "execution_count": 22,
     "metadata": {},
     "output_type": "execute_result"
    }
   ],
   "source": [
    "data.head(10)"
   ]
  },
  {
   "cell_type": "code",
   "execution_count": 23,
   "id": "d28c7f9f",
   "metadata": {},
   "outputs": [
    {
     "data": {
      "text/plain": [
       "1    882\n",
       "2    588\n",
       "Name: Gender, dtype: int64"
      ]
     },
     "execution_count": 23,
     "metadata": {},
     "output_type": "execute_result"
    }
   ],
   "source": [
    "data['Gender'].value_counts()"
   ]
  },
  {
   "cell_type": "code",
   "execution_count": 24,
   "id": "1dd560fd",
   "metadata": {},
   "outputs": [],
   "source": [
    "# Whether this company showing any gender bias interms of providing salary ?\n",
    "\n",
    "\n",
    "# Ho: Male salary = Female Salary (No bias)\n",
    "# Ha: Male Salary != Female Salary\n"
   ]
  },
  {
   "cell_type": "code",
   "execution_count": 25,
   "id": "a9618566",
   "metadata": {},
   "outputs": [],
   "source": [
    "#Using filter and selecting only Month Income\n",
    "grp1=data[data['Gender']==1]['MonthlyIncome']\n",
    "grp2=data[data['Gender']==2]['MonthlyIncome']"
   ]
  },
  {
   "cell_type": "code",
   "execution_count": 26,
   "id": "5345e38a",
   "metadata": {},
   "outputs": [
    {
     "data": {
      "text/plain": [
       "(882, 588)"
      ]
     },
     "execution_count": 26,
     "metadata": {},
     "output_type": "execute_result"
    }
   ],
   "source": [
    "len(grp1),len(grp2)"
   ]
  },
  {
   "cell_type": "code",
   "execution_count": null,
   "id": "40b10ca4",
   "metadata": {},
   "outputs": [],
   "source": [
    "np.mean(grp1),np.mean(grp2)"
   ]
  },
  {
   "cell_type": "markdown",
   "id": "8a3bb3d0",
   "metadata": {},
   "source": [
    "dependent vs relative - in Feeback example - second feedback is dependent on first feedback. here we just don't call as dependent but we call it is as relative because same audience is giving feedback"
   ]
  },
  {
   "cell_type": "markdown",
   "id": "42e4e6a5",
   "metadata": {},
   "source": [
    "for this HR_newdata for the male and female group they are independent groups. "
   ]
  },
  {
   "cell_type": "markdown",
   "id": "d3ae5dd0",
   "metadata": {},
   "source": [
    "\n",
    "always mean is treated as parametric test - All the tests assumes that the distribution is normal\n",
    "\n",
    "If it is not normal distribution this test doesn't give good results"
   ]
  },
  {
   "cell_type": "code",
   "execution_count": 27,
   "id": "2b88b7d1",
   "metadata": {},
   "outputs": [
    {
     "data": {
      "text/plain": [
       "<Axes: xlabel='MonthlyIncome', ylabel='Density'>"
      ]
     },
     "execution_count": 27,
     "metadata": {},
     "output_type": "execute_result"
    },
    {
     "data": {
      "image/png": "[encoded data removed]",
      "text/plain": [
       "<Figure size 640x480 with 1 Axes>"
      ]
     },
     "metadata": {},
     "output_type": "display_data"
    }
   ],
   "source": [
    "import seaborn as sb\n",
    "import warnings\n",
    "warnings.filterwarnings(\"ignore\")\n",
    "sb.distplot(grp1,hist=False)\n",
    "sb.distplot(grp2,hist=False)"
   ]
  },
  {
   "cell_type": "code",
   "execution_count": 28,
   "id": "b42e9264",
   "metadata": {},
   "outputs": [
    {
     "name": "stdout",
     "output_type": "stream",
     "text": [
      "#H0: Male salary = Female Salary\n"
     ]
    }
   ],
   "source": [
    "#H0: Male salary = Female Salary\n",
    "#H1: Male Salary != Female Salary\n",
    "import numpy as np\n",
    "import scipy.stats as stats\n",
    "z, pval = stats.ttest_ind(grp1,grp2)\n",
    "if pval > 0.05:\n",
    "    print(\"#H0: Male salary = Female Salary\")\n",
    "else:\n",
    "    print (\"#H1: Male Salary != Female Salary\")"
   ]
  },
  {
   "cell_type": "code",
   "execution_count": 29,
   "id": "b746a6c0",
   "metadata": {},
   "outputs": [],
   "source": [
    "# Parametric test - Generally have some assumptions\n",
    "# For ttest, the assumptions are\n",
    "  #1. Each group data must be close to normal\n",
    "  #2. Variance of group must close to each other"
   ]
  },
  {
   "cell_type": "code",
   "execution_count": 30,
   "id": "e4b650d6",
   "metadata": {},
   "outputs": [],
   "source": [
    "# Shapiro test for checking the Normality of the data\n",
    "# H0 : Data is normally distributed\n",
    "# Ha: Data is not normally Distributed"
   ]
  },
  {
   "cell_type": "code",
   "execution_count": 31,
   "id": "ba7b9d38",
   "metadata": {},
   "outputs": [
    {
     "name": "stdout",
     "output_type": "stream",
     "text": [
      "1.7098770919716375e-30 Data is not normal\n"
     ]
    }
   ],
   "source": [
    "t,p=stats.shapiro(grp1)\n",
    "if p>0.05:\n",
    "    print(p,\"Data can be normally distributed\")\n",
    "else:\n",
    "    print(p,\"Data is not normal\")"
   ]
  },
  {
   "cell_type": "code",
   "execution_count": 32,
   "id": "5411b36e",
   "metadata": {
    "scrolled": true
   },
   "outputs": [
    {
     "name": "stdout",
     "output_type": "stream",
     "text": [
      "9.378564564919968e-24 Data is not normal\n"
     ]
    }
   ],
   "source": [
    "t,p=stats.shapiro(grp2)\n",
    "if p>0.05:\n",
    "    print(p,\"Data can be normally distributed\")\n",
    "else:\n",
    "    print(p,\"Data is not normal\")"
   ]
  },
  {
   "cell_type": "markdown",
   "id": "854e26fb",
   "metadata": {},
   "source": [
    "So 2 Sample testing can't be applied here as it is not normal distribution and variance is high\n"
   ]
  },
  {
   "cell_type": "code",
   "execution_count": 35,
   "id": "535be632",
   "metadata": {},
   "outputs": [
    {
     "name": "stdout",
     "output_type": "stream",
     "text": [
      "0.7173805016372548 Variance can be same\n"
     ]
    }
   ],
   "source": [
    "# Levene test is to check the varaince between two groups\n",
    "# H0: Varaince between two group is same\n",
    "# Ha: Varaince between the group is not same\n",
    "\n",
    "t,p=stats.levene(grp1,grp2)\n",
    "if p>0.05:\n",
    "    print(p,\"Variance can be same\")\n",
    "else:\n",
    "    print(p,\"Variance is not same\")"
   ]
  },
  {
   "cell_type": "markdown",
   "id": "e847e64b",
   "metadata": {},
   "source": [
    "So applying another test - Mannwhitenyu "
   ]
  },
  {
   "cell_type": "code",
   "execution_count": 38,
   "id": "290b750e",
   "metadata": {},
   "outputs": [
    {
     "name": "stdout",
     "output_type": "stream",
     "text": [
      "H0: median of Male Salary = Female Salary\n"
     ]
    }
   ],
   "source": [
    "# Mannwhitenyu Test - Non parametric test for two sample ttest\n",
    "# H0: Median of group 1 = Median of group 2\n",
    "# Ha: Median of two groups are not equal\n",
    "\n",
    "zstat, pvaluem = stats.mannwhitneyu(grp1,grp2,alternative='two-sided')\n",
    "\n",
    "if pvaluem > 0.05:\n",
    "    print(\"H0: median of Male Salary = Female Salary\")\n",
    "if pvaluem < 0.05:\n",
    "    print(\"H0: median of Male Salary != Female Salary\")"
   ]
  },
  {
   "cell_type": "code",
   "execution_count": 39,
   "id": "c6737a93",
   "metadata": {},
   "outputs": [],
   "source": [
    "# Same perform for monthincome1"
   ]
  },
  {
   "cell_type": "markdown",
   "id": "73f4c0ae",
   "metadata": {},
   "source": [
    "# Proportion_Test"
   ]
  },
  {
   "cell_type": "markdown",
   "id": "7e15c055",
   "metadata": {},
   "source": [
    "One proportion Test\n",
    "\n",
    "Two proportion Test\n",
    "\n",
    "Chisqure Test"
   ]
  },
  {
   "cell_type": "markdown",
   "id": "c7066835",
   "metadata": {},
   "source": [
    "# One proportion Test\n",
    "\n",
    "\n",
    "#Health officials of India is expecting cancer is affecting more men than women, \n",
    "\n",
    "#they are expecting 65% of affected case in India are Men. To verify this hypothesis, random\n",
    "\n",
    "#samples (n=1500) across India were collected,the samples are as follows: Men:900, Women:600"
   ]
  },
  {
   "cell_type": "markdown",
   "id": "9fba6704",
   "metadata": {},
   "source": [
    "One Proportion test is applicable for 1 categorical data only \n",
    " \n",
    "Two proportion test would be applicable if 2 categorical data - One is dependent and another on is independent where the independnt is only at 2 level (Ex Male / female)\n",
    " \n",
    "Chi square -   this would be applicable if more categorical data - One is dependent and another on is independent where the independnt is at more levels (Ex: Region North, East, west, south)\n",
    " \n",
    "Two proportion also can be done using Chi square\n",
    " \n",
    "If it is beyond then go for Machine learning packages.\n",
    " "
   ]
  },
  {
   "cell_type": "code",
   "execution_count": 50,
   "id": "96c825ab",
   "metadata": {},
   "outputs": [],
   "source": [
    "\n",
    "# H0: Proportion of men affected = 65\n",
    "# HA: Not equal to 65"
   ]
  },
  {
   "cell_type": "code",
   "execution_count": 51,
   "id": "a48b4dba",
   "metadata": {},
   "outputs": [],
   "source": [
    "from statsmodels.stats.proportion import proportions_ztest"
   ]
  },
  {
   "cell_type": "code",
   "execution_count": 52,
   "id": "bb2d7f0c",
   "metadata": {},
   "outputs": [
    {
     "data": {
      "text/plain": [
       "(-3.9528470752104776, 7.722679550543272e-05)"
      ]
     },
     "execution_count": 52,
     "metadata": {},
     "output_type": "execute_result"
    }
   ],
   "source": [
    "zstat,pval=proportions_ztest(900,1500,0.65)\n",
    "zstat, pval"
   ]
  },
  {
   "cell_type": "code",
   "execution_count": 53,
   "id": "7a20e4cb",
   "metadata": {},
   "outputs": [
    {
     "name": "stdout",
     "output_type": "stream",
     "text": [
      "HA: Proportion of men affected not equal to 65\n"
     ]
    }
   ],
   "source": [
    "if pval>=0.05:\n",
    "    print(\"HO: Proportion of men affected = 65\")\n",
    "else:\n",
    "    print(\"HA: Proportion of men affected not equal to 65\") "
   ]
  },
  {
   "cell_type": "code",
   "execution_count": 54,
   "id": "0aa0bc9c",
   "metadata": {},
   "outputs": [
    {
     "data": {
      "text/plain": [
       "0.6"
      ]
     },
     "execution_count": 54,
     "metadata": {},
     "output_type": "execute_result"
    }
   ],
   "source": [
    "#POST HOC(proof) for men\n",
    "xbar = 900/1500\n",
    "xbar"
   ]
  },
  {
   "cell_type": "code",
   "execution_count": 47,
   "id": "511fde2c",
   "metadata": {},
   "outputs": [],
   "source": [
    "sd=np.sqrt((900*(1-0.6)**2 + 600*(0-0.6)**2)/1500) ### ?????"
   ]
  },
  {
   "cell_type": "code",
   "execution_count": 48,
   "id": "85f6f9a0",
   "metadata": {},
   "outputs": [
    {
     "data": {
      "text/plain": [
       "0.012649110640673518"
      ]
     },
     "execution_count": 48,
     "metadata": {},
     "output_type": "execute_result"
    }
   ],
   "source": [
    "import numpy as np\n",
    "se=sd/np.sqrt(1500)\n",
    "se"
   ]
  },
  {
   "cell_type": "code",
   "execution_count": 49,
   "id": "eef2622f",
   "metadata": {},
   "outputs": [
    {
     "data": {
      "text/plain": [
       "[0.5752077431442799, 0.62479225685572]"
      ]
     },
     "execution_count": 49,
     "metadata": {},
     "output_type": "execute_result"
    }
   ],
   "source": [
    "#95 percent CF\n",
    "#xbar +/- 1.96*se\n",
    "[0.6-1.96*se,0.6+1.96*se]"
   ]
  },
  {
   "cell_type": "markdown",
   "id": "3bd99d12",
   "metadata": {},
   "source": [
    "# Two proportion Test\n",
    "\n",
    "#Government are analyzing the impact of cancer in Rural and Urban Area, \n",
    "#The collected data showing the charactersistics below, Check the significance of Rural and Urban Area affecting the disease\n",
    "\n"
   ]
  },
  {
   "cell_type": "code",
   "execution_count": 55,
   "id": "2dc3c0e7",
   "metadata": {},
   "outputs": [
    {
     "data": {
      "text/html": [
       "<div>\n",
       "<style scoped>\n",
       "    .dataframe tbody tr th:only-of-type {\n",
       "        vertical-align: middle;\n",
       "    }\n",
       "\n",
       "    .dataframe tbody tr th {\n",
       "        vertical-align: top;\n",
       "    }\n",
       "\n",
       "    .dataframe thead th {\n",
       "        text-align: right;\n",
       "    }\n",
       "</style>\n",
       "<table border=\"1\" class=\"dataframe\">\n",
       "  <thead>\n",
       "    <tr style=\"text-align: right;\">\n",
       "      <th></th>\n",
       "      <th>Rural</th>\n",
       "      <th>Urban</th>\n",
       "    </tr>\n",
       "  </thead>\n",
       "  <tbody>\n",
       "    <tr>\n",
       "      <th>Negative</th>\n",
       "      <td>867</td>\n",
       "      <td>500</td>\n",
       "    </tr>\n",
       "    <tr>\n",
       "      <th>Positive</th>\n",
       "      <td>490</td>\n",
       "      <td>550</td>\n",
       "    </tr>\n",
       "  </tbody>\n",
       "</table>\n",
       "</div>"
      ],
      "text/plain": [
       "          Rural  Urban\n",
       "Negative    867    500\n",
       "Positive    490    550"
      ]
     },
     "execution_count": 55,
     "metadata": {},
     "output_type": "execute_result"
    }
   ],
   "source": [
    "import pandas as pd\n",
    "df=pd.DataFrame({'Rural':[867,490],'Urban':[500,550]})\n",
    "df.index=['Negative','Positive']\n",
    "df"
   ]
  },
  {
   "cell_type": "code",
   "execution_count": 57,
   "id": "e58e40f2",
   "metadata": {},
   "outputs": [],
   "source": [
    "#H0 Cancer spread in urban = Cancer spread in rural\n",
    "#Ha: Cancer spread in urban != Cancer spread in rural\n",
    "\n",
    "# Learn about crosstab in python --- ????"
   ]
  },
  {
   "cell_type": "code",
   "execution_count": 58,
   "id": "e71e859f",
   "metadata": {},
   "outputs": [
    {
     "data": {
      "text/plain": [
       "(-7.9920767350927475, 1.3268440495388725e-15)"
      ]
     },
     "execution_count": 58,
     "metadata": {},
     "output_type": "execute_result"
    }
   ],
   "source": [
    "# Two sample proportion test\n",
    "statss,pval=proportions_ztest([490,550],[490+867,500+550])\n",
    "statss,pval"
   ]
  },
  {
   "cell_type": "code",
   "execution_count": 59,
   "id": "1002e8d4",
   "metadata": {},
   "outputs": [
    {
     "name": "stdout",
     "output_type": "stream",
     "text": [
      "HA: Cancer spread in urban != Cancer spread in rural\n"
     ]
    }
   ],
   "source": [
    "if pval>=0.05:\n",
    "    print(\"H0: Cancer spread in urban = Cancer spread in rural\")\n",
    "else:\n",
    "    print(\"HA: Cancer spread in urban != Cancer spread in rural\")"
   ]
  },
  {
   "cell_type": "markdown",
   "id": "b60f66d8",
   "metadata": {},
   "source": [
    "# Chi Square Test"
   ]
  },
  {
   "cell_type": "code",
   "execution_count": 69,
   "id": "67988cf1",
   "metadata": {},
   "outputs": [],
   "source": [
    "#The cancer data were collected from europe and india for the different age group categories\n",
    "#Check the pattern is similar between two countries\n"
   ]
  },
  {
   "cell_type": "code",
   "execution_count": 78,
   "id": "80a06c3c",
   "metadata": {},
   "outputs": [
    {
     "data": {
      "text/plain": [
       "829.5774647887324"
      ]
     },
     "execution_count": 78,
     "metadata": {},
     "output_type": "execute_result"
    }
   ],
   "source": []
  },
  {
   "cell_type": "code",
   "execution_count": 70,
   "id": "5a47ba8f",
   "metadata": {
    "scrolled": true
   },
   "outputs": [
    {
     "data": {
      "text/html": [
       "<div>\n",
       "<style scoped>\n",
       "    .dataframe tbody tr th:only-of-type {\n",
       "        vertical-align: middle;\n",
       "    }\n",
       "\n",
       "    .dataframe tbody tr th {\n",
       "        vertical-align: top;\n",
       "    }\n",
       "\n",
       "    .dataframe thead th {\n",
       "        text-align: right;\n",
       "    }\n",
       "</style>\n",
       "<table border=\"1\" class=\"dataframe\">\n",
       "  <thead>\n",
       "    <tr style=\"text-align: right;\">\n",
       "      <th></th>\n",
       "      <th>India</th>\n",
       "      <th>europe</th>\n",
       "    </tr>\n",
       "  </thead>\n",
       "  <tbody>\n",
       "    <tr>\n",
       "      <th>Seniors</th>\n",
       "      <td>1100</td>\n",
       "      <td>800</td>\n",
       "    </tr>\n",
       "    <tr>\n",
       "      <th>Y&amp;M</th>\n",
       "      <td>500</td>\n",
       "      <td>450</td>\n",
       "    </tr>\n",
       "    <tr>\n",
       "      <th>Childrens</th>\n",
       "      <td>400</td>\n",
       "      <td>300</td>\n",
       "    </tr>\n",
       "  </tbody>\n",
       "</table>\n",
       "</div>"
      ],
      "text/plain": [
       "           India  europe\n",
       "Seniors     1100     800\n",
       "Y&M          500     450\n",
       "Childrens    400     300"
      ]
     },
     "execution_count": 70,
     "metadata": {},
     "output_type": "execute_result"
    }
   ],
   "source": [
    "df=pd.DataFrame({'India':[1100,500,400],'europe':[800,450,300]})\n",
    "df.index=['Seniors','Y&M','Childrens']\n",
    "df"
   ]
  },
  {
   "cell_type": "code",
   "execution_count": 79,
   "id": "ba2d0edc",
   "metadata": {},
   "outputs": [
    {
     "data": {
      "text/plain": [
       "1070.4225352112676"
      ]
     },
     "execution_count": 79,
     "metadata": {},
     "output_type": "execute_result"
    }
   ],
   "source": [
    "1900*2000 /3550"
   ]
  },
  {
   "cell_type": "code",
   "execution_count": 75,
   "id": "0a5ce138",
   "metadata": {},
   "outputs": [
    {
     "data": {
      "text/plain": [
       "array([[1070.42253521,  829.57746479],\n",
       "       [ 535.21126761,  414.78873239],\n",
       "       [ 394.36619718,  305.63380282]])"
      ]
     },
     "execution_count": 75,
     "metadata": {},
     "output_type": "execute_result"
    }
   ],
   "source": [
    "exp # to check if the patterns in simple way to verify if the below Chi square derivation is correct."
   ]
  },
  {
   "cell_type": "code",
   "execution_count": 80,
   "id": "0d6f3cb3",
   "metadata": {},
   "outputs": [],
   "source": [
    "# H0: Spread of desease for differnt age category is same in India and Europe\n",
    "#HA: not same"
   ]
  },
  {
   "cell_type": "code",
   "execution_count": 72,
   "id": "ec2833e6",
   "metadata": {},
   "outputs": [],
   "source": [
    "from scipy.stats import chi2_contingency"
   ]
  },
  {
   "cell_type": "code",
   "execution_count": 73,
   "id": "a01734b4",
   "metadata": {},
   "outputs": [],
   "source": [
    "chi_stat,pval,df,exp=chi2_contingency(df)"
   ]
  },
  {
   "cell_type": "code",
   "execution_count": 74,
   "id": "7bd729e2",
   "metadata": {},
   "outputs": [
    {
     "name": "stdout",
     "output_type": "stream",
     "text": [
      "HA: Spread of desease for differnt age category is not same in India and Europe\n"
     ]
    }
   ],
   "source": [
    "if pval>=0.05:\n",
    "    print(\"H0: Spread of desease for differnt age category is same in India and Europe\")\n",
    "else:\n",
    "    print(\"HA: Spread of desease for differnt age category is not same in India and Europe\")"
   ]
  },
  {
   "cell_type": "code",
   "execution_count": 81,
   "id": "4836306c",
   "metadata": {},
   "outputs": [
    {
     "name": "stdout",
     "output_type": "stream",
     "text": [
      "<class 'pandas.core.frame.DataFrame'>\n",
      "RangeIndex: 1470 entries, 0 to 1469\n",
      "Data columns (total 38 columns):\n",
      " #   Column                    Non-Null Count  Dtype  \n",
      "---  ------                    --------------  -----  \n",
      " 0   Unnamed: 0                1470 non-null   int64  \n",
      " 1   Individual                1470 non-null   object \n",
      " 2   Attrition                 1470 non-null   object \n",
      " 3   Age                       1470 non-null   int64  \n",
      " 4   BusinessTravel            1470 non-null   int64  \n",
      " 5   DailyRate                 1470 non-null   int64  \n",
      " 6   Department                1470 non-null   int64  \n",
      " 7   DistanceFromHome          1470 non-null   int64  \n",
      " 8   Education                 1470 non-null   int64  \n",
      " 9   EducationField            1470 non-null   int64  \n",
      " 10  EmployeeCount             1470 non-null   int64  \n",
      " 11  EmployeeNumber            1470 non-null   int64  \n",
      " 12  EnvironmentSatisfaction   1470 non-null   int64  \n",
      " 13  Gender                    1470 non-null   int64  \n",
      " 14  HourlyRate                1470 non-null   int64  \n",
      " 15  JobInvolvement            1470 non-null   int64  \n",
      " 16  JobLevel                  1470 non-null   int64  \n",
      " 17  JobRole                   1470 non-null   int64  \n",
      " 18  JobSatisfaction           1470 non-null   int64  \n",
      " 19  MaritalStatus             1470 non-null   int64  \n",
      " 20  MonthlyIncome             1470 non-null   int64  \n",
      " 21  MonthlyRate               1470 non-null   int64  \n",
      " 22  NumCompaniesWorked        1470 non-null   int64  \n",
      " 23  OverTime                  1470 non-null   int64  \n",
      " 24  PercentSalaryHike         1470 non-null   int64  \n",
      " 25  PerformanceRating         1470 non-null   int64  \n",
      " 26  RelationshipSatisfaction  1470 non-null   int64  \n",
      " 27  StandardHours             1470 non-null   int64  \n",
      " 28  StockOptionLevel          1470 non-null   int64  \n",
      " 29  TotalWorkingYears         1470 non-null   int64  \n",
      " 30  TrainingTimesLastYear     1470 non-null   int64  \n",
      " 31  WorkLifeBalance           1470 non-null   int64  \n",
      " 32  YearsAtCompany            1470 non-null   int64  \n",
      " 33  YearsInCurrentRole        1470 non-null   int64  \n",
      " 34  YearsSinceLastPromotion   1470 non-null   int64  \n",
      " 35  YearsWithCurrManager      1470 non-null   int64  \n",
      " 36  Age1                      1470 non-null   float64\n",
      " 37  MonthlyIncome1            1470 non-null   float64\n",
      "dtypes: float64(2), int64(34), object(2)\n",
      "memory usage: 436.5+ KB\n"
     ]
    }
   ],
   "source": [
    "data.info()"
   ]
  },
  {
   "cell_type": "code",
   "execution_count": 83,
   "id": "99688887",
   "metadata": {},
   "outputs": [
    {
     "data": {
      "text/html": [
       "<div>\n",
       "<style scoped>\n",
       "    .dataframe tbody tr th:only-of-type {\n",
       "        vertical-align: middle;\n",
       "    }\n",
       "\n",
       "    .dataframe tbody tr th {\n",
       "        vertical-align: top;\n",
       "    }\n",
       "\n",
       "    .dataframe thead th {\n",
       "        text-align: right;\n",
       "    }\n",
       "</style>\n",
       "<table border=\"1\" class=\"dataframe\">\n",
       "  <thead>\n",
       "    <tr style=\"text-align: right;\">\n",
       "      <th></th>\n",
       "      <th>Unnamed: 0</th>\n",
       "      <th>Individual</th>\n",
       "      <th>Attrition</th>\n",
       "      <th>Age</th>\n",
       "      <th>BusinessTravel</th>\n",
       "      <th>DailyRate</th>\n",
       "      <th>Department</th>\n",
       "      <th>DistanceFromHome</th>\n",
       "      <th>Education</th>\n",
       "      <th>EducationField</th>\n",
       "      <th>...</th>\n",
       "      <th>StockOptionLevel</th>\n",
       "      <th>TotalWorkingYears</th>\n",
       "      <th>TrainingTimesLastYear</th>\n",
       "      <th>WorkLifeBalance</th>\n",
       "      <th>YearsAtCompany</th>\n",
       "      <th>YearsInCurrentRole</th>\n",
       "      <th>YearsSinceLastPromotion</th>\n",
       "      <th>YearsWithCurrManager</th>\n",
       "      <th>Age1</th>\n",
       "      <th>MonthlyIncome1</th>\n",
       "    </tr>\n",
       "  </thead>\n",
       "  <tbody>\n",
       "    <tr>\n",
       "      <th>0</th>\n",
       "      <td>0</td>\n",
       "      <td>Ind1</td>\n",
       "      <td>Yes</td>\n",
       "      <td>41</td>\n",
       "      <td>1</td>\n",
       "      <td>1102</td>\n",
       "      <td>1</td>\n",
       "      <td>1</td>\n",
       "      <td>2</td>\n",
       "      <td>1</td>\n",
       "      <td>...</td>\n",
       "      <td>0</td>\n",
       "      <td>8</td>\n",
       "      <td>0</td>\n",
       "      <td>1</td>\n",
       "      <td>6</td>\n",
       "      <td>4</td>\n",
       "      <td>0</td>\n",
       "      <td>5</td>\n",
       "      <td>43.1</td>\n",
       "      <td>8952.576429</td>\n",
       "    </tr>\n",
       "    <tr>\n",
       "      <th>1</th>\n",
       "      <td>1</td>\n",
       "      <td>Ind2</td>\n",
       "      <td>No</td>\n",
       "      <td>49</td>\n",
       "      <td>2</td>\n",
       "      <td>279</td>\n",
       "      <td>2</td>\n",
       "      <td>8</td>\n",
       "      <td>1</td>\n",
       "      <td>1</td>\n",
       "      <td>...</td>\n",
       "      <td>1</td>\n",
       "      <td>10</td>\n",
       "      <td>3</td>\n",
       "      <td>3</td>\n",
       "      <td>10</td>\n",
       "      <td>7</td>\n",
       "      <td>1</td>\n",
       "      <td>7</td>\n",
       "      <td>42.4</td>\n",
       "      <td>15078.533314</td>\n",
       "    </tr>\n",
       "    <tr>\n",
       "      <th>2</th>\n",
       "      <td>2</td>\n",
       "      <td>Ind3</td>\n",
       "      <td>Yes</td>\n",
       "      <td>37</td>\n",
       "      <td>1</td>\n",
       "      <td>1373</td>\n",
       "      <td>2</td>\n",
       "      <td>2</td>\n",
       "      <td>2</td>\n",
       "      <td>6</td>\n",
       "      <td>...</td>\n",
       "      <td>0</td>\n",
       "      <td>7</td>\n",
       "      <td>3</td>\n",
       "      <td>3</td>\n",
       "      <td>0</td>\n",
       "      <td>0</td>\n",
       "      <td>0</td>\n",
       "      <td>0</td>\n",
       "      <td>41.2</td>\n",
       "      <td>8937.969054</td>\n",
       "    </tr>\n",
       "    <tr>\n",
       "      <th>3</th>\n",
       "      <td>3</td>\n",
       "      <td>Ind4</td>\n",
       "      <td>No</td>\n",
       "      <td>33</td>\n",
       "      <td>2</td>\n",
       "      <td>1392</td>\n",
       "      <td>2</td>\n",
       "      <td>3</td>\n",
       "      <td>4</td>\n",
       "      <td>1</td>\n",
       "      <td>...</td>\n",
       "      <td>0</td>\n",
       "      <td>8</td>\n",
       "      <td>3</td>\n",
       "      <td>3</td>\n",
       "      <td>8</td>\n",
       "      <td>7</td>\n",
       "      <td>3</td>\n",
       "      <td>0</td>\n",
       "      <td>32.0</td>\n",
       "      <td>10895.094251</td>\n",
       "    </tr>\n",
       "    <tr>\n",
       "      <th>4</th>\n",
       "      <td>4</td>\n",
       "      <td>Ind5</td>\n",
       "      <td>No</td>\n",
       "      <td>27</td>\n",
       "      <td>1</td>\n",
       "      <td>591</td>\n",
       "      <td>2</td>\n",
       "      <td>2</td>\n",
       "      <td>1</td>\n",
       "      <td>2</td>\n",
       "      <td>...</td>\n",
       "      <td>1</td>\n",
       "      <td>6</td>\n",
       "      <td>3</td>\n",
       "      <td>3</td>\n",
       "      <td>2</td>\n",
       "      <td>2</td>\n",
       "      <td>2</td>\n",
       "      <td>2</td>\n",
       "      <td>32.0</td>\n",
       "      <td>13826.520409</td>\n",
       "    </tr>\n",
       "  </tbody>\n",
       "</table>\n",
       "<p>5 rows × 38 columns</p>\n",
       "</div>"
      ],
      "text/plain": [
       "   Unnamed: 0 Individual  Attrition  Age  BusinessTravel  DailyRate  \\\n",
       "0           0        Ind1       Yes   41               1       1102   \n",
       "1           1        Ind2        No   49               2        279   \n",
       "2           2        Ind3       Yes   37               1       1373   \n",
       "3           3        Ind4        No   33               2       1392   \n",
       "4           4        Ind5        No   27               1        591   \n",
       "\n",
       "   Department  DistanceFromHome  Education  EducationField  ...  \\\n",
       "0           1                 1          2               1  ...   \n",
       "1           2                 8          1               1  ...   \n",
       "2           2                 2          2               6  ...   \n",
       "3           2                 3          4               1  ...   \n",
       "4           2                 2          1               2  ...   \n",
       "\n",
       "   StockOptionLevel  TotalWorkingYears  TrainingTimesLastYear  \\\n",
       "0                 0                  8                      0   \n",
       "1                 1                 10                      3   \n",
       "2                 0                  7                      3   \n",
       "3                 0                  8                      3   \n",
       "4                 1                  6                      3   \n",
       "\n",
       "   WorkLifeBalance  YearsAtCompany  YearsInCurrentRole  \\\n",
       "0                1               6                   4   \n",
       "1                3              10                   7   \n",
       "2                3               0                   0   \n",
       "3                3               8                   7   \n",
       "4                3               2                   2   \n",
       "\n",
       "   YearsSinceLastPromotion  YearsWithCurrManager  Age1  MonthlyIncome1  \n",
       "0                        0                     5  43.1     8952.576429  \n",
       "1                        1                     7  42.4    15078.533314  \n",
       "2                        0                     0  41.2     8937.969054  \n",
       "3                        3                     0  32.0    10895.094251  \n",
       "4                        2                     2  32.0    13826.520409  \n",
       "\n",
       "[5 rows x 38 columns]"
      ]
     },
     "execution_count": 83,
     "metadata": {},
     "output_type": "execute_result"
    }
   ],
   "source": [
    "data.head()"
   ]
  },
  {
   "cell_type": "code",
   "execution_count": 84,
   "id": "601753a2",
   "metadata": {},
   "outputs": [],
   "source": [
    "#I want to undesand the imapct of WorkLifeBalance on Attrition\n",
    "#WorkLifeBalance - Categorical - having 4 level\n",
    "#Atrition - Categorical - having 2 level\n",
    "\n",
    "# We should perform chisquare_contingency"
   ]
  },
  {
   "cell_type": "code",
   "execution_count": 85,
   "id": "1d6096b4",
   "metadata": {},
   "outputs": [],
   "source": [
    "data['WorkLifeBalance']=data['WorkLifeBalance'].astype('object')"
   ]
  },
  {
   "cell_type": "code",
   "execution_count": 86,
   "id": "52592705",
   "metadata": {},
   "outputs": [
    {
     "data": {
      "text/plain": [
       "3    893\n",
       "2    344\n",
       "4    153\n",
       "1     80\n",
       "Name: WorkLifeBalance, dtype: int64"
      ]
     },
     "execution_count": 86,
     "metadata": {},
     "output_type": "execute_result"
    }
   ],
   "source": [
    "data['WorkLifeBalance'].value_counts()"
   ]
  },
  {
   "cell_type": "code",
   "execution_count": 87,
   "id": "31ef178b",
   "metadata": {},
   "outputs": [
    {
     "data": {
      "text/plain": [
       "No     1233\n",
       "Yes     237\n",
       "Name: Attrition, dtype: int64"
      ]
     },
     "execution_count": 87,
     "metadata": {},
     "output_type": "execute_result"
    }
   ],
   "source": [
    "data['Attrition'].value_counts()"
   ]
  },
  {
   "cell_type": "code",
   "execution_count": 89,
   "id": "52b0c4c5",
   "metadata": {
    "scrolled": true
   },
   "outputs": [
    {
     "data": {
      "text/html": [
       "<div>\n",
       "<style scoped>\n",
       "    .dataframe tbody tr th:only-of-type {\n",
       "        vertical-align: middle;\n",
       "    }\n",
       "\n",
       "    .dataframe tbody tr th {\n",
       "        vertical-align: top;\n",
       "    }\n",
       "\n",
       "    .dataframe thead th {\n",
       "        text-align: right;\n",
       "    }\n",
       "</style>\n",
       "<table border=\"1\" class=\"dataframe\">\n",
       "  <thead>\n",
       "    <tr style=\"text-align: right;\">\n",
       "      <th>Attrition</th>\n",
       "      <th>No</th>\n",
       "      <th>Yes</th>\n",
       "    </tr>\n",
       "    <tr>\n",
       "      <th>WorkLifeBalance</th>\n",
       "      <th></th>\n",
       "      <th></th>\n",
       "    </tr>\n",
       "  </thead>\n",
       "  <tbody>\n",
       "    <tr>\n",
       "      <th>1</th>\n",
       "      <td>55</td>\n",
       "      <td>25</td>\n",
       "    </tr>\n",
       "    <tr>\n",
       "      <th>2</th>\n",
       "      <td>286</td>\n",
       "      <td>58</td>\n",
       "    </tr>\n",
       "    <tr>\n",
       "      <th>3</th>\n",
       "      <td>766</td>\n",
       "      <td>127</td>\n",
       "    </tr>\n",
       "    <tr>\n",
       "      <th>4</th>\n",
       "      <td>126</td>\n",
       "      <td>27</td>\n",
       "    </tr>\n",
       "  </tbody>\n",
       "</table>\n",
       "</div>"
      ],
      "text/plain": [
       "Attrition         No  Yes\n",
       "WorkLifeBalance          \n",
       "1                 55   25\n",
       "2                286   58\n",
       "3                766  127\n",
       "4                126   27"
      ]
     },
     "execution_count": 89,
     "metadata": {},
     "output_type": "execute_result"
    }
   ],
   "source": [
    "tab=pd.crosstab(data['WorkLifeBalance'],data['Attrition'])\n",
    "tab"
   ]
  },
  {
   "cell_type": "code",
   "execution_count": 93,
   "id": "0072cea6",
   "metadata": {},
   "outputs": [
    {
     "data": {
      "text/plain": [
       "array([[ 67.10204082,  12.89795918],\n",
       "       [288.53877551,  55.46122449],\n",
       "       [749.02653061, 143.97346939],\n",
       "       [128.33265306,  24.66734694]])"
      ]
     },
     "execution_count": 93,
     "metadata": {},
     "output_type": "execute_result"
    }
   ],
   "source": [
    "exp"
   ]
  },
  {
   "cell_type": "code",
   "execution_count": 95,
   "id": "f077f992",
   "metadata": {},
   "outputs": [
    {
     "data": {
      "text/html": [
       "<div>\n",
       "<style scoped>\n",
       "    .dataframe tbody tr th:only-of-type {\n",
       "        vertical-align: middle;\n",
       "    }\n",
       "\n",
       "    .dataframe tbody tr th {\n",
       "        vertical-align: top;\n",
       "    }\n",
       "\n",
       "    .dataframe thead th {\n",
       "        text-align: right;\n",
       "    }\n",
       "</style>\n",
       "<table border=\"1\" class=\"dataframe\">\n",
       "  <thead>\n",
       "    <tr style=\"text-align: right;\">\n",
       "      <th>Attrition</th>\n",
       "      <th>No</th>\n",
       "      <th>Yes</th>\n",
       "    </tr>\n",
       "    <tr>\n",
       "      <th>WorkLifeBalance</th>\n",
       "      <th></th>\n",
       "      <th></th>\n",
       "    </tr>\n",
       "  </thead>\n",
       "  <tbody>\n",
       "    <tr>\n",
       "      <th>1</th>\n",
       "      <td>4.460665</td>\n",
       "      <td>10.548523</td>\n",
       "    </tr>\n",
       "    <tr>\n",
       "      <th>2</th>\n",
       "      <td>23.195458</td>\n",
       "      <td>24.472574</td>\n",
       "    </tr>\n",
       "    <tr>\n",
       "      <th>3</th>\n",
       "      <td>62.124899</td>\n",
       "      <td>53.586498</td>\n",
       "    </tr>\n",
       "    <tr>\n",
       "      <th>4</th>\n",
       "      <td>10.218978</td>\n",
       "      <td>11.392405</td>\n",
       "    </tr>\n",
       "  </tbody>\n",
       "</table>\n",
       "</div>"
      ],
      "text/plain": [
       "Attrition               No        Yes\n",
       "WorkLifeBalance                      \n",
       "1                 4.460665  10.548523\n",
       "2                23.195458  24.472574\n",
       "3                62.124899  53.586498\n",
       "4                10.218978  11.392405"
      ]
     },
     "execution_count": 95,
     "metadata": {},
     "output_type": "execute_result"
    }
   ],
   "source": [
    "(tab/data['Attrition'].value_counts())*100"
   ]
  },
  {
   "cell_type": "code",
   "execution_count": 91,
   "id": "91e53713",
   "metadata": {},
   "outputs": [],
   "source": [
    "\n",
    "from scipy.stats import chi2_contingency\n",
    "chi_stat,pval,df,exp=chi2_contingency(tab)"
   ]
  },
  {
   "cell_type": "code",
   "execution_count": 96,
   "id": "48f8e880",
   "metadata": {},
   "outputs": [
    {
     "name": "stdout",
     "output_type": "stream",
     "text": [
      "HA:Relation exist  between attrition and Worlife balance\n"
     ]
    }
   ],
   "source": [
    "if pval>=0.05:\n",
    "    print(\"H0: No relation between attrition and Worlife balance\")\n",
    "else:\n",
    "    print(\"HA:Relation exist  between attrition and Worlife balance\")\n",
    "    \n",
    "# Chi square only gives relation only but doesn't precize judge "
   ]
  },
  {
   "cell_type": "markdown",
   "id": "4926f957",
   "metadata": {},
   "source": [
    "# ANOVA Test"
   ]
  },
  {
   "cell_type": "markdown",
   "id": "ceabfc90",
   "metadata": {},
   "source": [
    "![ANOVA.png](https://s3.us-east-1.amazonaws.com/static2.simplilearn.com/lms/testpaper_images/ADSP/Advanced_Statistics/ANOVA.png)"
   ]
  },
  {
   "cell_type": "code",
   "execution_count": null,
   "id": "0d2258bf",
   "metadata": {},
   "outputs": [],
   "source": [
    "import pandas as pd\n",
    "data=pd.read_excel(\"delivery.xlsx\")"
   ]
  },
  {
   "cell_type": "code",
   "execution_count": null,
   "id": "290c3162",
   "metadata": {},
   "outputs": [],
   "source": [
    "#data.to_excel(\"delivery.xlsx\")"
   ]
  },
  {
   "cell_type": "code",
   "execution_count": null,
   "id": "ee233ee4",
   "metadata": {},
   "outputs": [],
   "source": [
    "data.head(2)"
   ]
  },
  {
   "cell_type": "code",
   "execution_count": null,
   "id": "96cdb461",
   "metadata": {},
   "outputs": [],
   "source": [
    "gA=data[data['Region']=='A']['Minutes']\n",
    "gB=data[data['Region']=='B']['Minutes']\n",
    "gC=data[data['Region']=='C']['Minutes']"
   ]
  },
  {
   "cell_type": "code",
   "execution_count": null,
   "id": "5f07d7ef",
   "metadata": {},
   "outputs": [],
   "source": [
    "# H0: The time taken to deliver the parcels in three regions are Same.\n",
    "# HA: The time taken to deliver the parcels in three regions are differnt."
   ]
  },
  {
   "cell_type": "code",
   "execution_count": null,
   "id": "40d7b83c",
   "metadata": {},
   "outputs": [],
   "source": [
    "# Anova is a parametric method - Check Assumptions\n",
    "# Normality and levene"
   ]
  },
  {
   "cell_type": "code",
   "execution_count": null,
   "id": "b49c6fa6",
   "metadata": {},
   "outputs": [],
   "source": [
    "stats.shapiro(data['Minutes'])\n",
    "#H0:Data is normaly distributed\n",
    "#pval is > 0.05, hence data can be consider as normal"
   ]
  },
  {
   "cell_type": "code",
   "execution_count": null,
   "id": "dc5254db",
   "metadata": {},
   "outputs": [],
   "source": [
    "stats.levene(gA,gB,gC)\n",
    "#H0: group variance are same"
   ]
  },
  {
   "cell_type": "code",
   "execution_count": null,
   "id": "747f4ea3",
   "metadata": {},
   "outputs": [],
   "source": [
    "stats.f_oneway(gA,gB,gC)"
   ]
  },
  {
   "cell_type": "code",
   "execution_count": null,
   "id": "14654886",
   "metadata": {},
   "outputs": [],
   "source": [
    "# pval <0.05, Reject H0:\n",
    "# The time taken to deliver the parcels in three regions are differnt."
   ]
  },
  {
   "cell_type": "code",
   "execution_count": null,
   "id": "2cd29045",
   "metadata": {},
   "outputs": [],
   "source": [
    "# ANalyse based on Truck age\n",
    "data.head(2)"
   ]
  },
  {
   "cell_type": "code",
   "execution_count": null,
   "id": "a21d1a51",
   "metadata": {},
   "outputs": [],
   "source": [
    "data['TruckAge'].quantile([0.25,0.5,0.75])"
   ]
  },
  {
   "cell_type": "code",
   "execution_count": null,
   "id": "66c1a7dd",
   "metadata": {},
   "outputs": [],
   "source": [
    "# 1 to 4 --- 'Brand New'\n",
    "# 5 to 7 --- Medium\n",
    "# >8-------->old"
   ]
  },
  {
   "cell_type": "code",
   "execution_count": null,
   "id": "e9a68c1c",
   "metadata": {},
   "outputs": [],
   "source": [
    "data['TruckAge'].unique()"
   ]
  },
  {
   "cell_type": "code",
   "execution_count": null,
   "id": "98e3d922",
   "metadata": {},
   "outputs": [],
   "source": [
    "data['TruckAge_level']=pd.cut(data['TruckAge'],bins=[0,4,7,15],\n",
    "                               labels=['New','Medium','Old'])\n",
    "\n",
    "data.head(2)"
   ]
  },
  {
   "cell_type": "code",
   "execution_count": null,
   "id": "31486958",
   "metadata": {},
   "outputs": [],
   "source": [
    "data['TruckAge_level'].unique()"
   ]
  },
  {
   "cell_type": "code",
   "execution_count": null,
   "id": "21597f3b",
   "metadata": {},
   "outputs": [],
   "source": [
    "gA1=data[data['TruckAge_level']=='Old']['Minutes']\n",
    "gB1=data[data['TruckAge_level']=='New']['Minutes']\n",
    "gC1=data[data['TruckAge_level']=='Medium']['Minutes']"
   ]
  },
  {
   "cell_type": "code",
   "execution_count": null,
   "id": "51f994eb",
   "metadata": {},
   "outputs": [],
   "source": [
    "stats.levene(gA1,gB1,gC1)\n"
   ]
  },
  {
   "cell_type": "code",
   "execution_count": null,
   "id": "c5061da4",
   "metadata": {},
   "outputs": [],
   "source": [
    "stats.f_oneway(gA1,gB1,gC1)"
   ]
  },
  {
   "cell_type": "code",
   "execution_count": null,
   "id": "c9a6341b",
   "metadata": {},
   "outputs": [],
   "source": []
  }
 ],
 "metadata": {
  "kernelspec": {
   "display_name": "Python 3 (ipykernel)",
   "language": "python",
   "name": "python3"
  },
  "language_info": {
   "codemirror_mode": {
    "name": "ipython",
    "version": 3
   },
   "file_extension": ".py",
   "mimetype": "text/x-python",
   "name": "python",
   "nbconvert_exporter": "python",
   "pygments_lexer": "ipython3",
   "version": "3.11.4"
  }
 },
 "nbformat": 4,
 "nbformat_minor": 5
}
